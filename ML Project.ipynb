{
 "cells": [
  {
   "cell_type": "markdown",
   "id": "4c659074-074d-47cd-8b7d-dea0d63227d9",
   "metadata": {},
   "source": [
    "# AIM - The Aim of this ML Project is to get a reasonable price of pre-owned car."
   ]
  },
  {
   "cell_type": "markdown",
   "id": "fe67e042-0705-4a96-9340-ec448f908b67",
   "metadata": {},
   "source": [
    "# Step-1 Importing data and reading it's behaviour."
   ]
  },
  {
   "cell_type": "code",
   "execution_count": 1,
   "id": "initial_id",
   "metadata": {
    "is_executing": true
   },
   "outputs": [],
   "source": [
    "from scipy import stats\n",
    "import pandas as pd\n",
    "import numpy as np\n",
    "train=pd.read_csv(\"train.csv\")\n",
    "test=pd.read_csv(\"test.csv\")"
   ]
  },
  {
   "cell_type": "code",
   "execution_count": 2,
   "id": "c0818623-457e-4f8d-b266-b833f69a1232",
   "metadata": {
    "is_executing": true
   },
   "outputs": [],
   "source": [
    "df=pd.concat([train,test],axis=0)  # joining two dataset along the row(axis=0)"
   ]
  },
  {
   "cell_type": "code",
   "execution_count": 3,
   "id": "e09ace3d-f52c-4f94-aa1c-5c7f2683e316",
   "metadata": {},
   "outputs": [
    {
     "data": {
      "text/plain": [
       "(7253, 14)"
      ]
     },
     "execution_count": 3,
     "metadata": {},
     "output_type": "execute_result"
    }
   ],
   "source": [
    "df.shape"
   ]
  },
  {
   "cell_type": "code",
   "execution_count": 4,
   "id": "ae79eba4-53eb-4bec-8e80-5a33607ef41f",
   "metadata": {},
   "outputs": [
    {
     "name": "stdout",
     "output_type": "stream",
     "text": [
      "<class 'pandas.core.frame.DataFrame'>\n",
      "Index: 7253 entries, 0 to 1233\n",
      "Data columns (total 14 columns):\n",
      " #   Column             Non-Null Count  Dtype  \n",
      "---  ------             --------------  -----  \n",
      " 0   Unnamed: 0         7253 non-null   int64  \n",
      " 1   Name               7253 non-null   object \n",
      " 2   Location           7253 non-null   object \n",
      " 3   Year               7253 non-null   int64  \n",
      " 4   Kilometers_Driven  7253 non-null   int64  \n",
      " 5   Fuel_Type          7253 non-null   object \n",
      " 6   Transmission       7253 non-null   object \n",
      " 7   Owner_Type         7253 non-null   object \n",
      " 8   Mileage            7251 non-null   object \n",
      " 9   Engine             7207 non-null   object \n",
      " 10  Power              7207 non-null   object \n",
      " 11  Seats              7200 non-null   float64\n",
      " 12  New_Price          1006 non-null   object \n",
      " 13  Price              6019 non-null   float64\n",
      "dtypes: float64(2), int64(3), object(9)\n",
      "memory usage: 850.0+ KB\n"
     ]
    }
   ],
   "source": [
    "df.info()"
   ]
  },
  {
   "cell_type": "code",
   "execution_count": 5,
   "id": "29cd02ff-a763-4dee-902d-a79d06ba3aec",
   "metadata": {},
   "outputs": [
    {
     "data": {
      "text/plain": [
       "Unnamed: 0              0\n",
       "Name                    0\n",
       "Location                0\n",
       "Year                    0\n",
       "Kilometers_Driven       0\n",
       "Fuel_Type               0\n",
       "Transmission            0\n",
       "Owner_Type              0\n",
       "Mileage                 2\n",
       "Engine                 46\n",
       "Power                  46\n",
       "Seats                  53\n",
       "New_Price            6247\n",
       "Price                1234\n",
       "dtype: int64"
      ]
     },
     "execution_count": 5,
     "metadata": {},
     "output_type": "execute_result"
    }
   ],
   "source": [
    "df.isnull().sum()"
   ]
  },
  {
   "cell_type": "markdown",
   "id": "30aae01c-9a37-4804-b3e2-121841818037",
   "metadata": {},
   "source": [
    "# A) Dealing with NaN values in data "
   ]
  },
  {
   "cell_type": "code",
   "execution_count": 6,
   "id": "97098e73-ea96-408e-ad04-ed14798ccf82",
   "metadata": {},
   "outputs": [
    {
     "data": {
      "text/plain": [
       "Unnamed: 0              0\n",
       "Name                    0\n",
       "Location                0\n",
       "Year                    0\n",
       "Kilometers_Driven       0\n",
       "Fuel_Type               0\n",
       "Transmission            0\n",
       "Owner_Type              0\n",
       "Mileage                 2\n",
       "Engine                 46\n",
       "Power                  46\n",
       "Seats                  53\n",
       "New_Price            6247\n",
       "Price                1234\n",
       "dtype: int64"
      ]
     },
     "execution_count": 6,
     "metadata": {},
     "output_type": "execute_result"
    }
   ],
   "source": [
    "df.isnull().sum()"
   ]
  },
  {
   "cell_type": "code",
   "execution_count": 7,
   "id": "134fa588-470f-41ef-a6b2-6b3966035d06",
   "metadata": {},
   "outputs": [],
   "source": [
    "df=df.dropna(how=\"any\")  #removing rows that contains nan value"
   ]
  },
  {
   "cell_type": "code",
   "execution_count": 8,
   "id": "ffb64892-8ced-41fe-b86f-5bf0be6c346e",
   "metadata": {},
   "outputs": [],
   "source": [
    "#df=df.dropna(subset=[\"Mileage\",\"Engine\",\"Power\",\"Seats\"])    "
   ]
  },
  {
   "cell_type": "code",
   "execution_count": 9,
   "id": "d999acb9-9485-4389-af79-552e0bee99c6",
   "metadata": {},
   "outputs": [],
   "source": [
    "#df[\"Price\"]=df[\"Price\"].fillna(value=df[\"Price\"].mean())  \n",
    "#df[\"Price\"]"
   ]
  },
  {
   "cell_type": "markdown",
   "id": "f9678e02-54cc-43a2-bea4-8393e5760d2d",
   "metadata": {},
   "source": [
    "# The above Two code that are commented down are very important in this project:-\n",
    "# i) If the codeline(8 and 9) is implemented instead of codeline(7) then accuracy of the module changes very drastically compared to the codeline(7) the accuracy becomes very less (<60%).\n",
    "\n",
    "# ii) If the codeline(7) is implemented instead of codeline(8 and 9) then accuracy of the module changes very drastically compared to the codeline(7) the accuracy becomes high (>85%). "
   ]
  },
  {
   "cell_type": "code",
   "execution_count": 10,
   "id": "1d6167e5-b847-44fc-b62a-8278d473239e",
   "metadata": {},
   "outputs": [
    {
     "name": "stdout",
     "output_type": "stream",
     "text": [
      "<class 'pandas.core.frame.DataFrame'>\n",
      "Index: 823 entries, 2 to 6014\n",
      "Data columns (total 14 columns):\n",
      " #   Column             Non-Null Count  Dtype  \n",
      "---  ------             --------------  -----  \n",
      " 0   Unnamed: 0         823 non-null    int64  \n",
      " 1   Name               823 non-null    object \n",
      " 2   Location           823 non-null    object \n",
      " 3   Year               823 non-null    int64  \n",
      " 4   Kilometers_Driven  823 non-null    int64  \n",
      " 5   Fuel_Type          823 non-null    object \n",
      " 6   Transmission       823 non-null    object \n",
      " 7   Owner_Type         823 non-null    object \n",
      " 8   Mileage            823 non-null    object \n",
      " 9   Engine             823 non-null    object \n",
      " 10  Power              823 non-null    object \n",
      " 11  Seats              823 non-null    float64\n",
      " 12  New_Price          823 non-null    object \n",
      " 13  Price              823 non-null    float64\n",
      "dtypes: float64(2), int64(3), object(9)\n",
      "memory usage: 96.4+ KB\n"
     ]
    }
   ],
   "source": [
    "df.info()"
   ]
  },
  {
   "cell_type": "code",
   "execution_count": 11,
   "id": "d0bcf492-3aac-456c-bf31-a4dcbd9ca79f",
   "metadata": {},
   "outputs": [
    {
     "name": "stdout",
     "output_type": "stream",
     "text": [
      "<class 'pandas.core.frame.DataFrame'>\n",
      "Index: 823 entries, 2 to 6014\n",
      "Data columns (total 14 columns):\n",
      " #   Column             Non-Null Count  Dtype  \n",
      "---  ------             --------------  -----  \n",
      " 0   Unnamed: 0         823 non-null    int64  \n",
      " 1   Name               823 non-null    object \n",
      " 2   Location           823 non-null    object \n",
      " 3   Year               823 non-null    int64  \n",
      " 4   Kilometers_Driven  823 non-null    int64  \n",
      " 5   Fuel_Type          823 non-null    object \n",
      " 6   Transmission       823 non-null    object \n",
      " 7   Owner_Type         823 non-null    object \n",
      " 8   Mileage            823 non-null    object \n",
      " 9   Engine             823 non-null    object \n",
      " 10  Power              823 non-null    object \n",
      " 11  Seats              823 non-null    float64\n",
      " 12  New_Price          823 non-null    object \n",
      " 13  Price              823 non-null    float64\n",
      "dtypes: float64(2), int64(3), object(9)\n",
      "memory usage: 96.4+ KB\n"
     ]
    }
   ],
   "source": [
    "df.info()"
   ]
  },
  {
   "cell_type": "code",
   "execution_count": 12,
   "id": "d1259e16-e4c0-4907-944d-590418ac5757",
   "metadata": {},
   "outputs": [
    {
     "data": {
      "text/plain": [
       "Unnamed: 0           0\n",
       "Name                 0\n",
       "Location             0\n",
       "Year                 0\n",
       "Kilometers_Driven    0\n",
       "Fuel_Type            0\n",
       "Transmission         0\n",
       "Owner_Type           0\n",
       "Mileage              0\n",
       "Engine               0\n",
       "Power                0\n",
       "Seats                0\n",
       "New_Price            0\n",
       "Price                0\n",
       "dtype: int64"
      ]
     },
     "execution_count": 12,
     "metadata": {},
     "output_type": "execute_result"
    }
   ],
   "source": [
    "df.isnull().sum()"
   ]
  },
  {
   "cell_type": "code",
   "execution_count": 13,
   "id": "9258768d-acf8-44e2-808e-82715d06908e",
   "metadata": {},
   "outputs": [],
   "source": [
    "df=df.drop(\"New_Price\",axis=1)  #column new_price large amount nan value and column unnamed is of no use so we will drop them\n",
    "df=df.drop(\"Unnamed: 0\",axis=1)"
   ]
  },
  {
   "cell_type": "code",
   "execution_count": 14,
   "id": "357b97e3-7804-4c92-a7f8-ae2f96fc971f",
   "metadata": {},
   "outputs": [
    {
     "name": "stdout",
     "output_type": "stream",
     "text": [
      "total number of rows : 823\n",
      "total number of columns : 12\n"
     ]
    }
   ],
   "source": [
    "print(\"total number of rows :\",df.shape[0])\n",
    "print(\"total number of columns :\",df.shape[1])\n"
   ]
  },
  {
   "cell_type": "code",
   "execution_count": 15,
   "id": "22e21528-e1cd-4f59-9b32-b247d8d5375f",
   "metadata": {},
   "outputs": [
    {
     "data": {
      "text/html": [
       "<div>\n",
       "<style scoped>\n",
       "    .dataframe tbody tr th:only-of-type {\n",
       "        vertical-align: middle;\n",
       "    }\n",
       "\n",
       "    .dataframe tbody tr th {\n",
       "        vertical-align: top;\n",
       "    }\n",
       "\n",
       "    .dataframe thead th {\n",
       "        text-align: right;\n",
       "    }\n",
       "</style>\n",
       "<table border=\"1\" class=\"dataframe\">\n",
       "  <thead>\n",
       "    <tr style=\"text-align: right;\">\n",
       "      <th></th>\n",
       "      <th>Name</th>\n",
       "      <th>Location</th>\n",
       "      <th>Year</th>\n",
       "      <th>Kilometers_Driven</th>\n",
       "      <th>Fuel_Type</th>\n",
       "      <th>Transmission</th>\n",
       "      <th>Owner_Type</th>\n",
       "      <th>Mileage</th>\n",
       "      <th>Engine</th>\n",
       "      <th>Power</th>\n",
       "      <th>Seats</th>\n",
       "      <th>Price</th>\n",
       "    </tr>\n",
       "  </thead>\n",
       "  <tbody>\n",
       "    <tr>\n",
       "      <th>2</th>\n",
       "      <td>Honda Jazz V</td>\n",
       "      <td>Chennai</td>\n",
       "      <td>2011</td>\n",
       "      <td>46000</td>\n",
       "      <td>Petrol</td>\n",
       "      <td>Manual</td>\n",
       "      <td>First</td>\n",
       "      <td>18.2 kmpl</td>\n",
       "      <td>1199 CC</td>\n",
       "      <td>88.7 bhp</td>\n",
       "      <td>5.0</td>\n",
       "      <td>4.50</td>\n",
       "    </tr>\n",
       "    <tr>\n",
       "      <th>7</th>\n",
       "      <td>Toyota Innova Crysta 2.8 GX AT 8S</td>\n",
       "      <td>Mumbai</td>\n",
       "      <td>2016</td>\n",
       "      <td>36000</td>\n",
       "      <td>Diesel</td>\n",
       "      <td>Automatic</td>\n",
       "      <td>First</td>\n",
       "      <td>11.36 kmpl</td>\n",
       "      <td>2755 CC</td>\n",
       "      <td>171.5 bhp</td>\n",
       "      <td>8.0</td>\n",
       "      <td>17.50</td>\n",
       "    </tr>\n",
       "    <tr>\n",
       "      <th>10</th>\n",
       "      <td>Maruti Ciaz Zeta</td>\n",
       "      <td>Kochi</td>\n",
       "      <td>2018</td>\n",
       "      <td>25692</td>\n",
       "      <td>Petrol</td>\n",
       "      <td>Manual</td>\n",
       "      <td>First</td>\n",
       "      <td>21.56 kmpl</td>\n",
       "      <td>1462 CC</td>\n",
       "      <td>103.25 bhp</td>\n",
       "      <td>5.0</td>\n",
       "      <td>9.95</td>\n",
       "    </tr>\n",
       "    <tr>\n",
       "      <th>15</th>\n",
       "      <td>Mitsubishi Pajero Sport 4X4</td>\n",
       "      <td>Delhi</td>\n",
       "      <td>2014</td>\n",
       "      <td>110000</td>\n",
       "      <td>Diesel</td>\n",
       "      <td>Manual</td>\n",
       "      <td>First</td>\n",
       "      <td>13.5 kmpl</td>\n",
       "      <td>2477 CC</td>\n",
       "      <td>175.56 bhp</td>\n",
       "      <td>7.0</td>\n",
       "      <td>15.00</td>\n",
       "    </tr>\n",
       "    <tr>\n",
       "      <th>20</th>\n",
       "      <td>BMW 3 Series 320d</td>\n",
       "      <td>Kochi</td>\n",
       "      <td>2014</td>\n",
       "      <td>32982</td>\n",
       "      <td>Diesel</td>\n",
       "      <td>Automatic</td>\n",
       "      <td>First</td>\n",
       "      <td>22.69 kmpl</td>\n",
       "      <td>1995 CC</td>\n",
       "      <td>190 bhp</td>\n",
       "      <td>5.0</td>\n",
       "      <td>18.55</td>\n",
       "    </tr>\n",
       "    <tr>\n",
       "      <th>...</th>\n",
       "      <td>...</td>\n",
       "      <td>...</td>\n",
       "      <td>...</td>\n",
       "      <td>...</td>\n",
       "      <td>...</td>\n",
       "      <td>...</td>\n",
       "      <td>...</td>\n",
       "      <td>...</td>\n",
       "      <td>...</td>\n",
       "      <td>...</td>\n",
       "      <td>...</td>\n",
       "      <td>...</td>\n",
       "    </tr>\n",
       "    <tr>\n",
       "      <th>5999</th>\n",
       "      <td>Tata Bolt Revotron XT</td>\n",
       "      <td>Chennai</td>\n",
       "      <td>2016</td>\n",
       "      <td>10000</td>\n",
       "      <td>Petrol</td>\n",
       "      <td>Manual</td>\n",
       "      <td>First</td>\n",
       "      <td>17.57 kmpl</td>\n",
       "      <td>1193 CC</td>\n",
       "      <td>88.7 bhp</td>\n",
       "      <td>5.0</td>\n",
       "      <td>4.00</td>\n",
       "    </tr>\n",
       "    <tr>\n",
       "      <th>6002</th>\n",
       "      <td>Volkswagen Vento 1.6 Highline</td>\n",
       "      <td>Mumbai</td>\n",
       "      <td>2011</td>\n",
       "      <td>38000</td>\n",
       "      <td>Petrol</td>\n",
       "      <td>Manual</td>\n",
       "      <td>First</td>\n",
       "      <td>16.09 kmpl</td>\n",
       "      <td>1598 CC</td>\n",
       "      <td>103.5 bhp</td>\n",
       "      <td>5.0</td>\n",
       "      <td>3.25</td>\n",
       "    </tr>\n",
       "    <tr>\n",
       "      <th>6005</th>\n",
       "      <td>Maruti Vitara Brezza VDi</td>\n",
       "      <td>Pune</td>\n",
       "      <td>2016</td>\n",
       "      <td>37208</td>\n",
       "      <td>Diesel</td>\n",
       "      <td>Manual</td>\n",
       "      <td>First</td>\n",
       "      <td>24.3 kmpl</td>\n",
       "      <td>1248 CC</td>\n",
       "      <td>88.5 bhp</td>\n",
       "      <td>5.0</td>\n",
       "      <td>7.43</td>\n",
       "    </tr>\n",
       "    <tr>\n",
       "      <th>6010</th>\n",
       "      <td>Honda Brio 1.2 VX MT</td>\n",
       "      <td>Delhi</td>\n",
       "      <td>2013</td>\n",
       "      <td>33746</td>\n",
       "      <td>Petrol</td>\n",
       "      <td>Manual</td>\n",
       "      <td>First</td>\n",
       "      <td>18.5 kmpl</td>\n",
       "      <td>1198 CC</td>\n",
       "      <td>86.8 bhp</td>\n",
       "      <td>5.0</td>\n",
       "      <td>3.20</td>\n",
       "    </tr>\n",
       "    <tr>\n",
       "      <th>6014</th>\n",
       "      <td>Maruti Swift VDI</td>\n",
       "      <td>Delhi</td>\n",
       "      <td>2014</td>\n",
       "      <td>27365</td>\n",
       "      <td>Diesel</td>\n",
       "      <td>Manual</td>\n",
       "      <td>First</td>\n",
       "      <td>28.4 kmpl</td>\n",
       "      <td>1248 CC</td>\n",
       "      <td>74 bhp</td>\n",
       "      <td>5.0</td>\n",
       "      <td>4.75</td>\n",
       "    </tr>\n",
       "  </tbody>\n",
       "</table>\n",
       "<p>823 rows × 12 columns</p>\n",
       "</div>"
      ],
      "text/plain": [
       "                                   Name Location  Year  Kilometers_Driven  \\\n",
       "2                          Honda Jazz V  Chennai  2011              46000   \n",
       "7     Toyota Innova Crysta 2.8 GX AT 8S   Mumbai  2016              36000   \n",
       "10                     Maruti Ciaz Zeta    Kochi  2018              25692   \n",
       "15          Mitsubishi Pajero Sport 4X4    Delhi  2014             110000   \n",
       "20                    BMW 3 Series 320d    Kochi  2014              32982   \n",
       "...                                 ...      ...   ...                ...   \n",
       "5999              Tata Bolt Revotron XT  Chennai  2016              10000   \n",
       "6002      Volkswagen Vento 1.6 Highline   Mumbai  2011              38000   \n",
       "6005           Maruti Vitara Brezza VDi     Pune  2016              37208   \n",
       "6010               Honda Brio 1.2 VX MT    Delhi  2013              33746   \n",
       "6014                   Maruti Swift VDI    Delhi  2014              27365   \n",
       "\n",
       "     Fuel_Type Transmission Owner_Type     Mileage   Engine       Power  \\\n",
       "2       Petrol       Manual      First   18.2 kmpl  1199 CC    88.7 bhp   \n",
       "7       Diesel    Automatic      First  11.36 kmpl  2755 CC   171.5 bhp   \n",
       "10      Petrol       Manual      First  21.56 kmpl  1462 CC  103.25 bhp   \n",
       "15      Diesel       Manual      First   13.5 kmpl  2477 CC  175.56 bhp   \n",
       "20      Diesel    Automatic      First  22.69 kmpl  1995 CC     190 bhp   \n",
       "...        ...          ...        ...         ...      ...         ...   \n",
       "5999    Petrol       Manual      First  17.57 kmpl  1193 CC    88.7 bhp   \n",
       "6002    Petrol       Manual      First  16.09 kmpl  1598 CC   103.5 bhp   \n",
       "6005    Diesel       Manual      First   24.3 kmpl  1248 CC    88.5 bhp   \n",
       "6010    Petrol       Manual      First   18.5 kmpl  1198 CC    86.8 bhp   \n",
       "6014    Diesel       Manual      First   28.4 kmpl  1248 CC      74 bhp   \n",
       "\n",
       "      Seats  Price  \n",
       "2       5.0   4.50  \n",
       "7       8.0  17.50  \n",
       "10      5.0   9.95  \n",
       "15      7.0  15.00  \n",
       "20      5.0  18.55  \n",
       "...     ...    ...  \n",
       "5999    5.0   4.00  \n",
       "6002    5.0   3.25  \n",
       "6005    5.0   7.43  \n",
       "6010    5.0   3.20  \n",
       "6014    5.0   4.75  \n",
       "\n",
       "[823 rows x 12 columns]"
      ]
     },
     "execution_count": 15,
     "metadata": {},
     "output_type": "execute_result"
    }
   ],
   "source": [
    "df"
   ]
  },
  {
   "cell_type": "markdown",
   "id": "9b4990c0-53ce-4540-bb70-a35f89c123f3",
   "metadata": {},
   "source": [
    "# Step-2 Cleaning of the dataset."
   ]
  },
  {
   "cell_type": "markdown",
   "id": "0d7b3dbb-a44d-41bf-a9e1-2f53a33101b7",
   "metadata": {},
   "source": [
    "# A) Converting columns[Mileage(Kmpl),Engine(cc),Power(bhp),Seats] into float as it may contain nan value"
   ]
  },
  {
   "cell_type": "code",
   "execution_count": 16,
   "id": "49381e04-f792-4b9b-8133-723049495e26",
   "metadata": {
    "ExecuteTime": {
     "end_time": "2024-02-16T17:01:19.548578100Z",
     "start_time": "2024-02-16T17:01:19.013085600Z"
    }
   },
   "outputs": [],
   "source": [
    "df[\"Mileage\"]=df[\"Mileage\"].str.replace(\"kmpl\",\"\")\n",
    "df[\"Mileage\"]=df[\"Mileage\"].str.replace(\"km/kg\",\"\")\n",
    "df[\"Engine\"]=df[\"Engine\"].str.replace(\"CC\",\"\")\n",
    "df[\"Power\"]=df[\"Power\"].str.replace(\"null bhp\",\"112\")\n",
    "df[\"Power\"]=df[\"Power\"].str.replace(\" bhp\",\"\")"
   ]
  },
  {
   "cell_type": "code",
   "execution_count": 17,
   "id": "7e919dd6-9f97-43fe-adf8-ed072b7fe465",
   "metadata": {
    "ExecuteTime": {
     "end_time": "2024-02-16T17:01:19.564451700Z",
     "start_time": "2024-02-16T17:01:19.071563Z"
    }
   },
   "outputs": [
    {
     "data": {
      "text/plain": [
       "Name                 0\n",
       "Location             0\n",
       "Year                 0\n",
       "Kilometers_Driven    0\n",
       "Fuel_Type            0\n",
       "Transmission         0\n",
       "Owner_Type           0\n",
       "Mileage              0\n",
       "Engine               0\n",
       "Power                0\n",
       "Seats                0\n",
       "Price                0\n",
       "dtype: int64"
      ]
     },
     "execution_count": 17,
     "metadata": {},
     "output_type": "execute_result"
    }
   ],
   "source": [
    "df.isnull().sum()"
   ]
  },
  {
   "cell_type": "markdown",
   "id": "37c361b3-ebde-4c6c-9bc3-5369e2c801a5",
   "metadata": {},
   "source": [
    "# C) I wanted all the numerical column in int dtype"
   ]
  },
  {
   "cell_type": "code",
   "execution_count": 18,
   "id": "fb4ed6fb-a72e-4408-9a82-1205a5ecfb2c",
   "metadata": {
    "ExecuteTime": {
     "end_time": "2024-02-16T17:01:19.643537400Z",
     "start_time": "2024-02-16T17:01:19.119506500Z"
    }
   },
   "outputs": [],
   "source": [
    "df[\"Power\"]=df[\"Power\"].astype(float)"
   ]
  },
  {
   "cell_type": "code",
   "execution_count": 19,
   "id": "87f9ab48-2f98-45a9-8304-cb62fe33f2d4",
   "metadata": {
    "ExecuteTime": {
     "end_time": "2024-02-16T17:01:19.643537400Z",
     "start_time": "2024-02-16T17:01:19.135293500Z"
    }
   },
   "outputs": [],
   "source": [
    "df[\"Mileage\"]=df[\"Mileage\"].astype(float)"
   ]
  },
  {
   "cell_type": "code",
   "execution_count": 20,
   "id": "78d0a1ce-8015-49c7-9d00-12c66beec8e0",
   "metadata": {
    "ExecuteTime": {
     "end_time": "2024-02-16T17:01:19.643537400Z",
     "start_time": "2024-02-16T17:01:19.150944Z"
    }
   },
   "outputs": [],
   "source": [
    "df[\"Engine\"]=df[\"Engine\"].astype(int)"
   ]
  },
  {
   "cell_type": "code",
   "execution_count": 21,
   "id": "8aa5a694-347d-4daa-b2f4-bbf03fe7f8dd",
   "metadata": {
    "ExecuteTime": {
     "end_time": "2024-02-16T17:01:19.866410800Z",
     "start_time": "2024-02-16T17:01:19.166922900Z"
    }
   },
   "outputs": [],
   "source": [
    "df[\"Seats\"]=df[\"Seats\"].astype(int)"
   ]
  },
  {
   "cell_type": "code",
   "execution_count": 22,
   "id": "f120ef53-1eb5-456b-815d-8b4bda8d95d3",
   "metadata": {},
   "outputs": [],
   "source": [
    "df[\"Price\"]=df[\"Price\"].astype(int)"
   ]
  },
  {
   "cell_type": "code",
   "execution_count": 23,
   "id": "027e0a7f-b2c7-4c46-bbe3-98830c50c94e",
   "metadata": {
    "ExecuteTime": {
     "end_time": "2024-02-16T17:01:19.866410800Z",
     "start_time": "2024-02-16T17:01:19.182886400Z"
    }
   },
   "outputs": [
    {
     "name": "stdout",
     "output_type": "stream",
     "text": [
      "<class 'pandas.core.frame.DataFrame'>\n",
      "Index: 823 entries, 2 to 6014\n",
      "Data columns (total 12 columns):\n",
      " #   Column             Non-Null Count  Dtype  \n",
      "---  ------             --------------  -----  \n",
      " 0   Name               823 non-null    object \n",
      " 1   Location           823 non-null    object \n",
      " 2   Year               823 non-null    int64  \n",
      " 3   Kilometers_Driven  823 non-null    int64  \n",
      " 4   Fuel_Type          823 non-null    object \n",
      " 5   Transmission       823 non-null    object \n",
      " 6   Owner_Type         823 non-null    object \n",
      " 7   Mileage            823 non-null    float64\n",
      " 8   Engine             823 non-null    int32  \n",
      " 9   Power              823 non-null    float64\n",
      " 10  Seats              823 non-null    int32  \n",
      " 11  Price              823 non-null    int32  \n",
      "dtypes: float64(2), int32(3), int64(2), object(5)\n",
      "memory usage: 73.9+ KB\n"
     ]
    }
   ],
   "source": [
    "df.info()"
   ]
  },
  {
   "cell_type": "code",
   "execution_count": 24,
   "id": "a710b43c-f249-4fde-8d7d-f6d6b90baaa6",
   "metadata": {
    "ExecuteTime": {
     "end_time": "2024-02-16T17:01:19.866410800Z",
     "start_time": "2024-02-16T17:01:19.215002500Z"
    }
   },
   "outputs": [
    {
     "data": {
      "text/plain": [
       "Name                 0\n",
       "Location             0\n",
       "Year                 0\n",
       "Kilometers_Driven    0\n",
       "Fuel_Type            0\n",
       "Transmission         0\n",
       "Owner_Type           0\n",
       "Mileage              0\n",
       "Engine               0\n",
       "Power                0\n",
       "Seats                0\n",
       "Price                0\n",
       "dtype: int64"
      ]
     },
     "execution_count": 24,
     "metadata": {},
     "output_type": "execute_result"
    }
   ],
   "source": [
    "df.isnull().sum()"
   ]
  },
  {
   "cell_type": "markdown",
   "id": "fb1469c5-cd69-4892-876b-aab86794aafe",
   "metadata": {},
   "source": [
    "# E) As the column (Name) looks jumbled we will make it more readable"
   ]
  },
  {
   "cell_type": "markdown",
   "id": "18597c6b-07bc-404c-ac13-c42b512f2867",
   "metadata": {},
   "source": [
    "# i) Creating a new column(comapany name) for car"
   ]
  },
  {
   "cell_type": "code",
   "execution_count": 25,
   "id": "c1aa7282-709f-46b1-9176-b5eecd229217",
   "metadata": {
    "ExecuteTime": {
     "end_time": "2024-02-16T17:01:20.136821800Z",
     "start_time": "2024-02-16T17:01:19.452748700Z"
    }
   },
   "outputs": [],
   "source": [
    "df[\"Company Name\"]=df[\"Name\"].str.split(\" \").str.slice(0,2).str.join(\" \")"
   ]
  },
  {
   "cell_type": "code",
   "execution_count": 26,
   "id": "a2782b48f0600684",
   "metadata": {
    "ExecuteTime": {
     "end_time": "2024-02-16T17:01:20.962145100Z",
     "start_time": "2024-02-16T17:01:19.945665Z"
    },
    "collapsed": false,
    "jupyter": {
     "outputs_hidden": false
    }
   },
   "outputs": [
    {
     "data": {
      "text/html": [
       "<div>\n",
       "<style scoped>\n",
       "    .dataframe tbody tr th:only-of-type {\n",
       "        vertical-align: middle;\n",
       "    }\n",
       "\n",
       "    .dataframe tbody tr th {\n",
       "        vertical-align: top;\n",
       "    }\n",
       "\n",
       "    .dataframe thead th {\n",
       "        text-align: right;\n",
       "    }\n",
       "</style>\n",
       "<table border=\"1\" class=\"dataframe\">\n",
       "  <thead>\n",
       "    <tr style=\"text-align: right;\">\n",
       "      <th></th>\n",
       "      <th>Name</th>\n",
       "      <th>Location</th>\n",
       "      <th>Year</th>\n",
       "      <th>Kilometers_Driven</th>\n",
       "      <th>Fuel_Type</th>\n",
       "      <th>Transmission</th>\n",
       "      <th>Owner_Type</th>\n",
       "      <th>Mileage</th>\n",
       "      <th>Engine</th>\n",
       "      <th>Power</th>\n",
       "      <th>Seats</th>\n",
       "      <th>Price</th>\n",
       "      <th>Company Name</th>\n",
       "    </tr>\n",
       "  </thead>\n",
       "  <tbody>\n",
       "    <tr>\n",
       "      <th>2</th>\n",
       "      <td>Honda Jazz V</td>\n",
       "      <td>Chennai</td>\n",
       "      <td>2011</td>\n",
       "      <td>46000</td>\n",
       "      <td>Petrol</td>\n",
       "      <td>Manual</td>\n",
       "      <td>First</td>\n",
       "      <td>18.20</td>\n",
       "      <td>1199</td>\n",
       "      <td>88.70</td>\n",
       "      <td>5</td>\n",
       "      <td>4</td>\n",
       "      <td>Honda Jazz</td>\n",
       "    </tr>\n",
       "    <tr>\n",
       "      <th>7</th>\n",
       "      <td>Toyota Innova Crysta 2.8 GX AT 8S</td>\n",
       "      <td>Mumbai</td>\n",
       "      <td>2016</td>\n",
       "      <td>36000</td>\n",
       "      <td>Diesel</td>\n",
       "      <td>Automatic</td>\n",
       "      <td>First</td>\n",
       "      <td>11.36</td>\n",
       "      <td>2755</td>\n",
       "      <td>171.50</td>\n",
       "      <td>8</td>\n",
       "      <td>17</td>\n",
       "      <td>Toyota Innova</td>\n",
       "    </tr>\n",
       "    <tr>\n",
       "      <th>10</th>\n",
       "      <td>Maruti Ciaz Zeta</td>\n",
       "      <td>Kochi</td>\n",
       "      <td>2018</td>\n",
       "      <td>25692</td>\n",
       "      <td>Petrol</td>\n",
       "      <td>Manual</td>\n",
       "      <td>First</td>\n",
       "      <td>21.56</td>\n",
       "      <td>1462</td>\n",
       "      <td>103.25</td>\n",
       "      <td>5</td>\n",
       "      <td>9</td>\n",
       "      <td>Maruti Ciaz</td>\n",
       "    </tr>\n",
       "    <tr>\n",
       "      <th>15</th>\n",
       "      <td>Mitsubishi Pajero Sport 4X4</td>\n",
       "      <td>Delhi</td>\n",
       "      <td>2014</td>\n",
       "      <td>110000</td>\n",
       "      <td>Diesel</td>\n",
       "      <td>Manual</td>\n",
       "      <td>First</td>\n",
       "      <td>13.50</td>\n",
       "      <td>2477</td>\n",
       "      <td>175.56</td>\n",
       "      <td>7</td>\n",
       "      <td>15</td>\n",
       "      <td>Mitsubishi Pajero</td>\n",
       "    </tr>\n",
       "    <tr>\n",
       "      <th>20</th>\n",
       "      <td>BMW 3 Series 320d</td>\n",
       "      <td>Kochi</td>\n",
       "      <td>2014</td>\n",
       "      <td>32982</td>\n",
       "      <td>Diesel</td>\n",
       "      <td>Automatic</td>\n",
       "      <td>First</td>\n",
       "      <td>22.69</td>\n",
       "      <td>1995</td>\n",
       "      <td>190.00</td>\n",
       "      <td>5</td>\n",
       "      <td>18</td>\n",
       "      <td>BMW 3</td>\n",
       "    </tr>\n",
       "    <tr>\n",
       "      <th>...</th>\n",
       "      <td>...</td>\n",
       "      <td>...</td>\n",
       "      <td>...</td>\n",
       "      <td>...</td>\n",
       "      <td>...</td>\n",
       "      <td>...</td>\n",
       "      <td>...</td>\n",
       "      <td>...</td>\n",
       "      <td>...</td>\n",
       "      <td>...</td>\n",
       "      <td>...</td>\n",
       "      <td>...</td>\n",
       "      <td>...</td>\n",
       "    </tr>\n",
       "    <tr>\n",
       "      <th>5999</th>\n",
       "      <td>Tata Bolt Revotron XT</td>\n",
       "      <td>Chennai</td>\n",
       "      <td>2016</td>\n",
       "      <td>10000</td>\n",
       "      <td>Petrol</td>\n",
       "      <td>Manual</td>\n",
       "      <td>First</td>\n",
       "      <td>17.57</td>\n",
       "      <td>1193</td>\n",
       "      <td>88.70</td>\n",
       "      <td>5</td>\n",
       "      <td>4</td>\n",
       "      <td>Tata Bolt</td>\n",
       "    </tr>\n",
       "    <tr>\n",
       "      <th>6002</th>\n",
       "      <td>Volkswagen Vento 1.6 Highline</td>\n",
       "      <td>Mumbai</td>\n",
       "      <td>2011</td>\n",
       "      <td>38000</td>\n",
       "      <td>Petrol</td>\n",
       "      <td>Manual</td>\n",
       "      <td>First</td>\n",
       "      <td>16.09</td>\n",
       "      <td>1598</td>\n",
       "      <td>103.50</td>\n",
       "      <td>5</td>\n",
       "      <td>3</td>\n",
       "      <td>Volkswagen Vento</td>\n",
       "    </tr>\n",
       "    <tr>\n",
       "      <th>6005</th>\n",
       "      <td>Maruti Vitara Brezza VDi</td>\n",
       "      <td>Pune</td>\n",
       "      <td>2016</td>\n",
       "      <td>37208</td>\n",
       "      <td>Diesel</td>\n",
       "      <td>Manual</td>\n",
       "      <td>First</td>\n",
       "      <td>24.30</td>\n",
       "      <td>1248</td>\n",
       "      <td>88.50</td>\n",
       "      <td>5</td>\n",
       "      <td>7</td>\n",
       "      <td>Maruti Vitara</td>\n",
       "    </tr>\n",
       "    <tr>\n",
       "      <th>6010</th>\n",
       "      <td>Honda Brio 1.2 VX MT</td>\n",
       "      <td>Delhi</td>\n",
       "      <td>2013</td>\n",
       "      <td>33746</td>\n",
       "      <td>Petrol</td>\n",
       "      <td>Manual</td>\n",
       "      <td>First</td>\n",
       "      <td>18.50</td>\n",
       "      <td>1198</td>\n",
       "      <td>86.80</td>\n",
       "      <td>5</td>\n",
       "      <td>3</td>\n",
       "      <td>Honda Brio</td>\n",
       "    </tr>\n",
       "    <tr>\n",
       "      <th>6014</th>\n",
       "      <td>Maruti Swift VDI</td>\n",
       "      <td>Delhi</td>\n",
       "      <td>2014</td>\n",
       "      <td>27365</td>\n",
       "      <td>Diesel</td>\n",
       "      <td>Manual</td>\n",
       "      <td>First</td>\n",
       "      <td>28.40</td>\n",
       "      <td>1248</td>\n",
       "      <td>74.00</td>\n",
       "      <td>5</td>\n",
       "      <td>4</td>\n",
       "      <td>Maruti Swift</td>\n",
       "    </tr>\n",
       "  </tbody>\n",
       "</table>\n",
       "<p>823 rows × 13 columns</p>\n",
       "</div>"
      ],
      "text/plain": [
       "                                   Name Location  Year  Kilometers_Driven  \\\n",
       "2                          Honda Jazz V  Chennai  2011              46000   \n",
       "7     Toyota Innova Crysta 2.8 GX AT 8S   Mumbai  2016              36000   \n",
       "10                     Maruti Ciaz Zeta    Kochi  2018              25692   \n",
       "15          Mitsubishi Pajero Sport 4X4    Delhi  2014             110000   \n",
       "20                    BMW 3 Series 320d    Kochi  2014              32982   \n",
       "...                                 ...      ...   ...                ...   \n",
       "5999              Tata Bolt Revotron XT  Chennai  2016              10000   \n",
       "6002      Volkswagen Vento 1.6 Highline   Mumbai  2011              38000   \n",
       "6005           Maruti Vitara Brezza VDi     Pune  2016              37208   \n",
       "6010               Honda Brio 1.2 VX MT    Delhi  2013              33746   \n",
       "6014                   Maruti Swift VDI    Delhi  2014              27365   \n",
       "\n",
       "     Fuel_Type Transmission Owner_Type  Mileage  Engine   Power  Seats  Price  \\\n",
       "2       Petrol       Manual      First    18.20    1199   88.70      5      4   \n",
       "7       Diesel    Automatic      First    11.36    2755  171.50      8     17   \n",
       "10      Petrol       Manual      First    21.56    1462  103.25      5      9   \n",
       "15      Diesel       Manual      First    13.50    2477  175.56      7     15   \n",
       "20      Diesel    Automatic      First    22.69    1995  190.00      5     18   \n",
       "...        ...          ...        ...      ...     ...     ...    ...    ...   \n",
       "5999    Petrol       Manual      First    17.57    1193   88.70      5      4   \n",
       "6002    Petrol       Manual      First    16.09    1598  103.50      5      3   \n",
       "6005    Diesel       Manual      First    24.30    1248   88.50      5      7   \n",
       "6010    Petrol       Manual      First    18.50    1198   86.80      5      3   \n",
       "6014    Diesel       Manual      First    28.40    1248   74.00      5      4   \n",
       "\n",
       "           Company Name  \n",
       "2            Honda Jazz  \n",
       "7         Toyota Innova  \n",
       "10          Maruti Ciaz  \n",
       "15    Mitsubishi Pajero  \n",
       "20                BMW 3  \n",
       "...                 ...  \n",
       "5999          Tata Bolt  \n",
       "6002   Volkswagen Vento  \n",
       "6005      Maruti Vitara  \n",
       "6010         Honda Brio  \n",
       "6014       Maruti Swift  \n",
       "\n",
       "[823 rows x 13 columns]"
      ]
     },
     "execution_count": 26,
     "metadata": {},
     "output_type": "execute_result"
    }
   ],
   "source": [
    "df"
   ]
  },
  {
   "cell_type": "markdown",
   "id": "86abb588-f26b-4e4c-828d-90dcf09d8d68",
   "metadata": {},
   "source": [
    "# ii) Now removing company name for cloumn(name)"
   ]
  },
  {
   "cell_type": "code",
   "execution_count": 27,
   "id": "c41cb2b0-f2c2-4034-aa56-729e2ee7eb6b",
   "metadata": {
    "ExecuteTime": {
     "end_time": "2024-02-16T17:01:21.261899700Z",
     "start_time": "2024-02-16T17:01:20.598674900Z"
    }
   },
   "outputs": [],
   "source": [
    "df[\"Name\"]=df[\"Name\"].str.split(\" \").str.slice(2,4).str.join(\" \")"
   ]
  },
  {
   "cell_type": "code",
   "execution_count": 28,
   "id": "d9698b14-f7dd-42e3-9f99-34f6ef43d87b",
   "metadata": {
    "ExecuteTime": {
     "end_time": "2024-02-16T17:01:21.466761200Z",
     "start_time": "2024-02-16T17:01:21.167766Z"
    }
   },
   "outputs": [
    {
     "data": {
      "text/html": [
       "<div>\n",
       "<style scoped>\n",
       "    .dataframe tbody tr th:only-of-type {\n",
       "        vertical-align: middle;\n",
       "    }\n",
       "\n",
       "    .dataframe tbody tr th {\n",
       "        vertical-align: top;\n",
       "    }\n",
       "\n",
       "    .dataframe thead th {\n",
       "        text-align: right;\n",
       "    }\n",
       "</style>\n",
       "<table border=\"1\" class=\"dataframe\">\n",
       "  <thead>\n",
       "    <tr style=\"text-align: right;\">\n",
       "      <th></th>\n",
       "      <th>Name</th>\n",
       "      <th>Location</th>\n",
       "      <th>Year</th>\n",
       "      <th>Kilometers_Driven</th>\n",
       "      <th>Fuel_Type</th>\n",
       "      <th>Transmission</th>\n",
       "      <th>Owner_Type</th>\n",
       "      <th>Mileage</th>\n",
       "      <th>Engine</th>\n",
       "      <th>Power</th>\n",
       "      <th>Seats</th>\n",
       "      <th>Price</th>\n",
       "      <th>Company Name</th>\n",
       "    </tr>\n",
       "  </thead>\n",
       "  <tbody>\n",
       "    <tr>\n",
       "      <th>2</th>\n",
       "      <td>V</td>\n",
       "      <td>Chennai</td>\n",
       "      <td>2011</td>\n",
       "      <td>46000</td>\n",
       "      <td>Petrol</td>\n",
       "      <td>Manual</td>\n",
       "      <td>First</td>\n",
       "      <td>18.20</td>\n",
       "      <td>1199</td>\n",
       "      <td>88.70</td>\n",
       "      <td>5</td>\n",
       "      <td>4</td>\n",
       "      <td>Honda Jazz</td>\n",
       "    </tr>\n",
       "    <tr>\n",
       "      <th>7</th>\n",
       "      <td>Crysta 2.8</td>\n",
       "      <td>Mumbai</td>\n",
       "      <td>2016</td>\n",
       "      <td>36000</td>\n",
       "      <td>Diesel</td>\n",
       "      <td>Automatic</td>\n",
       "      <td>First</td>\n",
       "      <td>11.36</td>\n",
       "      <td>2755</td>\n",
       "      <td>171.50</td>\n",
       "      <td>8</td>\n",
       "      <td>17</td>\n",
       "      <td>Toyota Innova</td>\n",
       "    </tr>\n",
       "    <tr>\n",
       "      <th>10</th>\n",
       "      <td>Zeta</td>\n",
       "      <td>Kochi</td>\n",
       "      <td>2018</td>\n",
       "      <td>25692</td>\n",
       "      <td>Petrol</td>\n",
       "      <td>Manual</td>\n",
       "      <td>First</td>\n",
       "      <td>21.56</td>\n",
       "      <td>1462</td>\n",
       "      <td>103.25</td>\n",
       "      <td>5</td>\n",
       "      <td>9</td>\n",
       "      <td>Maruti Ciaz</td>\n",
       "    </tr>\n",
       "    <tr>\n",
       "      <th>15</th>\n",
       "      <td>Sport 4X4</td>\n",
       "      <td>Delhi</td>\n",
       "      <td>2014</td>\n",
       "      <td>110000</td>\n",
       "      <td>Diesel</td>\n",
       "      <td>Manual</td>\n",
       "      <td>First</td>\n",
       "      <td>13.50</td>\n",
       "      <td>2477</td>\n",
       "      <td>175.56</td>\n",
       "      <td>7</td>\n",
       "      <td>15</td>\n",
       "      <td>Mitsubishi Pajero</td>\n",
       "    </tr>\n",
       "    <tr>\n",
       "      <th>20</th>\n",
       "      <td>Series 320d</td>\n",
       "      <td>Kochi</td>\n",
       "      <td>2014</td>\n",
       "      <td>32982</td>\n",
       "      <td>Diesel</td>\n",
       "      <td>Automatic</td>\n",
       "      <td>First</td>\n",
       "      <td>22.69</td>\n",
       "      <td>1995</td>\n",
       "      <td>190.00</td>\n",
       "      <td>5</td>\n",
       "      <td>18</td>\n",
       "      <td>BMW 3</td>\n",
       "    </tr>\n",
       "    <tr>\n",
       "      <th>...</th>\n",
       "      <td>...</td>\n",
       "      <td>...</td>\n",
       "      <td>...</td>\n",
       "      <td>...</td>\n",
       "      <td>...</td>\n",
       "      <td>...</td>\n",
       "      <td>...</td>\n",
       "      <td>...</td>\n",
       "      <td>...</td>\n",
       "      <td>...</td>\n",
       "      <td>...</td>\n",
       "      <td>...</td>\n",
       "      <td>...</td>\n",
       "    </tr>\n",
       "    <tr>\n",
       "      <th>5999</th>\n",
       "      <td>Revotron XT</td>\n",
       "      <td>Chennai</td>\n",
       "      <td>2016</td>\n",
       "      <td>10000</td>\n",
       "      <td>Petrol</td>\n",
       "      <td>Manual</td>\n",
       "      <td>First</td>\n",
       "      <td>17.57</td>\n",
       "      <td>1193</td>\n",
       "      <td>88.70</td>\n",
       "      <td>5</td>\n",
       "      <td>4</td>\n",
       "      <td>Tata Bolt</td>\n",
       "    </tr>\n",
       "    <tr>\n",
       "      <th>6002</th>\n",
       "      <td>1.6 Highline</td>\n",
       "      <td>Mumbai</td>\n",
       "      <td>2011</td>\n",
       "      <td>38000</td>\n",
       "      <td>Petrol</td>\n",
       "      <td>Manual</td>\n",
       "      <td>First</td>\n",
       "      <td>16.09</td>\n",
       "      <td>1598</td>\n",
       "      <td>103.50</td>\n",
       "      <td>5</td>\n",
       "      <td>3</td>\n",
       "      <td>Volkswagen Vento</td>\n",
       "    </tr>\n",
       "    <tr>\n",
       "      <th>6005</th>\n",
       "      <td>Brezza VDi</td>\n",
       "      <td>Pune</td>\n",
       "      <td>2016</td>\n",
       "      <td>37208</td>\n",
       "      <td>Diesel</td>\n",
       "      <td>Manual</td>\n",
       "      <td>First</td>\n",
       "      <td>24.30</td>\n",
       "      <td>1248</td>\n",
       "      <td>88.50</td>\n",
       "      <td>5</td>\n",
       "      <td>7</td>\n",
       "      <td>Maruti Vitara</td>\n",
       "    </tr>\n",
       "    <tr>\n",
       "      <th>6010</th>\n",
       "      <td>1.2 VX</td>\n",
       "      <td>Delhi</td>\n",
       "      <td>2013</td>\n",
       "      <td>33746</td>\n",
       "      <td>Petrol</td>\n",
       "      <td>Manual</td>\n",
       "      <td>First</td>\n",
       "      <td>18.50</td>\n",
       "      <td>1198</td>\n",
       "      <td>86.80</td>\n",
       "      <td>5</td>\n",
       "      <td>3</td>\n",
       "      <td>Honda Brio</td>\n",
       "    </tr>\n",
       "    <tr>\n",
       "      <th>6014</th>\n",
       "      <td>VDI</td>\n",
       "      <td>Delhi</td>\n",
       "      <td>2014</td>\n",
       "      <td>27365</td>\n",
       "      <td>Diesel</td>\n",
       "      <td>Manual</td>\n",
       "      <td>First</td>\n",
       "      <td>28.40</td>\n",
       "      <td>1248</td>\n",
       "      <td>74.00</td>\n",
       "      <td>5</td>\n",
       "      <td>4</td>\n",
       "      <td>Maruti Swift</td>\n",
       "    </tr>\n",
       "  </tbody>\n",
       "</table>\n",
       "<p>823 rows × 13 columns</p>\n",
       "</div>"
      ],
      "text/plain": [
       "              Name Location  Year  Kilometers_Driven Fuel_Type Transmission  \\\n",
       "2                V  Chennai  2011              46000    Petrol       Manual   \n",
       "7       Crysta 2.8   Mumbai  2016              36000    Diesel    Automatic   \n",
       "10            Zeta    Kochi  2018              25692    Petrol       Manual   \n",
       "15       Sport 4X4    Delhi  2014             110000    Diesel       Manual   \n",
       "20     Series 320d    Kochi  2014              32982    Diesel    Automatic   \n",
       "...            ...      ...   ...                ...       ...          ...   \n",
       "5999   Revotron XT  Chennai  2016              10000    Petrol       Manual   \n",
       "6002  1.6 Highline   Mumbai  2011              38000    Petrol       Manual   \n",
       "6005    Brezza VDi     Pune  2016              37208    Diesel       Manual   \n",
       "6010        1.2 VX    Delhi  2013              33746    Petrol       Manual   \n",
       "6014           VDI    Delhi  2014              27365    Diesel       Manual   \n",
       "\n",
       "     Owner_Type  Mileage  Engine   Power  Seats  Price       Company Name  \n",
       "2         First    18.20    1199   88.70      5      4         Honda Jazz  \n",
       "7         First    11.36    2755  171.50      8     17      Toyota Innova  \n",
       "10        First    21.56    1462  103.25      5      9        Maruti Ciaz  \n",
       "15        First    13.50    2477  175.56      7     15  Mitsubishi Pajero  \n",
       "20        First    22.69    1995  190.00      5     18              BMW 3  \n",
       "...         ...      ...     ...     ...    ...    ...                ...  \n",
       "5999      First    17.57    1193   88.70      5      4          Tata Bolt  \n",
       "6002      First    16.09    1598  103.50      5      3   Volkswagen Vento  \n",
       "6005      First    24.30    1248   88.50      5      7      Maruti Vitara  \n",
       "6010      First    18.50    1198   86.80      5      3         Honda Brio  \n",
       "6014      First    28.40    1248   74.00      5      4       Maruti Swift  \n",
       "\n",
       "[823 rows x 13 columns]"
      ]
     },
     "execution_count": 28,
     "metadata": {},
     "output_type": "execute_result"
    }
   ],
   "source": [
    "df"
   ]
  },
  {
   "cell_type": "markdown",
   "id": "4af30193-8dcd-437e-9302-f377929cdecd",
   "metadata": {},
   "source": [
    "# iv) Renaming the column (Name) with (Car model)"
   ]
  },
  {
   "cell_type": "code",
   "execution_count": 29,
   "id": "d798b794-b847-4152-afb5-587935e1d0af",
   "metadata": {
    "ExecuteTime": {
     "end_time": "2024-02-16T17:01:21.765902200Z",
     "start_time": "2024-02-16T17:01:21.451135500Z"
    }
   },
   "outputs": [],
   "source": [
    "df=df.rename(columns={\"Name\":\"Car Model\"})"
   ]
  },
  {
   "cell_type": "code",
   "execution_count": 30,
   "id": "9088dcbf-15d5-4918-b872-bec14ce96a2c",
   "metadata": {
    "ExecuteTime": {
     "start_time": "2024-02-16T17:01:21.718230400Z"
    },
    "is_executing": true
   },
   "outputs": [
    {
     "data": {
      "text/html": [
       "<div>\n",
       "<style scoped>\n",
       "    .dataframe tbody tr th:only-of-type {\n",
       "        vertical-align: middle;\n",
       "    }\n",
       "\n",
       "    .dataframe tbody tr th {\n",
       "        vertical-align: top;\n",
       "    }\n",
       "\n",
       "    .dataframe thead th {\n",
       "        text-align: right;\n",
       "    }\n",
       "</style>\n",
       "<table border=\"1\" class=\"dataframe\">\n",
       "  <thead>\n",
       "    <tr style=\"text-align: right;\">\n",
       "      <th></th>\n",
       "      <th>Car Model</th>\n",
       "      <th>Location</th>\n",
       "      <th>Year</th>\n",
       "      <th>Kilometers_Driven</th>\n",
       "      <th>Fuel_Type</th>\n",
       "      <th>Transmission</th>\n",
       "      <th>Owner_Type</th>\n",
       "      <th>Mileage</th>\n",
       "      <th>Engine</th>\n",
       "      <th>Power</th>\n",
       "      <th>Seats</th>\n",
       "      <th>Price</th>\n",
       "      <th>Company Name</th>\n",
       "    </tr>\n",
       "  </thead>\n",
       "  <tbody>\n",
       "    <tr>\n",
       "      <th>2</th>\n",
       "      <td>V</td>\n",
       "      <td>Chennai</td>\n",
       "      <td>2011</td>\n",
       "      <td>46000</td>\n",
       "      <td>Petrol</td>\n",
       "      <td>Manual</td>\n",
       "      <td>First</td>\n",
       "      <td>18.20</td>\n",
       "      <td>1199</td>\n",
       "      <td>88.70</td>\n",
       "      <td>5</td>\n",
       "      <td>4</td>\n",
       "      <td>Honda Jazz</td>\n",
       "    </tr>\n",
       "    <tr>\n",
       "      <th>7</th>\n",
       "      <td>Crysta 2.8</td>\n",
       "      <td>Mumbai</td>\n",
       "      <td>2016</td>\n",
       "      <td>36000</td>\n",
       "      <td>Diesel</td>\n",
       "      <td>Automatic</td>\n",
       "      <td>First</td>\n",
       "      <td>11.36</td>\n",
       "      <td>2755</td>\n",
       "      <td>171.50</td>\n",
       "      <td>8</td>\n",
       "      <td>17</td>\n",
       "      <td>Toyota Innova</td>\n",
       "    </tr>\n",
       "    <tr>\n",
       "      <th>10</th>\n",
       "      <td>Zeta</td>\n",
       "      <td>Kochi</td>\n",
       "      <td>2018</td>\n",
       "      <td>25692</td>\n",
       "      <td>Petrol</td>\n",
       "      <td>Manual</td>\n",
       "      <td>First</td>\n",
       "      <td>21.56</td>\n",
       "      <td>1462</td>\n",
       "      <td>103.25</td>\n",
       "      <td>5</td>\n",
       "      <td>9</td>\n",
       "      <td>Maruti Ciaz</td>\n",
       "    </tr>\n",
       "    <tr>\n",
       "      <th>15</th>\n",
       "      <td>Sport 4X4</td>\n",
       "      <td>Delhi</td>\n",
       "      <td>2014</td>\n",
       "      <td>110000</td>\n",
       "      <td>Diesel</td>\n",
       "      <td>Manual</td>\n",
       "      <td>First</td>\n",
       "      <td>13.50</td>\n",
       "      <td>2477</td>\n",
       "      <td>175.56</td>\n",
       "      <td>7</td>\n",
       "      <td>15</td>\n",
       "      <td>Mitsubishi Pajero</td>\n",
       "    </tr>\n",
       "    <tr>\n",
       "      <th>20</th>\n",
       "      <td>Series 320d</td>\n",
       "      <td>Kochi</td>\n",
       "      <td>2014</td>\n",
       "      <td>32982</td>\n",
       "      <td>Diesel</td>\n",
       "      <td>Automatic</td>\n",
       "      <td>First</td>\n",
       "      <td>22.69</td>\n",
       "      <td>1995</td>\n",
       "      <td>190.00</td>\n",
       "      <td>5</td>\n",
       "      <td>18</td>\n",
       "      <td>BMW 3</td>\n",
       "    </tr>\n",
       "    <tr>\n",
       "      <th>...</th>\n",
       "      <td>...</td>\n",
       "      <td>...</td>\n",
       "      <td>...</td>\n",
       "      <td>...</td>\n",
       "      <td>...</td>\n",
       "      <td>...</td>\n",
       "      <td>...</td>\n",
       "      <td>...</td>\n",
       "      <td>...</td>\n",
       "      <td>...</td>\n",
       "      <td>...</td>\n",
       "      <td>...</td>\n",
       "      <td>...</td>\n",
       "    </tr>\n",
       "    <tr>\n",
       "      <th>5999</th>\n",
       "      <td>Revotron XT</td>\n",
       "      <td>Chennai</td>\n",
       "      <td>2016</td>\n",
       "      <td>10000</td>\n",
       "      <td>Petrol</td>\n",
       "      <td>Manual</td>\n",
       "      <td>First</td>\n",
       "      <td>17.57</td>\n",
       "      <td>1193</td>\n",
       "      <td>88.70</td>\n",
       "      <td>5</td>\n",
       "      <td>4</td>\n",
       "      <td>Tata Bolt</td>\n",
       "    </tr>\n",
       "    <tr>\n",
       "      <th>6002</th>\n",
       "      <td>1.6 Highline</td>\n",
       "      <td>Mumbai</td>\n",
       "      <td>2011</td>\n",
       "      <td>38000</td>\n",
       "      <td>Petrol</td>\n",
       "      <td>Manual</td>\n",
       "      <td>First</td>\n",
       "      <td>16.09</td>\n",
       "      <td>1598</td>\n",
       "      <td>103.50</td>\n",
       "      <td>5</td>\n",
       "      <td>3</td>\n",
       "      <td>Volkswagen Vento</td>\n",
       "    </tr>\n",
       "    <tr>\n",
       "      <th>6005</th>\n",
       "      <td>Brezza VDi</td>\n",
       "      <td>Pune</td>\n",
       "      <td>2016</td>\n",
       "      <td>37208</td>\n",
       "      <td>Diesel</td>\n",
       "      <td>Manual</td>\n",
       "      <td>First</td>\n",
       "      <td>24.30</td>\n",
       "      <td>1248</td>\n",
       "      <td>88.50</td>\n",
       "      <td>5</td>\n",
       "      <td>7</td>\n",
       "      <td>Maruti Vitara</td>\n",
       "    </tr>\n",
       "    <tr>\n",
       "      <th>6010</th>\n",
       "      <td>1.2 VX</td>\n",
       "      <td>Delhi</td>\n",
       "      <td>2013</td>\n",
       "      <td>33746</td>\n",
       "      <td>Petrol</td>\n",
       "      <td>Manual</td>\n",
       "      <td>First</td>\n",
       "      <td>18.50</td>\n",
       "      <td>1198</td>\n",
       "      <td>86.80</td>\n",
       "      <td>5</td>\n",
       "      <td>3</td>\n",
       "      <td>Honda Brio</td>\n",
       "    </tr>\n",
       "    <tr>\n",
       "      <th>6014</th>\n",
       "      <td>VDI</td>\n",
       "      <td>Delhi</td>\n",
       "      <td>2014</td>\n",
       "      <td>27365</td>\n",
       "      <td>Diesel</td>\n",
       "      <td>Manual</td>\n",
       "      <td>First</td>\n",
       "      <td>28.40</td>\n",
       "      <td>1248</td>\n",
       "      <td>74.00</td>\n",
       "      <td>5</td>\n",
       "      <td>4</td>\n",
       "      <td>Maruti Swift</td>\n",
       "    </tr>\n",
       "  </tbody>\n",
       "</table>\n",
       "<p>823 rows × 13 columns</p>\n",
       "</div>"
      ],
      "text/plain": [
       "         Car Model Location  Year  Kilometers_Driven Fuel_Type Transmission  \\\n",
       "2                V  Chennai  2011              46000    Petrol       Manual   \n",
       "7       Crysta 2.8   Mumbai  2016              36000    Diesel    Automatic   \n",
       "10            Zeta    Kochi  2018              25692    Petrol       Manual   \n",
       "15       Sport 4X4    Delhi  2014             110000    Diesel       Manual   \n",
       "20     Series 320d    Kochi  2014              32982    Diesel    Automatic   \n",
       "...            ...      ...   ...                ...       ...          ...   \n",
       "5999   Revotron XT  Chennai  2016              10000    Petrol       Manual   \n",
       "6002  1.6 Highline   Mumbai  2011              38000    Petrol       Manual   \n",
       "6005    Brezza VDi     Pune  2016              37208    Diesel       Manual   \n",
       "6010        1.2 VX    Delhi  2013              33746    Petrol       Manual   \n",
       "6014           VDI    Delhi  2014              27365    Diesel       Manual   \n",
       "\n",
       "     Owner_Type  Mileage  Engine   Power  Seats  Price       Company Name  \n",
       "2         First    18.20    1199   88.70      5      4         Honda Jazz  \n",
       "7         First    11.36    2755  171.50      8     17      Toyota Innova  \n",
       "10        First    21.56    1462  103.25      5      9        Maruti Ciaz  \n",
       "15        First    13.50    2477  175.56      7     15  Mitsubishi Pajero  \n",
       "20        First    22.69    1995  190.00      5     18              BMW 3  \n",
       "...         ...      ...     ...     ...    ...    ...                ...  \n",
       "5999      First    17.57    1193   88.70      5      4          Tata Bolt  \n",
       "6002      First    16.09    1598  103.50      5      3   Volkswagen Vento  \n",
       "6005      First    24.30    1248   88.50      5      7      Maruti Vitara  \n",
       "6010      First    18.50    1198   86.80      5      3         Honda Brio  \n",
       "6014      First    28.40    1248   74.00      5      4       Maruti Swift  \n",
       "\n",
       "[823 rows x 13 columns]"
      ]
     },
     "execution_count": 30,
     "metadata": {},
     "output_type": "execute_result"
    }
   ],
   "source": [
    "df"
   ]
  },
  {
   "cell_type": "markdown",
   "id": "f1c14e33-6a2f-48fa-8c8e-ac5ced3a914e",
   "metadata": {},
   "source": [
    "# iii) I wanted column (comapany model) to be placed before column(Name)"
   ]
  },
  {
   "cell_type": "code",
   "execution_count": 31,
   "id": "e4635a3b-2d08-4968-93ed-77f21862d558",
   "metadata": {
    "ExecuteTime": {
     "end_time": "2024-02-16T11:40:25.327527900Z",
     "start_time": "2024-02-16T11:40:25.090161200Z"
    }
   },
   "outputs": [
    {
     "data": {
      "text/plain": [
       "['Car Model',\n",
       " 'Location',\n",
       " 'Year',\n",
       " 'Kilometers_Driven',\n",
       " 'Fuel_Type',\n",
       " 'Transmission',\n",
       " 'Owner_Type',\n",
       " 'Mileage',\n",
       " 'Engine',\n",
       " 'Power',\n",
       " 'Seats',\n",
       " 'Price',\n",
       " 'Company Name']"
      ]
     },
     "execution_count": 31,
     "metadata": {},
     "output_type": "execute_result"
    }
   ],
   "source": [
    "titles=list(df.columns)\n",
    "titles"
   ]
  },
  {
   "cell_type": "code",
   "execution_count": 32,
   "id": "6b956b84-021f-47ab-8fb4-e86f29ea67dc",
   "metadata": {
    "ExecuteTime": {
     "end_time": "2024-02-16T11:40:25.494745800Z",
     "start_time": "2024-02-16T11:40:25.235798200Z"
    }
   },
   "outputs": [],
   "source": [
    "titles[1],titles[12]=titles[12],titles[1]\n"
   ]
  },
  {
   "cell_type": "code",
   "execution_count": 33,
   "id": "21788c1a-d8f7-4b48-aa9f-1233ce016f75",
   "metadata": {
    "ExecuteTime": {
     "end_time": "2024-02-16T11:40:25.711273700Z",
     "start_time": "2024-02-16T11:40:25.456896100Z"
    }
   },
   "outputs": [
    {
     "data": {
      "text/plain": [
       "['Car Model',\n",
       " 'Company Name',\n",
       " 'Year',\n",
       " 'Kilometers_Driven',\n",
       " 'Fuel_Type',\n",
       " 'Transmission',\n",
       " 'Owner_Type',\n",
       " 'Mileage',\n",
       " 'Engine',\n",
       " 'Power',\n",
       " 'Seats',\n",
       " 'Price',\n",
       " 'Location']"
      ]
     },
     "execution_count": 33,
     "metadata": {},
     "output_type": "execute_result"
    }
   ],
   "source": [
    "titles"
   ]
  },
  {
   "cell_type": "code",
   "execution_count": 34,
   "id": "3a8e8f3e-ec03-4cf4-bb24-b71d682c4551",
   "metadata": {
    "ExecuteTime": {
     "end_time": "2024-02-16T11:40:25.872383900Z",
     "start_time": "2024-02-16T11:40:25.694775400Z"
    }
   },
   "outputs": [],
   "source": [
    "titles[0],titles[1]=titles[1],titles[0]"
   ]
  },
  {
   "cell_type": "code",
   "execution_count": 35,
   "id": "26ec6e6d-d4ca-4114-8a2a-1aaa2642361d",
   "metadata": {},
   "outputs": [],
   "source": [
    "titles[11],titles[12]=titles[12],titles[11]"
   ]
  },
  {
   "cell_type": "code",
   "execution_count": 36,
   "id": "aee8c7e9-fb85-442d-a091-cfa28cb5d609",
   "metadata": {
    "ExecuteTime": {
     "end_time": "2024-02-16T11:40:25.993630600Z",
     "start_time": "2024-02-16T11:40:25.841223Z"
    }
   },
   "outputs": [],
   "source": [
    "df=df[titles]"
   ]
  },
  {
   "cell_type": "code",
   "execution_count": 37,
   "id": "43779d13-9e1b-47a0-bcd8-0457e39cb451",
   "metadata": {
    "ExecuteTime": {
     "end_time": "2024-02-16T11:40:26.150544Z",
     "start_time": "2024-02-16T11:40:25.995814700Z"
    }
   },
   "outputs": [
    {
     "data": {
      "text/html": [
       "<div>\n",
       "<style scoped>\n",
       "    .dataframe tbody tr th:only-of-type {\n",
       "        vertical-align: middle;\n",
       "    }\n",
       "\n",
       "    .dataframe tbody tr th {\n",
       "        vertical-align: top;\n",
       "    }\n",
       "\n",
       "    .dataframe thead th {\n",
       "        text-align: right;\n",
       "    }\n",
       "</style>\n",
       "<table border=\"1\" class=\"dataframe\">\n",
       "  <thead>\n",
       "    <tr style=\"text-align: right;\">\n",
       "      <th></th>\n",
       "      <th>Company Name</th>\n",
       "      <th>Car Model</th>\n",
       "      <th>Year</th>\n",
       "      <th>Kilometers_Driven</th>\n",
       "      <th>Fuel_Type</th>\n",
       "      <th>Transmission</th>\n",
       "      <th>Owner_Type</th>\n",
       "      <th>Mileage</th>\n",
       "      <th>Engine</th>\n",
       "      <th>Power</th>\n",
       "      <th>Seats</th>\n",
       "      <th>Location</th>\n",
       "      <th>Price</th>\n",
       "    </tr>\n",
       "  </thead>\n",
       "  <tbody>\n",
       "    <tr>\n",
       "      <th>2</th>\n",
       "      <td>Honda Jazz</td>\n",
       "      <td>V</td>\n",
       "      <td>2011</td>\n",
       "      <td>46000</td>\n",
       "      <td>Petrol</td>\n",
       "      <td>Manual</td>\n",
       "      <td>First</td>\n",
       "      <td>18.20</td>\n",
       "      <td>1199</td>\n",
       "      <td>88.70</td>\n",
       "      <td>5</td>\n",
       "      <td>Chennai</td>\n",
       "      <td>4</td>\n",
       "    </tr>\n",
       "    <tr>\n",
       "      <th>7</th>\n",
       "      <td>Toyota Innova</td>\n",
       "      <td>Crysta 2.8</td>\n",
       "      <td>2016</td>\n",
       "      <td>36000</td>\n",
       "      <td>Diesel</td>\n",
       "      <td>Automatic</td>\n",
       "      <td>First</td>\n",
       "      <td>11.36</td>\n",
       "      <td>2755</td>\n",
       "      <td>171.50</td>\n",
       "      <td>8</td>\n",
       "      <td>Mumbai</td>\n",
       "      <td>17</td>\n",
       "    </tr>\n",
       "    <tr>\n",
       "      <th>10</th>\n",
       "      <td>Maruti Ciaz</td>\n",
       "      <td>Zeta</td>\n",
       "      <td>2018</td>\n",
       "      <td>25692</td>\n",
       "      <td>Petrol</td>\n",
       "      <td>Manual</td>\n",
       "      <td>First</td>\n",
       "      <td>21.56</td>\n",
       "      <td>1462</td>\n",
       "      <td>103.25</td>\n",
       "      <td>5</td>\n",
       "      <td>Kochi</td>\n",
       "      <td>9</td>\n",
       "    </tr>\n",
       "    <tr>\n",
       "      <th>15</th>\n",
       "      <td>Mitsubishi Pajero</td>\n",
       "      <td>Sport 4X4</td>\n",
       "      <td>2014</td>\n",
       "      <td>110000</td>\n",
       "      <td>Diesel</td>\n",
       "      <td>Manual</td>\n",
       "      <td>First</td>\n",
       "      <td>13.50</td>\n",
       "      <td>2477</td>\n",
       "      <td>175.56</td>\n",
       "      <td>7</td>\n",
       "      <td>Delhi</td>\n",
       "      <td>15</td>\n",
       "    </tr>\n",
       "    <tr>\n",
       "      <th>20</th>\n",
       "      <td>BMW 3</td>\n",
       "      <td>Series 320d</td>\n",
       "      <td>2014</td>\n",
       "      <td>32982</td>\n",
       "      <td>Diesel</td>\n",
       "      <td>Automatic</td>\n",
       "      <td>First</td>\n",
       "      <td>22.69</td>\n",
       "      <td>1995</td>\n",
       "      <td>190.00</td>\n",
       "      <td>5</td>\n",
       "      <td>Kochi</td>\n",
       "      <td>18</td>\n",
       "    </tr>\n",
       "    <tr>\n",
       "      <th>...</th>\n",
       "      <td>...</td>\n",
       "      <td>...</td>\n",
       "      <td>...</td>\n",
       "      <td>...</td>\n",
       "      <td>...</td>\n",
       "      <td>...</td>\n",
       "      <td>...</td>\n",
       "      <td>...</td>\n",
       "      <td>...</td>\n",
       "      <td>...</td>\n",
       "      <td>...</td>\n",
       "      <td>...</td>\n",
       "      <td>...</td>\n",
       "    </tr>\n",
       "    <tr>\n",
       "      <th>5999</th>\n",
       "      <td>Tata Bolt</td>\n",
       "      <td>Revotron XT</td>\n",
       "      <td>2016</td>\n",
       "      <td>10000</td>\n",
       "      <td>Petrol</td>\n",
       "      <td>Manual</td>\n",
       "      <td>First</td>\n",
       "      <td>17.57</td>\n",
       "      <td>1193</td>\n",
       "      <td>88.70</td>\n",
       "      <td>5</td>\n",
       "      <td>Chennai</td>\n",
       "      <td>4</td>\n",
       "    </tr>\n",
       "    <tr>\n",
       "      <th>6002</th>\n",
       "      <td>Volkswagen Vento</td>\n",
       "      <td>1.6 Highline</td>\n",
       "      <td>2011</td>\n",
       "      <td>38000</td>\n",
       "      <td>Petrol</td>\n",
       "      <td>Manual</td>\n",
       "      <td>First</td>\n",
       "      <td>16.09</td>\n",
       "      <td>1598</td>\n",
       "      <td>103.50</td>\n",
       "      <td>5</td>\n",
       "      <td>Mumbai</td>\n",
       "      <td>3</td>\n",
       "    </tr>\n",
       "    <tr>\n",
       "      <th>6005</th>\n",
       "      <td>Maruti Vitara</td>\n",
       "      <td>Brezza VDi</td>\n",
       "      <td>2016</td>\n",
       "      <td>37208</td>\n",
       "      <td>Diesel</td>\n",
       "      <td>Manual</td>\n",
       "      <td>First</td>\n",
       "      <td>24.30</td>\n",
       "      <td>1248</td>\n",
       "      <td>88.50</td>\n",
       "      <td>5</td>\n",
       "      <td>Pune</td>\n",
       "      <td>7</td>\n",
       "    </tr>\n",
       "    <tr>\n",
       "      <th>6010</th>\n",
       "      <td>Honda Brio</td>\n",
       "      <td>1.2 VX</td>\n",
       "      <td>2013</td>\n",
       "      <td>33746</td>\n",
       "      <td>Petrol</td>\n",
       "      <td>Manual</td>\n",
       "      <td>First</td>\n",
       "      <td>18.50</td>\n",
       "      <td>1198</td>\n",
       "      <td>86.80</td>\n",
       "      <td>5</td>\n",
       "      <td>Delhi</td>\n",
       "      <td>3</td>\n",
       "    </tr>\n",
       "    <tr>\n",
       "      <th>6014</th>\n",
       "      <td>Maruti Swift</td>\n",
       "      <td>VDI</td>\n",
       "      <td>2014</td>\n",
       "      <td>27365</td>\n",
       "      <td>Diesel</td>\n",
       "      <td>Manual</td>\n",
       "      <td>First</td>\n",
       "      <td>28.40</td>\n",
       "      <td>1248</td>\n",
       "      <td>74.00</td>\n",
       "      <td>5</td>\n",
       "      <td>Delhi</td>\n",
       "      <td>4</td>\n",
       "    </tr>\n",
       "  </tbody>\n",
       "</table>\n",
       "<p>823 rows × 13 columns</p>\n",
       "</div>"
      ],
      "text/plain": [
       "           Company Name     Car Model  Year  Kilometers_Driven Fuel_Type  \\\n",
       "2            Honda Jazz             V  2011              46000    Petrol   \n",
       "7         Toyota Innova    Crysta 2.8  2016              36000    Diesel   \n",
       "10          Maruti Ciaz          Zeta  2018              25692    Petrol   \n",
       "15    Mitsubishi Pajero     Sport 4X4  2014             110000    Diesel   \n",
       "20                BMW 3   Series 320d  2014              32982    Diesel   \n",
       "...                 ...           ...   ...                ...       ...   \n",
       "5999          Tata Bolt   Revotron XT  2016              10000    Petrol   \n",
       "6002   Volkswagen Vento  1.6 Highline  2011              38000    Petrol   \n",
       "6005      Maruti Vitara    Brezza VDi  2016              37208    Diesel   \n",
       "6010         Honda Brio        1.2 VX  2013              33746    Petrol   \n",
       "6014       Maruti Swift           VDI  2014              27365    Diesel   \n",
       "\n",
       "     Transmission Owner_Type  Mileage  Engine   Power  Seats Location  Price  \n",
       "2          Manual      First    18.20    1199   88.70      5  Chennai      4  \n",
       "7       Automatic      First    11.36    2755  171.50      8   Mumbai     17  \n",
       "10         Manual      First    21.56    1462  103.25      5    Kochi      9  \n",
       "15         Manual      First    13.50    2477  175.56      7    Delhi     15  \n",
       "20      Automatic      First    22.69    1995  190.00      5    Kochi     18  \n",
       "...           ...        ...      ...     ...     ...    ...      ...    ...  \n",
       "5999       Manual      First    17.57    1193   88.70      5  Chennai      4  \n",
       "6002       Manual      First    16.09    1598  103.50      5   Mumbai      3  \n",
       "6005       Manual      First    24.30    1248   88.50      5     Pune      7  \n",
       "6010       Manual      First    18.50    1198   86.80      5    Delhi      3  \n",
       "6014       Manual      First    28.40    1248   74.00      5    Delhi      4  \n",
       "\n",
       "[823 rows x 13 columns]"
      ]
     },
     "execution_count": 37,
     "metadata": {},
     "output_type": "execute_result"
    }
   ],
   "source": [
    "df"
   ]
  },
  {
   "cell_type": "code",
   "execution_count": 38,
   "id": "d2c7a47f-0110-4980-8187-7480c379b98b",
   "metadata": {
    "ExecuteTime": {
     "end_time": "2024-02-16T11:40:26.226766800Z",
     "start_time": "2024-02-16T11:40:26.079661800Z"
    }
   },
   "outputs": [
    {
     "name": "stdout",
     "output_type": "stream",
     "text": [
      "<class 'pandas.core.frame.DataFrame'>\n",
      "Index: 823 entries, 2 to 6014\n",
      "Data columns (total 13 columns):\n",
      " #   Column             Non-Null Count  Dtype  \n",
      "---  ------             --------------  -----  \n",
      " 0   Company Name       823 non-null    object \n",
      " 1   Car Model          823 non-null    object \n",
      " 2   Year               823 non-null    int64  \n",
      " 3   Kilometers_Driven  823 non-null    int64  \n",
      " 4   Fuel_Type          823 non-null    object \n",
      " 5   Transmission       823 non-null    object \n",
      " 6   Owner_Type         823 non-null    object \n",
      " 7   Mileage            823 non-null    float64\n",
      " 8   Engine             823 non-null    int32  \n",
      " 9   Power              823 non-null    float64\n",
      " 10  Seats              823 non-null    int32  \n",
      " 11  Location           823 non-null    object \n",
      " 12  Price              823 non-null    int32  \n",
      "dtypes: float64(2), int32(3), int64(2), object(6)\n",
      "memory usage: 80.4+ KB\n"
     ]
    }
   ],
   "source": [
    "df.info()"
   ]
  },
  {
   "cell_type": "code",
   "execution_count": 39,
   "id": "e26cc00a-6bb8-4794-8cf2-32fa7a6fce1b",
   "metadata": {
    "ExecuteTime": {
     "end_time": "2024-02-16T11:40:26.400181900Z",
     "start_time": "2024-02-16T11:40:26.191817200Z"
    }
   },
   "outputs": [
    {
     "data": {
      "text/plain": [
       "Company Name         0\n",
       "Car Model            0\n",
       "Year                 0\n",
       "Kilometers_Driven    0\n",
       "Fuel_Type            0\n",
       "Transmission         0\n",
       "Owner_Type           0\n",
       "Mileage              0\n",
       "Engine               0\n",
       "Power                0\n",
       "Seats                0\n",
       "Location             0\n",
       "Price                0\n",
       "dtype: int64"
      ]
     },
     "execution_count": 39,
     "metadata": {},
     "output_type": "execute_result"
    }
   ],
   "source": [
    "df.isnull().sum()"
   ]
  },
  {
   "cell_type": "code",
   "execution_count": 40,
   "id": "abd85adf-6a9a-4afa-8225-805222c6ebb6",
   "metadata": {
    "ExecuteTime": {
     "end_time": "2024-02-16T11:40:26.491015900Z",
     "start_time": "2024-02-16T11:40:26.343911900Z"
    }
   },
   "outputs": [
    {
     "data": {
      "text/html": [
       "<div>\n",
       "<style scoped>\n",
       "    .dataframe tbody tr th:only-of-type {\n",
       "        vertical-align: middle;\n",
       "    }\n",
       "\n",
       "    .dataframe tbody tr th {\n",
       "        vertical-align: top;\n",
       "    }\n",
       "\n",
       "    .dataframe thead th {\n",
       "        text-align: right;\n",
       "    }\n",
       "</style>\n",
       "<table border=\"1\" class=\"dataframe\">\n",
       "  <thead>\n",
       "    <tr style=\"text-align: right;\">\n",
       "      <th></th>\n",
       "      <th>Company Name</th>\n",
       "      <th>Car Model</th>\n",
       "      <th>Year</th>\n",
       "      <th>Kilometers_Driven</th>\n",
       "      <th>Fuel_Type</th>\n",
       "      <th>Transmission</th>\n",
       "      <th>Owner_Type</th>\n",
       "      <th>Mileage</th>\n",
       "      <th>Engine</th>\n",
       "      <th>Power</th>\n",
       "      <th>Seats</th>\n",
       "      <th>Location</th>\n",
       "      <th>Price</th>\n",
       "    </tr>\n",
       "  </thead>\n",
       "  <tbody>\n",
       "    <tr>\n",
       "      <th>2</th>\n",
       "      <td>Honda Jazz</td>\n",
       "      <td>V</td>\n",
       "      <td>2011</td>\n",
       "      <td>46000</td>\n",
       "      <td>Petrol</td>\n",
       "      <td>Manual</td>\n",
       "      <td>First</td>\n",
       "      <td>18.20</td>\n",
       "      <td>1199</td>\n",
       "      <td>88.70</td>\n",
       "      <td>5</td>\n",
       "      <td>Chennai</td>\n",
       "      <td>4</td>\n",
       "    </tr>\n",
       "    <tr>\n",
       "      <th>7</th>\n",
       "      <td>Toyota Innova</td>\n",
       "      <td>Crysta 2.8</td>\n",
       "      <td>2016</td>\n",
       "      <td>36000</td>\n",
       "      <td>Diesel</td>\n",
       "      <td>Automatic</td>\n",
       "      <td>First</td>\n",
       "      <td>11.36</td>\n",
       "      <td>2755</td>\n",
       "      <td>171.50</td>\n",
       "      <td>8</td>\n",
       "      <td>Mumbai</td>\n",
       "      <td>17</td>\n",
       "    </tr>\n",
       "    <tr>\n",
       "      <th>10</th>\n",
       "      <td>Maruti Ciaz</td>\n",
       "      <td>Zeta</td>\n",
       "      <td>2018</td>\n",
       "      <td>25692</td>\n",
       "      <td>Petrol</td>\n",
       "      <td>Manual</td>\n",
       "      <td>First</td>\n",
       "      <td>21.56</td>\n",
       "      <td>1462</td>\n",
       "      <td>103.25</td>\n",
       "      <td>5</td>\n",
       "      <td>Kochi</td>\n",
       "      <td>9</td>\n",
       "    </tr>\n",
       "    <tr>\n",
       "      <th>15</th>\n",
       "      <td>Mitsubishi Pajero</td>\n",
       "      <td>Sport 4X4</td>\n",
       "      <td>2014</td>\n",
       "      <td>110000</td>\n",
       "      <td>Diesel</td>\n",
       "      <td>Manual</td>\n",
       "      <td>First</td>\n",
       "      <td>13.50</td>\n",
       "      <td>2477</td>\n",
       "      <td>175.56</td>\n",
       "      <td>7</td>\n",
       "      <td>Delhi</td>\n",
       "      <td>15</td>\n",
       "    </tr>\n",
       "    <tr>\n",
       "      <th>20</th>\n",
       "      <td>BMW 3</td>\n",
       "      <td>Series 320d</td>\n",
       "      <td>2014</td>\n",
       "      <td>32982</td>\n",
       "      <td>Diesel</td>\n",
       "      <td>Automatic</td>\n",
       "      <td>First</td>\n",
       "      <td>22.69</td>\n",
       "      <td>1995</td>\n",
       "      <td>190.00</td>\n",
       "      <td>5</td>\n",
       "      <td>Kochi</td>\n",
       "      <td>18</td>\n",
       "    </tr>\n",
       "    <tr>\n",
       "      <th>...</th>\n",
       "      <td>...</td>\n",
       "      <td>...</td>\n",
       "      <td>...</td>\n",
       "      <td>...</td>\n",
       "      <td>...</td>\n",
       "      <td>...</td>\n",
       "      <td>...</td>\n",
       "      <td>...</td>\n",
       "      <td>...</td>\n",
       "      <td>...</td>\n",
       "      <td>...</td>\n",
       "      <td>...</td>\n",
       "      <td>...</td>\n",
       "    </tr>\n",
       "    <tr>\n",
       "      <th>5999</th>\n",
       "      <td>Tata Bolt</td>\n",
       "      <td>Revotron XT</td>\n",
       "      <td>2016</td>\n",
       "      <td>10000</td>\n",
       "      <td>Petrol</td>\n",
       "      <td>Manual</td>\n",
       "      <td>First</td>\n",
       "      <td>17.57</td>\n",
       "      <td>1193</td>\n",
       "      <td>88.70</td>\n",
       "      <td>5</td>\n",
       "      <td>Chennai</td>\n",
       "      <td>4</td>\n",
       "    </tr>\n",
       "    <tr>\n",
       "      <th>6002</th>\n",
       "      <td>Volkswagen Vento</td>\n",
       "      <td>1.6 Highline</td>\n",
       "      <td>2011</td>\n",
       "      <td>38000</td>\n",
       "      <td>Petrol</td>\n",
       "      <td>Manual</td>\n",
       "      <td>First</td>\n",
       "      <td>16.09</td>\n",
       "      <td>1598</td>\n",
       "      <td>103.50</td>\n",
       "      <td>5</td>\n",
       "      <td>Mumbai</td>\n",
       "      <td>3</td>\n",
       "    </tr>\n",
       "    <tr>\n",
       "      <th>6005</th>\n",
       "      <td>Maruti Vitara</td>\n",
       "      <td>Brezza VDi</td>\n",
       "      <td>2016</td>\n",
       "      <td>37208</td>\n",
       "      <td>Diesel</td>\n",
       "      <td>Manual</td>\n",
       "      <td>First</td>\n",
       "      <td>24.30</td>\n",
       "      <td>1248</td>\n",
       "      <td>88.50</td>\n",
       "      <td>5</td>\n",
       "      <td>Pune</td>\n",
       "      <td>7</td>\n",
       "    </tr>\n",
       "    <tr>\n",
       "      <th>6010</th>\n",
       "      <td>Honda Brio</td>\n",
       "      <td>1.2 VX</td>\n",
       "      <td>2013</td>\n",
       "      <td>33746</td>\n",
       "      <td>Petrol</td>\n",
       "      <td>Manual</td>\n",
       "      <td>First</td>\n",
       "      <td>18.50</td>\n",
       "      <td>1198</td>\n",
       "      <td>86.80</td>\n",
       "      <td>5</td>\n",
       "      <td>Delhi</td>\n",
       "      <td>3</td>\n",
       "    </tr>\n",
       "    <tr>\n",
       "      <th>6014</th>\n",
       "      <td>Maruti Swift</td>\n",
       "      <td>VDI</td>\n",
       "      <td>2014</td>\n",
       "      <td>27365</td>\n",
       "      <td>Diesel</td>\n",
       "      <td>Manual</td>\n",
       "      <td>First</td>\n",
       "      <td>28.40</td>\n",
       "      <td>1248</td>\n",
       "      <td>74.00</td>\n",
       "      <td>5</td>\n",
       "      <td>Delhi</td>\n",
       "      <td>4</td>\n",
       "    </tr>\n",
       "  </tbody>\n",
       "</table>\n",
       "<p>823 rows × 13 columns</p>\n",
       "</div>"
      ],
      "text/plain": [
       "           Company Name     Car Model  Year  Kilometers_Driven Fuel_Type  \\\n",
       "2            Honda Jazz             V  2011              46000    Petrol   \n",
       "7         Toyota Innova    Crysta 2.8  2016              36000    Diesel   \n",
       "10          Maruti Ciaz          Zeta  2018              25692    Petrol   \n",
       "15    Mitsubishi Pajero     Sport 4X4  2014             110000    Diesel   \n",
       "20                BMW 3   Series 320d  2014              32982    Diesel   \n",
       "...                 ...           ...   ...                ...       ...   \n",
       "5999          Tata Bolt   Revotron XT  2016              10000    Petrol   \n",
       "6002   Volkswagen Vento  1.6 Highline  2011              38000    Petrol   \n",
       "6005      Maruti Vitara    Brezza VDi  2016              37208    Diesel   \n",
       "6010         Honda Brio        1.2 VX  2013              33746    Petrol   \n",
       "6014       Maruti Swift           VDI  2014              27365    Diesel   \n",
       "\n",
       "     Transmission Owner_Type  Mileage  Engine   Power  Seats Location  Price  \n",
       "2          Manual      First    18.20    1199   88.70      5  Chennai      4  \n",
       "7       Automatic      First    11.36    2755  171.50      8   Mumbai     17  \n",
       "10         Manual      First    21.56    1462  103.25      5    Kochi      9  \n",
       "15         Manual      First    13.50    2477  175.56      7    Delhi     15  \n",
       "20      Automatic      First    22.69    1995  190.00      5    Kochi     18  \n",
       "...           ...        ...      ...     ...     ...    ...      ...    ...  \n",
       "5999       Manual      First    17.57    1193   88.70      5  Chennai      4  \n",
       "6002       Manual      First    16.09    1598  103.50      5   Mumbai      3  \n",
       "6005       Manual      First    24.30    1248   88.50      5     Pune      7  \n",
       "6010       Manual      First    18.50    1198   86.80      5    Delhi      3  \n",
       "6014       Manual      First    28.40    1248   74.00      5    Delhi      4  \n",
       "\n",
       "[823 rows x 13 columns]"
      ]
     },
     "execution_count": 40,
     "metadata": {},
     "output_type": "execute_result"
    }
   ],
   "source": [
    "df"
   ]
  },
  {
   "cell_type": "markdown",
   "id": "fdedf903-48f6-4b16-80b1-b580e77acfe7",
   "metadata": {},
   "source": [
    "# STEP-3 "
   ]
  },
  {
   "cell_type": "markdown",
   "id": "508b0146-fbfe-447c-9163-094af4ee46d3",
   "metadata": {},
   "source": [
    "# A) Data containing outlier"
   ]
  },
  {
   "cell_type": "code",
   "execution_count": 41,
   "id": "2f2c883a-7655-4874-bf91-d042d912daaf",
   "metadata": {},
   "outputs": [],
   "source": [
    "import matplotlib.pyplot as plt\n",
    "import seaborn as sns"
   ]
  },
  {
   "cell_type": "code",
   "execution_count": 42,
   "id": "992e0191-867e-4ded-a986-02df00edfa63",
   "metadata": {},
   "outputs": [
    {
     "data": {
      "text/plain": [
       "<Axes: ylabel='Price'>"
      ]
     },
     "execution_count": 42,
     "metadata": {},
     "output_type": "execute_result"
    },
    {
     "data": {
      "image/png": "[encoded data removed]",
      "text/plain": [
       "<Figure size 640x480 with 1 Axes>"
      ]
     },
     "metadata": {},
     "output_type": "display_data"
    }
   ],
   "source": [
    "sns.boxplot(df[\"Price\"])"
   ]
  },
  {
   "cell_type": "code",
   "execution_count": 43,
   "id": "6ca79d5c-f0cf-4fdf-8be5-d5dd10e2a6d2",
   "metadata": {},
   "outputs": [
    {
     "data": {
      "text/plain": [
       "<Axes: ylabel='Mileage'>"
      ]
     },
     "execution_count": 43,
     "metadata": {},
     "output_type": "execute_result"
    },
    {
     "data": {
      "image/png": "[encoded data removed]",
      "text/plain": [
       "<Figure size 640x480 with 1 Axes>"
      ]
     },
     "metadata": {},
     "output_type": "display_data"
    }
   ],
   "source": [
    "sns.boxplot(df[\"Mileage\"])"
   ]
  },
  {
   "cell_type": "code",
   "execution_count": 44,
   "id": "affac5b5-f57d-4c31-99f9-3a7150a72a4d",
   "metadata": {},
   "outputs": [
    {
     "data": {
      "text/plain": [
       "<Axes: ylabel='Kilometers_Driven'>"
      ]
     },
     "execution_count": 44,
     "metadata": {},
     "output_type": "execute_result"
    },
    {
     "data": {
      "image/png": "[encoded data removed]",
      "text/plain": [
       "<Figure size 640x480 with 1 Axes>"
      ]
     },
     "metadata": {},
     "output_type": "display_data"
    }
   ],
   "source": [
    "sns.boxplot(df[\"Kilometers_Driven\"])"
   ]
  },
  {
   "cell_type": "code",
   "execution_count": 45,
   "id": "6522fc4e-afe9-474c-9a24-ec8903b7e0bd",
   "metadata": {},
   "outputs": [
    {
     "data": {
      "text/plain": [
       "<Axes: ylabel='Engine'>"
      ]
     },
     "execution_count": 45,
     "metadata": {},
     "output_type": "execute_result"
    },
    {
     "data": {
      "image/png": "[encoded data removed]",
      "text/plain": [
       "<Figure size 640x480 with 1 Axes>"
      ]
     },
     "metadata": {},
     "output_type": "display_data"
    }
   ],
   "source": [
    "sns.boxplot(df[\"Engine\"])"
   ]
  },
  {
   "cell_type": "code",
   "execution_count": 46,
   "id": "8d3ebc98-36cb-45a0-9c52-573dde8b2a68",
   "metadata": {},
   "outputs": [
    {
     "data": {
      "text/plain": [
       "<Axes: ylabel='Power'>"
      ]
     },
     "execution_count": 46,
     "metadata": {},
     "output_type": "execute_result"
    },
    {
     "data": {
      "image/png": "[encoded data removed]",
      "text/plain": [
       "<Figure size 640x480 with 1 Axes>"
      ]
     },
     "metadata": {},
     "output_type": "display_data"
    }
   ],
   "source": [
    "sns.boxplot(df[\"Power\"])"
   ]
  },
  {
   "cell_type": "code",
   "execution_count": 47,
   "id": "8085bdfd-fa30-4814-a244-cb1373798631",
   "metadata": {},
   "outputs": [
    {
     "data": {
      "text/plain": [
       "<Axes: ylabel='Year'>"
      ]
     },
     "execution_count": 47,
     "metadata": {},
     "output_type": "execute_result"
    },
    {
     "data": {
      "image/png": "[encoded data removed]",
      "text/plain": [
       "<Figure size 640x480 with 1 Axes>"
      ]
     },
     "metadata": {},
     "output_type": "display_data"
    }
   ],
   "source": [
    "sns.boxplot(df[\"Year\"])"
   ]
  },
  {
   "cell_type": "markdown",
   "id": "c3ecb1b9-5de1-4484-b9f0-1ed2b6fc0653",
   "metadata": {},
   "source": [
    "# B) Removing outlier using IQR (Copping Method) in which we replace outlier with upperlimit or lowerlimit)"
   ]
  },
  {
   "cell_type": "markdown",
   "id": "85aa473b-dd13-4c1a-99ab-3e3e14cbe0f7",
   "metadata": {},
   "source": [
    "# i)For Price"
   ]
  },
  {
   "cell_type": "code",
   "execution_count": 48,
   "id": "bc299455-c112-4aa3-ae7f-60001272376f",
   "metadata": {},
   "outputs": [
    {
     "data": {
      "text/plain": [
       "(5.0, 17.0, 12.0)"
      ]
     },
     "execution_count": 48,
     "metadata": {},
     "output_type": "execute_result"
    }
   ],
   "source": [
    "q1=df[\"Price\"].quantile(0.25)\n",
    "q3=df[\"Price\"].quantile(0.75)\n",
    "iqr=q3-q1\n",
    "q1,q3,iqr"
   ]
  },
  {
   "cell_type": "code",
   "execution_count": 49,
   "id": "65bf3b0b-f4f6-460c-aef9-4434738f844a",
   "metadata": {},
   "outputs": [
    {
     "data": {
      "text/plain": [
       "(35.0, -13.0)"
      ]
     },
     "execution_count": 49,
     "metadata": {},
     "output_type": "execute_result"
    }
   ],
   "source": [
    "url=q3+(1.5 * iqr)\n",
    "lrl=q1-(1.5 * iqr)\n",
    "url,lrl"
   ]
  },
  {
   "cell_type": "code",
   "execution_count": 50,
   "id": "b3a038ee-ca4c-48f9-a818-33fc41967406",
   "metadata": {},
   "outputs": [],
   "source": [
    "new=df.copy()\n",
    "new.loc[(new[\"Price\"]>url) ,\"Price\"]=url\n",
    "new.loc[(new[\"Price\"]<lrl) ,\"Price\"]=lrl\n",
    "df[\"Price\"]=new[\"Price\"]"
   ]
  },
  {
   "cell_type": "code",
   "execution_count": 51,
   "id": "8f793e83-ed31-4b0c-b2c0-d8f4b17a0c1f",
   "metadata": {},
   "outputs": [
    {
     "data": {
      "text/plain": [
       "<Axes: ylabel='Price'>"
      ]
     },
     "execution_count": 51,
     "metadata": {},
     "output_type": "execute_result"
    },
    {
     "data": {
      "image/png": "[encoded data removed]",
      "text/plain": [
       "<Figure size 640x480 with 1 Axes>"
      ]
     },
     "metadata": {},
     "output_type": "display_data"
    }
   ],
   "source": [
    "sns.boxplot(df[\"Price\"])"
   ]
  },
  {
   "cell_type": "markdown",
   "id": "1454ee61-fe7a-48ff-8a05-dff904bd1590",
   "metadata": {},
   "source": [
    "# ii)For Mileage"
   ]
  },
  {
   "cell_type": "code",
   "execution_count": 52,
   "id": "97c800a1-9b21-4224-9781-c2f958725f0a",
   "metadata": {},
   "outputs": [
    {
     "data": {
      "text/plain": [
       "(16.77, 22.69, 5.920000000000002)"
      ]
     },
     "execution_count": 52,
     "metadata": {},
     "output_type": "execute_result"
    }
   ],
   "source": [
    "q1=df[\"Mileage\"].quantile(0.25)\n",
    "q3=df[\"Mileage\"].quantile(0.75)\n",
    "iqr=q3-q1\n",
    "q1,q3,iqr"
   ]
  },
  {
   "cell_type": "code",
   "execution_count": 53,
   "id": "fdbd9eee-6ad7-4fd4-9650-3eab761d60b1",
   "metadata": {},
   "outputs": [
    {
     "data": {
      "text/plain": [
       "(31.570000000000004, 7.889999999999997)"
      ]
     },
     "execution_count": 53,
     "metadata": {},
     "output_type": "execute_result"
    }
   ],
   "source": [
    "url=q3+(1.5 * iqr)\n",
    "lrl=q1-(1.5 * iqr)\n",
    "url,lrl"
   ]
  },
  {
   "cell_type": "code",
   "execution_count": 54,
   "id": "5c933108-287d-47c5-9405-bf3c6cca0845",
   "metadata": {},
   "outputs": [],
   "source": [
    "new=df.copy()\n",
    "new.loc[(new[\"Mileage\"]>url) ,\"Mileage\"]=url\n",
    "new.loc[(new[\"Mileage\"]<lrl) ,\"Mileage\"]=lrl\n",
    "df[\"Mileage\"]=new[\"Mileage\"]"
   ]
  },
  {
   "cell_type": "code",
   "execution_count": 55,
   "id": "58c01d3b-2fc0-4fe2-86c6-fe7ec7b46d7d",
   "metadata": {},
   "outputs": [
    {
     "data": {
      "text/plain": [
       "<Axes: ylabel='Mileage'>"
      ]
     },
     "execution_count": 55,
     "metadata": {},
     "output_type": "execute_result"
    },
    {
     "data": {
      "image/png": "[encoded data removed]",
      "text/plain": [
       "<Figure size 640x480 with 1 Axes>"
      ]
     },
     "metadata": {},
     "output_type": "display_data"
    }
   ],
   "source": [
    "sns.boxplot(df[\"Mileage\"])"
   ]
  },
  {
   "cell_type": "markdown",
   "id": "b1490cf6-2151-4709-be7a-c8de90816fe3",
   "metadata": {},
   "source": [
    "# iii)For Kilometers_Driven"
   ]
  },
  {
   "cell_type": "code",
   "execution_count": 56,
   "id": "995bd2cb-d065-4d30-be2d-885e8bed51f9",
   "metadata": {},
   "outputs": [
    {
     "data": {
      "text/plain": [
       "(20487.5, 53829.0, 33341.5)"
      ]
     },
     "execution_count": 56,
     "metadata": {},
     "output_type": "execute_result"
    }
   ],
   "source": [
    "q1=df[\"Kilometers_Driven\"].quantile(0.25)\n",
    "q3=df[\"Kilometers_Driven\"].quantile(0.75)\n",
    "iqr=q3-q1\n",
    "q1,q3,iqr"
   ]
  },
  {
   "cell_type": "code",
   "execution_count": 57,
   "id": "4b101504-0643-470e-bb5e-a8b1eb931828",
   "metadata": {},
   "outputs": [
    {
     "data": {
      "text/plain": [
       "(103841.25, -29524.75)"
      ]
     },
     "execution_count": 57,
     "metadata": {},
     "output_type": "execute_result"
    }
   ],
   "source": [
    "url=q3+(1.5 * iqr)\n",
    "lrl=q1-(1.5 * iqr)\n",
    "url,lrl"
   ]
  },
  {
   "cell_type": "code",
   "execution_count": 58,
   "id": "44c457ed-66ff-411c-9a8f-797a36728515",
   "metadata": {},
   "outputs": [
    {
     "name": "stderr",
     "output_type": "stream",
     "text": [
      "C:\\Users\\HP\\AppData\\Local\\Temp\\ipykernel_10844\\127533939.py:2: FutureWarning: Setting an item of incompatible dtype is deprecated and will raise in a future error of pandas. Value '103841.25' has dtype incompatible with int64, please explicitly cast to a compatible dtype first.\n",
      "  new.loc[(new[\"Kilometers_Driven\"]>url) ,\"Kilometers_Driven\"]=url\n"
     ]
    }
   ],
   "source": [
    "new=df.copy()\n",
    "new.loc[(new[\"Kilometers_Driven\"]>url) ,\"Kilometers_Driven\"]=url\n",
    "new.loc[(new[\"Kilometers_Driven\"]<lrl) ,\"Kilometers_Driven\"]=lrl\n",
    "df[\"Kilometers_Driven\"]=new[\"Kilometers_Driven\"]"
   ]
  },
  {
   "cell_type": "code",
   "execution_count": 59,
   "id": "e9967543-cd9c-4ca4-9587-973f5a09e5ef",
   "metadata": {},
   "outputs": [
    {
     "data": {
      "text/plain": [
       "<Axes: ylabel='Kilometers_Driven'>"
      ]
     },
     "execution_count": 59,
     "metadata": {},
     "output_type": "execute_result"
    },
    {
     "data": {
      "image/png": "[encoded data removed]",
      "text/plain": [
       "<Figure size 640x480 with 1 Axes>"
      ]
     },
     "metadata": {},
     "output_type": "display_data"
    }
   ],
   "source": [
    "sns.boxplot(df[\"Kilometers_Driven\"])"
   ]
  },
  {
   "cell_type": "markdown",
   "id": "bac10c76-2f3c-4ee1-81e7-0d4320937579",
   "metadata": {},
   "source": [
    "# iv)For Engine"
   ]
  },
  {
   "cell_type": "code",
   "execution_count": 60,
   "id": "20148752-986f-4b1c-899a-33accbb8d2ee",
   "metadata": {},
   "outputs": [
    {
     "data": {
      "text/plain": [
       "(1197.0, 1995.0, 798.0)"
      ]
     },
     "execution_count": 60,
     "metadata": {},
     "output_type": "execute_result"
    }
   ],
   "source": [
    "q1=df[\"Engine\"].quantile(0.25)\n",
    "q3=df[\"Engine\"].quantile(0.75)\n",
    "iqr=q3-q1\n",
    "q1,q3,iqr"
   ]
  },
  {
   "cell_type": "code",
   "execution_count": 61,
   "id": "920f8fc9-8ed3-4fb4-ab56-f19051ef3cd1",
   "metadata": {},
   "outputs": [
    {
     "data": {
      "text/plain": [
       "(3192.0, 0.0)"
      ]
     },
     "execution_count": 61,
     "metadata": {},
     "output_type": "execute_result"
    }
   ],
   "source": [
    "url=q3+(1.5 * iqr)\n",
    "lrl=q1-(1.5 * iqr)\n",
    "url,lrl"
   ]
  },
  {
   "cell_type": "code",
   "execution_count": 62,
   "id": "8bdf5d6b-4e4e-41e3-961b-1fc2b8f54abf",
   "metadata": {},
   "outputs": [],
   "source": [
    "new=df.copy()\n",
    "new.loc[(new[\"Engine\"]>url) ,\"Engine\"]=url\n",
    "new.loc[(new[\"Engine\"]<lrl) ,\"Engine\"]=lrl\n",
    "df[\"Engine\"]=new[\"Engine\"]"
   ]
  },
  {
   "cell_type": "code",
   "execution_count": 63,
   "id": "74879e71-bb5a-4a93-9fa0-6f4dc8750b93",
   "metadata": {},
   "outputs": [
    {
     "data": {
      "text/plain": [
       "<Axes: ylabel='Engine'>"
      ]
     },
     "execution_count": 63,
     "metadata": {},
     "output_type": "execute_result"
    },
    {
     "data": {
      "image/png": "[encoded data removed]",
      "text/plain": [
       "<Figure size 640x480 with 1 Axes>"
      ]
     },
     "metadata": {},
     "output_type": "display_data"
    }
   ],
   "source": [
    "sns.boxplot(df[\"Engine\"])"
   ]
  },
  {
   "cell_type": "markdown",
   "id": "c91a0163-4524-4cd2-91a7-ff9c662138c3",
   "metadata": {},
   "source": [
    "# v)For Power"
   ]
  },
  {
   "cell_type": "code",
   "execution_count": 64,
   "id": "8f249967-a539-4b65-9ab3-cf922bdf315a",
   "metadata": {},
   "outputs": [
    {
     "data": {
      "text/plain": [
       "(81.86, 166.85, 84.99)"
      ]
     },
     "execution_count": 64,
     "metadata": {},
     "output_type": "execute_result"
    }
   ],
   "source": [
    "q1=df[\"Power\"].quantile(0.25)\n",
    "q3=df[\"Power\"].quantile(0.75)\n",
    "iqr=q3-q1\n",
    "q1,q3,iqr"
   ]
  },
  {
   "cell_type": "code",
   "execution_count": 65,
   "id": "44089419-b8c6-48e6-99a2-ae44d64d2e91",
   "metadata": {},
   "outputs": [
    {
     "data": {
      "text/plain": [
       "(294.335, -45.624999999999986)"
      ]
     },
     "execution_count": 65,
     "metadata": {},
     "output_type": "execute_result"
    }
   ],
   "source": [
    "url=q3+(1.5 * iqr)\n",
    "lrl=q1-(1.5 * iqr)\n",
    "url,lrl"
   ]
  },
  {
   "cell_type": "code",
   "execution_count": 66,
   "id": "43029259-a820-49ef-b753-146d82668ecd",
   "metadata": {},
   "outputs": [],
   "source": [
    "new=df.copy()\n",
    "new.loc[(new[\"Power\"]>url) ,\"Power\"]=url\n",
    "new.loc[(new[\"Power\"]<lrl) ,\"Power\"]=lrl\n",
    "df[\"Power\"]=new[\"Power\"]"
   ]
  },
  {
   "cell_type": "code",
   "execution_count": 67,
   "id": "e445645d-a564-4c51-9da2-645fb086aab7",
   "metadata": {},
   "outputs": [
    {
     "data": {
      "text/plain": [
       "<Axes: ylabel='Power'>"
      ]
     },
     "execution_count": 67,
     "metadata": {},
     "output_type": "execute_result"
    },
    {
     "data": {
      "image/png": "[encoded data removed]",
      "text/plain": [
       "<Figure size 640x480 with 1 Axes>"
      ]
     },
     "metadata": {},
     "output_type": "display_data"
    }
   ],
   "source": [
    "sns.boxplot(df[\"Power\"])"
   ]
  },
  {
   "cell_type": "markdown",
   "id": "79047d4f-d0d0-4d24-827a-5d7fe3a68180",
   "metadata": {},
   "source": [
    "# vi)For Year"
   ]
  },
  {
   "cell_type": "code",
   "execution_count": 68,
   "id": "0baa1ca5-59e6-4435-bf65-141914070ed4",
   "metadata": {},
   "outputs": [
    {
     "data": {
      "text/plain": [
       "(2015.0, 2017.0, 2.0)"
      ]
     },
     "execution_count": 68,
     "metadata": {},
     "output_type": "execute_result"
    }
   ],
   "source": [
    "q1=df[\"Year\"].quantile(0.25)\n",
    "q3=df[\"Year\"].quantile(0.75)\n",
    "iqr=q3-q1\n",
    "q1,q3,iqr"
   ]
  },
  {
   "cell_type": "code",
   "execution_count": 69,
   "id": "eda0f026-06ac-452e-9188-e3f31d3392e5",
   "metadata": {},
   "outputs": [
    {
     "data": {
      "text/plain": [
       "(2020.0, 2012.0)"
      ]
     },
     "execution_count": 69,
     "metadata": {},
     "output_type": "execute_result"
    }
   ],
   "source": [
    "url=q3+(1.5 * iqr)\n",
    "lrl=q1-(1.5 * iqr)\n",
    "url,lrl"
   ]
  },
  {
   "cell_type": "code",
   "execution_count": 70,
   "id": "88b720f9-dc50-486c-9732-b2527f9fc552",
   "metadata": {},
   "outputs": [],
   "source": [
    "new=df.copy()\n",
    "new.loc[(new[\"Year\"]>url) ,\"Year\"]=url\n",
    "new.loc[(new[\"Year\"]<lrl) ,\"Year\"]=lrl\n",
    "df[\"Year\"]=new[\"Year\"]"
   ]
  },
  {
   "cell_type": "code",
   "execution_count": 71,
   "id": "cd7d719c-eaa9-4723-89a7-183ca34f8b5d",
   "metadata": {},
   "outputs": [
    {
     "data": {
      "text/plain": [
       "<Axes: ylabel='Year'>"
      ]
     },
     "execution_count": 71,
     "metadata": {},
     "output_type": "execute_result"
    },
    {
     "data": {
      "image/png": "[encoded data removed]",
      "text/plain": [
       "<Figure size 640x480 with 1 Axes>"
      ]
     },
     "metadata": {},
     "output_type": "display_data"
    }
   ],
   "source": [
    "sns.boxplot(df[\"Year\"])"
   ]
  },
  {
   "cell_type": "markdown",
   "id": "d63b7a73-5b16-454b-b685-365a3a5bd7e1",
   "metadata": {},
   "source": [
    "# STEP-4"
   ]
  },
  {
   "cell_type": "markdown",
   "id": "43187ec8-1cf9-46fd-af9f-de7bf600729e",
   "metadata": {},
   "source": [
    "# A) Getting insight from the data through Visualization"
   ]
  },
  {
   "cell_type": "code",
   "execution_count": 72,
   "id": "8ab41a32-54f8-49b9-b7fb-670df3b20d03",
   "metadata": {},
   "outputs": [],
   "source": [
    "import matplotlib.pyplot as plt\n",
    "import seaborn as sns"
   ]
  },
  {
   "cell_type": "code",
   "execution_count": 73,
   "id": "d439fc15-2af3-4c95-97b7-5eaee1581eb4",
   "metadata": {},
   "outputs": [
    {
     "name": "stderr",
     "output_type": "stream",
     "text": [
      "C:\\Users\\HP\\AppData\\Local\\Temp\\ipykernel_10844\\4197581821.py:1: UserWarning: \n",
      "\n",
      "`distplot` is a deprecated function and will be removed in seaborn v0.14.0.\n",
      "\n",
      "Please adapt your code to use either `displot` (a figure-level function with\n",
      "similar flexibility) or `histplot` (an axes-level function for histograms).\n",
      "\n",
      "For a guide to updating your code to use the new functions, please see\n",
      "https://gist.github.com/mwaskom/de44147ed2974457ad6372750bbe5751\n",
      "\n",
      "  sns.distplot(df[\"Price\"])\n"
     ]
    },
    {
     "data": {
      "image/png": "[encoded data removed]",
      "text/plain": [
       "<Figure size 640x480 with 1 Axes>"
      ]
     },
     "metadata": {},
     "output_type": "display_data"
    },
    {
     "name": "stdout",
     "output_type": "stream",
     "text": [
      "Skewness: 1.235212\n",
      "Kurtosis: 0.308334\n"
     ]
    }
   ],
   "source": [
    "sns.distplot(df[\"Price\"])\n",
    "plt.plot()\n",
    "plt.grid()\n",
    "plt.show()\n",
    "\n",
    "print(\"Skewness: %f\" % df[\"Price\"].skew())\n",
    "print(\"Kurtosis: %f\" % df[\"Price\"].kurt())"
   ]
  },
  {
   "cell_type": "markdown",
   "id": "93a3bdfc-d57c-4063-8639-2e8523ddd20d",
   "metadata": {},
   "source": [
    "# From the above Graph we came to know about the distribution of price"
   ]
  },
  {
   "cell_type": "code",
   "execution_count": 74,
   "id": "8361f9e1-0fb8-4a1f-84da-c72251ac6b7a",
   "metadata": {
    "ExecuteTime": {
     "end_time": "2024-02-16T11:40:26.650863400Z",
     "start_time": "2024-02-16T11:40:26.532207Z"
    }
   },
   "outputs": [
    {
     "name": "stdout",
     "output_type": "stream",
     "text": [
      "Mean : 39505.471142162816\n",
      "Median : 34895.0\n"
     ]
    }
   ],
   "source": [
    "mean_value=np.mean(df[\"Kilometers_Driven\"])\n",
    "median_value=np.median(df[\"Kilometers_Driven\"])\n",
    "print(\"Mean :\",mean_value)\n",
    "print(\"Median :\",median_value)"
   ]
  },
  {
   "cell_type": "code",
   "execution_count": 75,
   "id": "60dfd689-5f07-45c0-bdf8-8b88750c9d3f",
   "metadata": {
    "ExecuteTime": {
     "end_time": "2024-02-16T11:40:27.604253700Z",
     "start_time": "2024-02-16T11:40:27.130137100Z"
    }
   },
   "outputs": [
    {
     "name": "stderr",
     "output_type": "stream",
     "text": [
      "C:\\Users\\HP\\AppData\\Local\\Temp\\ipykernel_10844\\4194332046.py:2: UserWarning: \n",
      "\n",
      "`distplot` is a deprecated function and will be removed in seaborn v0.14.0.\n",
      "\n",
      "Please adapt your code to use either `displot` (a figure-level function with\n",
      "similar flexibility) or `histplot` (an axes-level function for histograms).\n",
      "\n",
      "For a guide to updating your code to use the new functions, please see\n",
      "https://gist.github.com/mwaskom/de44147ed2974457ad6372750bbe5751\n",
      "\n",
      "  sns.distplot(df[\"Kilometers_Driven\"],color=\"blue\")\n"
     ]
    },
    {
     "data": {
      "image/png": "[encoded data removed]",
      "text/plain": [
       "<Figure size 1200x600 with 1 Axes>"
      ]
     },
     "metadata": {},
     "output_type": "display_data"
    }
   ],
   "source": [
    "plt.figure(figsize=(12,6))\n",
    "sns.distplot(df[\"Kilometers_Driven\"],color=\"blue\")\n",
    "plt.grid()\n",
    "plt.xlabel(\"KMS Driven\")\n",
    "plt.ylabel(\"Count of KMS\")\n",
    "plt.xticks(rotation=45)\n",
    "plt.title(\"KMS Driven by Car\")\n",
    "plt.axvline(mean_value,color=\"green\")\n",
    "plt.axvline(median_value,color=\"red\")\n",
    "\n",
    "plt.show()"
   ]
  },
  {
   "cell_type": "markdown",
   "id": "9fffd198-6436-4188-bf7d-f767394769d5",
   "metadata": {},
   "source": [
    "# From above graph we came to known that the most of the cars are driven in the range of 2,00,000-8,00,000 kms "
   ]
  },
  {
   "cell_type": "code",
   "execution_count": 76,
   "id": "00b66c56-01e0-4a15-ab46-78f3e84999ea",
   "metadata": {
    "ExecuteTime": {
     "end_time": "2024-02-16T11:40:27.148348200Z",
     "start_time": "2024-02-16T11:40:26.634038400Z"
    },
    "scrolled": true
   },
   "outputs": [
    {
     "data": {
      "image/png": "[encoded data removed]",
      "text/plain": [
       "<Figure size 1200x600 with 1 Axes>"
      ]
     },
     "metadata": {},
     "output_type": "display_data"
    }
   ],
   "source": [
    "top100mk=df.head(100)\n",
    "\n",
    "plt.figure(figsize=(12,6))\n",
    "sns.scatterplot(data=top100mk,x=\"Mileage\",y=\"Kilometers_Driven\",hue=\"Fuel_Type\")\n",
    "plt.grid()\n",
    "plt.xlabel(\"Mileage (in Kmpl)\")\n",
    "plt.ylabel(\"KMS Driven (in KM)\")\n",
    "plt.xticks(rotation=45)\n",
    "plt.title(\"Car's Mileage with KMS Driven\")\n",
    "plt.show()\n"
   ]
  },
  {
   "cell_type": "markdown",
   "id": "d7428d56-314d-4b7f-a8ce-a17675255f82",
   "metadata": {},
   "source": [
    "# the above graph shows behaviour of mileage with respect to the KMS Driven by Car on the basis of fuel type concluding that upto 1,00,000 kms driven the mileage provided by petrol and diesel is in the range of 10-25kmpl."
   ]
  },
  {
   "cell_type": "code",
   "execution_count": 77,
   "id": "970932df-bb6e-4f14-939c-e8a9461caa2b",
   "metadata": {
    "ExecuteTime": {
     "end_time": "2024-02-16T11:40:29.508866200Z",
     "start_time": "2024-02-16T11:40:27.593987700Z"
    }
   },
   "outputs": [
    {
     "data": {
      "image/png": "[encoded data removed]",
      "text/plain": [
       "<Figure size 1200x600 with 1 Axes>"
      ]
     },
     "metadata": {},
     "output_type": "display_data"
    }
   ],
   "source": [
    "plt.figure(figsize=(12,6))\n",
    "sns.barplot(data=df,y=\"Kilometers_Driven\",x=\"Fuel_Type\",hue=\"Transmission\",palette=\"bwr\")\n",
    "plt.grid()\n",
    "plt.title(\"Kms Driven by Car with respect to it's Fueltype and Transmission\")\n",
    "plt.xticks(rotation=45)\n",
    "plt.show()"
   ]
  },
  {
   "cell_type": "markdown",
   "id": "53740d7e-e635-46b1-b6c2-432b20260f5d",
   "metadata": {},
   "source": [
    "# from the above graph we came to known that most of the kms are driven by diesel[Manual] car followed by cng[Manual] car and also CNG car have less number of automatic transmission compared to Petrol and Diesel"
   ]
  },
  {
   "cell_type": "code",
   "execution_count": 78,
   "id": "d31c488f-c514-4f03-8374-086a6531321a",
   "metadata": {
    "ExecuteTime": {
     "end_time": "2024-02-16T11:40:29.988756400Z",
     "start_time": "2024-02-16T11:40:29.503566900Z"
    }
   },
   "outputs": [
    {
     "data": {
      "image/png": "[encoded data removed]",
      "text/plain": [
       "<Figure size 1200x600 with 1 Axes>"
      ]
     },
     "metadata": {},
     "output_type": "display_data"
    }
   ],
   "source": [
    "metop20=df.head(20)\n",
    "plt.figure(figsize=(12,6))\n",
    "sns.lineplot(data=metop20,x=\"Mileage\",y=\"Engine\")\n",
    "plt.plot()\n",
    "plt.xticks(rotation=45)\n",
    "plt.title(\"How Engine(CC) effects Mileage(Kmpl)\")\n",
    "plt.grid()\n",
    "plt.xlabel(\"Mileage (in Kmpl)\")\n",
    "plt.ylabel(\"Engine (in CC)\")\n",
    "plt.show()"
   ]
  },
  {
   "cell_type": "markdown",
   "id": "6a7c9f56-30a3-4f3a-8adb-1bd309781291",
   "metadata": {},
   "source": [
    "# from the above graph we came to known the smaller engine(cc) have great mileage whereas bigger engine(cc)have less the mileage"
   ]
  },
  {
   "cell_type": "code",
   "execution_count": 79,
   "id": "a9ba6634-266c-4c6d-8d65-d6dd7c7e85c4",
   "metadata": {
    "ExecuteTime": {
     "end_time": "2024-02-16T11:40:30.400601700Z",
     "start_time": "2024-02-16T11:40:29.991996200Z"
    }
   },
   "outputs": [
    {
     "data": {
      "image/png": "[encoded data removed]",
      "text/plain": [
       "<Figure size 1200x600 with 1 Axes>"
      ]
     },
     "metadata": {},
     "output_type": "display_data"
    }
   ],
   "source": [
    "plt.figure(figsize=(12,6))\n",
    "df[\"Location\"].value_counts().plot.pie(autopct=\"%1.1f%%\",explode=(0.1,0.1,0.1,0,0,0,0,0,0,0,0))\n",
    "plt.title(\"Percentage of Cars sold on this Locations\")\n",
    "plt.ylabel(\"\")\n",
    "plt.show()\n"
   ]
  },
  {
   "cell_type": "markdown",
   "id": "f6917289-9738-48e7-9971-172cb99b307c",
   "metadata": {
    "ExecuteTime": {
     "end_time": "2024-02-13T17:16:41.237830100Z",
     "start_time": "2024-02-13T17:16:40.875190200Z"
    }
   },
   "source": [
    "# from the above graph we came to known that Mumbai,Pune,Coimbatore are the top 3 location where most of the second hand cars are sold"
   ]
  },
  {
   "cell_type": "markdown",
   "id": "9db95c8b-42c9-4679-bd68-eec1426fde42",
   "metadata": {},
   "source": [
    "# STEP-5"
   ]
  },
  {
   "cell_type": "markdown",
   "id": "37b59e95-952d-4b53-bbdf-95847ee5e09e",
   "metadata": {},
   "source": [
    "# i) Converting cat into num column"
   ]
  },
  {
   "cell_type": "code",
   "execution_count": 80,
   "id": "25ab45a3-4269-4c29-b802-4900c7167dde",
   "metadata": {},
   "outputs": [],
   "source": [
    "df_cat=df.select_dtypes(['object'])\n",
    "df_num=df.select_dtypes(['int','float'])\n"
   ]
  },
  {
   "cell_type": "code",
   "execution_count": 81,
   "id": "68bdc2b4-085b-4752-8f1e-0f87ca8d07c2",
   "metadata": {
    "scrolled": true
   },
   "outputs": [
    {
     "data": {
      "text/html": [
       "<div>\n",
       "<style scoped>\n",
       "    .dataframe tbody tr th:only-of-type {\n",
       "        vertical-align: middle;\n",
       "    }\n",
       "\n",
       "    .dataframe tbody tr th {\n",
       "        vertical-align: top;\n",
       "    }\n",
       "\n",
       "    .dataframe thead th {\n",
       "        text-align: right;\n",
       "    }\n",
       "</style>\n",
       "<table border=\"1\" class=\"dataframe\">\n",
       "  <thead>\n",
       "    <tr style=\"text-align: right;\">\n",
       "      <th></th>\n",
       "      <th>Company Name</th>\n",
       "      <th>Car Model</th>\n",
       "      <th>Year</th>\n",
       "      <th>Kilometers_Driven</th>\n",
       "      <th>Fuel_Type</th>\n",
       "      <th>Transmission</th>\n",
       "      <th>Owner_Type</th>\n",
       "      <th>Mileage</th>\n",
       "      <th>Engine</th>\n",
       "      <th>Power</th>\n",
       "      <th>Seats</th>\n",
       "      <th>Location</th>\n",
       "      <th>Price</th>\n",
       "    </tr>\n",
       "  </thead>\n",
       "  <tbody>\n",
       "    <tr>\n",
       "      <th>5999</th>\n",
       "      <td>Tata Bolt</td>\n",
       "      <td>Revotron XT</td>\n",
       "      <td>2016</td>\n",
       "      <td>10000.0</td>\n",
       "      <td>Petrol</td>\n",
       "      <td>Manual</td>\n",
       "      <td>First</td>\n",
       "      <td>17.57</td>\n",
       "      <td>1193</td>\n",
       "      <td>88.7</td>\n",
       "      <td>5</td>\n",
       "      <td>Chennai</td>\n",
       "      <td>4</td>\n",
       "    </tr>\n",
       "    <tr>\n",
       "      <th>6002</th>\n",
       "      <td>Volkswagen Vento</td>\n",
       "      <td>1.6 Highline</td>\n",
       "      <td>2012</td>\n",
       "      <td>38000.0</td>\n",
       "      <td>Petrol</td>\n",
       "      <td>Manual</td>\n",
       "      <td>First</td>\n",
       "      <td>16.09</td>\n",
       "      <td>1598</td>\n",
       "      <td>103.5</td>\n",
       "      <td>5</td>\n",
       "      <td>Mumbai</td>\n",
       "      <td>3</td>\n",
       "    </tr>\n",
       "    <tr>\n",
       "      <th>6005</th>\n",
       "      <td>Maruti Vitara</td>\n",
       "      <td>Brezza VDi</td>\n",
       "      <td>2016</td>\n",
       "      <td>37208.0</td>\n",
       "      <td>Diesel</td>\n",
       "      <td>Manual</td>\n",
       "      <td>First</td>\n",
       "      <td>24.30</td>\n",
       "      <td>1248</td>\n",
       "      <td>88.5</td>\n",
       "      <td>5</td>\n",
       "      <td>Pune</td>\n",
       "      <td>7</td>\n",
       "    </tr>\n",
       "    <tr>\n",
       "      <th>6010</th>\n",
       "      <td>Honda Brio</td>\n",
       "      <td>1.2 VX</td>\n",
       "      <td>2013</td>\n",
       "      <td>33746.0</td>\n",
       "      <td>Petrol</td>\n",
       "      <td>Manual</td>\n",
       "      <td>First</td>\n",
       "      <td>18.50</td>\n",
       "      <td>1198</td>\n",
       "      <td>86.8</td>\n",
       "      <td>5</td>\n",
       "      <td>Delhi</td>\n",
       "      <td>3</td>\n",
       "    </tr>\n",
       "    <tr>\n",
       "      <th>6014</th>\n",
       "      <td>Maruti Swift</td>\n",
       "      <td>VDI</td>\n",
       "      <td>2014</td>\n",
       "      <td>27365.0</td>\n",
       "      <td>Diesel</td>\n",
       "      <td>Manual</td>\n",
       "      <td>First</td>\n",
       "      <td>28.40</td>\n",
       "      <td>1248</td>\n",
       "      <td>74.0</td>\n",
       "      <td>5</td>\n",
       "      <td>Delhi</td>\n",
       "      <td>4</td>\n",
       "    </tr>\n",
       "  </tbody>\n",
       "</table>\n",
       "</div>"
      ],
      "text/plain": [
       "          Company Name     Car Model  Year  Kilometers_Driven Fuel_Type  \\\n",
       "5999         Tata Bolt   Revotron XT  2016            10000.0    Petrol   \n",
       "6002  Volkswagen Vento  1.6 Highline  2012            38000.0    Petrol   \n",
       "6005     Maruti Vitara    Brezza VDi  2016            37208.0    Diesel   \n",
       "6010        Honda Brio        1.2 VX  2013            33746.0    Petrol   \n",
       "6014      Maruti Swift           VDI  2014            27365.0    Diesel   \n",
       "\n",
       "     Transmission Owner_Type  Mileage  Engine  Power  Seats Location  Price  \n",
       "5999       Manual      First    17.57    1193   88.7      5  Chennai      4  \n",
       "6002       Manual      First    16.09    1598  103.5      5   Mumbai      3  \n",
       "6005       Manual      First    24.30    1248   88.5      5     Pune      7  \n",
       "6010       Manual      First    18.50    1198   86.8      5    Delhi      3  \n",
       "6014       Manual      First    28.40    1248   74.0      5    Delhi      4  "
      ]
     },
     "execution_count": 81,
     "metadata": {},
     "output_type": "execute_result"
    }
   ],
   "source": [
    "df.tail(5)"
   ]
  },
  {
   "cell_type": "code",
   "execution_count": 82,
   "id": "be2e847d-25ec-4ea9-b55f-466d39516d97",
   "metadata": {},
   "outputs": [
    {
     "data": {
      "text/html": [
       "<div>\n",
       "<style scoped>\n",
       "    .dataframe tbody tr th:only-of-type {\n",
       "        vertical-align: middle;\n",
       "    }\n",
       "\n",
       "    .dataframe tbody tr th {\n",
       "        vertical-align: top;\n",
       "    }\n",
       "\n",
       "    .dataframe thead th {\n",
       "        text-align: right;\n",
       "    }\n",
       "</style>\n",
       "<table border=\"1\" class=\"dataframe\">\n",
       "  <thead>\n",
       "    <tr style=\"text-align: right;\">\n",
       "      <th></th>\n",
       "      <th>Company Name</th>\n",
       "      <th>Car Model</th>\n",
       "      <th>Fuel_Type</th>\n",
       "      <th>Transmission</th>\n",
       "      <th>Owner_Type</th>\n",
       "      <th>Location</th>\n",
       "    </tr>\n",
       "  </thead>\n",
       "  <tbody>\n",
       "    <tr>\n",
       "      <th>2</th>\n",
       "      <td>Honda Jazz</td>\n",
       "      <td>V</td>\n",
       "      <td>Petrol</td>\n",
       "      <td>Manual</td>\n",
       "      <td>First</td>\n",
       "      <td>Chennai</td>\n",
       "    </tr>\n",
       "    <tr>\n",
       "      <th>7</th>\n",
       "      <td>Toyota Innova</td>\n",
       "      <td>Crysta 2.8</td>\n",
       "      <td>Diesel</td>\n",
       "      <td>Automatic</td>\n",
       "      <td>First</td>\n",
       "      <td>Mumbai</td>\n",
       "    </tr>\n",
       "    <tr>\n",
       "      <th>10</th>\n",
       "      <td>Maruti Ciaz</td>\n",
       "      <td>Zeta</td>\n",
       "      <td>Petrol</td>\n",
       "      <td>Manual</td>\n",
       "      <td>First</td>\n",
       "      <td>Kochi</td>\n",
       "    </tr>\n",
       "    <tr>\n",
       "      <th>15</th>\n",
       "      <td>Mitsubishi Pajero</td>\n",
       "      <td>Sport 4X4</td>\n",
       "      <td>Diesel</td>\n",
       "      <td>Manual</td>\n",
       "      <td>First</td>\n",
       "      <td>Delhi</td>\n",
       "    </tr>\n",
       "    <tr>\n",
       "      <th>20</th>\n",
       "      <td>BMW 3</td>\n",
       "      <td>Series 320d</td>\n",
       "      <td>Diesel</td>\n",
       "      <td>Automatic</td>\n",
       "      <td>First</td>\n",
       "      <td>Kochi</td>\n",
       "    </tr>\n",
       "    <tr>\n",
       "      <th>...</th>\n",
       "      <td>...</td>\n",
       "      <td>...</td>\n",
       "      <td>...</td>\n",
       "      <td>...</td>\n",
       "      <td>...</td>\n",
       "      <td>...</td>\n",
       "    </tr>\n",
       "    <tr>\n",
       "      <th>5999</th>\n",
       "      <td>Tata Bolt</td>\n",
       "      <td>Revotron XT</td>\n",
       "      <td>Petrol</td>\n",
       "      <td>Manual</td>\n",
       "      <td>First</td>\n",
       "      <td>Chennai</td>\n",
       "    </tr>\n",
       "    <tr>\n",
       "      <th>6002</th>\n",
       "      <td>Volkswagen Vento</td>\n",
       "      <td>1.6 Highline</td>\n",
       "      <td>Petrol</td>\n",
       "      <td>Manual</td>\n",
       "      <td>First</td>\n",
       "      <td>Mumbai</td>\n",
       "    </tr>\n",
       "    <tr>\n",
       "      <th>6005</th>\n",
       "      <td>Maruti Vitara</td>\n",
       "      <td>Brezza VDi</td>\n",
       "      <td>Diesel</td>\n",
       "      <td>Manual</td>\n",
       "      <td>First</td>\n",
       "      <td>Pune</td>\n",
       "    </tr>\n",
       "    <tr>\n",
       "      <th>6010</th>\n",
       "      <td>Honda Brio</td>\n",
       "      <td>1.2 VX</td>\n",
       "      <td>Petrol</td>\n",
       "      <td>Manual</td>\n",
       "      <td>First</td>\n",
       "      <td>Delhi</td>\n",
       "    </tr>\n",
       "    <tr>\n",
       "      <th>6014</th>\n",
       "      <td>Maruti Swift</td>\n",
       "      <td>VDI</td>\n",
       "      <td>Diesel</td>\n",
       "      <td>Manual</td>\n",
       "      <td>First</td>\n",
       "      <td>Delhi</td>\n",
       "    </tr>\n",
       "  </tbody>\n",
       "</table>\n",
       "<p>823 rows × 6 columns</p>\n",
       "</div>"
      ],
      "text/plain": [
       "           Company Name     Car Model Fuel_Type Transmission Owner_Type  \\\n",
       "2            Honda Jazz             V    Petrol       Manual      First   \n",
       "7         Toyota Innova    Crysta 2.8    Diesel    Automatic      First   \n",
       "10          Maruti Ciaz          Zeta    Petrol       Manual      First   \n",
       "15    Mitsubishi Pajero     Sport 4X4    Diesel       Manual      First   \n",
       "20                BMW 3   Series 320d    Diesel    Automatic      First   \n",
       "...                 ...           ...       ...          ...        ...   \n",
       "5999          Tata Bolt   Revotron XT    Petrol       Manual      First   \n",
       "6002   Volkswagen Vento  1.6 Highline    Petrol       Manual      First   \n",
       "6005      Maruti Vitara    Brezza VDi    Diesel       Manual      First   \n",
       "6010         Honda Brio        1.2 VX    Petrol       Manual      First   \n",
       "6014       Maruti Swift           VDI    Diesel       Manual      First   \n",
       "\n",
       "     Location  \n",
       "2     Chennai  \n",
       "7      Mumbai  \n",
       "10      Kochi  \n",
       "15      Delhi  \n",
       "20      Kochi  \n",
       "...       ...  \n",
       "5999  Chennai  \n",
       "6002   Mumbai  \n",
       "6005     Pune  \n",
       "6010    Delhi  \n",
       "6014    Delhi  \n",
       "\n",
       "[823 rows x 6 columns]"
      ]
     },
     "execution_count": 82,
     "metadata": {},
     "output_type": "execute_result"
    }
   ],
   "source": [
    "df_cat"
   ]
  },
  {
   "cell_type": "code",
   "execution_count": 83,
   "id": "3fa577bb-799a-4b59-88e9-e51f2058341b",
   "metadata": {},
   "outputs": [
    {
     "data": {
      "text/html": [
       "<div>\n",
       "<style scoped>\n",
       "    .dataframe tbody tr th:only-of-type {\n",
       "        vertical-align: middle;\n",
       "    }\n",
       "\n",
       "    .dataframe tbody tr th {\n",
       "        vertical-align: top;\n",
       "    }\n",
       "\n",
       "    .dataframe thead th {\n",
       "        text-align: right;\n",
       "    }\n",
       "</style>\n",
       "<table border=\"1\" class=\"dataframe\">\n",
       "  <thead>\n",
       "    <tr style=\"text-align: right;\">\n",
       "      <th></th>\n",
       "      <th>Year</th>\n",
       "      <th>Kilometers_Driven</th>\n",
       "      <th>Mileage</th>\n",
       "      <th>Engine</th>\n",
       "      <th>Power</th>\n",
       "      <th>Seats</th>\n",
       "      <th>Price</th>\n",
       "    </tr>\n",
       "  </thead>\n",
       "  <tbody>\n",
       "    <tr>\n",
       "      <th>2</th>\n",
       "      <td>2012</td>\n",
       "      <td>46000.00</td>\n",
       "      <td>18.20</td>\n",
       "      <td>1199</td>\n",
       "      <td>88.70</td>\n",
       "      <td>5</td>\n",
       "      <td>4</td>\n",
       "    </tr>\n",
       "    <tr>\n",
       "      <th>7</th>\n",
       "      <td>2016</td>\n",
       "      <td>36000.00</td>\n",
       "      <td>11.36</td>\n",
       "      <td>2755</td>\n",
       "      <td>171.50</td>\n",
       "      <td>8</td>\n",
       "      <td>17</td>\n",
       "    </tr>\n",
       "    <tr>\n",
       "      <th>10</th>\n",
       "      <td>2018</td>\n",
       "      <td>25692.00</td>\n",
       "      <td>21.56</td>\n",
       "      <td>1462</td>\n",
       "      <td>103.25</td>\n",
       "      <td>5</td>\n",
       "      <td>9</td>\n",
       "    </tr>\n",
       "    <tr>\n",
       "      <th>15</th>\n",
       "      <td>2014</td>\n",
       "      <td>103841.25</td>\n",
       "      <td>13.50</td>\n",
       "      <td>2477</td>\n",
       "      <td>175.56</td>\n",
       "      <td>7</td>\n",
       "      <td>15</td>\n",
       "    </tr>\n",
       "    <tr>\n",
       "      <th>20</th>\n",
       "      <td>2014</td>\n",
       "      <td>32982.00</td>\n",
       "      <td>22.69</td>\n",
       "      <td>1995</td>\n",
       "      <td>190.00</td>\n",
       "      <td>5</td>\n",
       "      <td>18</td>\n",
       "    </tr>\n",
       "    <tr>\n",
       "      <th>...</th>\n",
       "      <td>...</td>\n",
       "      <td>...</td>\n",
       "      <td>...</td>\n",
       "      <td>...</td>\n",
       "      <td>...</td>\n",
       "      <td>...</td>\n",
       "      <td>...</td>\n",
       "    </tr>\n",
       "    <tr>\n",
       "      <th>5999</th>\n",
       "      <td>2016</td>\n",
       "      <td>10000.00</td>\n",
       "      <td>17.57</td>\n",
       "      <td>1193</td>\n",
       "      <td>88.70</td>\n",
       "      <td>5</td>\n",
       "      <td>4</td>\n",
       "    </tr>\n",
       "    <tr>\n",
       "      <th>6002</th>\n",
       "      <td>2012</td>\n",
       "      <td>38000.00</td>\n",
       "      <td>16.09</td>\n",
       "      <td>1598</td>\n",
       "      <td>103.50</td>\n",
       "      <td>5</td>\n",
       "      <td>3</td>\n",
       "    </tr>\n",
       "    <tr>\n",
       "      <th>6005</th>\n",
       "      <td>2016</td>\n",
       "      <td>37208.00</td>\n",
       "      <td>24.30</td>\n",
       "      <td>1248</td>\n",
       "      <td>88.50</td>\n",
       "      <td>5</td>\n",
       "      <td>7</td>\n",
       "    </tr>\n",
       "    <tr>\n",
       "      <th>6010</th>\n",
       "      <td>2013</td>\n",
       "      <td>33746.00</td>\n",
       "      <td>18.50</td>\n",
       "      <td>1198</td>\n",
       "      <td>86.80</td>\n",
       "      <td>5</td>\n",
       "      <td>3</td>\n",
       "    </tr>\n",
       "    <tr>\n",
       "      <th>6014</th>\n",
       "      <td>2014</td>\n",
       "      <td>27365.00</td>\n",
       "      <td>28.40</td>\n",
       "      <td>1248</td>\n",
       "      <td>74.00</td>\n",
       "      <td>5</td>\n",
       "      <td>4</td>\n",
       "    </tr>\n",
       "  </tbody>\n",
       "</table>\n",
       "<p>823 rows × 7 columns</p>\n",
       "</div>"
      ],
      "text/plain": [
       "      Year  Kilometers_Driven  Mileage  Engine   Power  Seats  Price\n",
       "2     2012           46000.00    18.20    1199   88.70      5      4\n",
       "7     2016           36000.00    11.36    2755  171.50      8     17\n",
       "10    2018           25692.00    21.56    1462  103.25      5      9\n",
       "15    2014          103841.25    13.50    2477  175.56      7     15\n",
       "20    2014           32982.00    22.69    1995  190.00      5     18\n",
       "...    ...                ...      ...     ...     ...    ...    ...\n",
       "5999  2016           10000.00    17.57    1193   88.70      5      4\n",
       "6002  2012           38000.00    16.09    1598  103.50      5      3\n",
       "6005  2016           37208.00    24.30    1248   88.50      5      7\n",
       "6010  2013           33746.00    18.50    1198   86.80      5      3\n",
       "6014  2014           27365.00    28.40    1248   74.00      5      4\n",
       "\n",
       "[823 rows x 7 columns]"
      ]
     },
     "execution_count": 83,
     "metadata": {},
     "output_type": "execute_result"
    }
   ],
   "source": [
    "df_num"
   ]
  },
  {
   "cell_type": "markdown",
   "id": "439e7f0e-5d44-4bf4-a0f3-f19783b8d760",
   "metadata": {},
   "source": [
    "# ii)label encoding on cat column"
   ]
  },
  {
   "cell_type": "code",
   "execution_count": 84,
   "id": "43bbfede-d8ee-46b8-82b7-4c7c43f9111e",
   "metadata": {},
   "outputs": [],
   "source": [
    "from sklearn.preprocessing import LabelEncoder\n",
    "le=LabelEncoder()"
   ]
  },
  {
   "cell_type": "code",
   "execution_count": 85,
   "id": "b11b1181-849c-4fd0-939c-37b95b6f84d0",
   "metadata": {},
   "outputs": [],
   "source": [
    "for i in df_cat:\n",
    "    df_cat[i]=le.fit_transform(df_cat[i])"
   ]
  },
  {
   "cell_type": "code",
   "execution_count": 86,
   "id": "a1800df2-a705-467a-81cd-6ad65dc0d9cf",
   "metadata": {},
   "outputs": [
    {
     "name": "stdout",
     "output_type": "stream",
     "text": [
      "<class 'pandas.core.frame.DataFrame'>\n",
      "Index: 823 entries, 2 to 6014\n",
      "Data columns (total 6 columns):\n",
      " #   Column        Non-Null Count  Dtype\n",
      "---  ------        --------------  -----\n",
      " 0   Company Name  823 non-null    int32\n",
      " 1   Car Model     823 non-null    int32\n",
      " 2   Fuel_Type     823 non-null    int32\n",
      " 3   Transmission  823 non-null    int32\n",
      " 4   Owner_Type    823 non-null    int32\n",
      " 5   Location      823 non-null    int32\n",
      "dtypes: int32(6)\n",
      "memory usage: 25.7 KB\n"
     ]
    }
   ],
   "source": [
    "df_cat.info()"
   ]
  },
  {
   "cell_type": "markdown",
   "id": "405c8958-d306-482f-b983-a4c9215bcd8a",
   "metadata": {},
   "source": [
    "# iii)Applying standard scaler on numeric columns\n"
   ]
  },
  {
   "cell_type": "code",
   "execution_count": 87,
   "id": "0644a096-2bdb-4d1a-9371-8546bc6e0f84",
   "metadata": {},
   "outputs": [
    {
     "data": {
      "text/plain": [
       "array([[-1.98799513e+00,  2.54501966e-01, -3.15384984e-01, ...,\n",
       "        -5.89709065e-01, -3.83516872e-01, -7.74602339e-01],\n",
       "       [-2.41261545e-03, -1.37369364e-01, -1.85561089e+00, ...,\n",
       "         1.00147063e+00,  3.38900567e+00,  5.31951409e-01],\n",
       "       [ 9.90378641e-01, -5.41310330e-01,  4.41217215e-01, ...,\n",
       "        -3.10099590e-01, -3.83516872e-01, -2.72081667e-01],\n",
       "       ...,\n",
       "       [-2.41261545e-03, -9.00313072e-02,  1.05820829e+00, ...,\n",
       "        -5.93552495e-01, -3.83516872e-01, -4.73089936e-01],\n",
       "       [-1.49159950e+00, -2.25697162e-01, -2.47831217e-01, ...,\n",
       "        -6.26221643e-01, -3.83516872e-01, -8.75106474e-01],\n",
       "       [-9.95203872e-01, -4.75750257e-01,  1.98144312e+00, ...,\n",
       "        -8.72201112e-01, -3.83516872e-01, -7.74602339e-01]])"
      ]
     },
     "execution_count": 87,
     "metadata": {},
     "output_type": "execute_result"
    }
   ],
   "source": [
    "from sklearn.preprocessing import StandardScaler\n",
    "sc=StandardScaler()\n",
    "df_scale=sc.fit_transform(df_num)\n",
    "df_scale"
   ]
  },
  {
   "cell_type": "code",
   "execution_count": 88,
   "id": "5bf189b8-8891-4196-86a7-98eba0882778",
   "metadata": {},
   "outputs": [
    {
     "name": "stdout",
     "output_type": "stream",
     "text": [
      "<class 'pandas.core.frame.DataFrame'>\n",
      "RangeIndex: 823 entries, 0 to 822\n",
      "Data columns (total 7 columns):\n",
      " #   Column             Non-Null Count  Dtype  \n",
      "---  ------             --------------  -----  \n",
      " 0   Year               823 non-null    float64\n",
      " 1   Kilometers_Driven  823 non-null    float64\n",
      " 2   Mileage            823 non-null    float64\n",
      " 3   Engine             823 non-null    float64\n",
      " 4   Power              823 non-null    float64\n",
      " 5   Seats              823 non-null    float64\n",
      " 6   Price              823 non-null    float64\n",
      "dtypes: float64(7)\n",
      "memory usage: 45.1 KB\n"
     ]
    }
   ],
   "source": [
    "df_scale = pd.DataFrame(data=df_scale,columns=df_num.columns)\n",
    "df_scale.info()"
   ]
  },
  {
   "cell_type": "markdown",
   "id": "d126b906-9693-4ee1-94cb-14e869760cb8",
   "metadata": {},
   "source": [
    "# iv) joing data on basis of columns(axis=1)"
   ]
  },
  {
   "cell_type": "code",
   "execution_count": 89,
   "id": "b46d7668-781e-47ac-888d-74c91d030a9b",
   "metadata": {},
   "outputs": [],
   "source": [
    "df=pd.concat([df_cat,df_num],axis=1)"
   ]
  },
  {
   "cell_type": "code",
   "execution_count": 90,
   "id": "18841a4e-a877-4133-8466-fcdbd5f25b9f",
   "metadata": {},
   "outputs": [
    {
     "data": {
      "text/html": [
       "<div>\n",
       "<style scoped>\n",
       "    .dataframe tbody tr th:only-of-type {\n",
       "        vertical-align: middle;\n",
       "    }\n",
       "\n",
       "    .dataframe tbody tr th {\n",
       "        vertical-align: top;\n",
       "    }\n",
       "\n",
       "    .dataframe thead th {\n",
       "        text-align: right;\n",
       "    }\n",
       "</style>\n",
       "<table border=\"1\" class=\"dataframe\">\n",
       "  <thead>\n",
       "    <tr style=\"text-align: right;\">\n",
       "      <th></th>\n",
       "      <th>Company Name</th>\n",
       "      <th>Car Model</th>\n",
       "      <th>Fuel_Type</th>\n",
       "      <th>Transmission</th>\n",
       "      <th>Owner_Type</th>\n",
       "      <th>Location</th>\n",
       "      <th>Year</th>\n",
       "      <th>Kilometers_Driven</th>\n",
       "      <th>Mileage</th>\n",
       "      <th>Engine</th>\n",
       "      <th>Power</th>\n",
       "      <th>Seats</th>\n",
       "      <th>Price</th>\n",
       "    </tr>\n",
       "  </thead>\n",
       "  <tbody>\n",
       "    <tr>\n",
       "      <th>2</th>\n",
       "      <td>27</td>\n",
       "      <td>161</td>\n",
       "      <td>2</td>\n",
       "      <td>1</td>\n",
       "      <td>0</td>\n",
       "      <td>2</td>\n",
       "      <td>2012</td>\n",
       "      <td>46000.00</td>\n",
       "      <td>18.20</td>\n",
       "      <td>1199</td>\n",
       "      <td>88.70</td>\n",
       "      <td>5</td>\n",
       "      <td>4</td>\n",
       "    </tr>\n",
       "    <tr>\n",
       "      <th>7</th>\n",
       "      <td>98</td>\n",
       "      <td>88</td>\n",
       "      <td>1</td>\n",
       "      <td>0</td>\n",
       "      <td>0</td>\n",
       "      <td>9</td>\n",
       "      <td>2016</td>\n",
       "      <td>36000.00</td>\n",
       "      <td>11.36</td>\n",
       "      <td>2755</td>\n",
       "      <td>171.50</td>\n",
       "      <td>8</td>\n",
       "      <td>17</td>\n",
       "    </tr>\n",
       "    <tr>\n",
       "      <th>10</th>\n",
       "      <td>55</td>\n",
       "      <td>191</td>\n",
       "      <td>2</td>\n",
       "      <td>1</td>\n",
       "      <td>0</td>\n",
       "      <td>7</td>\n",
       "      <td>2018</td>\n",
       "      <td>25692.00</td>\n",
       "      <td>21.56</td>\n",
       "      <td>1462</td>\n",
       "      <td>103.25</td>\n",
       "      <td>5</td>\n",
       "      <td>9</td>\n",
       "    </tr>\n",
       "    <tr>\n",
       "      <th>15</th>\n",
       "      <td>77</td>\n",
       "      <td>151</td>\n",
       "      <td>1</td>\n",
       "      <td>1</td>\n",
       "      <td>0</td>\n",
       "      <td>4</td>\n",
       "      <td>2014</td>\n",
       "      <td>103841.25</td>\n",
       "      <td>13.50</td>\n",
       "      <td>2477</td>\n",
       "      <td>175.56</td>\n",
       "      <td>7</td>\n",
       "      <td>15</td>\n",
       "    </tr>\n",
       "    <tr>\n",
       "      <th>20</th>\n",
       "      <td>6</td>\n",
       "      <td>143</td>\n",
       "      <td>1</td>\n",
       "      <td>0</td>\n",
       "      <td>0</td>\n",
       "      <td>7</td>\n",
       "      <td>2014</td>\n",
       "      <td>32982.00</td>\n",
       "      <td>22.69</td>\n",
       "      <td>1995</td>\n",
       "      <td>190.00</td>\n",
       "      <td>5</td>\n",
       "      <td>18</td>\n",
       "    </tr>\n",
       "    <tr>\n",
       "      <th>...</th>\n",
       "      <td>...</td>\n",
       "      <td>...</td>\n",
       "      <td>...</td>\n",
       "      <td>...</td>\n",
       "      <td>...</td>\n",
       "      <td>...</td>\n",
       "      <td>...</td>\n",
       "      <td>...</td>\n",
       "      <td>...</td>\n",
       "      <td>...</td>\n",
       "      <td>...</td>\n",
       "      <td>...</td>\n",
       "      <td>...</td>\n",
       "    </tr>\n",
       "    <tr>\n",
       "      <th>5999</th>\n",
       "      <td>87</td>\n",
       "      <td>137</td>\n",
       "      <td>2</td>\n",
       "      <td>1</td>\n",
       "      <td>0</td>\n",
       "      <td>2</td>\n",
       "      <td>2016</td>\n",
       "      <td>10000.00</td>\n",
       "      <td>17.57</td>\n",
       "      <td>1193</td>\n",
       "      <td>88.70</td>\n",
       "      <td>5</td>\n",
       "      <td>4</td>\n",
       "    </tr>\n",
       "    <tr>\n",
       "      <th>6002</th>\n",
       "      <td>103</td>\n",
       "      <td>20</td>\n",
       "      <td>2</td>\n",
       "      <td>1</td>\n",
       "      <td>0</td>\n",
       "      <td>9</td>\n",
       "      <td>2012</td>\n",
       "      <td>38000.00</td>\n",
       "      <td>16.09</td>\n",
       "      <td>1598</td>\n",
       "      <td>103.50</td>\n",
       "      <td>5</td>\n",
       "      <td>3</td>\n",
       "    </tr>\n",
       "    <tr>\n",
       "      <th>6005</th>\n",
       "      <td>62</td>\n",
       "      <td>70</td>\n",
       "      <td>1</td>\n",
       "      <td>1</td>\n",
       "      <td>0</td>\n",
       "      <td>10</td>\n",
       "      <td>2016</td>\n",
       "      <td>37208.00</td>\n",
       "      <td>24.30</td>\n",
       "      <td>1248</td>\n",
       "      <td>88.50</td>\n",
       "      <td>5</td>\n",
       "      <td>7</td>\n",
       "    </tr>\n",
       "    <tr>\n",
       "      <th>6010</th>\n",
       "      <td>24</td>\n",
       "      <td>10</td>\n",
       "      <td>2</td>\n",
       "      <td>1</td>\n",
       "      <td>0</td>\n",
       "      <td>4</td>\n",
       "      <td>2013</td>\n",
       "      <td>33746.00</td>\n",
       "      <td>18.50</td>\n",
       "      <td>1198</td>\n",
       "      <td>86.80</td>\n",
       "      <td>5</td>\n",
       "      <td>3</td>\n",
       "    </tr>\n",
       "    <tr>\n",
       "      <th>6014</th>\n",
       "      <td>61</td>\n",
       "      <td>165</td>\n",
       "      <td>1</td>\n",
       "      <td>1</td>\n",
       "      <td>0</td>\n",
       "      <td>4</td>\n",
       "      <td>2014</td>\n",
       "      <td>27365.00</td>\n",
       "      <td>28.40</td>\n",
       "      <td>1248</td>\n",
       "      <td>74.00</td>\n",
       "      <td>5</td>\n",
       "      <td>4</td>\n",
       "    </tr>\n",
       "  </tbody>\n",
       "</table>\n",
       "<p>823 rows × 13 columns</p>\n",
       "</div>"
      ],
      "text/plain": [
       "      Company Name  Car Model  Fuel_Type  Transmission  Owner_Type  Location  \\\n",
       "2               27        161          2             1           0         2   \n",
       "7               98         88          1             0           0         9   \n",
       "10              55        191          2             1           0         7   \n",
       "15              77        151          1             1           0         4   \n",
       "20               6        143          1             0           0         7   \n",
       "...            ...        ...        ...           ...         ...       ...   \n",
       "5999            87        137          2             1           0         2   \n",
       "6002           103         20          2             1           0         9   \n",
       "6005            62         70          1             1           0        10   \n",
       "6010            24         10          2             1           0         4   \n",
       "6014            61        165          1             1           0         4   \n",
       "\n",
       "      Year  Kilometers_Driven  Mileage  Engine   Power  Seats  Price  \n",
       "2     2012           46000.00    18.20    1199   88.70      5      4  \n",
       "7     2016           36000.00    11.36    2755  171.50      8     17  \n",
       "10    2018           25692.00    21.56    1462  103.25      5      9  \n",
       "15    2014          103841.25    13.50    2477  175.56      7     15  \n",
       "20    2014           32982.00    22.69    1995  190.00      5     18  \n",
       "...    ...                ...      ...     ...     ...    ...    ...  \n",
       "5999  2016           10000.00    17.57    1193   88.70      5      4  \n",
       "6002  2012           38000.00    16.09    1598  103.50      5      3  \n",
       "6005  2016           37208.00    24.30    1248   88.50      5      7  \n",
       "6010  2013           33746.00    18.50    1198   86.80      5      3  \n",
       "6014  2014           27365.00    28.40    1248   74.00      5      4  \n",
       "\n",
       "[823 rows x 13 columns]"
      ]
     },
     "execution_count": 90,
     "metadata": {},
     "output_type": "execute_result"
    }
   ],
   "source": [
    "df"
   ]
  },
  {
   "cell_type": "code",
   "execution_count": 91,
   "id": "dcaa6ad6-55e2-4828-9f6c-f7f7fcfb918a",
   "metadata": {},
   "outputs": [
    {
     "name": "stdout",
     "output_type": "stream",
     "text": [
      "<class 'pandas.core.frame.DataFrame'>\n",
      "Index: 823 entries, 2 to 6014\n",
      "Data columns (total 13 columns):\n",
      " #   Column             Non-Null Count  Dtype  \n",
      "---  ------             --------------  -----  \n",
      " 0   Company Name       823 non-null    int32  \n",
      " 1   Car Model          823 non-null    int32  \n",
      " 2   Fuel_Type          823 non-null    int32  \n",
      " 3   Transmission       823 non-null    int32  \n",
      " 4   Owner_Type         823 non-null    int32  \n",
      " 5   Location           823 non-null    int32  \n",
      " 6   Year               823 non-null    int64  \n",
      " 7   Kilometers_Driven  823 non-null    float64\n",
      " 8   Mileage            823 non-null    float64\n",
      " 9   Engine             823 non-null    int32  \n",
      " 10  Power              823 non-null    float64\n",
      " 11  Seats              823 non-null    int32  \n",
      " 12  Price              823 non-null    int32  \n",
      "dtypes: float64(3), int32(9), int64(1)\n",
      "memory usage: 61.1 KB\n"
     ]
    }
   ],
   "source": [
    "df.info()"
   ]
  },
  {
   "cell_type": "markdown",
   "id": "60c5fd42-446b-46f8-b73d-9bb37267cecf",
   "metadata": {},
   "source": [
    "# STEP-6 "
   ]
  },
  {
   "cell_type": "markdown",
   "id": "ab22f1fa-958c-4c57-838b-753d31c6ef83",
   "metadata": {},
   "source": [
    "# i)Splitting the data into feature(X) and target variable (Y)"
   ]
  },
  {
   "cell_type": "code",
   "execution_count": 92,
   "id": "0e14e2a8-e5b1-4f6d-b33e-8c4f5bdddda4",
   "metadata": {},
   "outputs": [
    {
     "data": {
      "text/html": [
       "<div>\n",
       "<style scoped>\n",
       "    .dataframe tbody tr th:only-of-type {\n",
       "        vertical-align: middle;\n",
       "    }\n",
       "\n",
       "    .dataframe tbody tr th {\n",
       "        vertical-align: top;\n",
       "    }\n",
       "\n",
       "    .dataframe thead th {\n",
       "        text-align: right;\n",
       "    }\n",
       "</style>\n",
       "<table border=\"1\" class=\"dataframe\">\n",
       "  <thead>\n",
       "    <tr style=\"text-align: right;\">\n",
       "      <th></th>\n",
       "      <th>Year</th>\n",
       "      <th>Kilometers_Driven</th>\n",
       "      <th>Fuel_Type</th>\n",
       "      <th>Transmission</th>\n",
       "      <th>Owner_Type</th>\n",
       "      <th>Mileage</th>\n",
       "      <th>Engine</th>\n",
       "      <th>Power</th>\n",
       "      <th>Seats</th>\n",
       "      <th>Location</th>\n",
       "    </tr>\n",
       "  </thead>\n",
       "  <tbody>\n",
       "    <tr>\n",
       "      <th>2</th>\n",
       "      <td>2012</td>\n",
       "      <td>46000.00</td>\n",
       "      <td>2</td>\n",
       "      <td>1</td>\n",
       "      <td>0</td>\n",
       "      <td>18.20</td>\n",
       "      <td>1199</td>\n",
       "      <td>88.70</td>\n",
       "      <td>5</td>\n",
       "      <td>2</td>\n",
       "    </tr>\n",
       "    <tr>\n",
       "      <th>7</th>\n",
       "      <td>2016</td>\n",
       "      <td>36000.00</td>\n",
       "      <td>1</td>\n",
       "      <td>0</td>\n",
       "      <td>0</td>\n",
       "      <td>11.36</td>\n",
       "      <td>2755</td>\n",
       "      <td>171.50</td>\n",
       "      <td>8</td>\n",
       "      <td>9</td>\n",
       "    </tr>\n",
       "    <tr>\n",
       "      <th>10</th>\n",
       "      <td>2018</td>\n",
       "      <td>25692.00</td>\n",
       "      <td>2</td>\n",
       "      <td>1</td>\n",
       "      <td>0</td>\n",
       "      <td>21.56</td>\n",
       "      <td>1462</td>\n",
       "      <td>103.25</td>\n",
       "      <td>5</td>\n",
       "      <td>7</td>\n",
       "    </tr>\n",
       "    <tr>\n",
       "      <th>15</th>\n",
       "      <td>2014</td>\n",
       "      <td>103841.25</td>\n",
       "      <td>1</td>\n",
       "      <td>1</td>\n",
       "      <td>0</td>\n",
       "      <td>13.50</td>\n",
       "      <td>2477</td>\n",
       "      <td>175.56</td>\n",
       "      <td>7</td>\n",
       "      <td>4</td>\n",
       "    </tr>\n",
       "    <tr>\n",
       "      <th>20</th>\n",
       "      <td>2014</td>\n",
       "      <td>32982.00</td>\n",
       "      <td>1</td>\n",
       "      <td>0</td>\n",
       "      <td>0</td>\n",
       "      <td>22.69</td>\n",
       "      <td>1995</td>\n",
       "      <td>190.00</td>\n",
       "      <td>5</td>\n",
       "      <td>7</td>\n",
       "    </tr>\n",
       "    <tr>\n",
       "      <th>...</th>\n",
       "      <td>...</td>\n",
       "      <td>...</td>\n",
       "      <td>...</td>\n",
       "      <td>...</td>\n",
       "      <td>...</td>\n",
       "      <td>...</td>\n",
       "      <td>...</td>\n",
       "      <td>...</td>\n",
       "      <td>...</td>\n",
       "      <td>...</td>\n",
       "    </tr>\n",
       "    <tr>\n",
       "      <th>5999</th>\n",
       "      <td>2016</td>\n",
       "      <td>10000.00</td>\n",
       "      <td>2</td>\n",
       "      <td>1</td>\n",
       "      <td>0</td>\n",
       "      <td>17.57</td>\n",
       "      <td>1193</td>\n",
       "      <td>88.70</td>\n",
       "      <td>5</td>\n",
       "      <td>2</td>\n",
       "    </tr>\n",
       "    <tr>\n",
       "      <th>6002</th>\n",
       "      <td>2012</td>\n",
       "      <td>38000.00</td>\n",
       "      <td>2</td>\n",
       "      <td>1</td>\n",
       "      <td>0</td>\n",
       "      <td>16.09</td>\n",
       "      <td>1598</td>\n",
       "      <td>103.50</td>\n",
       "      <td>5</td>\n",
       "      <td>9</td>\n",
       "    </tr>\n",
       "    <tr>\n",
       "      <th>6005</th>\n",
       "      <td>2016</td>\n",
       "      <td>37208.00</td>\n",
       "      <td>1</td>\n",
       "      <td>1</td>\n",
       "      <td>0</td>\n",
       "      <td>24.30</td>\n",
       "      <td>1248</td>\n",
       "      <td>88.50</td>\n",
       "      <td>5</td>\n",
       "      <td>10</td>\n",
       "    </tr>\n",
       "    <tr>\n",
       "      <th>6010</th>\n",
       "      <td>2013</td>\n",
       "      <td>33746.00</td>\n",
       "      <td>2</td>\n",
       "      <td>1</td>\n",
       "      <td>0</td>\n",
       "      <td>18.50</td>\n",
       "      <td>1198</td>\n",
       "      <td>86.80</td>\n",
       "      <td>5</td>\n",
       "      <td>4</td>\n",
       "    </tr>\n",
       "    <tr>\n",
       "      <th>6014</th>\n",
       "      <td>2014</td>\n",
       "      <td>27365.00</td>\n",
       "      <td>1</td>\n",
       "      <td>1</td>\n",
       "      <td>0</td>\n",
       "      <td>28.40</td>\n",
       "      <td>1248</td>\n",
       "      <td>74.00</td>\n",
       "      <td>5</td>\n",
       "      <td>4</td>\n",
       "    </tr>\n",
       "  </tbody>\n",
       "</table>\n",
       "<p>823 rows × 10 columns</p>\n",
       "</div>"
      ],
      "text/plain": [
       "      Year  Kilometers_Driven  Fuel_Type  Transmission  Owner_Type  Mileage  \\\n",
       "2     2012           46000.00          2             1           0    18.20   \n",
       "7     2016           36000.00          1             0           0    11.36   \n",
       "10    2018           25692.00          2             1           0    21.56   \n",
       "15    2014          103841.25          1             1           0    13.50   \n",
       "20    2014           32982.00          1             0           0    22.69   \n",
       "...    ...                ...        ...           ...         ...      ...   \n",
       "5999  2016           10000.00          2             1           0    17.57   \n",
       "6002  2012           38000.00          2             1           0    16.09   \n",
       "6005  2016           37208.00          1             1           0    24.30   \n",
       "6010  2013           33746.00          2             1           0    18.50   \n",
       "6014  2014           27365.00          1             1           0    28.40   \n",
       "\n",
       "      Engine   Power  Seats  Location  \n",
       "2       1199   88.70      5         2  \n",
       "7       2755  171.50      8         9  \n",
       "10      1462  103.25      5         7  \n",
       "15      2477  175.56      7         4  \n",
       "20      1995  190.00      5         7  \n",
       "...      ...     ...    ...       ...  \n",
       "5999    1193   88.70      5         2  \n",
       "6002    1598  103.50      5         9  \n",
       "6005    1248   88.50      5        10  \n",
       "6010    1198   86.80      5         4  \n",
       "6014    1248   74.00      5         4  \n",
       "\n",
       "[823 rows x 10 columns]"
      ]
     },
     "execution_count": 92,
     "metadata": {},
     "output_type": "execute_result"
    }
   ],
   "source": [
    "x=df[[\"Year\",\"Kilometers_Driven\",\"Fuel_Type\",\"Transmission\",\"Owner_Type\",\"Mileage\",\"Engine\",\"Power\",\"Seats\",\"Location\"]]\n",
    "x"
   ]
  },
  {
   "cell_type": "code",
   "execution_count": 93,
   "id": "d263e2bb-3c13-4861-81be-27c8af9ce520",
   "metadata": {},
   "outputs": [
    {
     "data": {
      "text/plain": [
       "2        4\n",
       "7       17\n",
       "10       9\n",
       "15      15\n",
       "20      18\n",
       "        ..\n",
       "5999     4\n",
       "6002     3\n",
       "6005     7\n",
       "6010     3\n",
       "6014     4\n",
       "Name: Price, Length: 823, dtype: int32"
      ]
     },
     "execution_count": 93,
     "metadata": {},
     "output_type": "execute_result"
    }
   ],
   "source": [
    "y=df[\"Price\"]\n",
    "y"
   ]
  },
  {
   "cell_type": "markdown",
   "id": "b348e439-0f6f-4936-8f3f-e7a30ecf99fd",
   "metadata": {},
   "source": [
    "# ii)Splitting data into train and test"
   ]
  },
  {
   "cell_type": "code",
   "execution_count": 94,
   "id": "bd5fb3e3-4053-476d-bf41-4cff43ccc634",
   "metadata": {},
   "outputs": [],
   "source": [
    "from sklearn.model_selection import train_test_split"
   ]
  },
  {
   "cell_type": "code",
   "execution_count": 95,
   "id": "ca8050f1-83ae-4013-8e24-bb6c1acc3670",
   "metadata": {},
   "outputs": [],
   "source": [
    "x_train,x_test,y_train,y_test=train_test_split(x,y,test_size=0.2,random_state=42)"
   ]
  },
  {
   "cell_type": "code",
   "execution_count": 96,
   "id": "fc28b2c4-5473-4623-af19-5b45dbaeff08",
   "metadata": {},
   "outputs": [
    {
     "data": {
      "text/plain": [
       "658"
      ]
     },
     "execution_count": 96,
     "metadata": {},
     "output_type": "execute_result"
    }
   ],
   "source": [
    "len(x_train)"
   ]
  },
  {
   "cell_type": "code",
   "execution_count": 97,
   "id": "8c68efcc-5fca-4a47-b30a-1231b802430f",
   "metadata": {},
   "outputs": [
    {
     "data": {
      "text/plain": [
       "165"
      ]
     },
     "execution_count": 97,
     "metadata": {},
     "output_type": "execute_result"
    }
   ],
   "source": [
    "len(x_test)"
   ]
  },
  {
   "cell_type": "code",
   "execution_count": 98,
   "id": "ae7eb1da-c1d3-4089-a475-1fb2088aa1f7",
   "metadata": {},
   "outputs": [
    {
     "data": {
      "text/html": [
       "<div>\n",
       "<style scoped>\n",
       "    .dataframe tbody tr th:only-of-type {\n",
       "        vertical-align: middle;\n",
       "    }\n",
       "\n",
       "    .dataframe tbody tr th {\n",
       "        vertical-align: top;\n",
       "    }\n",
       "\n",
       "    .dataframe thead th {\n",
       "        text-align: right;\n",
       "    }\n",
       "</style>\n",
       "<table border=\"1\" class=\"dataframe\">\n",
       "  <thead>\n",
       "    <tr style=\"text-align: right;\">\n",
       "      <th></th>\n",
       "      <th>Year</th>\n",
       "      <th>Kilometers_Driven</th>\n",
       "      <th>Fuel_Type</th>\n",
       "      <th>Transmission</th>\n",
       "      <th>Owner_Type</th>\n",
       "      <th>Mileage</th>\n",
       "      <th>Engine</th>\n",
       "      <th>Power</th>\n",
       "      <th>Seats</th>\n",
       "      <th>Location</th>\n",
       "    </tr>\n",
       "  </thead>\n",
       "  <tbody>\n",
       "    <tr>\n",
       "      <th>1797</th>\n",
       "      <td>2019</td>\n",
       "      <td>20877.0</td>\n",
       "      <td>2</td>\n",
       "      <td>1</td>\n",
       "      <td>0</td>\n",
       "      <td>18.16</td>\n",
       "      <td>1197</td>\n",
       "      <td>78.90</td>\n",
       "      <td>5</td>\n",
       "      <td>3</td>\n",
       "    </tr>\n",
       "    <tr>\n",
       "      <th>5271</th>\n",
       "      <td>2018</td>\n",
       "      <td>12278.0</td>\n",
       "      <td>2</td>\n",
       "      <td>0</td>\n",
       "      <td>0</td>\n",
       "      <td>23.10</td>\n",
       "      <td>998</td>\n",
       "      <td>67.04</td>\n",
       "      <td>5</td>\n",
       "      <td>7</td>\n",
       "    </tr>\n",
       "    <tr>\n",
       "      <th>5564</th>\n",
       "      <td>2016</td>\n",
       "      <td>62404.0</td>\n",
       "      <td>1</td>\n",
       "      <td>0</td>\n",
       "      <td>0</td>\n",
       "      <td>22.69</td>\n",
       "      <td>1995</td>\n",
       "      <td>190.00</td>\n",
       "      <td>5</td>\n",
       "      <td>7</td>\n",
       "    </tr>\n",
       "    <tr>\n",
       "      <th>3080</th>\n",
       "      <td>2017</td>\n",
       "      <td>24214.0</td>\n",
       "      <td>2</td>\n",
       "      <td>1</td>\n",
       "      <td>1</td>\n",
       "      <td>25.17</td>\n",
       "      <td>799</td>\n",
       "      <td>53.30</td>\n",
       "      <td>5</td>\n",
       "      <td>7</td>\n",
       "    </tr>\n",
       "    <tr>\n",
       "      <th>2166</th>\n",
       "      <td>2014</td>\n",
       "      <td>41460.0</td>\n",
       "      <td>2</td>\n",
       "      <td>1</td>\n",
       "      <td>0</td>\n",
       "      <td>18.50</td>\n",
       "      <td>1198</td>\n",
       "      <td>86.80</td>\n",
       "      <td>5</td>\n",
       "      <td>7</td>\n",
       "    </tr>\n",
       "    <tr>\n",
       "      <th>...</th>\n",
       "      <td>...</td>\n",
       "      <td>...</td>\n",
       "      <td>...</td>\n",
       "      <td>...</td>\n",
       "      <td>...</td>\n",
       "      <td>...</td>\n",
       "      <td>...</td>\n",
       "      <td>...</td>\n",
       "      <td>...</td>\n",
       "      <td>...</td>\n",
       "    </tr>\n",
       "    <tr>\n",
       "      <th>456</th>\n",
       "      <td>2018</td>\n",
       "      <td>12923.0</td>\n",
       "      <td>1</td>\n",
       "      <td>1</td>\n",
       "      <td>0</td>\n",
       "      <td>25.10</td>\n",
       "      <td>1248</td>\n",
       "      <td>88.50</td>\n",
       "      <td>5</td>\n",
       "      <td>4</td>\n",
       "    </tr>\n",
       "    <tr>\n",
       "      <th>750</th>\n",
       "      <td>2015</td>\n",
       "      <td>18955.0</td>\n",
       "      <td>2</td>\n",
       "      <td>0</td>\n",
       "      <td>0</td>\n",
       "      <td>18.00</td>\n",
       "      <td>1497</td>\n",
       "      <td>117.30</td>\n",
       "      <td>5</td>\n",
       "      <td>1</td>\n",
       "    </tr>\n",
       "    <tr>\n",
       "      <th>2008</th>\n",
       "      <td>2017</td>\n",
       "      <td>67000.0</td>\n",
       "      <td>1</td>\n",
       "      <td>1</td>\n",
       "      <td>0</td>\n",
       "      <td>13.68</td>\n",
       "      <td>2393</td>\n",
       "      <td>147.80</td>\n",
       "      <td>7</td>\n",
       "      <td>5</td>\n",
       "    </tr>\n",
       "    <tr>\n",
       "      <th>3127</th>\n",
       "      <td>2017</td>\n",
       "      <td>35981.0</td>\n",
       "      <td>1</td>\n",
       "      <td>1</td>\n",
       "      <td>0</td>\n",
       "      <td>24.30</td>\n",
       "      <td>1248</td>\n",
       "      <td>88.50</td>\n",
       "      <td>5</td>\n",
       "      <td>7</td>\n",
       "    </tr>\n",
       "    <tr>\n",
       "      <th>732</th>\n",
       "      <td>2014</td>\n",
       "      <td>55818.0</td>\n",
       "      <td>2</td>\n",
       "      <td>1</td>\n",
       "      <td>1</td>\n",
       "      <td>17.40</td>\n",
       "      <td>1497</td>\n",
       "      <td>117.30</td>\n",
       "      <td>5</td>\n",
       "      <td>4</td>\n",
       "    </tr>\n",
       "  </tbody>\n",
       "</table>\n",
       "<p>658 rows × 10 columns</p>\n",
       "</div>"
      ],
      "text/plain": [
       "      Year  Kilometers_Driven  Fuel_Type  Transmission  Owner_Type  Mileage  \\\n",
       "1797  2019            20877.0          2             1           0    18.16   \n",
       "5271  2018            12278.0          2             0           0    23.10   \n",
       "5564  2016            62404.0          1             0           0    22.69   \n",
       "3080  2017            24214.0          2             1           1    25.17   \n",
       "2166  2014            41460.0          2             1           0    18.50   \n",
       "...    ...                ...        ...           ...         ...      ...   \n",
       "456   2018            12923.0          1             1           0    25.10   \n",
       "750   2015            18955.0          2             0           0    18.00   \n",
       "2008  2017            67000.0          1             1           0    13.68   \n",
       "3127  2017            35981.0          1             1           0    24.30   \n",
       "732   2014            55818.0          2             1           1    17.40   \n",
       "\n",
       "      Engine   Power  Seats  Location  \n",
       "1797    1197   78.90      5         3  \n",
       "5271     998   67.04      5         7  \n",
       "5564    1995  190.00      5         7  \n",
       "3080     799   53.30      5         7  \n",
       "2166    1198   86.80      5         7  \n",
       "...      ...     ...    ...       ...  \n",
       "456     1248   88.50      5         4  \n",
       "750     1497  117.30      5         1  \n",
       "2008    2393  147.80      7         5  \n",
       "3127    1248   88.50      5         7  \n",
       "732     1497  117.30      5         4  \n",
       "\n",
       "[658 rows x 10 columns]"
      ]
     },
     "execution_count": 98,
     "metadata": {},
     "output_type": "execute_result"
    }
   ],
   "source": [
    "x_train"
   ]
  },
  {
   "cell_type": "code",
   "execution_count": 99,
   "id": "99b0abd9-aeea-4dda-88ca-3e9cdd77e80d",
   "metadata": {},
   "outputs": [
    {
     "data": {
      "text/plain": [
       "4570    11\n",
       "1256     5\n",
       "423     24\n",
       "1200    12\n",
       "2041     4\n",
       "        ..\n",
       "2111    35\n",
       "1544     7\n",
       "3190    18\n",
       "5625     5\n",
       "3820     2\n",
       "Name: Price, Length: 165, dtype: int32"
      ]
     },
     "execution_count": 99,
     "metadata": {},
     "output_type": "execute_result"
    }
   ],
   "source": [
    "y_test"
   ]
  },
  {
   "cell_type": "markdown",
   "id": "85a8b64f-5ba7-49b7-a6ba-5bb956fe2efc",
   "metadata": {},
   "source": [
    "# STEP-7 "
   ]
  },
  {
   "cell_type": "markdown",
   "id": "b581b4b3-b2c9-4d47-8c32-9c9c996aaa23",
   "metadata": {},
   "source": [
    "# i) Building LinearRegression Model"
   ]
  },
  {
   "cell_type": "code",
   "execution_count": 100,
   "id": "c7354bde-80a2-42a4-9c5f-3f646947baf5",
   "metadata": {},
   "outputs": [],
   "source": [
    "from sklearn.linear_model import LinearRegression\n",
    "lr=LinearRegression()"
   ]
  },
  {
   "cell_type": "code",
   "execution_count": 101,
   "id": "261e5c94-37ec-4d90-a1f8-8104bca76250",
   "metadata": {},
   "outputs": [
    {
     "data": {
      "text/html": [
       "<style>#sk-container-id-1 {\n",
       "  /* Definition of color scheme common for light and dark mode */\n",
       "  --sklearn-color-text: black;\n",
       "  --sklearn-color-line: gray;\n",
       "  /* Definition of color scheme for unfitted estimators */\n",
       "  --sklearn-color-unfitted-level-0: #fff5e6;\n",
       "  --sklearn-color-unfitted-level-1: #f6e4d2;\n",
       "  --sklearn-color-unfitted-level-2: #ffe0b3;\n",
       "  --sklearn-color-unfitted-level-3: chocolate;\n",
       "  /* Definition of color scheme for fitted estimators */\n",
       "  --sklearn-color-fitted-level-0: #f0f8ff;\n",
       "  --sklearn-color-fitted-level-1: #d4ebff;\n",
       "  --sklearn-color-fitted-level-2: #b3dbfd;\n",
       "  --sklearn-color-fitted-level-3: cornflowerblue;\n",
       "\n",
       "  /* Specific color for light theme */\n",
       "  --sklearn-color-text-on-default-background: var(--sg-text-color, var(--theme-code-foreground, var(--jp-content-font-color1, black)));\n",
       "  --sklearn-color-background: var(--sg-background-color, var(--theme-background, var(--jp-layout-color0, white)));\n",
       "  --sklearn-color-border-box: var(--sg-text-color, var(--theme-code-foreground, var(--jp-content-font-color1, black)));\n",
       "  --sklearn-color-icon: #696969;\n",
       "\n",
       "  @media (prefers-color-scheme: dark) {\n",
       "    /* Redefinition of color scheme for dark theme */\n",
       "    --sklearn-color-text-on-default-background: var(--sg-text-color, var(--theme-code-foreground, var(--jp-content-font-color1, white)));\n",
       "    --sklearn-color-background: var(--sg-background-color, var(--theme-background, var(--jp-layout-color0, #111)));\n",
       "    --sklearn-color-border-box: var(--sg-text-color, var(--theme-code-foreground, var(--jp-content-font-color1, white)));\n",
       "    --sklearn-color-icon: #878787;\n",
       "  }\n",
       "}\n",
       "\n",
       "#sk-container-id-1 {\n",
       "  color: var(--sklearn-color-text);\n",
       "}\n",
       "\n",
       "#sk-container-id-1 pre {\n",
       "  padding: 0;\n",
       "}\n",
       "\n",
       "#sk-container-id-1 input.sk-hidden--visually {\n",
       "  border: 0;\n",
       "  clip: rect(1px 1px 1px 1px);\n",
       "  clip: rect(1px, 1px, 1px, 1px);\n",
       "  height: 1px;\n",
       "  margin: -1px;\n",
       "  overflow: hidden;\n",
       "  padding: 0;\n",
       "  position: absolute;\n",
       "  width: 1px;\n",
       "}\n",
       "\n",
       "#sk-container-id-1 div.sk-dashed-wrapped {\n",
       "  border: 1px dashed var(--sklearn-color-line);\n",
       "  margin: 0 0.4em 0.5em 0.4em;\n",
       "  box-sizing: border-box;\n",
       "  padding-bottom: 0.4em;\n",
       "  background-color: var(--sklearn-color-background);\n",
       "}\n",
       "\n",
       "#sk-container-id-1 div.sk-container {\n",
       "  /* jupyter's `normalize.less` sets `[hidden] { display: none; }`\n",
       "     but bootstrap.min.css set `[hidden] { display: none !important; }`\n",
       "     so we also need the `!important` here to be able to override the\n",
       "     default hidden behavior on the sphinx rendered scikit-learn.org.\n",
       "     See: https://github.com/scikit-learn/scikit-learn/issues/21755 */\n",
       "  display: inline-block !important;\n",
       "  position: relative;\n",
       "}\n",
       "\n",
       "#sk-container-id-1 div.sk-text-repr-fallback {\n",
       "  display: none;\n",
       "}\n",
       "\n",
       "div.sk-parallel-item,\n",
       "div.sk-serial,\n",
       "div.sk-item {\n",
       "  /* draw centered vertical line to link estimators */\n",
       "  background-image: linear-gradient(var(--sklearn-color-text-on-default-background), var(--sklearn-color-text-on-default-background));\n",
       "  background-size: 2px 100%;\n",
       "  background-repeat: no-repeat;\n",
       "  background-position: center center;\n",
       "}\n",
       "\n",
       "/* Parallel-specific style estimator block */\n",
       "\n",
       "#sk-container-id-1 div.sk-parallel-item::after {\n",
       "  content: \"\";\n",
       "  width: 100%;\n",
       "  border-bottom: 2px solid var(--sklearn-color-text-on-default-background);\n",
       "  flex-grow: 1;\n",
       "}\n",
       "\n",
       "#sk-container-id-1 div.sk-parallel {\n",
       "  display: flex;\n",
       "  align-items: stretch;\n",
       "  justify-content: center;\n",
       "  background-color: var(--sklearn-color-background);\n",
       "  position: relative;\n",
       "}\n",
       "\n",
       "#sk-container-id-1 div.sk-parallel-item {\n",
       "  display: flex;\n",
       "  flex-direction: column;\n",
       "}\n",
       "\n",
       "#sk-container-id-1 div.sk-parallel-item:first-child::after {\n",
       "  align-self: flex-end;\n",
       "  width: 50%;\n",
       "}\n",
       "\n",
       "#sk-container-id-1 div.sk-parallel-item:last-child::after {\n",
       "  align-self: flex-start;\n",
       "  width: 50%;\n",
       "}\n",
       "\n",
       "#sk-container-id-1 div.sk-parallel-item:only-child::after {\n",
       "  width: 0;\n",
       "}\n",
       "\n",
       "/* Serial-specific style estimator block */\n",
       "\n",
       "#sk-container-id-1 div.sk-serial {\n",
       "  display: flex;\n",
       "  flex-direction: column;\n",
       "  align-items: center;\n",
       "  background-color: var(--sklearn-color-background);\n",
       "  padding-right: 1em;\n",
       "  padding-left: 1em;\n",
       "}\n",
       "\n",
       "\n",
       "/* Toggleable style: style used for estimator/Pipeline/ColumnTransformer box that is\n",
       "clickable and can be expanded/collapsed.\n",
       "- Pipeline and ColumnTransformer use this feature and define the default style\n",
       "- Estimators will overwrite some part of the style using the `sk-estimator` class\n",
       "*/\n",
       "\n",
       "/* Pipeline and ColumnTransformer style (default) */\n",
       "\n",
       "#sk-container-id-1 div.sk-toggleable {\n",
       "  /* Default theme specific background. It is overwritten whether we have a\n",
       "  specific estimator or a Pipeline/ColumnTransformer */\n",
       "  background-color: var(--sklearn-color-background);\n",
       "}\n",
       "\n",
       "/* Toggleable label */\n",
       "#sk-container-id-1 label.sk-toggleable__label {\n",
       "  cursor: pointer;\n",
       "  display: block;\n",
       "  width: 100%;\n",
       "  margin-bottom: 0;\n",
       "  padding: 0.5em;\n",
       "  box-sizing: border-box;\n",
       "  text-align: center;\n",
       "}\n",
       "\n",
       "#sk-container-id-1 label.sk-toggleable__label-arrow:before {\n",
       "  /* Arrow on the left of the label */\n",
       "  content: \"▸\";\n",
       "  float: left;\n",
       "  margin-right: 0.25em;\n",
       "  color: var(--sklearn-color-icon);\n",
       "}\n",
       "\n",
       "#sk-container-id-1 label.sk-toggleable__label-arrow:hover:before {\n",
       "  color: var(--sklearn-color-text);\n",
       "}\n",
       "\n",
       "/* Toggleable content - dropdown */\n",
       "\n",
       "#sk-container-id-1 div.sk-toggleable__content {\n",
       "  max-height: 0;\n",
       "  max-width: 0;\n",
       "  overflow: hidden;\n",
       "  text-align: left;\n",
       "  /* unfitted */\n",
       "  background-color: var(--sklearn-color-unfitted-level-0);\n",
       "}\n",
       "\n",
       "#sk-container-id-1 div.sk-toggleable__content.fitted {\n",
       "  /* fitted */\n",
       "  background-color: var(--sklearn-color-fitted-level-0);\n",
       "}\n",
       "\n",
       "#sk-container-id-1 div.sk-toggleable__content pre {\n",
       "  margin: 0.2em;\n",
       "  border-radius: 0.25em;\n",
       "  color: var(--sklearn-color-text);\n",
       "  /* unfitted */\n",
       "  background-color: var(--sklearn-color-unfitted-level-0);\n",
       "}\n",
       "\n",
       "#sk-container-id-1 div.sk-toggleable__content.fitted pre {\n",
       "  /* unfitted */\n",
       "  background-color: var(--sklearn-color-fitted-level-0);\n",
       "}\n",
       "\n",
       "#sk-container-id-1 input.sk-toggleable__control:checked~div.sk-toggleable__content {\n",
       "  /* Expand drop-down */\n",
       "  max-height: 200px;\n",
       "  max-width: 100%;\n",
       "  overflow: auto;\n",
       "}\n",
       "\n",
       "#sk-container-id-1 input.sk-toggleable__control:checked~label.sk-toggleable__label-arrow:before {\n",
       "  content: \"▾\";\n",
       "}\n",
       "\n",
       "/* Pipeline/ColumnTransformer-specific style */\n",
       "\n",
       "#sk-container-id-1 div.sk-label input.sk-toggleable__control:checked~label.sk-toggleable__label {\n",
       "  color: var(--sklearn-color-text);\n",
       "  background-color: var(--sklearn-color-unfitted-level-2);\n",
       "}\n",
       "\n",
       "#sk-container-id-1 div.sk-label.fitted input.sk-toggleable__control:checked~label.sk-toggleable__label {\n",
       "  background-color: var(--sklearn-color-fitted-level-2);\n",
       "}\n",
       "\n",
       "/* Estimator-specific style */\n",
       "\n",
       "/* Colorize estimator box */\n",
       "#sk-container-id-1 div.sk-estimator input.sk-toggleable__control:checked~label.sk-toggleable__label {\n",
       "  /* unfitted */\n",
       "  background-color: var(--sklearn-color-unfitted-level-2);\n",
       "}\n",
       "\n",
       "#sk-container-id-1 div.sk-estimator.fitted input.sk-toggleable__control:checked~label.sk-toggleable__label {\n",
       "  /* fitted */\n",
       "  background-color: var(--sklearn-color-fitted-level-2);\n",
       "}\n",
       "\n",
       "#sk-container-id-1 div.sk-label label.sk-toggleable__label,\n",
       "#sk-container-id-1 div.sk-label label {\n",
       "  /* The background is the default theme color */\n",
       "  color: var(--sklearn-color-text-on-default-background);\n",
       "}\n",
       "\n",
       "/* On hover, darken the color of the background */\n",
       "#sk-container-id-1 div.sk-label:hover label.sk-toggleable__label {\n",
       "  color: var(--sklearn-color-text);\n",
       "  background-color: var(--sklearn-color-unfitted-level-2);\n",
       "}\n",
       "\n",
       "/* Label box, darken color on hover, fitted */\n",
       "#sk-container-id-1 div.sk-label.fitted:hover label.sk-toggleable__label.fitted {\n",
       "  color: var(--sklearn-color-text);\n",
       "  background-color: var(--sklearn-color-fitted-level-2);\n",
       "}\n",
       "\n",
       "/* Estimator label */\n",
       "\n",
       "#sk-container-id-1 div.sk-label label {\n",
       "  font-family: monospace;\n",
       "  font-weight: bold;\n",
       "  display: inline-block;\n",
       "  line-height: 1.2em;\n",
       "}\n",
       "\n",
       "#sk-container-id-1 div.sk-label-container {\n",
       "  text-align: center;\n",
       "}\n",
       "\n",
       "/* Estimator-specific */\n",
       "#sk-container-id-1 div.sk-estimator {\n",
       "  font-family: monospace;\n",
       "  border: 1px dotted var(--sklearn-color-border-box);\n",
       "  border-radius: 0.25em;\n",
       "  box-sizing: border-box;\n",
       "  margin-bottom: 0.5em;\n",
       "  /* unfitted */\n",
       "  background-color: var(--sklearn-color-unfitted-level-0);\n",
       "}\n",
       "\n",
       "#sk-container-id-1 div.sk-estimator.fitted {\n",
       "  /* fitted */\n",
       "  background-color: var(--sklearn-color-fitted-level-0);\n",
       "}\n",
       "\n",
       "/* on hover */\n",
       "#sk-container-id-1 div.sk-estimator:hover {\n",
       "  /* unfitted */\n",
       "  background-color: var(--sklearn-color-unfitted-level-2);\n",
       "}\n",
       "\n",
       "#sk-container-id-1 div.sk-estimator.fitted:hover {\n",
       "  /* fitted */\n",
       "  background-color: var(--sklearn-color-fitted-level-2);\n",
       "}\n",
       "\n",
       "/* Specification for estimator info (e.g. \"i\" and \"?\") */\n",
       "\n",
       "/* Common style for \"i\" and \"?\" */\n",
       "\n",
       ".sk-estimator-doc-link,\n",
       "a:link.sk-estimator-doc-link,\n",
       "a:visited.sk-estimator-doc-link {\n",
       "  float: right;\n",
       "  font-size: smaller;\n",
       "  line-height: 1em;\n",
       "  font-family: monospace;\n",
       "  background-color: var(--sklearn-color-background);\n",
       "  border-radius: 1em;\n",
       "  height: 1em;\n",
       "  width: 1em;\n",
       "  text-decoration: none !important;\n",
       "  margin-left: 1ex;\n",
       "  /* unfitted */\n",
       "  border: var(--sklearn-color-unfitted-level-1) 1pt solid;\n",
       "  color: var(--sklearn-color-unfitted-level-1);\n",
       "}\n",
       "\n",
       ".sk-estimator-doc-link.fitted,\n",
       "a:link.sk-estimator-doc-link.fitted,\n",
       "a:visited.sk-estimator-doc-link.fitted {\n",
       "  /* fitted */\n",
       "  border: var(--sklearn-color-fitted-level-1) 1pt solid;\n",
       "  color: var(--sklearn-color-fitted-level-1);\n",
       "}\n",
       "\n",
       "/* On hover */\n",
       "div.sk-estimator:hover .sk-estimator-doc-link:hover,\n",
       ".sk-estimator-doc-link:hover,\n",
       "div.sk-label-container:hover .sk-estimator-doc-link:hover,\n",
       ".sk-estimator-doc-link:hover {\n",
       "  /* unfitted */\n",
       "  background-color: var(--sklearn-color-unfitted-level-3);\n",
       "  color: var(--sklearn-color-background);\n",
       "  text-decoration: none;\n",
       "}\n",
       "\n",
       "div.sk-estimator.fitted:hover .sk-estimator-doc-link.fitted:hover,\n",
       ".sk-estimator-doc-link.fitted:hover,\n",
       "div.sk-label-container:hover .sk-estimator-doc-link.fitted:hover,\n",
       ".sk-estimator-doc-link.fitted:hover {\n",
       "  /* fitted */\n",
       "  background-color: var(--sklearn-color-fitted-level-3);\n",
       "  color: var(--sklearn-color-background);\n",
       "  text-decoration: none;\n",
       "}\n",
       "\n",
       "/* Span, style for the box shown on hovering the info icon */\n",
       ".sk-estimator-doc-link span {\n",
       "  display: none;\n",
       "  z-index: 9999;\n",
       "  position: relative;\n",
       "  font-weight: normal;\n",
       "  right: .2ex;\n",
       "  padding: .5ex;\n",
       "  margin: .5ex;\n",
       "  width: min-content;\n",
       "  min-width: 20ex;\n",
       "  max-width: 50ex;\n",
       "  color: var(--sklearn-color-text);\n",
       "  box-shadow: 2pt 2pt 4pt #999;\n",
       "  /* unfitted */\n",
       "  background: var(--sklearn-color-unfitted-level-0);\n",
       "  border: .5pt solid var(--sklearn-color-unfitted-level-3);\n",
       "}\n",
       "\n",
       ".sk-estimator-doc-link.fitted span {\n",
       "  /* fitted */\n",
       "  background: var(--sklearn-color-fitted-level-0);\n",
       "  border: var(--sklearn-color-fitted-level-3);\n",
       "}\n",
       "\n",
       ".sk-estimator-doc-link:hover span {\n",
       "  display: block;\n",
       "}\n",
       "\n",
       "/* \"?\"-specific style due to the `<a>` HTML tag */\n",
       "\n",
       "#sk-container-id-1 a.estimator_doc_link {\n",
       "  float: right;\n",
       "  font-size: 1rem;\n",
       "  line-height: 1em;\n",
       "  font-family: monospace;\n",
       "  background-color: var(--sklearn-color-background);\n",
       "  border-radius: 1rem;\n",
       "  height: 1rem;\n",
       "  width: 1rem;\n",
       "  text-decoration: none;\n",
       "  /* unfitted */\n",
       "  color: var(--sklearn-color-unfitted-level-1);\n",
       "  border: var(--sklearn-color-unfitted-level-1) 1pt solid;\n",
       "}\n",
       "\n",
       "#sk-container-id-1 a.estimator_doc_link.fitted {\n",
       "  /* fitted */\n",
       "  border: var(--sklearn-color-fitted-level-1) 1pt solid;\n",
       "  color: var(--sklearn-color-fitted-level-1);\n",
       "}\n",
       "\n",
       "/* On hover */\n",
       "#sk-container-id-1 a.estimator_doc_link:hover {\n",
       "  /* unfitted */\n",
       "  background-color: var(--sklearn-color-unfitted-level-3);\n",
       "  color: var(--sklearn-color-background);\n",
       "  text-decoration: none;\n",
       "}\n",
       "\n",
       "#sk-container-id-1 a.estimator_doc_link.fitted:hover {\n",
       "  /* fitted */\n",
       "  background-color: var(--sklearn-color-fitted-level-3);\n",
       "}\n",
       "</style><div id=\"sk-container-id-1\" class=\"sk-top-container\"><div class=\"sk-text-repr-fallback\"><pre>LinearRegression()</pre><b>In a Jupyter environment, please rerun this cell to show the HTML representation or trust the notebook. <br />On GitHub, the HTML representation is unable to render, please try loading this page with nbviewer.org.</b></div><div class=\"sk-container\" hidden><div class=\"sk-item\"><div class=\"sk-estimator fitted sk-toggleable\"><input class=\"sk-toggleable__control sk-hidden--visually\" id=\"sk-estimator-id-1\" type=\"checkbox\" checked><label for=\"sk-estimator-id-1\" class=\"sk-toggleable__label fitted sk-toggleable__label-arrow fitted\">&nbsp;&nbsp;LinearRegression<a class=\"sk-estimator-doc-link fitted\" rel=\"noreferrer\" target=\"_blank\" href=\"https://scikit-learn.org/1.4/modules/generated/sklearn.linear_model.LinearRegression.html\">?<span>Documentation for LinearRegression</span></a><span class=\"sk-estimator-doc-link fitted\">i<span>Fitted</span></span></label><div class=\"sk-toggleable__content fitted\"><pre>LinearRegression()</pre></div> </div></div></div></div>"
      ],
      "text/plain": [
       "LinearRegression()"
      ]
     },
     "execution_count": 101,
     "metadata": {},
     "output_type": "execute_result"
    }
   ],
   "source": [
    "lr.fit(x_train,y_train)"
   ]
  },
  {
   "cell_type": "code",
   "execution_count": 102,
   "id": "b3786397-cdeb-4088-ab90-95a20879a60a",
   "metadata": {},
   "outputs": [
    {
     "data": {
      "text/plain": [
       "array([14.66388404,  1.49907197, 20.59516386, 15.63995652, -1.64343294,\n",
       "        7.87238251,  7.87003813, 24.91106787,  3.21142061, -1.50947015,\n",
       "        2.44572904, 21.96682146, 24.43443613,  4.94013346, 24.27152734,\n",
       "        9.98593991, 25.85700062,  1.37302919,  6.87661058, 21.58375422,\n",
       "       14.62933614,  3.47482093,  1.14375298,  1.70973296, 25.46464505,\n",
       "       12.99743252,  6.08531504,  5.61349411, 17.91053127, 20.74856743,\n",
       "        7.28007392, 18.46066261,  9.6799131 ,  8.86242866,  0.83433139,\n",
       "        0.35799458,  5.31173887, 22.81933455, 23.50452446, 20.25146773,\n",
       "       -3.16126854, 10.78432037, 16.22847275,  4.92650839,  7.44108316,\n",
       "       11.09859999, 23.54788836, -0.19436611, 37.404748  , 18.19128928,\n",
       "       12.53630488, 22.09873776,  8.42303362, 25.89479642,  9.56652477,\n",
       "        4.12566107, 29.58608225, 15.02591007,  2.76422102, 11.57370034,\n",
       "        3.27456796, 33.32829741, 22.91423077, 10.42384392, 20.8348861 ,\n",
       "       19.4525327 , 14.87341615, 26.00761483,  1.54155238, 27.8114586 ,\n",
       "       12.46667206,  5.69569917, -1.0295378 , 11.87024507, 36.95564105,\n",
       "        6.91874985,  8.62472255,  6.46416771,  4.79659297,  4.6228513 ,\n",
       "       -0.78168496,  2.2587379 , 20.38325875, 11.39001938, 21.87881796,\n",
       "       22.72250861,  8.38785153, 15.16496197, 21.08468692, -0.81407029,\n",
       "        4.23697963,  5.83969524, 10.92766186,  6.01888647, 14.61630105,\n",
       "        8.45522577,  0.13769404,  2.1274436 ,  4.70780413, -3.01737171,\n",
       "        5.10604045, 18.41164207,  7.09518305, 19.92750573, 12.75324097,\n",
       "       -0.92712683,  4.71283016, 11.37943527, 10.04387654, 10.78127131,\n",
       "       -1.44807898,  1.29465606,  1.87138441,  3.29166475, -0.25658559,\n",
       "        4.31206734,  1.19870849, 11.14314465, -3.52835039, 16.72047981,\n",
       "        5.40808286, -0.9435626 , 19.85279235,  7.14889595,  4.49656253,\n",
       "       15.06834362, 18.96958447, 19.63962466,  8.23974493, 18.52083899,\n",
       "       31.86029782, 21.5381311 , 25.36574641,  6.57987424,  4.28949197,\n",
       "       -5.35909024, 12.46236157, -1.19303207,  9.03188126, 32.77453969,\n",
       "        6.03824415,  4.72983008, 20.60272582, 23.54984519,  4.78709262,\n",
       "       14.39877197,  7.25003881, 10.89377766,  7.20346713,  9.1702544 ,\n",
       "       10.3740349 ,  8.11564524,  9.31795346,  9.19644596, 20.40710642,\n",
       "        7.05968708,  8.03191558,  9.87265515,  3.21752873, 22.11178811,\n",
       "       27.82599725,  9.98393581, 24.45583216,  7.94158908, -1.94662478])"
      ]
     },
     "execution_count": 102,
     "metadata": {},
     "output_type": "execute_result"
    }
   ],
   "source": [
    "a=lr.predict(x_test)\n",
    "a"
   ]
  },
  {
   "cell_type": "code",
   "execution_count": 103,
   "id": "b5ce1e2a-aa25-4c1d-86ea-41e68526d693",
   "metadata": {},
   "outputs": [
    {
     "data": {
      "text/plain": [
       "0.7952196474056805"
      ]
     },
     "execution_count": 103,
     "metadata": {},
     "output_type": "execute_result"
    }
   ],
   "source": [
    "lr.score(x_test,y_test)"
   ]
  },
  {
   "cell_type": "markdown",
   "id": "30ffab11-4216-41da-b94d-23761e7b1198",
   "metadata": {},
   "source": [
    "# Hypertuning the model as the accuracy is low "
   ]
  },
  {
   "cell_type": "code",
   "execution_count": 104,
   "id": "48595c6c-e0bc-4ab5-8f3d-a58d631e7966",
   "metadata": {},
   "outputs": [],
   "source": [
    "hypergrid=[{\"penalty\": [\"11\",\"12\",\"elasticnet\",\"none\"],\"c\":[\"np.logspace(-4,4,20)\"],\"solver\":[\"lbfgs\",\"newton-cg\",\"liblinear\",\"sag\",\"saga\"],\"max_iter\":[100,1000,2500,5000]}]"
   ]
  },
  {
   "cell_type": "code",
   "execution_count": 105,
   "id": "d2f9680b-ec6c-4201-9a6e-44389412a7ef",
   "metadata": {},
   "outputs": [],
   "source": [
    "from sklearn.model_selection import GridSearchCV\n",
    "from sklearn.ensemble import GradientBoostingRegressor"
   ]
  },
  {
   "cell_type": "code",
   "execution_count": 106,
   "id": "33c9f944-b0a2-43b7-83d0-9527a6523952",
   "metadata": {},
   "outputs": [],
   "source": [
    "GBR = GradientBoostingRegressor()\n",
    "parameters = {'learning_rate': [0.01,0.02,0.03,0.04],\n",
    "                  'subsample'    : [0.9, 0.5, 0.2, 0.1],\n",
    "                  'n_estimators' : [100,500,1000, 1500],\n",
    "                  'max_depth'    : [4,6,8,10]}"
   ]
  },
  {
   "cell_type": "code",
   "execution_count": 107,
   "id": "897c2d1c-9048-4ede-85b1-3d9f7168e60f",
   "metadata": {},
   "outputs": [],
   "source": [
    "bestacc=GBR.fit(x_train,y_train)"
   ]
  },
  {
   "cell_type": "code",
   "execution_count": 108,
   "id": "31cbc2b8-ebbd-417e-9d74-07ca9ed0d6e9",
   "metadata": {},
   "outputs": [
    {
     "data": {
      "text/plain": [
       "0.9188776221438721"
      ]
     },
     "execution_count": 108,
     "metadata": {},
     "output_type": "execute_result"
    }
   ],
   "source": [
    "bestacc.score(x_test,y_test)"
   ]
  },
  {
   "cell_type": "code",
   "execution_count": 109,
   "id": "e3813070-f28e-4dad-b64f-65679c28f6e3",
   "metadata": {},
   "outputs": [
    {
     "data": {
      "text/plain": [
       "<seaborn.axisgrid.FacetGrid at 0x1ab41868670>"
      ]
     },
     "execution_count": 109,
     "metadata": {},
     "output_type": "execute_result"
    },
    {
     "data": {
      "image/png": "[encoded data removed]",
      "text/plain": [
       "<Figure size 500x500 with 1 Axes>"
      ]
     },
     "metadata": {},
     "output_type": "display_data"
    }
   ],
   "source": [
    "x=df[\"Kilometers_Driven\"].head(10)\n",
    "y=df[\"Price\"].head(10)\n",
    "\n",
    "sns.lmplot(x=\"Kilometers_Driven\",y=\"Price\",data=df)"
   ]
  },
  {
   "cell_type": "markdown",
   "id": "efa6b689-68c6-457a-90ac-ad727d011802",
   "metadata": {},
   "source": [
    "# ii)Building DecisionTreeRegressor Model"
   ]
  },
  {
   "cell_type": "code",
   "execution_count": 110,
   "id": "a77e1216-2ec0-418e-af40-cde7006c488e",
   "metadata": {},
   "outputs": [],
   "source": [
    "from sklearn.tree import DecisionTreeRegressor"
   ]
  },
  {
   "cell_type": "code",
   "execution_count": 111,
   "id": "aec97dbe-6e4a-4b5b-8d8d-424cd3b12477",
   "metadata": {},
   "outputs": [],
   "source": [
    "class_1=DecisionTreeRegressor()"
   ]
  },
  {
   "cell_type": "code",
   "execution_count": 112,
   "id": "ec8a8008-bf2c-48bc-b160-c898ff3a3242",
   "metadata": {},
   "outputs": [
    {
     "data": {
      "text/html": [
       "<style>#sk-container-id-2 {\n",
       "  /* Definition of color scheme common for light and dark mode */\n",
       "  --sklearn-color-text: black;\n",
       "  --sklearn-color-line: gray;\n",
       "  /* Definition of color scheme for unfitted estimators */\n",
       "  --sklearn-color-unfitted-level-0: #fff5e6;\n",
       "  --sklearn-color-unfitted-level-1: #f6e4d2;\n",
       "  --sklearn-color-unfitted-level-2: #ffe0b3;\n",
       "  --sklearn-color-unfitted-level-3: chocolate;\n",
       "  /* Definition of color scheme for fitted estimators */\n",
       "  --sklearn-color-fitted-level-0: #f0f8ff;\n",
       "  --sklearn-color-fitted-level-1: #d4ebff;\n",
       "  --sklearn-color-fitted-level-2: #b3dbfd;\n",
       "  --sklearn-color-fitted-level-3: cornflowerblue;\n",
       "\n",
       "  /* Specific color for light theme */\n",
       "  --sklearn-color-text-on-default-background: var(--sg-text-color, var(--theme-code-foreground, var(--jp-content-font-color1, black)));\n",
       "  --sklearn-color-background: var(--sg-background-color, var(--theme-background, var(--jp-layout-color0, white)));\n",
       "  --sklearn-color-border-box: var(--sg-text-color, var(--theme-code-foreground, var(--jp-content-font-color1, black)));\n",
       "  --sklearn-color-icon: #696969;\n",
       "\n",
       "  @media (prefers-color-scheme: dark) {\n",
       "    /* Redefinition of color scheme for dark theme */\n",
       "    --sklearn-color-text-on-default-background: var(--sg-text-color, var(--theme-code-foreground, var(--jp-content-font-color1, white)));\n",
       "    --sklearn-color-background: var(--sg-background-color, var(--theme-background, var(--jp-layout-color0, #111)));\n",
       "    --sklearn-color-border-box: var(--sg-text-color, var(--theme-code-foreground, var(--jp-content-font-color1, white)));\n",
       "    --sklearn-color-icon: #878787;\n",
       "  }\n",
       "}\n",
       "\n",
       "#sk-container-id-2 {\n",
       "  color: var(--sklearn-color-text);\n",
       "}\n",
       "\n",
       "#sk-container-id-2 pre {\n",
       "  padding: 0;\n",
       "}\n",
       "\n",
       "#sk-container-id-2 input.sk-hidden--visually {\n",
       "  border: 0;\n",
       "  clip: rect(1px 1px 1px 1px);\n",
       "  clip: rect(1px, 1px, 1px, 1px);\n",
       "  height: 1px;\n",
       "  margin: -1px;\n",
       "  overflow: hidden;\n",
       "  padding: 0;\n",
       "  position: absolute;\n",
       "  width: 1px;\n",
       "}\n",
       "\n",
       "#sk-container-id-2 div.sk-dashed-wrapped {\n",
       "  border: 1px dashed var(--sklearn-color-line);\n",
       "  margin: 0 0.4em 0.5em 0.4em;\n",
       "  box-sizing: border-box;\n",
       "  padding-bottom: 0.4em;\n",
       "  background-color: var(--sklearn-color-background);\n",
       "}\n",
       "\n",
       "#sk-container-id-2 div.sk-container {\n",
       "  /* jupyter's `normalize.less` sets `[hidden] { display: none; }`\n",
       "     but bootstrap.min.css set `[hidden] { display: none !important; }`\n",
       "     so we also need the `!important` here to be able to override the\n",
       "     default hidden behavior on the sphinx rendered scikit-learn.org.\n",
       "     See: https://github.com/scikit-learn/scikit-learn/issues/21755 */\n",
       "  display: inline-block !important;\n",
       "  position: relative;\n",
       "}\n",
       "\n",
       "#sk-container-id-2 div.sk-text-repr-fallback {\n",
       "  display: none;\n",
       "}\n",
       "\n",
       "div.sk-parallel-item,\n",
       "div.sk-serial,\n",
       "div.sk-item {\n",
       "  /* draw centered vertical line to link estimators */\n",
       "  background-image: linear-gradient(var(--sklearn-color-text-on-default-background), var(--sklearn-color-text-on-default-background));\n",
       "  background-size: 2px 100%;\n",
       "  background-repeat: no-repeat;\n",
       "  background-position: center center;\n",
       "}\n",
       "\n",
       "/* Parallel-specific style estimator block */\n",
       "\n",
       "#sk-container-id-2 div.sk-parallel-item::after {\n",
       "  content: \"\";\n",
       "  width: 100%;\n",
       "  border-bottom: 2px solid var(--sklearn-color-text-on-default-background);\n",
       "  flex-grow: 1;\n",
       "}\n",
       "\n",
       "#sk-container-id-2 div.sk-parallel {\n",
       "  display: flex;\n",
       "  align-items: stretch;\n",
       "  justify-content: center;\n",
       "  background-color: var(--sklearn-color-background);\n",
       "  position: relative;\n",
       "}\n",
       "\n",
       "#sk-container-id-2 div.sk-parallel-item {\n",
       "  display: flex;\n",
       "  flex-direction: column;\n",
       "}\n",
       "\n",
       "#sk-container-id-2 div.sk-parallel-item:first-child::after {\n",
       "  align-self: flex-end;\n",
       "  width: 50%;\n",
       "}\n",
       "\n",
       "#sk-container-id-2 div.sk-parallel-item:last-child::after {\n",
       "  align-self: flex-start;\n",
       "  width: 50%;\n",
       "}\n",
       "\n",
       "#sk-container-id-2 div.sk-parallel-item:only-child::after {\n",
       "  width: 0;\n",
       "}\n",
       "\n",
       "/* Serial-specific style estimator block */\n",
       "\n",
       "#sk-container-id-2 div.sk-serial {\n",
       "  display: flex;\n",
       "  flex-direction: column;\n",
       "  align-items: center;\n",
       "  background-color: var(--sklearn-color-background);\n",
       "  padding-right: 1em;\n",
       "  padding-left: 1em;\n",
       "}\n",
       "\n",
       "\n",
       "/* Toggleable style: style used for estimator/Pipeline/ColumnTransformer box that is\n",
       "clickable and can be expanded/collapsed.\n",
       "- Pipeline and ColumnTransformer use this feature and define the default style\n",
       "- Estimators will overwrite some part of the style using the `sk-estimator` class\n",
       "*/\n",
       "\n",
       "/* Pipeline and ColumnTransformer style (default) */\n",
       "\n",
       "#sk-container-id-2 div.sk-toggleable {\n",
       "  /* Default theme specific background. It is overwritten whether we have a\n",
       "  specific estimator or a Pipeline/ColumnTransformer */\n",
       "  background-color: var(--sklearn-color-background);\n",
       "}\n",
       "\n",
       "/* Toggleable label */\n",
       "#sk-container-id-2 label.sk-toggleable__label {\n",
       "  cursor: pointer;\n",
       "  display: block;\n",
       "  width: 100%;\n",
       "  margin-bottom: 0;\n",
       "  padding: 0.5em;\n",
       "  box-sizing: border-box;\n",
       "  text-align: center;\n",
       "}\n",
       "\n",
       "#sk-container-id-2 label.sk-toggleable__label-arrow:before {\n",
       "  /* Arrow on the left of the label */\n",
       "  content: \"▸\";\n",
       "  float: left;\n",
       "  margin-right: 0.25em;\n",
       "  color: var(--sklearn-color-icon);\n",
       "}\n",
       "\n",
       "#sk-container-id-2 label.sk-toggleable__label-arrow:hover:before {\n",
       "  color: var(--sklearn-color-text);\n",
       "}\n",
       "\n",
       "/* Toggleable content - dropdown */\n",
       "\n",
       "#sk-container-id-2 div.sk-toggleable__content {\n",
       "  max-height: 0;\n",
       "  max-width: 0;\n",
       "  overflow: hidden;\n",
       "  text-align: left;\n",
       "  /* unfitted */\n",
       "  background-color: var(--sklearn-color-unfitted-level-0);\n",
       "}\n",
       "\n",
       "#sk-container-id-2 div.sk-toggleable__content.fitted {\n",
       "  /* fitted */\n",
       "  background-color: var(--sklearn-color-fitted-level-0);\n",
       "}\n",
       "\n",
       "#sk-container-id-2 div.sk-toggleable__content pre {\n",
       "  margin: 0.2em;\n",
       "  border-radius: 0.25em;\n",
       "  color: var(--sklearn-color-text);\n",
       "  /* unfitted */\n",
       "  background-color: var(--sklearn-color-unfitted-level-0);\n",
       "}\n",
       "\n",
       "#sk-container-id-2 div.sk-toggleable__content.fitted pre {\n",
       "  /* unfitted */\n",
       "  background-color: var(--sklearn-color-fitted-level-0);\n",
       "}\n",
       "\n",
       "#sk-container-id-2 input.sk-toggleable__control:checked~div.sk-toggleable__content {\n",
       "  /* Expand drop-down */\n",
       "  max-height: 200px;\n",
       "  max-width: 100%;\n",
       "  overflow: auto;\n",
       "}\n",
       "\n",
       "#sk-container-id-2 input.sk-toggleable__control:checked~label.sk-toggleable__label-arrow:before {\n",
       "  content: \"▾\";\n",
       "}\n",
       "\n",
       "/* Pipeline/ColumnTransformer-specific style */\n",
       "\n",
       "#sk-container-id-2 div.sk-label input.sk-toggleable__control:checked~label.sk-toggleable__label {\n",
       "  color: var(--sklearn-color-text);\n",
       "  background-color: var(--sklearn-color-unfitted-level-2);\n",
       "}\n",
       "\n",
       "#sk-container-id-2 div.sk-label.fitted input.sk-toggleable__control:checked~label.sk-toggleable__label {\n",
       "  background-color: var(--sklearn-color-fitted-level-2);\n",
       "}\n",
       "\n",
       "/* Estimator-specific style */\n",
       "\n",
       "/* Colorize estimator box */\n",
       "#sk-container-id-2 div.sk-estimator input.sk-toggleable__control:checked~label.sk-toggleable__label {\n",
       "  /* unfitted */\n",
       "  background-color: var(--sklearn-color-unfitted-level-2);\n",
       "}\n",
       "\n",
       "#sk-container-id-2 div.sk-estimator.fitted input.sk-toggleable__control:checked~label.sk-toggleable__label {\n",
       "  /* fitted */\n",
       "  background-color: var(--sklearn-color-fitted-level-2);\n",
       "}\n",
       "\n",
       "#sk-container-id-2 div.sk-label label.sk-toggleable__label,\n",
       "#sk-container-id-2 div.sk-label label {\n",
       "  /* The background is the default theme color */\n",
       "  color: var(--sklearn-color-text-on-default-background);\n",
       "}\n",
       "\n",
       "/* On hover, darken the color of the background */\n",
       "#sk-container-id-2 div.sk-label:hover label.sk-toggleable__label {\n",
       "  color: var(--sklearn-color-text);\n",
       "  background-color: var(--sklearn-color-unfitted-level-2);\n",
       "}\n",
       "\n",
       "/* Label box, darken color on hover, fitted */\n",
       "#sk-container-id-2 div.sk-label.fitted:hover label.sk-toggleable__label.fitted {\n",
       "  color: var(--sklearn-color-text);\n",
       "  background-color: var(--sklearn-color-fitted-level-2);\n",
       "}\n",
       "\n",
       "/* Estimator label */\n",
       "\n",
       "#sk-container-id-2 div.sk-label label {\n",
       "  font-family: monospace;\n",
       "  font-weight: bold;\n",
       "  display: inline-block;\n",
       "  line-height: 1.2em;\n",
       "}\n",
       "\n",
       "#sk-container-id-2 div.sk-label-container {\n",
       "  text-align: center;\n",
       "}\n",
       "\n",
       "/* Estimator-specific */\n",
       "#sk-container-id-2 div.sk-estimator {\n",
       "  font-family: monospace;\n",
       "  border: 1px dotted var(--sklearn-color-border-box);\n",
       "  border-radius: 0.25em;\n",
       "  box-sizing: border-box;\n",
       "  margin-bottom: 0.5em;\n",
       "  /* unfitted */\n",
       "  background-color: var(--sklearn-color-unfitted-level-0);\n",
       "}\n",
       "\n",
       "#sk-container-id-2 div.sk-estimator.fitted {\n",
       "  /* fitted */\n",
       "  background-color: var(--sklearn-color-fitted-level-0);\n",
       "}\n",
       "\n",
       "/* on hover */\n",
       "#sk-container-id-2 div.sk-estimator:hover {\n",
       "  /* unfitted */\n",
       "  background-color: var(--sklearn-color-unfitted-level-2);\n",
       "}\n",
       "\n",
       "#sk-container-id-2 div.sk-estimator.fitted:hover {\n",
       "  /* fitted */\n",
       "  background-color: var(--sklearn-color-fitted-level-2);\n",
       "}\n",
       "\n",
       "/* Specification for estimator info (e.g. \"i\" and \"?\") */\n",
       "\n",
       "/* Common style for \"i\" and \"?\" */\n",
       "\n",
       ".sk-estimator-doc-link,\n",
       "a:link.sk-estimator-doc-link,\n",
       "a:visited.sk-estimator-doc-link {\n",
       "  float: right;\n",
       "  font-size: smaller;\n",
       "  line-height: 1em;\n",
       "  font-family: monospace;\n",
       "  background-color: var(--sklearn-color-background);\n",
       "  border-radius: 1em;\n",
       "  height: 1em;\n",
       "  width: 1em;\n",
       "  text-decoration: none !important;\n",
       "  margin-left: 1ex;\n",
       "  /* unfitted */\n",
       "  border: var(--sklearn-color-unfitted-level-1) 1pt solid;\n",
       "  color: var(--sklearn-color-unfitted-level-1);\n",
       "}\n",
       "\n",
       ".sk-estimator-doc-link.fitted,\n",
       "a:link.sk-estimator-doc-link.fitted,\n",
       "a:visited.sk-estimator-doc-link.fitted {\n",
       "  /* fitted */\n",
       "  border: var(--sklearn-color-fitted-level-1) 1pt solid;\n",
       "  color: var(--sklearn-color-fitted-level-1);\n",
       "}\n",
       "\n",
       "/* On hover */\n",
       "div.sk-estimator:hover .sk-estimator-doc-link:hover,\n",
       ".sk-estimator-doc-link:hover,\n",
       "div.sk-label-container:hover .sk-estimator-doc-link:hover,\n",
       ".sk-estimator-doc-link:hover {\n",
       "  /* unfitted */\n",
       "  background-color: var(--sklearn-color-unfitted-level-3);\n",
       "  color: var(--sklearn-color-background);\n",
       "  text-decoration: none;\n",
       "}\n",
       "\n",
       "div.sk-estimator.fitted:hover .sk-estimator-doc-link.fitted:hover,\n",
       ".sk-estimator-doc-link.fitted:hover,\n",
       "div.sk-label-container:hover .sk-estimator-doc-link.fitted:hover,\n",
       ".sk-estimator-doc-link.fitted:hover {\n",
       "  /* fitted */\n",
       "  background-color: var(--sklearn-color-fitted-level-3);\n",
       "  color: var(--sklearn-color-background);\n",
       "  text-decoration: none;\n",
       "}\n",
       "\n",
       "/* Span, style for the box shown on hovering the info icon */\n",
       ".sk-estimator-doc-link span {\n",
       "  display: none;\n",
       "  z-index: 9999;\n",
       "  position: relative;\n",
       "  font-weight: normal;\n",
       "  right: .2ex;\n",
       "  padding: .5ex;\n",
       "  margin: .5ex;\n",
       "  width: min-content;\n",
       "  min-width: 20ex;\n",
       "  max-width: 50ex;\n",
       "  color: var(--sklearn-color-text);\n",
       "  box-shadow: 2pt 2pt 4pt #999;\n",
       "  /* unfitted */\n",
       "  background: var(--sklearn-color-unfitted-level-0);\n",
       "  border: .5pt solid var(--sklearn-color-unfitted-level-3);\n",
       "}\n",
       "\n",
       ".sk-estimator-doc-link.fitted span {\n",
       "  /* fitted */\n",
       "  background: var(--sklearn-color-fitted-level-0);\n",
       "  border: var(--sklearn-color-fitted-level-3);\n",
       "}\n",
       "\n",
       ".sk-estimator-doc-link:hover span {\n",
       "  display: block;\n",
       "}\n",
       "\n",
       "/* \"?\"-specific style due to the `<a>` HTML tag */\n",
       "\n",
       "#sk-container-id-2 a.estimator_doc_link {\n",
       "  float: right;\n",
       "  font-size: 1rem;\n",
       "  line-height: 1em;\n",
       "  font-family: monospace;\n",
       "  background-color: var(--sklearn-color-background);\n",
       "  border-radius: 1rem;\n",
       "  height: 1rem;\n",
       "  width: 1rem;\n",
       "  text-decoration: none;\n",
       "  /* unfitted */\n",
       "  color: var(--sklearn-color-unfitted-level-1);\n",
       "  border: var(--sklearn-color-unfitted-level-1) 1pt solid;\n",
       "}\n",
       "\n",
       "#sk-container-id-2 a.estimator_doc_link.fitted {\n",
       "  /* fitted */\n",
       "  border: var(--sklearn-color-fitted-level-1) 1pt solid;\n",
       "  color: var(--sklearn-color-fitted-level-1);\n",
       "}\n",
       "\n",
       "/* On hover */\n",
       "#sk-container-id-2 a.estimator_doc_link:hover {\n",
       "  /* unfitted */\n",
       "  background-color: var(--sklearn-color-unfitted-level-3);\n",
       "  color: var(--sklearn-color-background);\n",
       "  text-decoration: none;\n",
       "}\n",
       "\n",
       "#sk-container-id-2 a.estimator_doc_link.fitted:hover {\n",
       "  /* fitted */\n",
       "  background-color: var(--sklearn-color-fitted-level-3);\n",
       "}\n",
       "</style><div id=\"sk-container-id-2\" class=\"sk-top-container\"><div class=\"sk-text-repr-fallback\"><pre>DecisionTreeRegressor()</pre><b>In a Jupyter environment, please rerun this cell to show the HTML representation or trust the notebook. <br />On GitHub, the HTML representation is unable to render, please try loading this page with nbviewer.org.</b></div><div class=\"sk-container\" hidden><div class=\"sk-item\"><div class=\"sk-estimator fitted sk-toggleable\"><input class=\"sk-toggleable__control sk-hidden--visually\" id=\"sk-estimator-id-2\" type=\"checkbox\" checked><label for=\"sk-estimator-id-2\" class=\"sk-toggleable__label fitted sk-toggleable__label-arrow fitted\">&nbsp;&nbsp;DecisionTreeRegressor<a class=\"sk-estimator-doc-link fitted\" rel=\"noreferrer\" target=\"_blank\" href=\"https://scikit-learn.org/1.4/modules/generated/sklearn.tree.DecisionTreeRegressor.html\">?<span>Documentation for DecisionTreeRegressor</span></a><span class=\"sk-estimator-doc-link fitted\">i<span>Fitted</span></span></label><div class=\"sk-toggleable__content fitted\"><pre>DecisionTreeRegressor()</pre></div> </div></div></div></div>"
      ],
      "text/plain": [
       "DecisionTreeRegressor()"
      ]
     },
     "execution_count": 112,
     "metadata": {},
     "output_type": "execute_result"
    }
   ],
   "source": [
    "class_1.fit(x_train,y_train)"
   ]
  },
  {
   "cell_type": "code",
   "execution_count": 113,
   "id": "c9eb9a5f-5609-4f12-91c1-21712f731d86",
   "metadata": {},
   "outputs": [
    {
     "data": {
      "text/plain": [
       "array([11.,  4., 35., 10.,  3.,  6.,  3., 19.,  5.,  2.,  5., 19., 35.,\n",
       "        7., 35.,  6., 19.,  2.,  5., 19.,  9.,  3.,  4.,  4., 33., 10.,\n",
       "        3.,  5., 14., 15.,  7., 10.,  3.,  6.,  2.,  4.,  6., 25., 19.,\n",
       "       13.,  2., 13., 31.,  5.,  9., 10., 35.,  3., 35., 18.,  9., 19.,\n",
       "        9., 35.,  8.,  6., 11.,  9.,  5.,  7.,  3., 35., 35.,  6., 22.,\n",
       "       22., 11., 27.,  4., 35.,  9.,  4.,  3.,  6., 35.,  4.,  8.,  8.,\n",
       "        2.,  5.,  2.,  4., 17., 13., 24., 22., 13., 12., 19.,  3.,  6.,\n",
       "        4.,  6.,  8.,  7.,  7.,  3.,  3.,  4.,  2.,  5., 13.,  8., 35.,\n",
       "       10.,  2.,  5.,  9., 10.,  6.,  3.,  4.,  3.,  3.,  3.,  3.,  3.,\n",
       "        8.,  2., 20.,  7.,  4., 16.,  9.,  5., 10.,  7., 11.,  3., 22.,\n",
       "       35., 29., 30.,  3.,  5.,  2.,  8.,  2.,  3., 35.,  4.,  7., 30.,\n",
       "       25.,  5.,  9.,  6.,  5.,  6.,  9.,  9.,  6.,  8.,  9., 20.,  7.,\n",
       "        9., 10.,  5., 27., 35., 11., 18.,  3.,  3.])"
      ]
     },
     "execution_count": 113,
     "metadata": {},
     "output_type": "execute_result"
    }
   ],
   "source": [
    "class_1.predict(x_test)"
   ]
  },
  {
   "cell_type": "code",
   "execution_count": 114,
   "id": "84bd839f-fe4d-4795-92ff-b3399facbc6c",
   "metadata": {},
   "outputs": [
    {
     "data": {
      "text/plain": [
       "0.816081056152738"
      ]
     },
     "execution_count": 114,
     "metadata": {},
     "output_type": "execute_result"
    }
   ],
   "source": [
    "class_1.score(x_test,y_test)"
   ]
  },
  {
   "cell_type": "markdown",
   "id": "7c74f353-4e04-418b-8f2f-63de77d1720e",
   "metadata": {},
   "source": [
    "# iii)Building RandomForestRegressor Model"
   ]
  },
  {
   "cell_type": "code",
   "execution_count": 115,
   "id": "5a05554b-327b-4762-9f43-6bf07123bcab",
   "metadata": {},
   "outputs": [
    {
     "data": {
      "text/html": [
       "<style>#sk-container-id-3 {\n",
       "  /* Definition of color scheme common for light and dark mode */\n",
       "  --sklearn-color-text: black;\n",
       "  --sklearn-color-line: gray;\n",
       "  /* Definition of color scheme for unfitted estimators */\n",
       "  --sklearn-color-unfitted-level-0: #fff5e6;\n",
       "  --sklearn-color-unfitted-level-1: #f6e4d2;\n",
       "  --sklearn-color-unfitted-level-2: #ffe0b3;\n",
       "  --sklearn-color-unfitted-level-3: chocolate;\n",
       "  /* Definition of color scheme for fitted estimators */\n",
       "  --sklearn-color-fitted-level-0: #f0f8ff;\n",
       "  --sklearn-color-fitted-level-1: #d4ebff;\n",
       "  --sklearn-color-fitted-level-2: #b3dbfd;\n",
       "  --sklearn-color-fitted-level-3: cornflowerblue;\n",
       "\n",
       "  /* Specific color for light theme */\n",
       "  --sklearn-color-text-on-default-background: var(--sg-text-color, var(--theme-code-foreground, var(--jp-content-font-color1, black)));\n",
       "  --sklearn-color-background: var(--sg-background-color, var(--theme-background, var(--jp-layout-color0, white)));\n",
       "  --sklearn-color-border-box: var(--sg-text-color, var(--theme-code-foreground, var(--jp-content-font-color1, black)));\n",
       "  --sklearn-color-icon: #696969;\n",
       "\n",
       "  @media (prefers-color-scheme: dark) {\n",
       "    /* Redefinition of color scheme for dark theme */\n",
       "    --sklearn-color-text-on-default-background: var(--sg-text-color, var(--theme-code-foreground, var(--jp-content-font-color1, white)));\n",
       "    --sklearn-color-background: var(--sg-background-color, var(--theme-background, var(--jp-layout-color0, #111)));\n",
       "    --sklearn-color-border-box: var(--sg-text-color, var(--theme-code-foreground, var(--jp-content-font-color1, white)));\n",
       "    --sklearn-color-icon: #878787;\n",
       "  }\n",
       "}\n",
       "\n",
       "#sk-container-id-3 {\n",
       "  color: var(--sklearn-color-text);\n",
       "}\n",
       "\n",
       "#sk-container-id-3 pre {\n",
       "  padding: 0;\n",
       "}\n",
       "\n",
       "#sk-container-id-3 input.sk-hidden--visually {\n",
       "  border: 0;\n",
       "  clip: rect(1px 1px 1px 1px);\n",
       "  clip: rect(1px, 1px, 1px, 1px);\n",
       "  height: 1px;\n",
       "  margin: -1px;\n",
       "  overflow: hidden;\n",
       "  padding: 0;\n",
       "  position: absolute;\n",
       "  width: 1px;\n",
       "}\n",
       "\n",
       "#sk-container-id-3 div.sk-dashed-wrapped {\n",
       "  border: 1px dashed var(--sklearn-color-line);\n",
       "  margin: 0 0.4em 0.5em 0.4em;\n",
       "  box-sizing: border-box;\n",
       "  padding-bottom: 0.4em;\n",
       "  background-color: var(--sklearn-color-background);\n",
       "}\n",
       "\n",
       "#sk-container-id-3 div.sk-container {\n",
       "  /* jupyter's `normalize.less` sets `[hidden] { display: none; }`\n",
       "     but bootstrap.min.css set `[hidden] { display: none !important; }`\n",
       "     so we also need the `!important` here to be able to override the\n",
       "     default hidden behavior on the sphinx rendered scikit-learn.org.\n",
       "     See: https://github.com/scikit-learn/scikit-learn/issues/21755 */\n",
       "  display: inline-block !important;\n",
       "  position: relative;\n",
       "}\n",
       "\n",
       "#sk-container-id-3 div.sk-text-repr-fallback {\n",
       "  display: none;\n",
       "}\n",
       "\n",
       "div.sk-parallel-item,\n",
       "div.sk-serial,\n",
       "div.sk-item {\n",
       "  /* draw centered vertical line to link estimators */\n",
       "  background-image: linear-gradient(var(--sklearn-color-text-on-default-background), var(--sklearn-color-text-on-default-background));\n",
       "  background-size: 2px 100%;\n",
       "  background-repeat: no-repeat;\n",
       "  background-position: center center;\n",
       "}\n",
       "\n",
       "/* Parallel-specific style estimator block */\n",
       "\n",
       "#sk-container-id-3 div.sk-parallel-item::after {\n",
       "  content: \"\";\n",
       "  width: 100%;\n",
       "  border-bottom: 2px solid var(--sklearn-color-text-on-default-background);\n",
       "  flex-grow: 1;\n",
       "}\n",
       "\n",
       "#sk-container-id-3 div.sk-parallel {\n",
       "  display: flex;\n",
       "  align-items: stretch;\n",
       "  justify-content: center;\n",
       "  background-color: var(--sklearn-color-background);\n",
       "  position: relative;\n",
       "}\n",
       "\n",
       "#sk-container-id-3 div.sk-parallel-item {\n",
       "  display: flex;\n",
       "  flex-direction: column;\n",
       "}\n",
       "\n",
       "#sk-container-id-3 div.sk-parallel-item:first-child::after {\n",
       "  align-self: flex-end;\n",
       "  width: 50%;\n",
       "}\n",
       "\n",
       "#sk-container-id-3 div.sk-parallel-item:last-child::after {\n",
       "  align-self: flex-start;\n",
       "  width: 50%;\n",
       "}\n",
       "\n",
       "#sk-container-id-3 div.sk-parallel-item:only-child::after {\n",
       "  width: 0;\n",
       "}\n",
       "\n",
       "/* Serial-specific style estimator block */\n",
       "\n",
       "#sk-container-id-3 div.sk-serial {\n",
       "  display: flex;\n",
       "  flex-direction: column;\n",
       "  align-items: center;\n",
       "  background-color: var(--sklearn-color-background);\n",
       "  padding-right: 1em;\n",
       "  padding-left: 1em;\n",
       "}\n",
       "\n",
       "\n",
       "/* Toggleable style: style used for estimator/Pipeline/ColumnTransformer box that is\n",
       "clickable and can be expanded/collapsed.\n",
       "- Pipeline and ColumnTransformer use this feature and define the default style\n",
       "- Estimators will overwrite some part of the style using the `sk-estimator` class\n",
       "*/\n",
       "\n",
       "/* Pipeline and ColumnTransformer style (default) */\n",
       "\n",
       "#sk-container-id-3 div.sk-toggleable {\n",
       "  /* Default theme specific background. It is overwritten whether we have a\n",
       "  specific estimator or a Pipeline/ColumnTransformer */\n",
       "  background-color: var(--sklearn-color-background);\n",
       "}\n",
       "\n",
       "/* Toggleable label */\n",
       "#sk-container-id-3 label.sk-toggleable__label {\n",
       "  cursor: pointer;\n",
       "  display: block;\n",
       "  width: 100%;\n",
       "  margin-bottom: 0;\n",
       "  padding: 0.5em;\n",
       "  box-sizing: border-box;\n",
       "  text-align: center;\n",
       "}\n",
       "\n",
       "#sk-container-id-3 label.sk-toggleable__label-arrow:before {\n",
       "  /* Arrow on the left of the label */\n",
       "  content: \"▸\";\n",
       "  float: left;\n",
       "  margin-right: 0.25em;\n",
       "  color: var(--sklearn-color-icon);\n",
       "}\n",
       "\n",
       "#sk-container-id-3 label.sk-toggleable__label-arrow:hover:before {\n",
       "  color: var(--sklearn-color-text);\n",
       "}\n",
       "\n",
       "/* Toggleable content - dropdown */\n",
       "\n",
       "#sk-container-id-3 div.sk-toggleable__content {\n",
       "  max-height: 0;\n",
       "  max-width: 0;\n",
       "  overflow: hidden;\n",
       "  text-align: left;\n",
       "  /* unfitted */\n",
       "  background-color: var(--sklearn-color-unfitted-level-0);\n",
       "}\n",
       "\n",
       "#sk-container-id-3 div.sk-toggleable__content.fitted {\n",
       "  /* fitted */\n",
       "  background-color: var(--sklearn-color-fitted-level-0);\n",
       "}\n",
       "\n",
       "#sk-container-id-3 div.sk-toggleable__content pre {\n",
       "  margin: 0.2em;\n",
       "  border-radius: 0.25em;\n",
       "  color: var(--sklearn-color-text);\n",
       "  /* unfitted */\n",
       "  background-color: var(--sklearn-color-unfitted-level-0);\n",
       "}\n",
       "\n",
       "#sk-container-id-3 div.sk-toggleable__content.fitted pre {\n",
       "  /* unfitted */\n",
       "  background-color: var(--sklearn-color-fitted-level-0);\n",
       "}\n",
       "\n",
       "#sk-container-id-3 input.sk-toggleable__control:checked~div.sk-toggleable__content {\n",
       "  /* Expand drop-down */\n",
       "  max-height: 200px;\n",
       "  max-width: 100%;\n",
       "  overflow: auto;\n",
       "}\n",
       "\n",
       "#sk-container-id-3 input.sk-toggleable__control:checked~label.sk-toggleable__label-arrow:before {\n",
       "  content: \"▾\";\n",
       "}\n",
       "\n",
       "/* Pipeline/ColumnTransformer-specific style */\n",
       "\n",
       "#sk-container-id-3 div.sk-label input.sk-toggleable__control:checked~label.sk-toggleable__label {\n",
       "  color: var(--sklearn-color-text);\n",
       "  background-color: var(--sklearn-color-unfitted-level-2);\n",
       "}\n",
       "\n",
       "#sk-container-id-3 div.sk-label.fitted input.sk-toggleable__control:checked~label.sk-toggleable__label {\n",
       "  background-color: var(--sklearn-color-fitted-level-2);\n",
       "}\n",
       "\n",
       "/* Estimator-specific style */\n",
       "\n",
       "/* Colorize estimator box */\n",
       "#sk-container-id-3 div.sk-estimator input.sk-toggleable__control:checked~label.sk-toggleable__label {\n",
       "  /* unfitted */\n",
       "  background-color: var(--sklearn-color-unfitted-level-2);\n",
       "}\n",
       "\n",
       "#sk-container-id-3 div.sk-estimator.fitted input.sk-toggleable__control:checked~label.sk-toggleable__label {\n",
       "  /* fitted */\n",
       "  background-color: var(--sklearn-color-fitted-level-2);\n",
       "}\n",
       "\n",
       "#sk-container-id-3 div.sk-label label.sk-toggleable__label,\n",
       "#sk-container-id-3 div.sk-label label {\n",
       "  /* The background is the default theme color */\n",
       "  color: var(--sklearn-color-text-on-default-background);\n",
       "}\n",
       "\n",
       "/* On hover, darken the color of the background */\n",
       "#sk-container-id-3 div.sk-label:hover label.sk-toggleable__label {\n",
       "  color: var(--sklearn-color-text);\n",
       "  background-color: var(--sklearn-color-unfitted-level-2);\n",
       "}\n",
       "\n",
       "/* Label box, darken color on hover, fitted */\n",
       "#sk-container-id-3 div.sk-label.fitted:hover label.sk-toggleable__label.fitted {\n",
       "  color: var(--sklearn-color-text);\n",
       "  background-color: var(--sklearn-color-fitted-level-2);\n",
       "}\n",
       "\n",
       "/* Estimator label */\n",
       "\n",
       "#sk-container-id-3 div.sk-label label {\n",
       "  font-family: monospace;\n",
       "  font-weight: bold;\n",
       "  display: inline-block;\n",
       "  line-height: 1.2em;\n",
       "}\n",
       "\n",
       "#sk-container-id-3 div.sk-label-container {\n",
       "  text-align: center;\n",
       "}\n",
       "\n",
       "/* Estimator-specific */\n",
       "#sk-container-id-3 div.sk-estimator {\n",
       "  font-family: monospace;\n",
       "  border: 1px dotted var(--sklearn-color-border-box);\n",
       "  border-radius: 0.25em;\n",
       "  box-sizing: border-box;\n",
       "  margin-bottom: 0.5em;\n",
       "  /* unfitted */\n",
       "  background-color: var(--sklearn-color-unfitted-level-0);\n",
       "}\n",
       "\n",
       "#sk-container-id-3 div.sk-estimator.fitted {\n",
       "  /* fitted */\n",
       "  background-color: var(--sklearn-color-fitted-level-0);\n",
       "}\n",
       "\n",
       "/* on hover */\n",
       "#sk-container-id-3 div.sk-estimator:hover {\n",
       "  /* unfitted */\n",
       "  background-color: var(--sklearn-color-unfitted-level-2);\n",
       "}\n",
       "\n",
       "#sk-container-id-3 div.sk-estimator.fitted:hover {\n",
       "  /* fitted */\n",
       "  background-color: var(--sklearn-color-fitted-level-2);\n",
       "}\n",
       "\n",
       "/* Specification for estimator info (e.g. \"i\" and \"?\") */\n",
       "\n",
       "/* Common style for \"i\" and \"?\" */\n",
       "\n",
       ".sk-estimator-doc-link,\n",
       "a:link.sk-estimator-doc-link,\n",
       "a:visited.sk-estimator-doc-link {\n",
       "  float: right;\n",
       "  font-size: smaller;\n",
       "  line-height: 1em;\n",
       "  font-family: monospace;\n",
       "  background-color: var(--sklearn-color-background);\n",
       "  border-radius: 1em;\n",
       "  height: 1em;\n",
       "  width: 1em;\n",
       "  text-decoration: none !important;\n",
       "  margin-left: 1ex;\n",
       "  /* unfitted */\n",
       "  border: var(--sklearn-color-unfitted-level-1) 1pt solid;\n",
       "  color: var(--sklearn-color-unfitted-level-1);\n",
       "}\n",
       "\n",
       ".sk-estimator-doc-link.fitted,\n",
       "a:link.sk-estimator-doc-link.fitted,\n",
       "a:visited.sk-estimator-doc-link.fitted {\n",
       "  /* fitted */\n",
       "  border: var(--sklearn-color-fitted-level-1) 1pt solid;\n",
       "  color: var(--sklearn-color-fitted-level-1);\n",
       "}\n",
       "\n",
       "/* On hover */\n",
       "div.sk-estimator:hover .sk-estimator-doc-link:hover,\n",
       ".sk-estimator-doc-link:hover,\n",
       "div.sk-label-container:hover .sk-estimator-doc-link:hover,\n",
       ".sk-estimator-doc-link:hover {\n",
       "  /* unfitted */\n",
       "  background-color: var(--sklearn-color-unfitted-level-3);\n",
       "  color: var(--sklearn-color-background);\n",
       "  text-decoration: none;\n",
       "}\n",
       "\n",
       "div.sk-estimator.fitted:hover .sk-estimator-doc-link.fitted:hover,\n",
       ".sk-estimator-doc-link.fitted:hover,\n",
       "div.sk-label-container:hover .sk-estimator-doc-link.fitted:hover,\n",
       ".sk-estimator-doc-link.fitted:hover {\n",
       "  /* fitted */\n",
       "  background-color: var(--sklearn-color-fitted-level-3);\n",
       "  color: var(--sklearn-color-background);\n",
       "  text-decoration: none;\n",
       "}\n",
       "\n",
       "/* Span, style for the box shown on hovering the info icon */\n",
       ".sk-estimator-doc-link span {\n",
       "  display: none;\n",
       "  z-index: 9999;\n",
       "  position: relative;\n",
       "  font-weight: normal;\n",
       "  right: .2ex;\n",
       "  padding: .5ex;\n",
       "  margin: .5ex;\n",
       "  width: min-content;\n",
       "  min-width: 20ex;\n",
       "  max-width: 50ex;\n",
       "  color: var(--sklearn-color-text);\n",
       "  box-shadow: 2pt 2pt 4pt #999;\n",
       "  /* unfitted */\n",
       "  background: var(--sklearn-color-unfitted-level-0);\n",
       "  border: .5pt solid var(--sklearn-color-unfitted-level-3);\n",
       "}\n",
       "\n",
       ".sk-estimator-doc-link.fitted span {\n",
       "  /* fitted */\n",
       "  background: var(--sklearn-color-fitted-level-0);\n",
       "  border: var(--sklearn-color-fitted-level-3);\n",
       "}\n",
       "\n",
       ".sk-estimator-doc-link:hover span {\n",
       "  display: block;\n",
       "}\n",
       "\n",
       "/* \"?\"-specific style due to the `<a>` HTML tag */\n",
       "\n",
       "#sk-container-id-3 a.estimator_doc_link {\n",
       "  float: right;\n",
       "  font-size: 1rem;\n",
       "  line-height: 1em;\n",
       "  font-family: monospace;\n",
       "  background-color: var(--sklearn-color-background);\n",
       "  border-radius: 1rem;\n",
       "  height: 1rem;\n",
       "  width: 1rem;\n",
       "  text-decoration: none;\n",
       "  /* unfitted */\n",
       "  color: var(--sklearn-color-unfitted-level-1);\n",
       "  border: var(--sklearn-color-unfitted-level-1) 1pt solid;\n",
       "}\n",
       "\n",
       "#sk-container-id-3 a.estimator_doc_link.fitted {\n",
       "  /* fitted */\n",
       "  border: var(--sklearn-color-fitted-level-1) 1pt solid;\n",
       "  color: var(--sklearn-color-fitted-level-1);\n",
       "}\n",
       "\n",
       "/* On hover */\n",
       "#sk-container-id-3 a.estimator_doc_link:hover {\n",
       "  /* unfitted */\n",
       "  background-color: var(--sklearn-color-unfitted-level-3);\n",
       "  color: var(--sklearn-color-background);\n",
       "  text-decoration: none;\n",
       "}\n",
       "\n",
       "#sk-container-id-3 a.estimator_doc_link.fitted:hover {\n",
       "  /* fitted */\n",
       "  background-color: var(--sklearn-color-fitted-level-3);\n",
       "}\n",
       "</style><div id=\"sk-container-id-3\" class=\"sk-top-container\"><div class=\"sk-text-repr-fallback\"><pre>RandomForestRegressor()</pre><b>In a Jupyter environment, please rerun this cell to show the HTML representation or trust the notebook. <br />On GitHub, the HTML representation is unable to render, please try loading this page with nbviewer.org.</b></div><div class=\"sk-container\" hidden><div class=\"sk-item\"><div class=\"sk-estimator fitted sk-toggleable\"><input class=\"sk-toggleable__control sk-hidden--visually\" id=\"sk-estimator-id-3\" type=\"checkbox\" checked><label for=\"sk-estimator-id-3\" class=\"sk-toggleable__label fitted sk-toggleable__label-arrow fitted\">&nbsp;&nbsp;RandomForestRegressor<a class=\"sk-estimator-doc-link fitted\" rel=\"noreferrer\" target=\"_blank\" href=\"https://scikit-learn.org/1.4/modules/generated/sklearn.ensemble.RandomForestRegressor.html\">?<span>Documentation for RandomForestRegressor</span></a><span class=\"sk-estimator-doc-link fitted\">i<span>Fitted</span></span></label><div class=\"sk-toggleable__content fitted\"><pre>RandomForestRegressor()</pre></div> </div></div></div></div>"
      ],
      "text/plain": [
       "RandomForestRegressor()"
      ]
     },
     "execution_count": 115,
     "metadata": {},
     "output_type": "execute_result"
    }
   ],
   "source": [
    "from sklearn.ensemble import RandomForestRegressor\n",
    "class_2=RandomForestRegressor()\n",
    "class_2.fit(x_train,y_train)"
   ]
  },
  {
   "cell_type": "code",
   "execution_count": 116,
   "id": "9e2d286b-b4e3-42a7-aa9f-a293ddd5aa27",
   "metadata": {},
   "outputs": [
    {
     "data": {
      "text/plain": [
       "array([11.36,  3.84, 24.2 , 13.94,  3.21,  5.31,  5.71, 22.51,  3.53,\n",
       "        2.61,  3.71, 19.03, 21.81,  5.46, 32.57,  9.19, 19.67,  3.8 ,\n",
       "        5.1 , 19.67,  9.94,  3.18,  3.91,  4.13, 31.74, 14.63,  4.57,\n",
       "        6.24, 12.53, 17.25,  7.05, 24.02,  3.23,  5.47,  2.28,  4.47,\n",
       "        5.39, 24.77, 19.55, 18.72,  2.42, 10.69, 26.05,  5.9 ,  8.59,\n",
       "        9.58, 32.65,  2.69, 28.7 , 23.56,  9.17, 19.06,  8.66, 29.47,\n",
       "        9.24,  4.53, 22.9 ,  9.49,  3.53,  8.14,  3.28, 30.48, 33.74,\n",
       "        6.57, 19.6 , 20.19, 12.83, 26.09,  4.5 , 34.08,  9.11,  3.99,\n",
       "        2.74,  9.52, 31.7 ,  5.63,  7.79,  7.43,  2.72,  4.43,  2.27,\n",
       "        4.34, 19.58, 10.97, 23.22, 22.78,  9.59, 10.89, 18.55,  2.73,\n",
       "        5.87,  4.3 ,  6.62,  6.9 , 10.32,  6.57,  2.81,  3.59,  4.36,\n",
       "        3.66,  4.99, 16.37,  7.6 , 21.03,  8.24,  2.27,  4.64,  8.53,\n",
       "        9.9 ,  6.11,  2.72,  3.81,  3.34,  3.59,  3.7 ,  4.46,  3.04,\n",
       "        8.38,  2.88, 17.68,  7.26,  2.97, 17.02,  6.82,  4.33,  9.81,\n",
       "       22.83, 13.22,  5.39, 21.21, 34.4 , 23.29, 28.86,  3.48,  4.84,\n",
       "        2.32,  8.39,  2.54,  3.56, 34.37,  4.37,  5.31, 28.71, 25.59,\n",
       "        5.2 ,  9.47,  5.93,  7.17,  6.19,  9.4 ,  8.71,  5.32,  6.  ,\n",
       "        8.59, 26.36,  5.81,  8.7 ,  9.92,  4.93, 26.66, 34.72,  8.86,\n",
       "       18.76,  3.5 ,  2.82])"
      ]
     },
     "execution_count": 116,
     "metadata": {},
     "output_type": "execute_result"
    }
   ],
   "source": [
    "y_pred=class_2.predict(x_test)\n",
    "y_pred"
   ]
  },
  {
   "cell_type": "code",
   "execution_count": 117,
   "id": "3af30747-ecb4-4bc1-9015-d43d752525ba",
   "metadata": {},
   "outputs": [
    {
     "data": {
      "text/plain": [
       "0.919713490675316"
      ]
     },
     "execution_count": 117,
     "metadata": {},
     "output_type": "execute_result"
    }
   ],
   "source": [
    "class_2.score(x_test,y_test)"
   ]
  },
  {
   "cell_type": "markdown",
   "id": "0d2628fa-20a9-4989-b7f4-3b35a6b37192",
   "metadata": {},
   "source": [
    "# iv)Building KNeighborsRegressor Model"
   ]
  },
  {
   "cell_type": "code",
   "execution_count": 118,
   "id": "5c43402a-e643-4fe8-8768-45defac4332d",
   "metadata": {},
   "outputs": [],
   "source": [
    "from sklearn.neighbors import KNeighborsRegressor"
   ]
  },
  {
   "cell_type": "code",
   "execution_count": 119,
   "id": "48ff216f-df09-4d0f-b485-71de81bf56d7",
   "metadata": {},
   "outputs": [
    {
     "data": {
      "text/html": [
       "<style>#sk-container-id-4 {\n",
       "  /* Definition of color scheme common for light and dark mode */\n",
       "  --sklearn-color-text: black;\n",
       "  --sklearn-color-line: gray;\n",
       "  /* Definition of color scheme for unfitted estimators */\n",
       "  --sklearn-color-unfitted-level-0: #fff5e6;\n",
       "  --sklearn-color-unfitted-level-1: #f6e4d2;\n",
       "  --sklearn-color-unfitted-level-2: #ffe0b3;\n",
       "  --sklearn-color-unfitted-level-3: chocolate;\n",
       "  /* Definition of color scheme for fitted estimators */\n",
       "  --sklearn-color-fitted-level-0: #f0f8ff;\n",
       "  --sklearn-color-fitted-level-1: #d4ebff;\n",
       "  --sklearn-color-fitted-level-2: #b3dbfd;\n",
       "  --sklearn-color-fitted-level-3: cornflowerblue;\n",
       "\n",
       "  /* Specific color for light theme */\n",
       "  --sklearn-color-text-on-default-background: var(--sg-text-color, var(--theme-code-foreground, var(--jp-content-font-color1, black)));\n",
       "  --sklearn-color-background: var(--sg-background-color, var(--theme-background, var(--jp-layout-color0, white)));\n",
       "  --sklearn-color-border-box: var(--sg-text-color, var(--theme-code-foreground, var(--jp-content-font-color1, black)));\n",
       "  --sklearn-color-icon: #696969;\n",
       "\n",
       "  @media (prefers-color-scheme: dark) {\n",
       "    /* Redefinition of color scheme for dark theme */\n",
       "    --sklearn-color-text-on-default-background: var(--sg-text-color, var(--theme-code-foreground, var(--jp-content-font-color1, white)));\n",
       "    --sklearn-color-background: var(--sg-background-color, var(--theme-background, var(--jp-layout-color0, #111)));\n",
       "    --sklearn-color-border-box: var(--sg-text-color, var(--theme-code-foreground, var(--jp-content-font-color1, white)));\n",
       "    --sklearn-color-icon: #878787;\n",
       "  }\n",
       "}\n",
       "\n",
       "#sk-container-id-4 {\n",
       "  color: var(--sklearn-color-text);\n",
       "}\n",
       "\n",
       "#sk-container-id-4 pre {\n",
       "  padding: 0;\n",
       "}\n",
       "\n",
       "#sk-container-id-4 input.sk-hidden--visually {\n",
       "  border: 0;\n",
       "  clip: rect(1px 1px 1px 1px);\n",
       "  clip: rect(1px, 1px, 1px, 1px);\n",
       "  height: 1px;\n",
       "  margin: -1px;\n",
       "  overflow: hidden;\n",
       "  padding: 0;\n",
       "  position: absolute;\n",
       "  width: 1px;\n",
       "}\n",
       "\n",
       "#sk-container-id-4 div.sk-dashed-wrapped {\n",
       "  border: 1px dashed var(--sklearn-color-line);\n",
       "  margin: 0 0.4em 0.5em 0.4em;\n",
       "  box-sizing: border-box;\n",
       "  padding-bottom: 0.4em;\n",
       "  background-color: var(--sklearn-color-background);\n",
       "}\n",
       "\n",
       "#sk-container-id-4 div.sk-container {\n",
       "  /* jupyter's `normalize.less` sets `[hidden] { display: none; }`\n",
       "     but bootstrap.min.css set `[hidden] { display: none !important; }`\n",
       "     so we also need the `!important` here to be able to override the\n",
       "     default hidden behavior on the sphinx rendered scikit-learn.org.\n",
       "     See: https://github.com/scikit-learn/scikit-learn/issues/21755 */\n",
       "  display: inline-block !important;\n",
       "  position: relative;\n",
       "}\n",
       "\n",
       "#sk-container-id-4 div.sk-text-repr-fallback {\n",
       "  display: none;\n",
       "}\n",
       "\n",
       "div.sk-parallel-item,\n",
       "div.sk-serial,\n",
       "div.sk-item {\n",
       "  /* draw centered vertical line to link estimators */\n",
       "  background-image: linear-gradient(var(--sklearn-color-text-on-default-background), var(--sklearn-color-text-on-default-background));\n",
       "  background-size: 2px 100%;\n",
       "  background-repeat: no-repeat;\n",
       "  background-position: center center;\n",
       "}\n",
       "\n",
       "/* Parallel-specific style estimator block */\n",
       "\n",
       "#sk-container-id-4 div.sk-parallel-item::after {\n",
       "  content: \"\";\n",
       "  width: 100%;\n",
       "  border-bottom: 2px solid var(--sklearn-color-text-on-default-background);\n",
       "  flex-grow: 1;\n",
       "}\n",
       "\n",
       "#sk-container-id-4 div.sk-parallel {\n",
       "  display: flex;\n",
       "  align-items: stretch;\n",
       "  justify-content: center;\n",
       "  background-color: var(--sklearn-color-background);\n",
       "  position: relative;\n",
       "}\n",
       "\n",
       "#sk-container-id-4 div.sk-parallel-item {\n",
       "  display: flex;\n",
       "  flex-direction: column;\n",
       "}\n",
       "\n",
       "#sk-container-id-4 div.sk-parallel-item:first-child::after {\n",
       "  align-self: flex-end;\n",
       "  width: 50%;\n",
       "}\n",
       "\n",
       "#sk-container-id-4 div.sk-parallel-item:last-child::after {\n",
       "  align-self: flex-start;\n",
       "  width: 50%;\n",
       "}\n",
       "\n",
       "#sk-container-id-4 div.sk-parallel-item:only-child::after {\n",
       "  width: 0;\n",
       "}\n",
       "\n",
       "/* Serial-specific style estimator block */\n",
       "\n",
       "#sk-container-id-4 div.sk-serial {\n",
       "  display: flex;\n",
       "  flex-direction: column;\n",
       "  align-items: center;\n",
       "  background-color: var(--sklearn-color-background);\n",
       "  padding-right: 1em;\n",
       "  padding-left: 1em;\n",
       "}\n",
       "\n",
       "\n",
       "/* Toggleable style: style used for estimator/Pipeline/ColumnTransformer box that is\n",
       "clickable and can be expanded/collapsed.\n",
       "- Pipeline and ColumnTransformer use this feature and define the default style\n",
       "- Estimators will overwrite some part of the style using the `sk-estimator` class\n",
       "*/\n",
       "\n",
       "/* Pipeline and ColumnTransformer style (default) */\n",
       "\n",
       "#sk-container-id-4 div.sk-toggleable {\n",
       "  /* Default theme specific background. It is overwritten whether we have a\n",
       "  specific estimator or a Pipeline/ColumnTransformer */\n",
       "  background-color: var(--sklearn-color-background);\n",
       "}\n",
       "\n",
       "/* Toggleable label */\n",
       "#sk-container-id-4 label.sk-toggleable__label {\n",
       "  cursor: pointer;\n",
       "  display: block;\n",
       "  width: 100%;\n",
       "  margin-bottom: 0;\n",
       "  padding: 0.5em;\n",
       "  box-sizing: border-box;\n",
       "  text-align: center;\n",
       "}\n",
       "\n",
       "#sk-container-id-4 label.sk-toggleable__label-arrow:before {\n",
       "  /* Arrow on the left of the label */\n",
       "  content: \"▸\";\n",
       "  float: left;\n",
       "  margin-right: 0.25em;\n",
       "  color: var(--sklearn-color-icon);\n",
       "}\n",
       "\n",
       "#sk-container-id-4 label.sk-toggleable__label-arrow:hover:before {\n",
       "  color: var(--sklearn-color-text);\n",
       "}\n",
       "\n",
       "/* Toggleable content - dropdown */\n",
       "\n",
       "#sk-container-id-4 div.sk-toggleable__content {\n",
       "  max-height: 0;\n",
       "  max-width: 0;\n",
       "  overflow: hidden;\n",
       "  text-align: left;\n",
       "  /* unfitted */\n",
       "  background-color: var(--sklearn-color-unfitted-level-0);\n",
       "}\n",
       "\n",
       "#sk-container-id-4 div.sk-toggleable__content.fitted {\n",
       "  /* fitted */\n",
       "  background-color: var(--sklearn-color-fitted-level-0);\n",
       "}\n",
       "\n",
       "#sk-container-id-4 div.sk-toggleable__content pre {\n",
       "  margin: 0.2em;\n",
       "  border-radius: 0.25em;\n",
       "  color: var(--sklearn-color-text);\n",
       "  /* unfitted */\n",
       "  background-color: var(--sklearn-color-unfitted-level-0);\n",
       "}\n",
       "\n",
       "#sk-container-id-4 div.sk-toggleable__content.fitted pre {\n",
       "  /* unfitted */\n",
       "  background-color: var(--sklearn-color-fitted-level-0);\n",
       "}\n",
       "\n",
       "#sk-container-id-4 input.sk-toggleable__control:checked~div.sk-toggleable__content {\n",
       "  /* Expand drop-down */\n",
       "  max-height: 200px;\n",
       "  max-width: 100%;\n",
       "  overflow: auto;\n",
       "}\n",
       "\n",
       "#sk-container-id-4 input.sk-toggleable__control:checked~label.sk-toggleable__label-arrow:before {\n",
       "  content: \"▾\";\n",
       "}\n",
       "\n",
       "/* Pipeline/ColumnTransformer-specific style */\n",
       "\n",
       "#sk-container-id-4 div.sk-label input.sk-toggleable__control:checked~label.sk-toggleable__label {\n",
       "  color: var(--sklearn-color-text);\n",
       "  background-color: var(--sklearn-color-unfitted-level-2);\n",
       "}\n",
       "\n",
       "#sk-container-id-4 div.sk-label.fitted input.sk-toggleable__control:checked~label.sk-toggleable__label {\n",
       "  background-color: var(--sklearn-color-fitted-level-2);\n",
       "}\n",
       "\n",
       "/* Estimator-specific style */\n",
       "\n",
       "/* Colorize estimator box */\n",
       "#sk-container-id-4 div.sk-estimator input.sk-toggleable__control:checked~label.sk-toggleable__label {\n",
       "  /* unfitted */\n",
       "  background-color: var(--sklearn-color-unfitted-level-2);\n",
       "}\n",
       "\n",
       "#sk-container-id-4 div.sk-estimator.fitted input.sk-toggleable__control:checked~label.sk-toggleable__label {\n",
       "  /* fitted */\n",
       "  background-color: var(--sklearn-color-fitted-level-2);\n",
       "}\n",
       "\n",
       "#sk-container-id-4 div.sk-label label.sk-toggleable__label,\n",
       "#sk-container-id-4 div.sk-label label {\n",
       "  /* The background is the default theme color */\n",
       "  color: var(--sklearn-color-text-on-default-background);\n",
       "}\n",
       "\n",
       "/* On hover, darken the color of the background */\n",
       "#sk-container-id-4 div.sk-label:hover label.sk-toggleable__label {\n",
       "  color: var(--sklearn-color-text);\n",
       "  background-color: var(--sklearn-color-unfitted-level-2);\n",
       "}\n",
       "\n",
       "/* Label box, darken color on hover, fitted */\n",
       "#sk-container-id-4 div.sk-label.fitted:hover label.sk-toggleable__label.fitted {\n",
       "  color: var(--sklearn-color-text);\n",
       "  background-color: var(--sklearn-color-fitted-level-2);\n",
       "}\n",
       "\n",
       "/* Estimator label */\n",
       "\n",
       "#sk-container-id-4 div.sk-label label {\n",
       "  font-family: monospace;\n",
       "  font-weight: bold;\n",
       "  display: inline-block;\n",
       "  line-height: 1.2em;\n",
       "}\n",
       "\n",
       "#sk-container-id-4 div.sk-label-container {\n",
       "  text-align: center;\n",
       "}\n",
       "\n",
       "/* Estimator-specific */\n",
       "#sk-container-id-4 div.sk-estimator {\n",
       "  font-family: monospace;\n",
       "  border: 1px dotted var(--sklearn-color-border-box);\n",
       "  border-radius: 0.25em;\n",
       "  box-sizing: border-box;\n",
       "  margin-bottom: 0.5em;\n",
       "  /* unfitted */\n",
       "  background-color: var(--sklearn-color-unfitted-level-0);\n",
       "}\n",
       "\n",
       "#sk-container-id-4 div.sk-estimator.fitted {\n",
       "  /* fitted */\n",
       "  background-color: var(--sklearn-color-fitted-level-0);\n",
       "}\n",
       "\n",
       "/* on hover */\n",
       "#sk-container-id-4 div.sk-estimator:hover {\n",
       "  /* unfitted */\n",
       "  background-color: var(--sklearn-color-unfitted-level-2);\n",
       "}\n",
       "\n",
       "#sk-container-id-4 div.sk-estimator.fitted:hover {\n",
       "  /* fitted */\n",
       "  background-color: var(--sklearn-color-fitted-level-2);\n",
       "}\n",
       "\n",
       "/* Specification for estimator info (e.g. \"i\" and \"?\") */\n",
       "\n",
       "/* Common style for \"i\" and \"?\" */\n",
       "\n",
       ".sk-estimator-doc-link,\n",
       "a:link.sk-estimator-doc-link,\n",
       "a:visited.sk-estimator-doc-link {\n",
       "  float: right;\n",
       "  font-size: smaller;\n",
       "  line-height: 1em;\n",
       "  font-family: monospace;\n",
       "  background-color: var(--sklearn-color-background);\n",
       "  border-radius: 1em;\n",
       "  height: 1em;\n",
       "  width: 1em;\n",
       "  text-decoration: none !important;\n",
       "  margin-left: 1ex;\n",
       "  /* unfitted */\n",
       "  border: var(--sklearn-color-unfitted-level-1) 1pt solid;\n",
       "  color: var(--sklearn-color-unfitted-level-1);\n",
       "}\n",
       "\n",
       ".sk-estimator-doc-link.fitted,\n",
       "a:link.sk-estimator-doc-link.fitted,\n",
       "a:visited.sk-estimator-doc-link.fitted {\n",
       "  /* fitted */\n",
       "  border: var(--sklearn-color-fitted-level-1) 1pt solid;\n",
       "  color: var(--sklearn-color-fitted-level-1);\n",
       "}\n",
       "\n",
       "/* On hover */\n",
       "div.sk-estimator:hover .sk-estimator-doc-link:hover,\n",
       ".sk-estimator-doc-link:hover,\n",
       "div.sk-label-container:hover .sk-estimator-doc-link:hover,\n",
       ".sk-estimator-doc-link:hover {\n",
       "  /* unfitted */\n",
       "  background-color: var(--sklearn-color-unfitted-level-3);\n",
       "  color: var(--sklearn-color-background);\n",
       "  text-decoration: none;\n",
       "}\n",
       "\n",
       "div.sk-estimator.fitted:hover .sk-estimator-doc-link.fitted:hover,\n",
       ".sk-estimator-doc-link.fitted:hover,\n",
       "div.sk-label-container:hover .sk-estimator-doc-link.fitted:hover,\n",
       ".sk-estimator-doc-link.fitted:hover {\n",
       "  /* fitted */\n",
       "  background-color: var(--sklearn-color-fitted-level-3);\n",
       "  color: var(--sklearn-color-background);\n",
       "  text-decoration: none;\n",
       "}\n",
       "\n",
       "/* Span, style for the box shown on hovering the info icon */\n",
       ".sk-estimator-doc-link span {\n",
       "  display: none;\n",
       "  z-index: 9999;\n",
       "  position: relative;\n",
       "  font-weight: normal;\n",
       "  right: .2ex;\n",
       "  padding: .5ex;\n",
       "  margin: .5ex;\n",
       "  width: min-content;\n",
       "  min-width: 20ex;\n",
       "  max-width: 50ex;\n",
       "  color: var(--sklearn-color-text);\n",
       "  box-shadow: 2pt 2pt 4pt #999;\n",
       "  /* unfitted */\n",
       "  background: var(--sklearn-color-unfitted-level-0);\n",
       "  border: .5pt solid var(--sklearn-color-unfitted-level-3);\n",
       "}\n",
       "\n",
       ".sk-estimator-doc-link.fitted span {\n",
       "  /* fitted */\n",
       "  background: var(--sklearn-color-fitted-level-0);\n",
       "  border: var(--sklearn-color-fitted-level-3);\n",
       "}\n",
       "\n",
       ".sk-estimator-doc-link:hover span {\n",
       "  display: block;\n",
       "}\n",
       "\n",
       "/* \"?\"-specific style due to the `<a>` HTML tag */\n",
       "\n",
       "#sk-container-id-4 a.estimator_doc_link {\n",
       "  float: right;\n",
       "  font-size: 1rem;\n",
       "  line-height: 1em;\n",
       "  font-family: monospace;\n",
       "  background-color: var(--sklearn-color-background);\n",
       "  border-radius: 1rem;\n",
       "  height: 1rem;\n",
       "  width: 1rem;\n",
       "  text-decoration: none;\n",
       "  /* unfitted */\n",
       "  color: var(--sklearn-color-unfitted-level-1);\n",
       "  border: var(--sklearn-color-unfitted-level-1) 1pt solid;\n",
       "}\n",
       "\n",
       "#sk-container-id-4 a.estimator_doc_link.fitted {\n",
       "  /* fitted */\n",
       "  border: var(--sklearn-color-fitted-level-1) 1pt solid;\n",
       "  color: var(--sklearn-color-fitted-level-1);\n",
       "}\n",
       "\n",
       "/* On hover */\n",
       "#sk-container-id-4 a.estimator_doc_link:hover {\n",
       "  /* unfitted */\n",
       "  background-color: var(--sklearn-color-unfitted-level-3);\n",
       "  color: var(--sklearn-color-background);\n",
       "  text-decoration: none;\n",
       "}\n",
       "\n",
       "#sk-container-id-4 a.estimator_doc_link.fitted:hover {\n",
       "  /* fitted */\n",
       "  background-color: var(--sklearn-color-fitted-level-3);\n",
       "}\n",
       "</style><div id=\"sk-container-id-4\" class=\"sk-top-container\"><div class=\"sk-text-repr-fallback\"><pre>KNeighborsRegressor(n_neighbors=3)</pre><b>In a Jupyter environment, please rerun this cell to show the HTML representation or trust the notebook. <br />On GitHub, the HTML representation is unable to render, please try loading this page with nbviewer.org.</b></div><div class=\"sk-container\" hidden><div class=\"sk-item\"><div class=\"sk-estimator fitted sk-toggleable\"><input class=\"sk-toggleable__control sk-hidden--visually\" id=\"sk-estimator-id-4\" type=\"checkbox\" checked><label for=\"sk-estimator-id-4\" class=\"sk-toggleable__label fitted sk-toggleable__label-arrow fitted\">&nbsp;&nbsp;KNeighborsRegressor<a class=\"sk-estimator-doc-link fitted\" rel=\"noreferrer\" target=\"_blank\" href=\"https://scikit-learn.org/1.4/modules/generated/sklearn.neighbors.KNeighborsRegressor.html\">?<span>Documentation for KNeighborsRegressor</span></a><span class=\"sk-estimator-doc-link fitted\">i<span>Fitted</span></span></label><div class=\"sk-toggleable__content fitted\"><pre>KNeighborsRegressor(n_neighbors=3)</pre></div> </div></div></div></div>"
      ],
      "text/plain": [
       "KNeighborsRegressor(n_neighbors=3)"
      ]
     },
     "execution_count": 119,
     "metadata": {},
     "output_type": "execute_result"
    }
   ],
   "source": [
    "knn=KNeighborsRegressor(n_neighbors=3)\n",
    "knn.fit(x_train,y_train)"
   ]
  },
  {
   "cell_type": "code",
   "execution_count": 120,
   "id": "0ac0ab95-c6eb-4f74-971c-4cf16111e01f",
   "metadata": {},
   "outputs": [
    {
     "data": {
      "text/plain": [
       "array([ 9.        ,  4.66666667, 14.33333333, 26.33333333, 13.66666667,\n",
       "        5.33333333,  4.66666667, 18.        ,  3.33333333,  9.33333333,\n",
       "        6.        , 21.33333333, 11.33333333,  7.        , 23.66666667,\n",
       "        4.        , 12.66666667,  9.        ,  7.        , 17.33333333,\n",
       "        8.66666667,  6.33333333,  4.66666667,  4.33333333, 25.33333333,\n",
       "        7.        ,  4.66666667,  6.33333333, 15.66666667,  9.33333333,\n",
       "        5.33333333, 12.33333333,  3.33333333,  5.66666667,  6.33333333,\n",
       "       14.33333333,  3.33333333,  4.66666667, 32.        , 17.        ,\n",
       "        5.66666667, 20.66666667,  6.33333333,  4.33333333,  7.        ,\n",
       "        8.33333333, 16.66666667,  4.66666667, 31.33333333, 32.        ,\n",
       "        7.        , 32.        ,  5.        , 16.        ,  5.33333333,\n",
       "        6.33333333, 13.66666667,  5.66666667,  3.33333333, 10.        ,\n",
       "        5.33333333, 32.        , 25.66666667,  4.66666667, 16.        ,\n",
       "       27.33333333,  6.66666667, 22.66666667,  7.33333333, 26.        ,\n",
       "        9.66666667,  7.        ,  6.33333333, 12.33333333, 35.        ,\n",
       "        4.66666667,  6.        ,  5.33333333,  5.        ,  4.66666667,\n",
       "        6.        ,  6.        ,  8.        ,  3.66666667, 10.        ,\n",
       "        8.        ,  7.        , 17.66666667, 33.        ,  5.66666667,\n",
       "       12.33333333,  2.33333333, 17.        ,  5.        , 10.        ,\n",
       "       14.33333333,  4.33333333,  3.        ,  6.33333333,  3.66666667,\n",
       "        4.66666667, 27.33333333,  6.        , 10.33333333,  8.33333333,\n",
       "        4.66666667,  6.33333333, 30.        ,  5.33333333,  9.        ,\n",
       "        3.33333333,  6.        ,  5.66666667,  6.33333333, 11.        ,\n",
       "        6.66666667,  3.66666667, 12.33333333, 10.66666667, 34.33333333,\n",
       "        4.66666667,  6.33333333, 24.        ,  6.        ,  6.66666667,\n",
       "        5.33333333, 32.66666667, 10.33333333,  7.        , 26.66666667,\n",
       "       21.66666667, 18.66666667,  5.33333333,  8.        ,  6.        ,\n",
       "        3.33333333, 13.        ,  7.        ,  4.66666667, 19.        ,\n",
       "        4.66666667,  8.33333333, 19.33333333, 17.66666667,  7.        ,\n",
       "        8.66666667,  8.33333333,  3.66666667, 17.        ,  3.66666667,\n",
       "        6.        ,  7.33333333,  6.66666667,  3.66666667,  8.        ,\n",
       "        4.        ,  7.        ,  5.        ,  6.33333333, 26.        ,\n",
       "       20.        ,  9.        , 29.33333333,  4.33333333,  6.        ])"
      ]
     },
     "execution_count": 120,
     "metadata": {},
     "output_type": "execute_result"
    }
   ],
   "source": [
    "y_pred=knn.predict(x_test)\n",
    "y_pred"
   ]
  },
  {
   "cell_type": "code",
   "execution_count": 121,
   "id": "b2d94f40-61dc-4d0a-8d64-c55db3acdba9",
   "metadata": {},
   "outputs": [
    {
     "data": {
      "text/plain": [
       "0.7869557253419135"
      ]
     },
     "execution_count": 121,
     "metadata": {},
     "output_type": "execute_result"
    }
   ],
   "source": [
    "knn.score(x_train,y_train)"
   ]
  },
  {
   "cell_type": "markdown",
   "id": "e024bceb-0208-48c4-a2c7-788ca0370e7d",
   "metadata": {},
   "source": [
    "# From the above Trained Models, LinearRegression Model with hypertuning provided me the best accuracy of around 91% which will help to get the price in an more efficient manner."
   ]
  },
  {
   "cell_type": "markdown",
   "id": "d763e687-b649-454d-8710-ccff3e0bb1f0",
   "metadata": {},
   "source": [
    "# From this ML Project I came across many challenges that helped me to understand the concept in more detail and i was able to solve the problem related to this project."
   ]
  }
 ],
 "metadata": {
  "kernelspec": {
   "display_name": "Python 3 (ipykernel)",
   "language": "python",
   "name": "python3"
  },
  "language_info": {
   "codemirror_mode": {
    "name": "ipython",
    "version": 3
   },
   "file_extension": ".py",
   "mimetype": "text/x-python",
   "name": "python",
   "nbconvert_exporter": "python",
   "pygments_lexer": "ipython3",
   "version": "3.10.0"
  }
 },
 "nbformat": 4,
 "nbformat_minor": 5
}
