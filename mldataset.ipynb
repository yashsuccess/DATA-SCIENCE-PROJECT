{
 "cells": [
  {
   "cell_type": "markdown",
   "id": "4c659074-074d-47cd-8b7d-dea0d63227d9",
   "metadata": {},
   "source": [
    "# AIM - The Aim of this ML Project is to get a reasonable price of pre-owned car."
   ]
  },
  {
   "cell_type": "markdown",
   "id": "fe67e042-0705-4a96-9340-ec448f908b67",
   "metadata": {},
   "source": [
    "# Step-1 Importing data and reading it's behaviour."
   ]
  },
  {
   "cell_type": "code",
   "execution_count": 1,
   "id": "initial_id",
   "metadata": {
    "ExecuteTime": {
     "end_time": "2024-02-26T12:59:07.074640Z",
     "start_time": "2024-02-26T12:59:07.027372900Z"
    }
   },
   "outputs": [],
   "source": [
    "\n",
    "import pandas as pd\n",
    "import numpy as np\n",
    "df=pd.read_csv(\"mldata.csv\")\n"
   ]
  },
  {
   "cell_type": "markdown",
   "id": "840ab7d2-fc23-4bbd-b273-4dbe68c624ac",
   "metadata": {},
   "source": [
    "# A) Checking the shape of the dataset"
   ]
  },
  {
   "cell_type": "code",
   "execution_count": 2,
   "id": "c31133d6-1f91-4251-827e-7083c22928fa",
   "metadata": {
    "ExecuteTime": {
     "end_time": "2024-02-16T17:01:19.008074700Z",
     "start_time": "2024-02-16T17:01:18.865563300Z"
    }
   },
   "outputs": [
    {
     "name": "stdout",
     "output_type": "stream",
     "text": [
      "total number of rows : 1234\n",
      "total number of columns : 12\n"
     ]
    }
   ],
   "source": [
    "print(\"total number of rows :\",df.shape[0])\n",
    "print(\"total number of columns :\",df.shape[1])\n"
   ]
  },
  {
   "cell_type": "markdown",
   "id": "4bc3832e-f5bd-44c2-8565-bb8bcd0eeb22",
   "metadata": {},
   "source": [
    "# B) Checking info of dataset"
   ]
  },
  {
   "cell_type": "code",
   "execution_count": 3,
   "id": "9a035db6-e09f-4685-98fe-5e11cf4984d1",
   "metadata": {
    "ExecuteTime": {
     "end_time": "2024-02-16T17:01:19.087446300Z",
     "start_time": "2024-02-16T17:01:18.881426700Z"
    }
   },
   "outputs": [
    {
     "name": "stdout",
     "output_type": "stream",
     "text": [
      "<class 'pandas.core.frame.DataFrame'>\n",
      "RangeIndex: 1234 entries, 0 to 1233\n",
      "Data columns (total 12 columns):\n",
      " #   Column             Non-Null Count  Dtype  \n",
      "---  ------             --------------  -----  \n",
      " 0   Name               1234 non-null   object \n",
      " 1   Location           1234 non-null   object \n",
      " 2   Year               1234 non-null   int64  \n",
      " 3   Kilometers_Driven  1234 non-null   int64  \n",
      " 4   Fuel_Type          1234 non-null   object \n",
      " 5   Transmission       1234 non-null   object \n",
      " 6   Owner_Type         1234 non-null   object \n",
      " 7   Mileage            1234 non-null   object \n",
      " 8   Engine             1221 non-null   object \n",
      " 9   Power              1223 non-null   object \n",
      " 10  Seats              1223 non-null   float64\n",
      " 11  price              1234 non-null   object \n",
      "dtypes: float64(1), int64(2), object(9)\n",
      "memory usage: 115.8+ KB\n"
     ]
    }
   ],
   "source": [
    "df.info()"
   ]
  },
  {
   "cell_type": "markdown",
   "id": "1c718865-e9f7-422c-be56-039d364ab606",
   "metadata": {},
   "source": [
    "# C) Checking null values in dataset"
   ]
  },
  {
   "cell_type": "code",
   "execution_count": 4,
   "id": "a8ec9baa-7c44-4dbe-82d2-2c87e04e37cc",
   "metadata": {
    "ExecuteTime": {
     "end_time": "2024-02-16T17:01:19.103490800Z",
     "start_time": "2024-02-16T17:01:18.928779100Z"
    }
   },
   "outputs": [
    {
     "data": {
      "text/plain": [
       "Name                  0\n",
       "Location              0\n",
       "Year                  0\n",
       "Kilometers_Driven     0\n",
       "Fuel_Type             0\n",
       "Transmission          0\n",
       "Owner_Type            0\n",
       "Mileage               0\n",
       "Engine               13\n",
       "Power                11\n",
       "Seats                11\n",
       "price                 0\n",
       "dtype: int64"
      ]
     },
     "execution_count": 4,
     "metadata": {},
     "output_type": "execute_result"
    }
   ],
   "source": [
    "df.isnull().sum()"
   ]
  },
  {
   "cell_type": "markdown",
   "id": "a87d2f2b-3497-4b7c-b922-efa782959431",
   "metadata": {},
   "source": [
    "# D) Droping nan rows because it contain less number of nan value"
   ]
  },
  {
   "cell_type": "code",
   "execution_count": 5,
   "id": "d98b11b1-d9f3-4411-8f73-b85e1abbce5c",
   "metadata": {
    "ExecuteTime": {
     "end_time": "2024-02-16T17:01:19.413166Z",
     "start_time": "2024-02-16T17:01:18.944403200Z"
    }
   },
   "outputs": [],
   "source": [
    "df=df.dropna(how=\"any\")"
   ]
  },
  {
   "cell_type": "code",
   "execution_count": 6,
   "id": "ac0abfc5-68f9-4c47-b569-4febf6674817",
   "metadata": {},
   "outputs": [
    {
     "data": {
      "text/plain": [
       "Name                 0\n",
       "Location             0\n",
       "Year                 0\n",
       "Kilometers_Driven    0\n",
       "Fuel_Type            0\n",
       "Transmission         0\n",
       "Owner_Type           0\n",
       "Mileage              0\n",
       "Engine               0\n",
       "Power                0\n",
       "Seats                0\n",
       "price                0\n",
       "dtype: int64"
      ]
     },
     "execution_count": 6,
     "metadata": {},
     "output_type": "execute_result"
    }
   ],
   "source": [
    "df.isnull().sum()"
   ]
  },
  {
   "cell_type": "code",
   "execution_count": 7,
   "id": "d4494ff5-556a-4614-ab30-5ed650ad38f1",
   "metadata": {
    "ExecuteTime": {
     "end_time": "2024-02-16T17:01:19.452748700Z",
     "start_time": "2024-02-16T17:01:18.960398200Z"
    }
   },
   "outputs": [
    {
     "data": {
      "text/plain": [
       "Name                 0\n",
       "Location             0\n",
       "Year                 0\n",
       "Kilometers_Driven    0\n",
       "Fuel_Type            0\n",
       "Transmission         0\n",
       "Owner_Type           0\n",
       "Mileage              0\n",
       "Engine               0\n",
       "Power                0\n",
       "Seats                0\n",
       "price                0\n",
       "dtype: int64"
      ]
     },
     "execution_count": 7,
     "metadata": {},
     "output_type": "execute_result"
    }
   ],
   "source": [
    "df.isnull().sum()"
   ]
  },
  {
   "cell_type": "code",
   "execution_count": 8,
   "id": "ffd6fcd9-7c20-4e7b-ba03-5041b2f8d7aa",
   "metadata": {
    "ExecuteTime": {
     "end_time": "2024-02-16T17:01:19.500495500Z",
     "start_time": "2024-02-16T17:01:18.976180Z"
    }
   },
   "outputs": [
    {
     "data": {
      "text/plain": [
       "(1220, 12)"
      ]
     },
     "execution_count": 8,
     "metadata": {},
     "output_type": "execute_result"
    }
   ],
   "source": [
    "df.shape"
   ]
  },
  {
   "cell_type": "markdown",
   "id": "9b4990c0-53ce-4540-bb70-a35f89c123f3",
   "metadata": {},
   "source": [
    "# Step-2 Cleaning of the dataset."
   ]
  },
  {
   "cell_type": "markdown",
   "id": "0d7b3dbb-a44d-41bf-a9e1-2f53a33101b7",
   "metadata": {},
   "source": [
    "# A) Converting columns[Mileage(Kmpl),Engine(cc),Power(bhp),Seats] into float as it may contain nan value"
   ]
  },
  {
   "cell_type": "code",
   "execution_count": 9,
   "id": "49381e04-f792-4b9b-8133-723049495e26",
   "metadata": {
    "ExecuteTime": {
     "end_time": "2024-02-16T17:01:19.548578100Z",
     "start_time": "2024-02-16T17:01:19.013085600Z"
    }
   },
   "outputs": [],
   "source": [
    "df[\"Mileage\"]=df[\"Mileage\"].str.split(\" \").str.slice(0,1).str.join(\" \")\n",
    "df[\"Mileage\"]=df[\"Mileage\"].astype(float)"
   ]
  },
  {
   "cell_type": "code",
   "execution_count": 10,
   "id": "6d981297-eed7-43aa-9ca5-3889633f8c0a",
   "metadata": {
    "ExecuteTime": {
     "end_time": "2024-02-16T17:01:19.548578100Z",
     "start_time": "2024-02-16T17:01:19.024091800Z"
    }
   },
   "outputs": [],
   "source": [
    "df[\"Engine\"]=df[\"Engine\"].str.split(\" \").str.slice(0,1).str.join(\" \")\n",
    "df[\"Engine\"]=df[\"Engine\"].astype(float)"
   ]
  },
  {
   "cell_type": "code",
   "execution_count": 11,
   "id": "7a87885b-b9fd-48ff-956e-33d74642f50f",
   "metadata": {
    "ExecuteTime": {
     "end_time": "2024-02-16T17:01:19.564451700Z",
     "start_time": "2024-02-16T17:01:19.039720300Z"
    }
   },
   "outputs": [],
   "source": [
    "df[\"Power\"]=df[\"Power\"].str.split(\" \").str.slice(0,1).str.join(\" \")\n",
    "df[\"Power\"]=df[\"Power\"].replace(\"null\",np.nan)\n",
    "df[\"Power\"]=df[\"Power\"].astype(float)"
   ]
  },
  {
   "cell_type": "code",
   "execution_count": 12,
   "id": "7e919dd6-9f97-43fe-adf8-ed072b7fe465",
   "metadata": {
    "ExecuteTime": {
     "end_time": "2024-02-16T17:01:19.564451700Z",
     "start_time": "2024-02-16T17:01:19.071563Z"
    }
   },
   "outputs": [
    {
     "data": {
      "text/plain": [
       "Name                  0\n",
       "Location              0\n",
       "Year                  0\n",
       "Kilometers_Driven     0\n",
       "Fuel_Type             0\n",
       "Transmission          0\n",
       "Owner_Type            0\n",
       "Mileage               0\n",
       "Engine                0\n",
       "Power                22\n",
       "Seats                 0\n",
       "price                 0\n",
       "dtype: int64"
      ]
     },
     "execution_count": 12,
     "metadata": {},
     "output_type": "execute_result"
    }
   ],
   "source": [
    "df.isnull().sum()"
   ]
  },
  {
   "cell_type": "markdown",
   "id": "ca20d3f0-1e6d-4319-8b21-ea663a0d3283",
   "metadata": {},
   "source": [
    "# B) Replacing Nan value of column (Power) with Mean"
   ]
  },
  {
   "cell_type": "code",
   "execution_count": 13,
   "id": "5c4a7874-3224-4e2a-87f7-5bc0df518d68",
   "metadata": {
    "ExecuteTime": {
     "end_time": "2024-02-16T17:01:19.627604700Z",
     "start_time": "2024-02-16T17:01:19.087446300Z"
    }
   },
   "outputs": [
    {
     "data": {
      "text/plain": [
       "110.47926961602671"
      ]
     },
     "execution_count": 13,
     "metadata": {},
     "output_type": "execute_result"
    }
   ],
   "source": [
    "a=np.mean(df[\"Power\"])\n",
    "a"
   ]
  },
  {
   "cell_type": "code",
   "execution_count": 14,
   "id": "417af053-f576-4470-ae08-122d457e9b7f",
   "metadata": {
    "ExecuteTime": {
     "end_time": "2024-02-16T17:01:19.643537400Z",
     "start_time": "2024-02-16T17:01:19.103490800Z"
    }
   },
   "outputs": [],
   "source": [
    "df[\"Power\"]=df[\"Power\"].replace(np.nan,a)"
   ]
  },
  {
   "cell_type": "markdown",
   "id": "37c361b3-ebde-4c6c-9bc3-5369e2c801a5",
   "metadata": {},
   "source": [
    "# C) I wanted all the numerical column in int dtype"
   ]
  },
  {
   "cell_type": "code",
   "execution_count": 15,
   "id": "fb4ed6fb-a72e-4408-9a82-1205a5ecfb2c",
   "metadata": {
    "ExecuteTime": {
     "end_time": "2024-02-16T17:01:19.643537400Z",
     "start_time": "2024-02-16T17:01:19.119506500Z"
    }
   },
   "outputs": [],
   "source": [
    "df[\"Power\"]=df[\"Power\"].astype(int)"
   ]
  },
  {
   "cell_type": "code",
   "execution_count": 16,
   "id": "87f9ab48-2f98-45a9-8304-cb62fe33f2d4",
   "metadata": {
    "ExecuteTime": {
     "end_time": "2024-02-16T17:01:19.643537400Z",
     "start_time": "2024-02-16T17:01:19.135293500Z"
    }
   },
   "outputs": [
    {
     "data": {
      "text/plain": [
       "Mileage\n",
       "17.00    35\n",
       "18.90    29\n",
       "18.60    24\n",
       "18.00    20\n",
       "21.10    20\n",
       "         ..\n",
       "23.50     1\n",
       "17.19     1\n",
       "19.33     1\n",
       "21.02     1\n",
       "27.28     1\n",
       "Name: count, Length: 298, dtype: int64"
      ]
     },
     "execution_count": 16,
     "metadata": {},
     "output_type": "execute_result"
    }
   ],
   "source": [
    "df[\"Mileage\"].value_counts()"
   ]
  },
  {
   "cell_type": "code",
   "execution_count": 17,
   "id": "78d0a1ce-8015-49c7-9d00-12c66beec8e0",
   "metadata": {
    "ExecuteTime": {
     "end_time": "2024-02-16T17:01:19.643537400Z",
     "start_time": "2024-02-16T17:01:19.150944Z"
    }
   },
   "outputs": [],
   "source": [
    "df[\"Engine\"]=df[\"Engine\"].astype(int)"
   ]
  },
  {
   "cell_type": "code",
   "execution_count": 18,
   "id": "8aa5a694-347d-4daa-b2f4-bbf03fe7f8dd",
   "metadata": {
    "ExecuteTime": {
     "end_time": "2024-02-16T17:01:19.866410800Z",
     "start_time": "2024-02-16T17:01:19.166922900Z"
    }
   },
   "outputs": [],
   "source": [
    "df[\"Seats\"]=df[\"Seats\"].astype(int)"
   ]
  },
  {
   "cell_type": "code",
   "execution_count": null,
   "id": "f120ef53-1eb5-456b-815d-8b4bda8d95d3",
   "metadata": {},
   "outputs": [],
   "source": []
  },
  {
   "cell_type": "code",
   "execution_count": 19,
   "id": "027e0a7f-b2c7-4c46-bbe3-98830c50c94e",
   "metadata": {
    "ExecuteTime": {
     "end_time": "2024-02-16T17:01:19.866410800Z",
     "start_time": "2024-02-16T17:01:19.182886400Z"
    }
   },
   "outputs": [
    {
     "name": "stdout",
     "output_type": "stream",
     "text": [
      "<class 'pandas.core.frame.DataFrame'>\n",
      "Index: 1220 entries, 0 to 1233\n",
      "Data columns (total 12 columns):\n",
      " #   Column             Non-Null Count  Dtype  \n",
      "---  ------             --------------  -----  \n",
      " 0   Name               1220 non-null   object \n",
      " 1   Location           1220 non-null   object \n",
      " 2   Year               1220 non-null   int64  \n",
      " 3   Kilometers_Driven  1220 non-null   int64  \n",
      " 4   Fuel_Type          1220 non-null   object \n",
      " 5   Transmission       1220 non-null   object \n",
      " 6   Owner_Type         1220 non-null   object \n",
      " 7   Mileage            1220 non-null   float64\n",
      " 8   Engine             1220 non-null   int32  \n",
      " 9   Power              1220 non-null   int32  \n",
      " 10  Seats              1220 non-null   int32  \n",
      " 11  price              1220 non-null   object \n",
      "dtypes: float64(1), int32(3), int64(2), object(6)\n",
      "memory usage: 109.6+ KB\n"
     ]
    }
   ],
   "source": [
    "df.info()"
   ]
  },
  {
   "cell_type": "code",
   "execution_count": 20,
   "id": "a710b43c-f249-4fde-8d7d-f6d6b90baaa6",
   "metadata": {
    "ExecuteTime": {
     "end_time": "2024-02-16T17:01:19.866410800Z",
     "start_time": "2024-02-16T17:01:19.215002500Z"
    }
   },
   "outputs": [
    {
     "data": {
      "text/plain": [
       "Name                 0\n",
       "Location             0\n",
       "Year                 0\n",
       "Kilometers_Driven    0\n",
       "Fuel_Type            0\n",
       "Transmission         0\n",
       "Owner_Type           0\n",
       "Mileage              0\n",
       "Engine               0\n",
       "Power                0\n",
       "Seats                0\n",
       "price                0\n",
       "dtype: int64"
      ]
     },
     "execution_count": 20,
     "metadata": {},
     "output_type": "execute_result"
    }
   ],
   "source": [
    "df.isnull().sum()"
   ]
  },
  {
   "cell_type": "markdown",
   "id": "e498905e-5ee6-4744-a9fe-092e9c696ef3",
   "metadata": {},
   "source": [
    "# C) Converting column(price) into int dtype"
   ]
  },
  {
   "cell_type": "code",
   "execution_count": 21,
   "id": "e7deebf0327362f3",
   "metadata": {
    "ExecuteTime": {
     "end_time": "2024-02-16T17:01:19.913830900Z",
     "start_time": "2024-02-16T17:01:19.246749100Z"
    },
    "collapsed": false,
    "jupyter": {
     "outputs_hidden": false
    }
   },
   "outputs": [
    {
     "data": {
      "text/plain": [
       "0         1110923 \n",
       "1         2020869 \n",
       "2         2799708 \n",
       "3         4787001 \n",
       "4         2750422 \n",
       "           ...    \n",
       "1229      4127468 \n",
       "1230           NaN\n",
       "1231      4521144 \n",
       "1232      2451507 \n",
       "1233      3104140 \n",
       "Name: price, Length: 1220, dtype: object"
      ]
     },
     "execution_count": 21,
     "metadata": {},
     "output_type": "execute_result"
    }
   ],
   "source": [
    "df[\"price\"]=df[\"price\"].replace(\"Ask For Price\",np.nan)\n",
    "df[\"price\"]=df[\"price\"].str.replace(\"?\",\"\")\n",
    "df[\"price\"]=df[\"price\"].str.replace(\",\",\"\")\n",
    "df[\"price\"]"
   ]
  },
  {
   "cell_type": "markdown",
   "id": "ec7139d48d13471e",
   "metadata": {
    "collapsed": false,
    "jupyter": {
     "outputs_hidden": false
    }
   },
   "source": []
  },
  {
   "cell_type": "code",
   "execution_count": 22,
   "id": "498d8ab1bac53043",
   "metadata": {
    "ExecuteTime": {
     "end_time": "2024-02-16T17:01:19.961287Z",
     "start_time": "2024-02-16T17:01:19.277995600Z"
    },
    "collapsed": false,
    "jupyter": {
     "outputs_hidden": false
    }
   },
   "outputs": [],
   "source": [
    "df[\"price\"]=df[\"price\"].astype(float)"
   ]
  },
  {
   "cell_type": "code",
   "execution_count": 23,
   "id": "4edd8badd230fb97",
   "metadata": {
    "ExecuteTime": {
     "end_time": "2024-02-16T17:01:19.961287Z",
     "start_time": "2024-02-16T17:01:19.293618400Z"
    },
    "collapsed": false,
    "jupyter": {
     "outputs_hidden": false
    }
   },
   "outputs": [
    {
     "name": "stdout",
     "output_type": "stream",
     "text": [
      "<class 'pandas.core.frame.DataFrame'>\n",
      "Index: 1220 entries, 0 to 1233\n",
      "Data columns (total 12 columns):\n",
      " #   Column             Non-Null Count  Dtype  \n",
      "---  ------             --------------  -----  \n",
      " 0   Name               1220 non-null   object \n",
      " 1   Location           1220 non-null   object \n",
      " 2   Year               1220 non-null   int64  \n",
      " 3   Kilometers_Driven  1220 non-null   int64  \n",
      " 4   Fuel_Type          1220 non-null   object \n",
      " 5   Transmission       1220 non-null   object \n",
      " 6   Owner_Type         1220 non-null   object \n",
      " 7   Mileage            1220 non-null   float64\n",
      " 8   Engine             1220 non-null   int32  \n",
      " 9   Power              1220 non-null   int32  \n",
      " 10  Seats              1220 non-null   int32  \n",
      " 11  price              1179 non-null   float64\n",
      "dtypes: float64(2), int32(3), int64(2), object(5)\n",
      "memory usage: 109.6+ KB\n"
     ]
    }
   ],
   "source": [
    "df.info()"
   ]
  },
  {
   "cell_type": "markdown",
   "id": "76f63574e3b69ce1",
   "metadata": {
    "collapsed": false,
    "jupyter": {
     "outputs_hidden": false
    }
   },
   "source": [
    "# D) Replacing nan value with mean of the column(price)"
   ]
  },
  {
   "cell_type": "code",
   "execution_count": 24,
   "id": "a70f4d4d-9478-4a4e-87fb-40150ccd207b",
   "metadata": {
    "ExecuteTime": {
     "end_time": "2024-02-16T17:01:19.961287Z",
     "start_time": "2024-02-16T17:01:19.325261400Z"
    }
   },
   "outputs": [
    {
     "data": {
      "text/plain": [
       "2766377.064461408"
      ]
     },
     "execution_count": 24,
     "metadata": {},
     "output_type": "execute_result"
    }
   ],
   "source": [
    "b=np.mean(df[\"price\"])\n",
    "b"
   ]
  },
  {
   "cell_type": "code",
   "execution_count": 25,
   "id": "6d01167d-61e8-4f90-acd0-bd40bf7d7130",
   "metadata": {
    "ExecuteTime": {
     "end_time": "2024-02-16T17:01:20.025283700Z",
     "start_time": "2024-02-16T17:01:19.341169500Z"
    }
   },
   "outputs": [],
   "source": [
    "df[\"price\"]=df[\"price\"].fillna(b)"
   ]
  },
  {
   "cell_type": "code",
   "execution_count": 26,
   "id": "f0c7f15d-7aea-4824-ac82-67acddd5635d",
   "metadata": {
    "ExecuteTime": {
     "end_time": "2024-02-16T17:01:20.025283700Z",
     "start_time": "2024-02-16T17:01:19.372934700Z"
    }
   },
   "outputs": [
    {
     "name": "stdout",
     "output_type": "stream",
     "text": [
      "<class 'pandas.core.frame.DataFrame'>\n",
      "Index: 1220 entries, 0 to 1233\n",
      "Data columns (total 12 columns):\n",
      " #   Column             Non-Null Count  Dtype  \n",
      "---  ------             --------------  -----  \n",
      " 0   Name               1220 non-null   object \n",
      " 1   Location           1220 non-null   object \n",
      " 2   Year               1220 non-null   int64  \n",
      " 3   Kilometers_Driven  1220 non-null   int64  \n",
      " 4   Fuel_Type          1220 non-null   object \n",
      " 5   Transmission       1220 non-null   object \n",
      " 6   Owner_Type         1220 non-null   object \n",
      " 7   Mileage            1220 non-null   float64\n",
      " 8   Engine             1220 non-null   int32  \n",
      " 9   Power              1220 non-null   int32  \n",
      " 10  Seats              1220 non-null   int32  \n",
      " 11  price              1220 non-null   float64\n",
      "dtypes: float64(2), int32(3), int64(2), object(5)\n",
      "memory usage: 109.6+ KB\n"
     ]
    }
   ],
   "source": [
    "df.info()"
   ]
  },
  {
   "cell_type": "code",
   "execution_count": 27,
   "id": "c17bdb2f-5a2a-40ff-974b-58436419c33d",
   "metadata": {
    "ExecuteTime": {
     "end_time": "2024-02-16T17:01:20.025283700Z",
     "start_time": "2024-02-16T17:01:19.372934700Z"
    }
   },
   "outputs": [
    {
     "data": {
      "text/plain": [
       "0"
      ]
     },
     "execution_count": 27,
     "metadata": {},
     "output_type": "execute_result"
    }
   ],
   "source": [
    "df[\"price\"].isnull().sum()"
   ]
  },
  {
   "cell_type": "code",
   "execution_count": 28,
   "id": "6c7ed2d6-18f3-4b83-8407-a96ed437bd66",
   "metadata": {
    "ExecuteTime": {
     "end_time": "2024-02-16T17:01:20.025283700Z",
     "start_time": "2024-02-16T17:01:19.388826300Z"
    }
   },
   "outputs": [],
   "source": [
    "df[\"price\"]=df[\"price\"].astype(int)"
   ]
  },
  {
   "cell_type": "code",
   "execution_count": 29,
   "id": "784b48b2-25cc-4ad2-a8d2-da97e2db2062",
   "metadata": {
    "ExecuteTime": {
     "end_time": "2024-02-16T17:01:20.041050200Z",
     "start_time": "2024-02-16T17:01:19.413166Z"
    }
   },
   "outputs": [
    {
     "name": "stdout",
     "output_type": "stream",
     "text": [
      "<class 'pandas.core.frame.DataFrame'>\n",
      "Index: 1220 entries, 0 to 1233\n",
      "Data columns (total 12 columns):\n",
      " #   Column             Non-Null Count  Dtype  \n",
      "---  ------             --------------  -----  \n",
      " 0   Name               1220 non-null   object \n",
      " 1   Location           1220 non-null   object \n",
      " 2   Year               1220 non-null   int64  \n",
      " 3   Kilometers_Driven  1220 non-null   int64  \n",
      " 4   Fuel_Type          1220 non-null   object \n",
      " 5   Transmission       1220 non-null   object \n",
      " 6   Owner_Type         1220 non-null   object \n",
      " 7   Mileage            1220 non-null   float64\n",
      " 8   Engine             1220 non-null   int32  \n",
      " 9   Power              1220 non-null   int32  \n",
      " 10  Seats              1220 non-null   int32  \n",
      " 11  price              1220 non-null   int32  \n",
      "dtypes: float64(1), int32(4), int64(2), object(5)\n",
      "memory usage: 104.8+ KB\n"
     ]
    }
   ],
   "source": [
    "df.info()"
   ]
  },
  {
   "cell_type": "code",
   "execution_count": 30,
   "id": "084cfb26-14d4-4d2b-824d-f799bdee2dc3",
   "metadata": {
    "ExecuteTime": {
     "end_time": "2024-02-16T17:01:20.113924100Z",
     "start_time": "2024-02-16T17:01:19.420671400Z"
    }
   },
   "outputs": [
    {
     "data": {
      "text/html": [
       "<div>\n",
       "<style scoped>\n",
       "    .dataframe tbody tr th:only-of-type {\n",
       "        vertical-align: middle;\n",
       "    }\n",
       "\n",
       "    .dataframe tbody tr th {\n",
       "        vertical-align: top;\n",
       "    }\n",
       "\n",
       "    .dataframe thead th {\n",
       "        text-align: right;\n",
       "    }\n",
       "</style>\n",
       "<table border=\"1\" class=\"dataframe\">\n",
       "  <thead>\n",
       "    <tr style=\"text-align: right;\">\n",
       "      <th></th>\n",
       "      <th>Name</th>\n",
       "      <th>Location</th>\n",
       "      <th>Year</th>\n",
       "      <th>Kilometers_Driven</th>\n",
       "      <th>Fuel_Type</th>\n",
       "      <th>Transmission</th>\n",
       "      <th>Owner_Type</th>\n",
       "      <th>Mileage</th>\n",
       "      <th>Engine</th>\n",
       "      <th>Power</th>\n",
       "      <th>Seats</th>\n",
       "      <th>price</th>\n",
       "    </tr>\n",
       "  </thead>\n",
       "  <tbody>\n",
       "    <tr>\n",
       "      <th>0</th>\n",
       "      <td>Maruti Alto K10 LXI CNG</td>\n",
       "      <td>Delhi</td>\n",
       "      <td>2014</td>\n",
       "      <td>40929</td>\n",
       "      <td>CNG</td>\n",
       "      <td>Manual</td>\n",
       "      <td>First</td>\n",
       "      <td>32.26</td>\n",
       "      <td>998</td>\n",
       "      <td>58</td>\n",
       "      <td>4</td>\n",
       "      <td>1110923</td>\n",
       "    </tr>\n",
       "    <tr>\n",
       "      <th>1</th>\n",
       "      <td>Maruti Alto 800 2016-2019 LXI</td>\n",
       "      <td>Coimbatore</td>\n",
       "      <td>2013</td>\n",
       "      <td>54493</td>\n",
       "      <td>Petrol</td>\n",
       "      <td>Manual</td>\n",
       "      <td>Second</td>\n",
       "      <td>24.70</td>\n",
       "      <td>796</td>\n",
       "      <td>47</td>\n",
       "      <td>5</td>\n",
       "      <td>2020869</td>\n",
       "    </tr>\n",
       "    <tr>\n",
       "      <th>2</th>\n",
       "      <td>Toyota Innova Crysta Touring Sport 2.4 MT</td>\n",
       "      <td>Mumbai</td>\n",
       "      <td>2017</td>\n",
       "      <td>34000</td>\n",
       "      <td>Diesel</td>\n",
       "      <td>Manual</td>\n",
       "      <td>First</td>\n",
       "      <td>13.68</td>\n",
       "      <td>2393</td>\n",
       "      <td>147</td>\n",
       "      <td>7</td>\n",
       "      <td>2799708</td>\n",
       "    </tr>\n",
       "    <tr>\n",
       "      <th>3</th>\n",
       "      <td>Toyota Etios Liva GD</td>\n",
       "      <td>Hyderabad</td>\n",
       "      <td>2012</td>\n",
       "      <td>139000</td>\n",
       "      <td>Diesel</td>\n",
       "      <td>Manual</td>\n",
       "      <td>First</td>\n",
       "      <td>23.59</td>\n",
       "      <td>1364</td>\n",
       "      <td>110</td>\n",
       "      <td>5</td>\n",
       "      <td>4787001</td>\n",
       "    </tr>\n",
       "    <tr>\n",
       "      <th>4</th>\n",
       "      <td>Hyundai i20 Magna</td>\n",
       "      <td>Mumbai</td>\n",
       "      <td>2014</td>\n",
       "      <td>29000</td>\n",
       "      <td>Petrol</td>\n",
       "      <td>Manual</td>\n",
       "      <td>First</td>\n",
       "      <td>18.50</td>\n",
       "      <td>1197</td>\n",
       "      <td>82</td>\n",
       "      <td>5</td>\n",
       "      <td>2750422</td>\n",
       "    </tr>\n",
       "    <tr>\n",
       "      <th>...</th>\n",
       "      <td>...</td>\n",
       "      <td>...</td>\n",
       "      <td>...</td>\n",
       "      <td>...</td>\n",
       "      <td>...</td>\n",
       "      <td>...</td>\n",
       "      <td>...</td>\n",
       "      <td>...</td>\n",
       "      <td>...</td>\n",
       "      <td>...</td>\n",
       "      <td>...</td>\n",
       "      <td>...</td>\n",
       "    </tr>\n",
       "    <tr>\n",
       "      <th>1229</th>\n",
       "      <td>Volkswagen Vento Diesel Trendline</td>\n",
       "      <td>Hyderabad</td>\n",
       "      <td>2011</td>\n",
       "      <td>89411</td>\n",
       "      <td>Diesel</td>\n",
       "      <td>Manual</td>\n",
       "      <td>First</td>\n",
       "      <td>20.54</td>\n",
       "      <td>1598</td>\n",
       "      <td>103</td>\n",
       "      <td>5</td>\n",
       "      <td>4127468</td>\n",
       "    </tr>\n",
       "    <tr>\n",
       "      <th>1230</th>\n",
       "      <td>Volkswagen Polo GT TSI</td>\n",
       "      <td>Mumbai</td>\n",
       "      <td>2015</td>\n",
       "      <td>59000</td>\n",
       "      <td>Petrol</td>\n",
       "      <td>Automatic</td>\n",
       "      <td>First</td>\n",
       "      <td>17.21</td>\n",
       "      <td>1197</td>\n",
       "      <td>103</td>\n",
       "      <td>5</td>\n",
       "      <td>2766377</td>\n",
       "    </tr>\n",
       "    <tr>\n",
       "      <th>1231</th>\n",
       "      <td>Nissan Micra Diesel XV</td>\n",
       "      <td>Kolkata</td>\n",
       "      <td>2012</td>\n",
       "      <td>28000</td>\n",
       "      <td>Diesel</td>\n",
       "      <td>Manual</td>\n",
       "      <td>First</td>\n",
       "      <td>23.08</td>\n",
       "      <td>1461</td>\n",
       "      <td>63</td>\n",
       "      <td>5</td>\n",
       "      <td>4521144</td>\n",
       "    </tr>\n",
       "    <tr>\n",
       "      <th>1232</th>\n",
       "      <td>Volkswagen Polo GT TSI</td>\n",
       "      <td>Pune</td>\n",
       "      <td>2013</td>\n",
       "      <td>52262</td>\n",
       "      <td>Petrol</td>\n",
       "      <td>Automatic</td>\n",
       "      <td>Third</td>\n",
       "      <td>17.20</td>\n",
       "      <td>1197</td>\n",
       "      <td>103</td>\n",
       "      <td>5</td>\n",
       "      <td>2451507</td>\n",
       "    </tr>\n",
       "    <tr>\n",
       "      <th>1233</th>\n",
       "      <td>Mercedes-Benz E-Class 2009-2013 E 220 CDI Avan...</td>\n",
       "      <td>Kochi</td>\n",
       "      <td>2014</td>\n",
       "      <td>72443</td>\n",
       "      <td>Diesel</td>\n",
       "      <td>Automatic</td>\n",
       "      <td>First</td>\n",
       "      <td>10.00</td>\n",
       "      <td>2148</td>\n",
       "      <td>170</td>\n",
       "      <td>5</td>\n",
       "      <td>3104140</td>\n",
       "    </tr>\n",
       "  </tbody>\n",
       "</table>\n",
       "<p>1220 rows × 12 columns</p>\n",
       "</div>"
      ],
      "text/plain": [
       "                                                   Name    Location  Year  \\\n",
       "0                               Maruti Alto K10 LXI CNG       Delhi  2014   \n",
       "1                         Maruti Alto 800 2016-2019 LXI  Coimbatore  2013   \n",
       "2             Toyota Innova Crysta Touring Sport 2.4 MT      Mumbai  2017   \n",
       "3                                  Toyota Etios Liva GD   Hyderabad  2012   \n",
       "4                                     Hyundai i20 Magna      Mumbai  2014   \n",
       "...                                                 ...         ...   ...   \n",
       "1229                  Volkswagen Vento Diesel Trendline   Hyderabad  2011   \n",
       "1230                             Volkswagen Polo GT TSI      Mumbai  2015   \n",
       "1231                             Nissan Micra Diesel XV     Kolkata  2012   \n",
       "1232                             Volkswagen Polo GT TSI        Pune  2013   \n",
       "1233  Mercedes-Benz E-Class 2009-2013 E 220 CDI Avan...       Kochi  2014   \n",
       "\n",
       "      Kilometers_Driven Fuel_Type Transmission Owner_Type  Mileage  Engine  \\\n",
       "0                 40929       CNG       Manual      First    32.26     998   \n",
       "1                 54493    Petrol       Manual     Second    24.70     796   \n",
       "2                 34000    Diesel       Manual      First    13.68    2393   \n",
       "3                139000    Diesel       Manual      First    23.59    1364   \n",
       "4                 29000    Petrol       Manual      First    18.50    1197   \n",
       "...                 ...       ...          ...        ...      ...     ...   \n",
       "1229              89411    Diesel       Manual      First    20.54    1598   \n",
       "1230              59000    Petrol    Automatic      First    17.21    1197   \n",
       "1231              28000    Diesel       Manual      First    23.08    1461   \n",
       "1232              52262    Petrol    Automatic      Third    17.20    1197   \n",
       "1233              72443    Diesel    Automatic      First    10.00    2148   \n",
       "\n",
       "      Power  Seats    price  \n",
       "0        58      4  1110923  \n",
       "1        47      5  2020869  \n",
       "2       147      7  2799708  \n",
       "3       110      5  4787001  \n",
       "4        82      5  2750422  \n",
       "...     ...    ...      ...  \n",
       "1229    103      5  4127468  \n",
       "1230    103      5  2766377  \n",
       "1231     63      5  4521144  \n",
       "1232    103      5  2451507  \n",
       "1233    170      5  3104140  \n",
       "\n",
       "[1220 rows x 12 columns]"
      ]
     },
     "execution_count": 30,
     "metadata": {},
     "output_type": "execute_result"
    }
   ],
   "source": [
    "df"
   ]
  },
  {
   "cell_type": "markdown",
   "id": "fb1469c5-cd69-4892-876b-aab86794aafe",
   "metadata": {},
   "source": [
    "# E) As the column (Name) looks jumbled we will make it more readable"
   ]
  },
  {
   "cell_type": "markdown",
   "id": "18597c6b-07bc-404c-ac13-c42b512f2867",
   "metadata": {},
   "source": [
    "# i) Creating a new column(comapany name) for car"
   ]
  },
  {
   "cell_type": "code",
   "execution_count": 31,
   "id": "c1aa7282-709f-46b1-9176-b5eecd229217",
   "metadata": {
    "ExecuteTime": {
     "end_time": "2024-02-16T17:01:20.136821800Z",
     "start_time": "2024-02-16T17:01:19.452748700Z"
    }
   },
   "outputs": [],
   "source": [
    "df[\"Company Name\"]=df[\"Name\"].str.split(\" \").str.slice(0,2).str.join(\" \")"
   ]
  },
  {
   "cell_type": "code",
   "execution_count": 32,
   "id": "a2782b48f0600684",
   "metadata": {
    "ExecuteTime": {
     "end_time": "2024-02-16T17:01:20.962145100Z",
     "start_time": "2024-02-16T17:01:19.945665Z"
    },
    "collapsed": false,
    "jupyter": {
     "outputs_hidden": false
    }
   },
   "outputs": [
    {
     "data": {
      "text/html": [
       "<div>\n",
       "<style scoped>\n",
       "    .dataframe tbody tr th:only-of-type {\n",
       "        vertical-align: middle;\n",
       "    }\n",
       "\n",
       "    .dataframe tbody tr th {\n",
       "        vertical-align: top;\n",
       "    }\n",
       "\n",
       "    .dataframe thead th {\n",
       "        text-align: right;\n",
       "    }\n",
       "</style>\n",
       "<table border=\"1\" class=\"dataframe\">\n",
       "  <thead>\n",
       "    <tr style=\"text-align: right;\">\n",
       "      <th></th>\n",
       "      <th>Name</th>\n",
       "      <th>Location</th>\n",
       "      <th>Year</th>\n",
       "      <th>Kilometers_Driven</th>\n",
       "      <th>Fuel_Type</th>\n",
       "      <th>Transmission</th>\n",
       "      <th>Owner_Type</th>\n",
       "      <th>Mileage</th>\n",
       "      <th>Engine</th>\n",
       "      <th>Power</th>\n",
       "      <th>Seats</th>\n",
       "      <th>price</th>\n",
       "      <th>Company Name</th>\n",
       "    </tr>\n",
       "  </thead>\n",
       "  <tbody>\n",
       "    <tr>\n",
       "      <th>0</th>\n",
       "      <td>Maruti Alto K10 LXI CNG</td>\n",
       "      <td>Delhi</td>\n",
       "      <td>2014</td>\n",
       "      <td>40929</td>\n",
       "      <td>CNG</td>\n",
       "      <td>Manual</td>\n",
       "      <td>First</td>\n",
       "      <td>32.26</td>\n",
       "      <td>998</td>\n",
       "      <td>58</td>\n",
       "      <td>4</td>\n",
       "      <td>1110923</td>\n",
       "      <td>Maruti Alto</td>\n",
       "    </tr>\n",
       "    <tr>\n",
       "      <th>1</th>\n",
       "      <td>Maruti Alto 800 2016-2019 LXI</td>\n",
       "      <td>Coimbatore</td>\n",
       "      <td>2013</td>\n",
       "      <td>54493</td>\n",
       "      <td>Petrol</td>\n",
       "      <td>Manual</td>\n",
       "      <td>Second</td>\n",
       "      <td>24.70</td>\n",
       "      <td>796</td>\n",
       "      <td>47</td>\n",
       "      <td>5</td>\n",
       "      <td>2020869</td>\n",
       "      <td>Maruti Alto</td>\n",
       "    </tr>\n",
       "    <tr>\n",
       "      <th>2</th>\n",
       "      <td>Toyota Innova Crysta Touring Sport 2.4 MT</td>\n",
       "      <td>Mumbai</td>\n",
       "      <td>2017</td>\n",
       "      <td>34000</td>\n",
       "      <td>Diesel</td>\n",
       "      <td>Manual</td>\n",
       "      <td>First</td>\n",
       "      <td>13.68</td>\n",
       "      <td>2393</td>\n",
       "      <td>147</td>\n",
       "      <td>7</td>\n",
       "      <td>2799708</td>\n",
       "      <td>Toyota Innova</td>\n",
       "    </tr>\n",
       "    <tr>\n",
       "      <th>3</th>\n",
       "      <td>Toyota Etios Liva GD</td>\n",
       "      <td>Hyderabad</td>\n",
       "      <td>2012</td>\n",
       "      <td>139000</td>\n",
       "      <td>Diesel</td>\n",
       "      <td>Manual</td>\n",
       "      <td>First</td>\n",
       "      <td>23.59</td>\n",
       "      <td>1364</td>\n",
       "      <td>110</td>\n",
       "      <td>5</td>\n",
       "      <td>4787001</td>\n",
       "      <td>Toyota Etios</td>\n",
       "    </tr>\n",
       "    <tr>\n",
       "      <th>4</th>\n",
       "      <td>Hyundai i20 Magna</td>\n",
       "      <td>Mumbai</td>\n",
       "      <td>2014</td>\n",
       "      <td>29000</td>\n",
       "      <td>Petrol</td>\n",
       "      <td>Manual</td>\n",
       "      <td>First</td>\n",
       "      <td>18.50</td>\n",
       "      <td>1197</td>\n",
       "      <td>82</td>\n",
       "      <td>5</td>\n",
       "      <td>2750422</td>\n",
       "      <td>Hyundai i20</td>\n",
       "    </tr>\n",
       "    <tr>\n",
       "      <th>...</th>\n",
       "      <td>...</td>\n",
       "      <td>...</td>\n",
       "      <td>...</td>\n",
       "      <td>...</td>\n",
       "      <td>...</td>\n",
       "      <td>...</td>\n",
       "      <td>...</td>\n",
       "      <td>...</td>\n",
       "      <td>...</td>\n",
       "      <td>...</td>\n",
       "      <td>...</td>\n",
       "      <td>...</td>\n",
       "      <td>...</td>\n",
       "    </tr>\n",
       "    <tr>\n",
       "      <th>1229</th>\n",
       "      <td>Volkswagen Vento Diesel Trendline</td>\n",
       "      <td>Hyderabad</td>\n",
       "      <td>2011</td>\n",
       "      <td>89411</td>\n",
       "      <td>Diesel</td>\n",
       "      <td>Manual</td>\n",
       "      <td>First</td>\n",
       "      <td>20.54</td>\n",
       "      <td>1598</td>\n",
       "      <td>103</td>\n",
       "      <td>5</td>\n",
       "      <td>4127468</td>\n",
       "      <td>Volkswagen Vento</td>\n",
       "    </tr>\n",
       "    <tr>\n",
       "      <th>1230</th>\n",
       "      <td>Volkswagen Polo GT TSI</td>\n",
       "      <td>Mumbai</td>\n",
       "      <td>2015</td>\n",
       "      <td>59000</td>\n",
       "      <td>Petrol</td>\n",
       "      <td>Automatic</td>\n",
       "      <td>First</td>\n",
       "      <td>17.21</td>\n",
       "      <td>1197</td>\n",
       "      <td>103</td>\n",
       "      <td>5</td>\n",
       "      <td>2766377</td>\n",
       "      <td>Volkswagen Polo</td>\n",
       "    </tr>\n",
       "    <tr>\n",
       "      <th>1231</th>\n",
       "      <td>Nissan Micra Diesel XV</td>\n",
       "      <td>Kolkata</td>\n",
       "      <td>2012</td>\n",
       "      <td>28000</td>\n",
       "      <td>Diesel</td>\n",
       "      <td>Manual</td>\n",
       "      <td>First</td>\n",
       "      <td>23.08</td>\n",
       "      <td>1461</td>\n",
       "      <td>63</td>\n",
       "      <td>5</td>\n",
       "      <td>4521144</td>\n",
       "      <td>Nissan Micra</td>\n",
       "    </tr>\n",
       "    <tr>\n",
       "      <th>1232</th>\n",
       "      <td>Volkswagen Polo GT TSI</td>\n",
       "      <td>Pune</td>\n",
       "      <td>2013</td>\n",
       "      <td>52262</td>\n",
       "      <td>Petrol</td>\n",
       "      <td>Automatic</td>\n",
       "      <td>Third</td>\n",
       "      <td>17.20</td>\n",
       "      <td>1197</td>\n",
       "      <td>103</td>\n",
       "      <td>5</td>\n",
       "      <td>2451507</td>\n",
       "      <td>Volkswagen Polo</td>\n",
       "    </tr>\n",
       "    <tr>\n",
       "      <th>1233</th>\n",
       "      <td>Mercedes-Benz E-Class 2009-2013 E 220 CDI Avan...</td>\n",
       "      <td>Kochi</td>\n",
       "      <td>2014</td>\n",
       "      <td>72443</td>\n",
       "      <td>Diesel</td>\n",
       "      <td>Automatic</td>\n",
       "      <td>First</td>\n",
       "      <td>10.00</td>\n",
       "      <td>2148</td>\n",
       "      <td>170</td>\n",
       "      <td>5</td>\n",
       "      <td>3104140</td>\n",
       "      <td>Mercedes-Benz E-Class</td>\n",
       "    </tr>\n",
       "  </tbody>\n",
       "</table>\n",
       "<p>1220 rows × 13 columns</p>\n",
       "</div>"
      ],
      "text/plain": [
       "                                                   Name    Location  Year  \\\n",
       "0                               Maruti Alto K10 LXI CNG       Delhi  2014   \n",
       "1                         Maruti Alto 800 2016-2019 LXI  Coimbatore  2013   \n",
       "2             Toyota Innova Crysta Touring Sport 2.4 MT      Mumbai  2017   \n",
       "3                                  Toyota Etios Liva GD   Hyderabad  2012   \n",
       "4                                     Hyundai i20 Magna      Mumbai  2014   \n",
       "...                                                 ...         ...   ...   \n",
       "1229                  Volkswagen Vento Diesel Trendline   Hyderabad  2011   \n",
       "1230                             Volkswagen Polo GT TSI      Mumbai  2015   \n",
       "1231                             Nissan Micra Diesel XV     Kolkata  2012   \n",
       "1232                             Volkswagen Polo GT TSI        Pune  2013   \n",
       "1233  Mercedes-Benz E-Class 2009-2013 E 220 CDI Avan...       Kochi  2014   \n",
       "\n",
       "      Kilometers_Driven Fuel_Type Transmission Owner_Type  Mileage  Engine  \\\n",
       "0                 40929       CNG       Manual      First    32.26     998   \n",
       "1                 54493    Petrol       Manual     Second    24.70     796   \n",
       "2                 34000    Diesel       Manual      First    13.68    2393   \n",
       "3                139000    Diesel       Manual      First    23.59    1364   \n",
       "4                 29000    Petrol       Manual      First    18.50    1197   \n",
       "...                 ...       ...          ...        ...      ...     ...   \n",
       "1229              89411    Diesel       Manual      First    20.54    1598   \n",
       "1230              59000    Petrol    Automatic      First    17.21    1197   \n",
       "1231              28000    Diesel       Manual      First    23.08    1461   \n",
       "1232              52262    Petrol    Automatic      Third    17.20    1197   \n",
       "1233              72443    Diesel    Automatic      First    10.00    2148   \n",
       "\n",
       "      Power  Seats    price           Company Name  \n",
       "0        58      4  1110923            Maruti Alto  \n",
       "1        47      5  2020869            Maruti Alto  \n",
       "2       147      7  2799708          Toyota Innova  \n",
       "3       110      5  4787001           Toyota Etios  \n",
       "4        82      5  2750422            Hyundai i20  \n",
       "...     ...    ...      ...                    ...  \n",
       "1229    103      5  4127468       Volkswagen Vento  \n",
       "1230    103      5  2766377        Volkswagen Polo  \n",
       "1231     63      5  4521144           Nissan Micra  \n",
       "1232    103      5  2451507        Volkswagen Polo  \n",
       "1233    170      5  3104140  Mercedes-Benz E-Class  \n",
       "\n",
       "[1220 rows x 13 columns]"
      ]
     },
     "execution_count": 32,
     "metadata": {},
     "output_type": "execute_result"
    }
   ],
   "source": [
    "df"
   ]
  },
  {
   "cell_type": "markdown",
   "id": "86abb588-f26b-4e4c-828d-90dcf09d8d68",
   "metadata": {},
   "source": [
    "# ii) Now removing company name for cloumn(name)"
   ]
  },
  {
   "cell_type": "code",
   "execution_count": 33,
   "id": "c41cb2b0-f2c2-4034-aa56-729e2ee7eb6b",
   "metadata": {
    "ExecuteTime": {
     "end_time": "2024-02-16T17:01:21.261899700Z",
     "start_time": "2024-02-16T17:01:20.598674900Z"
    }
   },
   "outputs": [],
   "source": [
    "df[\"Name\"]=df[\"Name\"].str.split(\" \").str.slice(2,4).str.join(\" \")"
   ]
  },
  {
   "cell_type": "code",
   "execution_count": 34,
   "id": "d9698b14-f7dd-42e3-9f99-34f6ef43d87b",
   "metadata": {
    "ExecuteTime": {
     "end_time": "2024-02-16T17:01:21.466761200Z",
     "start_time": "2024-02-16T17:01:21.167766Z"
    }
   },
   "outputs": [
    {
     "data": {
      "text/html": [
       "<div>\n",
       "<style scoped>\n",
       "    .dataframe tbody tr th:only-of-type {\n",
       "        vertical-align: middle;\n",
       "    }\n",
       "\n",
       "    .dataframe tbody tr th {\n",
       "        vertical-align: top;\n",
       "    }\n",
       "\n",
       "    .dataframe thead th {\n",
       "        text-align: right;\n",
       "    }\n",
       "</style>\n",
       "<table border=\"1\" class=\"dataframe\">\n",
       "  <thead>\n",
       "    <tr style=\"text-align: right;\">\n",
       "      <th></th>\n",
       "      <th>Name</th>\n",
       "      <th>Location</th>\n",
       "      <th>Year</th>\n",
       "      <th>Kilometers_Driven</th>\n",
       "      <th>Fuel_Type</th>\n",
       "      <th>Transmission</th>\n",
       "      <th>Owner_Type</th>\n",
       "      <th>Mileage</th>\n",
       "      <th>Engine</th>\n",
       "      <th>Power</th>\n",
       "      <th>Seats</th>\n",
       "      <th>price</th>\n",
       "      <th>Company Name</th>\n",
       "    </tr>\n",
       "  </thead>\n",
       "  <tbody>\n",
       "    <tr>\n",
       "      <th>0</th>\n",
       "      <td>K10 LXI</td>\n",
       "      <td>Delhi</td>\n",
       "      <td>2014</td>\n",
       "      <td>40929</td>\n",
       "      <td>CNG</td>\n",
       "      <td>Manual</td>\n",
       "      <td>First</td>\n",
       "      <td>32.26</td>\n",
       "      <td>998</td>\n",
       "      <td>58</td>\n",
       "      <td>4</td>\n",
       "      <td>1110923</td>\n",
       "      <td>Maruti Alto</td>\n",
       "    </tr>\n",
       "    <tr>\n",
       "      <th>1</th>\n",
       "      <td>800 2016-2019</td>\n",
       "      <td>Coimbatore</td>\n",
       "      <td>2013</td>\n",
       "      <td>54493</td>\n",
       "      <td>Petrol</td>\n",
       "      <td>Manual</td>\n",
       "      <td>Second</td>\n",
       "      <td>24.70</td>\n",
       "      <td>796</td>\n",
       "      <td>47</td>\n",
       "      <td>5</td>\n",
       "      <td>2020869</td>\n",
       "      <td>Maruti Alto</td>\n",
       "    </tr>\n",
       "    <tr>\n",
       "      <th>2</th>\n",
       "      <td>Crysta Touring</td>\n",
       "      <td>Mumbai</td>\n",
       "      <td>2017</td>\n",
       "      <td>34000</td>\n",
       "      <td>Diesel</td>\n",
       "      <td>Manual</td>\n",
       "      <td>First</td>\n",
       "      <td>13.68</td>\n",
       "      <td>2393</td>\n",
       "      <td>147</td>\n",
       "      <td>7</td>\n",
       "      <td>2799708</td>\n",
       "      <td>Toyota Innova</td>\n",
       "    </tr>\n",
       "    <tr>\n",
       "      <th>3</th>\n",
       "      <td>Liva GD</td>\n",
       "      <td>Hyderabad</td>\n",
       "      <td>2012</td>\n",
       "      <td>139000</td>\n",
       "      <td>Diesel</td>\n",
       "      <td>Manual</td>\n",
       "      <td>First</td>\n",
       "      <td>23.59</td>\n",
       "      <td>1364</td>\n",
       "      <td>110</td>\n",
       "      <td>5</td>\n",
       "      <td>4787001</td>\n",
       "      <td>Toyota Etios</td>\n",
       "    </tr>\n",
       "    <tr>\n",
       "      <th>4</th>\n",
       "      <td>Magna</td>\n",
       "      <td>Mumbai</td>\n",
       "      <td>2014</td>\n",
       "      <td>29000</td>\n",
       "      <td>Petrol</td>\n",
       "      <td>Manual</td>\n",
       "      <td>First</td>\n",
       "      <td>18.50</td>\n",
       "      <td>1197</td>\n",
       "      <td>82</td>\n",
       "      <td>5</td>\n",
       "      <td>2750422</td>\n",
       "      <td>Hyundai i20</td>\n",
       "    </tr>\n",
       "    <tr>\n",
       "      <th>...</th>\n",
       "      <td>...</td>\n",
       "      <td>...</td>\n",
       "      <td>...</td>\n",
       "      <td>...</td>\n",
       "      <td>...</td>\n",
       "      <td>...</td>\n",
       "      <td>...</td>\n",
       "      <td>...</td>\n",
       "      <td>...</td>\n",
       "      <td>...</td>\n",
       "      <td>...</td>\n",
       "      <td>...</td>\n",
       "      <td>...</td>\n",
       "    </tr>\n",
       "    <tr>\n",
       "      <th>1229</th>\n",
       "      <td>Diesel Trendline</td>\n",
       "      <td>Hyderabad</td>\n",
       "      <td>2011</td>\n",
       "      <td>89411</td>\n",
       "      <td>Diesel</td>\n",
       "      <td>Manual</td>\n",
       "      <td>First</td>\n",
       "      <td>20.54</td>\n",
       "      <td>1598</td>\n",
       "      <td>103</td>\n",
       "      <td>5</td>\n",
       "      <td>4127468</td>\n",
       "      <td>Volkswagen Vento</td>\n",
       "    </tr>\n",
       "    <tr>\n",
       "      <th>1230</th>\n",
       "      <td>GT TSI</td>\n",
       "      <td>Mumbai</td>\n",
       "      <td>2015</td>\n",
       "      <td>59000</td>\n",
       "      <td>Petrol</td>\n",
       "      <td>Automatic</td>\n",
       "      <td>First</td>\n",
       "      <td>17.21</td>\n",
       "      <td>1197</td>\n",
       "      <td>103</td>\n",
       "      <td>5</td>\n",
       "      <td>2766377</td>\n",
       "      <td>Volkswagen Polo</td>\n",
       "    </tr>\n",
       "    <tr>\n",
       "      <th>1231</th>\n",
       "      <td>Diesel XV</td>\n",
       "      <td>Kolkata</td>\n",
       "      <td>2012</td>\n",
       "      <td>28000</td>\n",
       "      <td>Diesel</td>\n",
       "      <td>Manual</td>\n",
       "      <td>First</td>\n",
       "      <td>23.08</td>\n",
       "      <td>1461</td>\n",
       "      <td>63</td>\n",
       "      <td>5</td>\n",
       "      <td>4521144</td>\n",
       "      <td>Nissan Micra</td>\n",
       "    </tr>\n",
       "    <tr>\n",
       "      <th>1232</th>\n",
       "      <td>GT TSI</td>\n",
       "      <td>Pune</td>\n",
       "      <td>2013</td>\n",
       "      <td>52262</td>\n",
       "      <td>Petrol</td>\n",
       "      <td>Automatic</td>\n",
       "      <td>Third</td>\n",
       "      <td>17.20</td>\n",
       "      <td>1197</td>\n",
       "      <td>103</td>\n",
       "      <td>5</td>\n",
       "      <td>2451507</td>\n",
       "      <td>Volkswagen Polo</td>\n",
       "    </tr>\n",
       "    <tr>\n",
       "      <th>1233</th>\n",
       "      <td>2009-2013 E</td>\n",
       "      <td>Kochi</td>\n",
       "      <td>2014</td>\n",
       "      <td>72443</td>\n",
       "      <td>Diesel</td>\n",
       "      <td>Automatic</td>\n",
       "      <td>First</td>\n",
       "      <td>10.00</td>\n",
       "      <td>2148</td>\n",
       "      <td>170</td>\n",
       "      <td>5</td>\n",
       "      <td>3104140</td>\n",
       "      <td>Mercedes-Benz E-Class</td>\n",
       "    </tr>\n",
       "  </tbody>\n",
       "</table>\n",
       "<p>1220 rows × 13 columns</p>\n",
       "</div>"
      ],
      "text/plain": [
       "                  Name    Location  Year  Kilometers_Driven Fuel_Type  \\\n",
       "0              K10 LXI       Delhi  2014              40929       CNG   \n",
       "1        800 2016-2019  Coimbatore  2013              54493    Petrol   \n",
       "2       Crysta Touring      Mumbai  2017              34000    Diesel   \n",
       "3              Liva GD   Hyderabad  2012             139000    Diesel   \n",
       "4                Magna      Mumbai  2014              29000    Petrol   \n",
       "...                ...         ...   ...                ...       ...   \n",
       "1229  Diesel Trendline   Hyderabad  2011              89411    Diesel   \n",
       "1230            GT TSI      Mumbai  2015              59000    Petrol   \n",
       "1231         Diesel XV     Kolkata  2012              28000    Diesel   \n",
       "1232            GT TSI        Pune  2013              52262    Petrol   \n",
       "1233       2009-2013 E       Kochi  2014              72443    Diesel   \n",
       "\n",
       "     Transmission Owner_Type  Mileage  Engine  Power  Seats    price  \\\n",
       "0          Manual      First    32.26     998     58      4  1110923   \n",
       "1          Manual     Second    24.70     796     47      5  2020869   \n",
       "2          Manual      First    13.68    2393    147      7  2799708   \n",
       "3          Manual      First    23.59    1364    110      5  4787001   \n",
       "4          Manual      First    18.50    1197     82      5  2750422   \n",
       "...           ...        ...      ...     ...    ...    ...      ...   \n",
       "1229       Manual      First    20.54    1598    103      5  4127468   \n",
       "1230    Automatic      First    17.21    1197    103      5  2766377   \n",
       "1231       Manual      First    23.08    1461     63      5  4521144   \n",
       "1232    Automatic      Third    17.20    1197    103      5  2451507   \n",
       "1233    Automatic      First    10.00    2148    170      5  3104140   \n",
       "\n",
       "               Company Name  \n",
       "0               Maruti Alto  \n",
       "1               Maruti Alto  \n",
       "2             Toyota Innova  \n",
       "3              Toyota Etios  \n",
       "4               Hyundai i20  \n",
       "...                     ...  \n",
       "1229       Volkswagen Vento  \n",
       "1230        Volkswagen Polo  \n",
       "1231           Nissan Micra  \n",
       "1232        Volkswagen Polo  \n",
       "1233  Mercedes-Benz E-Class  \n",
       "\n",
       "[1220 rows x 13 columns]"
      ]
     },
     "execution_count": 34,
     "metadata": {},
     "output_type": "execute_result"
    }
   ],
   "source": [
    "df"
   ]
  },
  {
   "cell_type": "markdown",
   "id": "4af30193-8dcd-437e-9302-f377929cdecd",
   "metadata": {},
   "source": [
    "# iv) Renaming the column (Name) with (Car model)"
   ]
  },
  {
   "cell_type": "code",
   "execution_count": 35,
   "id": "d798b794-b847-4152-afb5-587935e1d0af",
   "metadata": {
    "ExecuteTime": {
     "end_time": "2024-02-16T17:01:21.765902200Z",
     "start_time": "2024-02-16T17:01:21.451135500Z"
    }
   },
   "outputs": [],
   "source": [
    "df=df.rename(columns={\"Name\":\"Car Model\"})"
   ]
  },
  {
   "cell_type": "code",
   "execution_count": 36,
   "id": "9088dcbf-15d5-4918-b872-bec14ce96a2c",
   "metadata": {
    "ExecuteTime": {
     "start_time": "2024-02-16T17:01:21.718230400Z"
    },
    "is_executing": true
   },
   "outputs": [
    {
     "data": {
      "text/html": [
       "<div>\n",
       "<style scoped>\n",
       "    .dataframe tbody tr th:only-of-type {\n",
       "        vertical-align: middle;\n",
       "    }\n",
       "\n",
       "    .dataframe tbody tr th {\n",
       "        vertical-align: top;\n",
       "    }\n",
       "\n",
       "    .dataframe thead th {\n",
       "        text-align: right;\n",
       "    }\n",
       "</style>\n",
       "<table border=\"1\" class=\"dataframe\">\n",
       "  <thead>\n",
       "    <tr style=\"text-align: right;\">\n",
       "      <th></th>\n",
       "      <th>Car Model</th>\n",
       "      <th>Location</th>\n",
       "      <th>Year</th>\n",
       "      <th>Kilometers_Driven</th>\n",
       "      <th>Fuel_Type</th>\n",
       "      <th>Transmission</th>\n",
       "      <th>Owner_Type</th>\n",
       "      <th>Mileage</th>\n",
       "      <th>Engine</th>\n",
       "      <th>Power</th>\n",
       "      <th>Seats</th>\n",
       "      <th>price</th>\n",
       "      <th>Company Name</th>\n",
       "    </tr>\n",
       "  </thead>\n",
       "  <tbody>\n",
       "    <tr>\n",
       "      <th>0</th>\n",
       "      <td>K10 LXI</td>\n",
       "      <td>Delhi</td>\n",
       "      <td>2014</td>\n",
       "      <td>40929</td>\n",
       "      <td>CNG</td>\n",
       "      <td>Manual</td>\n",
       "      <td>First</td>\n",
       "      <td>32.26</td>\n",
       "      <td>998</td>\n",
       "      <td>58</td>\n",
       "      <td>4</td>\n",
       "      <td>1110923</td>\n",
       "      <td>Maruti Alto</td>\n",
       "    </tr>\n",
       "    <tr>\n",
       "      <th>1</th>\n",
       "      <td>800 2016-2019</td>\n",
       "      <td>Coimbatore</td>\n",
       "      <td>2013</td>\n",
       "      <td>54493</td>\n",
       "      <td>Petrol</td>\n",
       "      <td>Manual</td>\n",
       "      <td>Second</td>\n",
       "      <td>24.70</td>\n",
       "      <td>796</td>\n",
       "      <td>47</td>\n",
       "      <td>5</td>\n",
       "      <td>2020869</td>\n",
       "      <td>Maruti Alto</td>\n",
       "    </tr>\n",
       "    <tr>\n",
       "      <th>2</th>\n",
       "      <td>Crysta Touring</td>\n",
       "      <td>Mumbai</td>\n",
       "      <td>2017</td>\n",
       "      <td>34000</td>\n",
       "      <td>Diesel</td>\n",
       "      <td>Manual</td>\n",
       "      <td>First</td>\n",
       "      <td>13.68</td>\n",
       "      <td>2393</td>\n",
       "      <td>147</td>\n",
       "      <td>7</td>\n",
       "      <td>2799708</td>\n",
       "      <td>Toyota Innova</td>\n",
       "    </tr>\n",
       "    <tr>\n",
       "      <th>3</th>\n",
       "      <td>Liva GD</td>\n",
       "      <td>Hyderabad</td>\n",
       "      <td>2012</td>\n",
       "      <td>139000</td>\n",
       "      <td>Diesel</td>\n",
       "      <td>Manual</td>\n",
       "      <td>First</td>\n",
       "      <td>23.59</td>\n",
       "      <td>1364</td>\n",
       "      <td>110</td>\n",
       "      <td>5</td>\n",
       "      <td>4787001</td>\n",
       "      <td>Toyota Etios</td>\n",
       "    </tr>\n",
       "    <tr>\n",
       "      <th>4</th>\n",
       "      <td>Magna</td>\n",
       "      <td>Mumbai</td>\n",
       "      <td>2014</td>\n",
       "      <td>29000</td>\n",
       "      <td>Petrol</td>\n",
       "      <td>Manual</td>\n",
       "      <td>First</td>\n",
       "      <td>18.50</td>\n",
       "      <td>1197</td>\n",
       "      <td>82</td>\n",
       "      <td>5</td>\n",
       "      <td>2750422</td>\n",
       "      <td>Hyundai i20</td>\n",
       "    </tr>\n",
       "    <tr>\n",
       "      <th>...</th>\n",
       "      <td>...</td>\n",
       "      <td>...</td>\n",
       "      <td>...</td>\n",
       "      <td>...</td>\n",
       "      <td>...</td>\n",
       "      <td>...</td>\n",
       "      <td>...</td>\n",
       "      <td>...</td>\n",
       "      <td>...</td>\n",
       "      <td>...</td>\n",
       "      <td>...</td>\n",
       "      <td>...</td>\n",
       "      <td>...</td>\n",
       "    </tr>\n",
       "    <tr>\n",
       "      <th>1229</th>\n",
       "      <td>Diesel Trendline</td>\n",
       "      <td>Hyderabad</td>\n",
       "      <td>2011</td>\n",
       "      <td>89411</td>\n",
       "      <td>Diesel</td>\n",
       "      <td>Manual</td>\n",
       "      <td>First</td>\n",
       "      <td>20.54</td>\n",
       "      <td>1598</td>\n",
       "      <td>103</td>\n",
       "      <td>5</td>\n",
       "      <td>4127468</td>\n",
       "      <td>Volkswagen Vento</td>\n",
       "    </tr>\n",
       "    <tr>\n",
       "      <th>1230</th>\n",
       "      <td>GT TSI</td>\n",
       "      <td>Mumbai</td>\n",
       "      <td>2015</td>\n",
       "      <td>59000</td>\n",
       "      <td>Petrol</td>\n",
       "      <td>Automatic</td>\n",
       "      <td>First</td>\n",
       "      <td>17.21</td>\n",
       "      <td>1197</td>\n",
       "      <td>103</td>\n",
       "      <td>5</td>\n",
       "      <td>2766377</td>\n",
       "      <td>Volkswagen Polo</td>\n",
       "    </tr>\n",
       "    <tr>\n",
       "      <th>1231</th>\n",
       "      <td>Diesel XV</td>\n",
       "      <td>Kolkata</td>\n",
       "      <td>2012</td>\n",
       "      <td>28000</td>\n",
       "      <td>Diesel</td>\n",
       "      <td>Manual</td>\n",
       "      <td>First</td>\n",
       "      <td>23.08</td>\n",
       "      <td>1461</td>\n",
       "      <td>63</td>\n",
       "      <td>5</td>\n",
       "      <td>4521144</td>\n",
       "      <td>Nissan Micra</td>\n",
       "    </tr>\n",
       "    <tr>\n",
       "      <th>1232</th>\n",
       "      <td>GT TSI</td>\n",
       "      <td>Pune</td>\n",
       "      <td>2013</td>\n",
       "      <td>52262</td>\n",
       "      <td>Petrol</td>\n",
       "      <td>Automatic</td>\n",
       "      <td>Third</td>\n",
       "      <td>17.20</td>\n",
       "      <td>1197</td>\n",
       "      <td>103</td>\n",
       "      <td>5</td>\n",
       "      <td>2451507</td>\n",
       "      <td>Volkswagen Polo</td>\n",
       "    </tr>\n",
       "    <tr>\n",
       "      <th>1233</th>\n",
       "      <td>2009-2013 E</td>\n",
       "      <td>Kochi</td>\n",
       "      <td>2014</td>\n",
       "      <td>72443</td>\n",
       "      <td>Diesel</td>\n",
       "      <td>Automatic</td>\n",
       "      <td>First</td>\n",
       "      <td>10.00</td>\n",
       "      <td>2148</td>\n",
       "      <td>170</td>\n",
       "      <td>5</td>\n",
       "      <td>3104140</td>\n",
       "      <td>Mercedes-Benz E-Class</td>\n",
       "    </tr>\n",
       "  </tbody>\n",
       "</table>\n",
       "<p>1220 rows × 13 columns</p>\n",
       "</div>"
      ],
      "text/plain": [
       "             Car Model    Location  Year  Kilometers_Driven Fuel_Type  \\\n",
       "0              K10 LXI       Delhi  2014              40929       CNG   \n",
       "1        800 2016-2019  Coimbatore  2013              54493    Petrol   \n",
       "2       Crysta Touring      Mumbai  2017              34000    Diesel   \n",
       "3              Liva GD   Hyderabad  2012             139000    Diesel   \n",
       "4                Magna      Mumbai  2014              29000    Petrol   \n",
       "...                ...         ...   ...                ...       ...   \n",
       "1229  Diesel Trendline   Hyderabad  2011              89411    Diesel   \n",
       "1230            GT TSI      Mumbai  2015              59000    Petrol   \n",
       "1231         Diesel XV     Kolkata  2012              28000    Diesel   \n",
       "1232            GT TSI        Pune  2013              52262    Petrol   \n",
       "1233       2009-2013 E       Kochi  2014              72443    Diesel   \n",
       "\n",
       "     Transmission Owner_Type  Mileage  Engine  Power  Seats    price  \\\n",
       "0          Manual      First    32.26     998     58      4  1110923   \n",
       "1          Manual     Second    24.70     796     47      5  2020869   \n",
       "2          Manual      First    13.68    2393    147      7  2799708   \n",
       "3          Manual      First    23.59    1364    110      5  4787001   \n",
       "4          Manual      First    18.50    1197     82      5  2750422   \n",
       "...           ...        ...      ...     ...    ...    ...      ...   \n",
       "1229       Manual      First    20.54    1598    103      5  4127468   \n",
       "1230    Automatic      First    17.21    1197    103      5  2766377   \n",
       "1231       Manual      First    23.08    1461     63      5  4521144   \n",
       "1232    Automatic      Third    17.20    1197    103      5  2451507   \n",
       "1233    Automatic      First    10.00    2148    170      5  3104140   \n",
       "\n",
       "               Company Name  \n",
       "0               Maruti Alto  \n",
       "1               Maruti Alto  \n",
       "2             Toyota Innova  \n",
       "3              Toyota Etios  \n",
       "4               Hyundai i20  \n",
       "...                     ...  \n",
       "1229       Volkswagen Vento  \n",
       "1230        Volkswagen Polo  \n",
       "1231           Nissan Micra  \n",
       "1232        Volkswagen Polo  \n",
       "1233  Mercedes-Benz E-Class  \n",
       "\n",
       "[1220 rows x 13 columns]"
      ]
     },
     "execution_count": 36,
     "metadata": {},
     "output_type": "execute_result"
    }
   ],
   "source": [
    "df"
   ]
  },
  {
   "cell_type": "markdown",
   "id": "f1c14e33-6a2f-48fa-8c8e-ac5ced3a914e",
   "metadata": {},
   "source": [
    "# iii) I wanted column (comapany model) to be placed before column(Name)"
   ]
  },
  {
   "cell_type": "code",
   "execution_count": 37,
   "id": "e4635a3b-2d08-4968-93ed-77f21862d558",
   "metadata": {
    "ExecuteTime": {
     "end_time": "2024-02-16T11:40:25.327527900Z",
     "start_time": "2024-02-16T11:40:25.090161200Z"
    }
   },
   "outputs": [
    {
     "data": {
      "text/plain": [
       "['Car Model',\n",
       " 'Location',\n",
       " 'Year',\n",
       " 'Kilometers_Driven',\n",
       " 'Fuel_Type',\n",
       " 'Transmission',\n",
       " 'Owner_Type',\n",
       " 'Mileage',\n",
       " 'Engine',\n",
       " 'Power',\n",
       " 'Seats',\n",
       " 'price',\n",
       " 'Company Name']"
      ]
     },
     "execution_count": 37,
     "metadata": {},
     "output_type": "execute_result"
    }
   ],
   "source": [
    "titles=list(df.columns)\n",
    "titles"
   ]
  },
  {
   "cell_type": "code",
   "execution_count": 38,
   "id": "6b956b84-021f-47ab-8fb4-e86f29ea67dc",
   "metadata": {
    "ExecuteTime": {
     "end_time": "2024-02-16T11:40:25.494745800Z",
     "start_time": "2024-02-16T11:40:25.235798200Z"
    }
   },
   "outputs": [],
   "source": [
    "titles[1],titles[12]=titles[12],titles[1]\n"
   ]
  },
  {
   "cell_type": "code",
   "execution_count": 39,
   "id": "21788c1a-d8f7-4b48-aa9f-1233ce016f75",
   "metadata": {
    "ExecuteTime": {
     "end_time": "2024-02-16T11:40:25.711273700Z",
     "start_time": "2024-02-16T11:40:25.456896100Z"
    }
   },
   "outputs": [
    {
     "data": {
      "text/plain": [
       "['Car Model',\n",
       " 'Company Name',\n",
       " 'Year',\n",
       " 'Kilometers_Driven',\n",
       " 'Fuel_Type',\n",
       " 'Transmission',\n",
       " 'Owner_Type',\n",
       " 'Mileage',\n",
       " 'Engine',\n",
       " 'Power',\n",
       " 'Seats',\n",
       " 'price',\n",
       " 'Location']"
      ]
     },
     "execution_count": 39,
     "metadata": {},
     "output_type": "execute_result"
    }
   ],
   "source": [
    "titles"
   ]
  },
  {
   "cell_type": "code",
   "execution_count": 40,
   "id": "3a8e8f3e-ec03-4cf4-bb24-b71d682c4551",
   "metadata": {
    "ExecuteTime": {
     "end_time": "2024-02-16T11:40:25.872383900Z",
     "start_time": "2024-02-16T11:40:25.694775400Z"
    }
   },
   "outputs": [],
   "source": [
    "titles[0],titles[1]=titles[1],titles[0]"
   ]
  },
  {
   "cell_type": "code",
   "execution_count": 41,
   "id": "26ec6e6d-d4ca-4114-8a2a-1aaa2642361d",
   "metadata": {},
   "outputs": [],
   "source": [
    "titles[11],titles[12]=titles[12],titles[11]"
   ]
  },
  {
   "cell_type": "code",
   "execution_count": 42,
   "id": "aee8c7e9-fb85-442d-a091-cfa28cb5d609",
   "metadata": {
    "ExecuteTime": {
     "end_time": "2024-02-16T11:40:25.993630600Z",
     "start_time": "2024-02-16T11:40:25.841223Z"
    }
   },
   "outputs": [],
   "source": [
    "df=df[titles]"
   ]
  },
  {
   "cell_type": "code",
   "execution_count": 43,
   "id": "43779d13-9e1b-47a0-bcd8-0457e39cb451",
   "metadata": {
    "ExecuteTime": {
     "end_time": "2024-02-16T11:40:26.150544Z",
     "start_time": "2024-02-16T11:40:25.995814700Z"
    }
   },
   "outputs": [
    {
     "data": {
      "text/html": [
       "<div>\n",
       "<style scoped>\n",
       "    .dataframe tbody tr th:only-of-type {\n",
       "        vertical-align: middle;\n",
       "    }\n",
       "\n",
       "    .dataframe tbody tr th {\n",
       "        vertical-align: top;\n",
       "    }\n",
       "\n",
       "    .dataframe thead th {\n",
       "        text-align: right;\n",
       "    }\n",
       "</style>\n",
       "<table border=\"1\" class=\"dataframe\">\n",
       "  <thead>\n",
       "    <tr style=\"text-align: right;\">\n",
       "      <th></th>\n",
       "      <th>Company Name</th>\n",
       "      <th>Car Model</th>\n",
       "      <th>Year</th>\n",
       "      <th>Kilometers_Driven</th>\n",
       "      <th>Fuel_Type</th>\n",
       "      <th>Transmission</th>\n",
       "      <th>Owner_Type</th>\n",
       "      <th>Mileage</th>\n",
       "      <th>Engine</th>\n",
       "      <th>Power</th>\n",
       "      <th>Seats</th>\n",
       "      <th>Location</th>\n",
       "      <th>price</th>\n",
       "    </tr>\n",
       "  </thead>\n",
       "  <tbody>\n",
       "    <tr>\n",
       "      <th>0</th>\n",
       "      <td>Maruti Alto</td>\n",
       "      <td>K10 LXI</td>\n",
       "      <td>2014</td>\n",
       "      <td>40929</td>\n",
       "      <td>CNG</td>\n",
       "      <td>Manual</td>\n",
       "      <td>First</td>\n",
       "      <td>32.26</td>\n",
       "      <td>998</td>\n",
       "      <td>58</td>\n",
       "      <td>4</td>\n",
       "      <td>Delhi</td>\n",
       "      <td>1110923</td>\n",
       "    </tr>\n",
       "    <tr>\n",
       "      <th>1</th>\n",
       "      <td>Maruti Alto</td>\n",
       "      <td>800 2016-2019</td>\n",
       "      <td>2013</td>\n",
       "      <td>54493</td>\n",
       "      <td>Petrol</td>\n",
       "      <td>Manual</td>\n",
       "      <td>Second</td>\n",
       "      <td>24.70</td>\n",
       "      <td>796</td>\n",
       "      <td>47</td>\n",
       "      <td>5</td>\n",
       "      <td>Coimbatore</td>\n",
       "      <td>2020869</td>\n",
       "    </tr>\n",
       "    <tr>\n",
       "      <th>2</th>\n",
       "      <td>Toyota Innova</td>\n",
       "      <td>Crysta Touring</td>\n",
       "      <td>2017</td>\n",
       "      <td>34000</td>\n",
       "      <td>Diesel</td>\n",
       "      <td>Manual</td>\n",
       "      <td>First</td>\n",
       "      <td>13.68</td>\n",
       "      <td>2393</td>\n",
       "      <td>147</td>\n",
       "      <td>7</td>\n",
       "      <td>Mumbai</td>\n",
       "      <td>2799708</td>\n",
       "    </tr>\n",
       "    <tr>\n",
       "      <th>3</th>\n",
       "      <td>Toyota Etios</td>\n",
       "      <td>Liva GD</td>\n",
       "      <td>2012</td>\n",
       "      <td>139000</td>\n",
       "      <td>Diesel</td>\n",
       "      <td>Manual</td>\n",
       "      <td>First</td>\n",
       "      <td>23.59</td>\n",
       "      <td>1364</td>\n",
       "      <td>110</td>\n",
       "      <td>5</td>\n",
       "      <td>Hyderabad</td>\n",
       "      <td>4787001</td>\n",
       "    </tr>\n",
       "    <tr>\n",
       "      <th>4</th>\n",
       "      <td>Hyundai i20</td>\n",
       "      <td>Magna</td>\n",
       "      <td>2014</td>\n",
       "      <td>29000</td>\n",
       "      <td>Petrol</td>\n",
       "      <td>Manual</td>\n",
       "      <td>First</td>\n",
       "      <td>18.50</td>\n",
       "      <td>1197</td>\n",
       "      <td>82</td>\n",
       "      <td>5</td>\n",
       "      <td>Mumbai</td>\n",
       "      <td>2750422</td>\n",
       "    </tr>\n",
       "    <tr>\n",
       "      <th>...</th>\n",
       "      <td>...</td>\n",
       "      <td>...</td>\n",
       "      <td>...</td>\n",
       "      <td>...</td>\n",
       "      <td>...</td>\n",
       "      <td>...</td>\n",
       "      <td>...</td>\n",
       "      <td>...</td>\n",
       "      <td>...</td>\n",
       "      <td>...</td>\n",
       "      <td>...</td>\n",
       "      <td>...</td>\n",
       "      <td>...</td>\n",
       "    </tr>\n",
       "    <tr>\n",
       "      <th>1229</th>\n",
       "      <td>Volkswagen Vento</td>\n",
       "      <td>Diesel Trendline</td>\n",
       "      <td>2011</td>\n",
       "      <td>89411</td>\n",
       "      <td>Diesel</td>\n",
       "      <td>Manual</td>\n",
       "      <td>First</td>\n",
       "      <td>20.54</td>\n",
       "      <td>1598</td>\n",
       "      <td>103</td>\n",
       "      <td>5</td>\n",
       "      <td>Hyderabad</td>\n",
       "      <td>4127468</td>\n",
       "    </tr>\n",
       "    <tr>\n",
       "      <th>1230</th>\n",
       "      <td>Volkswagen Polo</td>\n",
       "      <td>GT TSI</td>\n",
       "      <td>2015</td>\n",
       "      <td>59000</td>\n",
       "      <td>Petrol</td>\n",
       "      <td>Automatic</td>\n",
       "      <td>First</td>\n",
       "      <td>17.21</td>\n",
       "      <td>1197</td>\n",
       "      <td>103</td>\n",
       "      <td>5</td>\n",
       "      <td>Mumbai</td>\n",
       "      <td>2766377</td>\n",
       "    </tr>\n",
       "    <tr>\n",
       "      <th>1231</th>\n",
       "      <td>Nissan Micra</td>\n",
       "      <td>Diesel XV</td>\n",
       "      <td>2012</td>\n",
       "      <td>28000</td>\n",
       "      <td>Diesel</td>\n",
       "      <td>Manual</td>\n",
       "      <td>First</td>\n",
       "      <td>23.08</td>\n",
       "      <td>1461</td>\n",
       "      <td>63</td>\n",
       "      <td>5</td>\n",
       "      <td>Kolkata</td>\n",
       "      <td>4521144</td>\n",
       "    </tr>\n",
       "    <tr>\n",
       "      <th>1232</th>\n",
       "      <td>Volkswagen Polo</td>\n",
       "      <td>GT TSI</td>\n",
       "      <td>2013</td>\n",
       "      <td>52262</td>\n",
       "      <td>Petrol</td>\n",
       "      <td>Automatic</td>\n",
       "      <td>Third</td>\n",
       "      <td>17.20</td>\n",
       "      <td>1197</td>\n",
       "      <td>103</td>\n",
       "      <td>5</td>\n",
       "      <td>Pune</td>\n",
       "      <td>2451507</td>\n",
       "    </tr>\n",
       "    <tr>\n",
       "      <th>1233</th>\n",
       "      <td>Mercedes-Benz E-Class</td>\n",
       "      <td>2009-2013 E</td>\n",
       "      <td>2014</td>\n",
       "      <td>72443</td>\n",
       "      <td>Diesel</td>\n",
       "      <td>Automatic</td>\n",
       "      <td>First</td>\n",
       "      <td>10.00</td>\n",
       "      <td>2148</td>\n",
       "      <td>170</td>\n",
       "      <td>5</td>\n",
       "      <td>Kochi</td>\n",
       "      <td>3104140</td>\n",
       "    </tr>\n",
       "  </tbody>\n",
       "</table>\n",
       "<p>1220 rows × 13 columns</p>\n",
       "</div>"
      ],
      "text/plain": [
       "               Company Name         Car Model  Year  Kilometers_Driven  \\\n",
       "0               Maruti Alto           K10 LXI  2014              40929   \n",
       "1               Maruti Alto     800 2016-2019  2013              54493   \n",
       "2             Toyota Innova    Crysta Touring  2017              34000   \n",
       "3              Toyota Etios           Liva GD  2012             139000   \n",
       "4               Hyundai i20             Magna  2014              29000   \n",
       "...                     ...               ...   ...                ...   \n",
       "1229       Volkswagen Vento  Diesel Trendline  2011              89411   \n",
       "1230        Volkswagen Polo            GT TSI  2015              59000   \n",
       "1231           Nissan Micra         Diesel XV  2012              28000   \n",
       "1232        Volkswagen Polo            GT TSI  2013              52262   \n",
       "1233  Mercedes-Benz E-Class       2009-2013 E  2014              72443   \n",
       "\n",
       "     Fuel_Type Transmission Owner_Type  Mileage  Engine  Power  Seats  \\\n",
       "0          CNG       Manual      First    32.26     998     58      4   \n",
       "1       Petrol       Manual     Second    24.70     796     47      5   \n",
       "2       Diesel       Manual      First    13.68    2393    147      7   \n",
       "3       Diesel       Manual      First    23.59    1364    110      5   \n",
       "4       Petrol       Manual      First    18.50    1197     82      5   \n",
       "...        ...          ...        ...      ...     ...    ...    ...   \n",
       "1229    Diesel       Manual      First    20.54    1598    103      5   \n",
       "1230    Petrol    Automatic      First    17.21    1197    103      5   \n",
       "1231    Diesel       Manual      First    23.08    1461     63      5   \n",
       "1232    Petrol    Automatic      Third    17.20    1197    103      5   \n",
       "1233    Diesel    Automatic      First    10.00    2148    170      5   \n",
       "\n",
       "        Location    price  \n",
       "0          Delhi  1110923  \n",
       "1     Coimbatore  2020869  \n",
       "2         Mumbai  2799708  \n",
       "3      Hyderabad  4787001  \n",
       "4         Mumbai  2750422  \n",
       "...          ...      ...  \n",
       "1229   Hyderabad  4127468  \n",
       "1230      Mumbai  2766377  \n",
       "1231     Kolkata  4521144  \n",
       "1232        Pune  2451507  \n",
       "1233       Kochi  3104140  \n",
       "\n",
       "[1220 rows x 13 columns]"
      ]
     },
     "execution_count": 43,
     "metadata": {},
     "output_type": "execute_result"
    }
   ],
   "source": [
    "df"
   ]
  },
  {
   "cell_type": "code",
   "execution_count": 44,
   "id": "d2c7a47f-0110-4980-8187-7480c379b98b",
   "metadata": {
    "ExecuteTime": {
     "end_time": "2024-02-16T11:40:26.226766800Z",
     "start_time": "2024-02-16T11:40:26.079661800Z"
    }
   },
   "outputs": [
    {
     "name": "stdout",
     "output_type": "stream",
     "text": [
      "<class 'pandas.core.frame.DataFrame'>\n",
      "Index: 1220 entries, 0 to 1233\n",
      "Data columns (total 13 columns):\n",
      " #   Column             Non-Null Count  Dtype  \n",
      "---  ------             --------------  -----  \n",
      " 0   Company Name       1220 non-null   object \n",
      " 1   Car Model          1220 non-null   object \n",
      " 2   Year               1220 non-null   int64  \n",
      " 3   Kilometers_Driven  1220 non-null   int64  \n",
      " 4   Fuel_Type          1220 non-null   object \n",
      " 5   Transmission       1220 non-null   object \n",
      " 6   Owner_Type         1220 non-null   object \n",
      " 7   Mileage            1220 non-null   float64\n",
      " 8   Engine             1220 non-null   int32  \n",
      " 9   Power              1220 non-null   int32  \n",
      " 10  Seats              1220 non-null   int32  \n",
      " 11  Location           1220 non-null   object \n",
      " 12  price              1220 non-null   int32  \n",
      "dtypes: float64(1), int32(4), int64(2), object(6)\n",
      "memory usage: 114.4+ KB\n"
     ]
    }
   ],
   "source": [
    "df.info()"
   ]
  },
  {
   "cell_type": "code",
   "execution_count": 45,
   "id": "e26cc00a-6bb8-4794-8cf2-32fa7a6fce1b",
   "metadata": {
    "ExecuteTime": {
     "end_time": "2024-02-16T11:40:26.400181900Z",
     "start_time": "2024-02-16T11:40:26.191817200Z"
    }
   },
   "outputs": [
    {
     "data": {
      "text/plain": [
       "Company Name         0\n",
       "Car Model            0\n",
       "Year                 0\n",
       "Kilometers_Driven    0\n",
       "Fuel_Type            0\n",
       "Transmission         0\n",
       "Owner_Type           0\n",
       "Mileage              0\n",
       "Engine               0\n",
       "Power                0\n",
       "Seats                0\n",
       "Location             0\n",
       "price                0\n",
       "dtype: int64"
      ]
     },
     "execution_count": 45,
     "metadata": {},
     "output_type": "execute_result"
    }
   ],
   "source": [
    "df.isnull().sum()"
   ]
  },
  {
   "cell_type": "code",
   "execution_count": 46,
   "id": "abd85adf-6a9a-4afa-8225-805222c6ebb6",
   "metadata": {
    "ExecuteTime": {
     "end_time": "2024-02-16T11:40:26.491015900Z",
     "start_time": "2024-02-16T11:40:26.343911900Z"
    }
   },
   "outputs": [
    {
     "data": {
      "text/html": [
       "<div>\n",
       "<style scoped>\n",
       "    .dataframe tbody tr th:only-of-type {\n",
       "        vertical-align: middle;\n",
       "    }\n",
       "\n",
       "    .dataframe tbody tr th {\n",
       "        vertical-align: top;\n",
       "    }\n",
       "\n",
       "    .dataframe thead th {\n",
       "        text-align: right;\n",
       "    }\n",
       "</style>\n",
       "<table border=\"1\" class=\"dataframe\">\n",
       "  <thead>\n",
       "    <tr style=\"text-align: right;\">\n",
       "      <th></th>\n",
       "      <th>Company Name</th>\n",
       "      <th>Car Model</th>\n",
       "      <th>Year</th>\n",
       "      <th>Kilometers_Driven</th>\n",
       "      <th>Fuel_Type</th>\n",
       "      <th>Transmission</th>\n",
       "      <th>Owner_Type</th>\n",
       "      <th>Mileage</th>\n",
       "      <th>Engine</th>\n",
       "      <th>Power</th>\n",
       "      <th>Seats</th>\n",
       "      <th>Location</th>\n",
       "      <th>price</th>\n",
       "    </tr>\n",
       "  </thead>\n",
       "  <tbody>\n",
       "    <tr>\n",
       "      <th>0</th>\n",
       "      <td>Maruti Alto</td>\n",
       "      <td>K10 LXI</td>\n",
       "      <td>2014</td>\n",
       "      <td>40929</td>\n",
       "      <td>CNG</td>\n",
       "      <td>Manual</td>\n",
       "      <td>First</td>\n",
       "      <td>32.26</td>\n",
       "      <td>998</td>\n",
       "      <td>58</td>\n",
       "      <td>4</td>\n",
       "      <td>Delhi</td>\n",
       "      <td>1110923</td>\n",
       "    </tr>\n",
       "    <tr>\n",
       "      <th>1</th>\n",
       "      <td>Maruti Alto</td>\n",
       "      <td>800 2016-2019</td>\n",
       "      <td>2013</td>\n",
       "      <td>54493</td>\n",
       "      <td>Petrol</td>\n",
       "      <td>Manual</td>\n",
       "      <td>Second</td>\n",
       "      <td>24.70</td>\n",
       "      <td>796</td>\n",
       "      <td>47</td>\n",
       "      <td>5</td>\n",
       "      <td>Coimbatore</td>\n",
       "      <td>2020869</td>\n",
       "    </tr>\n",
       "    <tr>\n",
       "      <th>2</th>\n",
       "      <td>Toyota Innova</td>\n",
       "      <td>Crysta Touring</td>\n",
       "      <td>2017</td>\n",
       "      <td>34000</td>\n",
       "      <td>Diesel</td>\n",
       "      <td>Manual</td>\n",
       "      <td>First</td>\n",
       "      <td>13.68</td>\n",
       "      <td>2393</td>\n",
       "      <td>147</td>\n",
       "      <td>7</td>\n",
       "      <td>Mumbai</td>\n",
       "      <td>2799708</td>\n",
       "    </tr>\n",
       "    <tr>\n",
       "      <th>3</th>\n",
       "      <td>Toyota Etios</td>\n",
       "      <td>Liva GD</td>\n",
       "      <td>2012</td>\n",
       "      <td>139000</td>\n",
       "      <td>Diesel</td>\n",
       "      <td>Manual</td>\n",
       "      <td>First</td>\n",
       "      <td>23.59</td>\n",
       "      <td>1364</td>\n",
       "      <td>110</td>\n",
       "      <td>5</td>\n",
       "      <td>Hyderabad</td>\n",
       "      <td>4787001</td>\n",
       "    </tr>\n",
       "    <tr>\n",
       "      <th>4</th>\n",
       "      <td>Hyundai i20</td>\n",
       "      <td>Magna</td>\n",
       "      <td>2014</td>\n",
       "      <td>29000</td>\n",
       "      <td>Petrol</td>\n",
       "      <td>Manual</td>\n",
       "      <td>First</td>\n",
       "      <td>18.50</td>\n",
       "      <td>1197</td>\n",
       "      <td>82</td>\n",
       "      <td>5</td>\n",
       "      <td>Mumbai</td>\n",
       "      <td>2750422</td>\n",
       "    </tr>\n",
       "    <tr>\n",
       "      <th>...</th>\n",
       "      <td>...</td>\n",
       "      <td>...</td>\n",
       "      <td>...</td>\n",
       "      <td>...</td>\n",
       "      <td>...</td>\n",
       "      <td>...</td>\n",
       "      <td>...</td>\n",
       "      <td>...</td>\n",
       "      <td>...</td>\n",
       "      <td>...</td>\n",
       "      <td>...</td>\n",
       "      <td>...</td>\n",
       "      <td>...</td>\n",
       "    </tr>\n",
       "    <tr>\n",
       "      <th>1229</th>\n",
       "      <td>Volkswagen Vento</td>\n",
       "      <td>Diesel Trendline</td>\n",
       "      <td>2011</td>\n",
       "      <td>89411</td>\n",
       "      <td>Diesel</td>\n",
       "      <td>Manual</td>\n",
       "      <td>First</td>\n",
       "      <td>20.54</td>\n",
       "      <td>1598</td>\n",
       "      <td>103</td>\n",
       "      <td>5</td>\n",
       "      <td>Hyderabad</td>\n",
       "      <td>4127468</td>\n",
       "    </tr>\n",
       "    <tr>\n",
       "      <th>1230</th>\n",
       "      <td>Volkswagen Polo</td>\n",
       "      <td>GT TSI</td>\n",
       "      <td>2015</td>\n",
       "      <td>59000</td>\n",
       "      <td>Petrol</td>\n",
       "      <td>Automatic</td>\n",
       "      <td>First</td>\n",
       "      <td>17.21</td>\n",
       "      <td>1197</td>\n",
       "      <td>103</td>\n",
       "      <td>5</td>\n",
       "      <td>Mumbai</td>\n",
       "      <td>2766377</td>\n",
       "    </tr>\n",
       "    <tr>\n",
       "      <th>1231</th>\n",
       "      <td>Nissan Micra</td>\n",
       "      <td>Diesel XV</td>\n",
       "      <td>2012</td>\n",
       "      <td>28000</td>\n",
       "      <td>Diesel</td>\n",
       "      <td>Manual</td>\n",
       "      <td>First</td>\n",
       "      <td>23.08</td>\n",
       "      <td>1461</td>\n",
       "      <td>63</td>\n",
       "      <td>5</td>\n",
       "      <td>Kolkata</td>\n",
       "      <td>4521144</td>\n",
       "    </tr>\n",
       "    <tr>\n",
       "      <th>1232</th>\n",
       "      <td>Volkswagen Polo</td>\n",
       "      <td>GT TSI</td>\n",
       "      <td>2013</td>\n",
       "      <td>52262</td>\n",
       "      <td>Petrol</td>\n",
       "      <td>Automatic</td>\n",
       "      <td>Third</td>\n",
       "      <td>17.20</td>\n",
       "      <td>1197</td>\n",
       "      <td>103</td>\n",
       "      <td>5</td>\n",
       "      <td>Pune</td>\n",
       "      <td>2451507</td>\n",
       "    </tr>\n",
       "    <tr>\n",
       "      <th>1233</th>\n",
       "      <td>Mercedes-Benz E-Class</td>\n",
       "      <td>2009-2013 E</td>\n",
       "      <td>2014</td>\n",
       "      <td>72443</td>\n",
       "      <td>Diesel</td>\n",
       "      <td>Automatic</td>\n",
       "      <td>First</td>\n",
       "      <td>10.00</td>\n",
       "      <td>2148</td>\n",
       "      <td>170</td>\n",
       "      <td>5</td>\n",
       "      <td>Kochi</td>\n",
       "      <td>3104140</td>\n",
       "    </tr>\n",
       "  </tbody>\n",
       "</table>\n",
       "<p>1220 rows × 13 columns</p>\n",
       "</div>"
      ],
      "text/plain": [
       "               Company Name         Car Model  Year  Kilometers_Driven  \\\n",
       "0               Maruti Alto           K10 LXI  2014              40929   \n",
       "1               Maruti Alto     800 2016-2019  2013              54493   \n",
       "2             Toyota Innova    Crysta Touring  2017              34000   \n",
       "3              Toyota Etios           Liva GD  2012             139000   \n",
       "4               Hyundai i20             Magna  2014              29000   \n",
       "...                     ...               ...   ...                ...   \n",
       "1229       Volkswagen Vento  Diesel Trendline  2011              89411   \n",
       "1230        Volkswagen Polo            GT TSI  2015              59000   \n",
       "1231           Nissan Micra         Diesel XV  2012              28000   \n",
       "1232        Volkswagen Polo            GT TSI  2013              52262   \n",
       "1233  Mercedes-Benz E-Class       2009-2013 E  2014              72443   \n",
       "\n",
       "     Fuel_Type Transmission Owner_Type  Mileage  Engine  Power  Seats  \\\n",
       "0          CNG       Manual      First    32.26     998     58      4   \n",
       "1       Petrol       Manual     Second    24.70     796     47      5   \n",
       "2       Diesel       Manual      First    13.68    2393    147      7   \n",
       "3       Diesel       Manual      First    23.59    1364    110      5   \n",
       "4       Petrol       Manual      First    18.50    1197     82      5   \n",
       "...        ...          ...        ...      ...     ...    ...    ...   \n",
       "1229    Diesel       Manual      First    20.54    1598    103      5   \n",
       "1230    Petrol    Automatic      First    17.21    1197    103      5   \n",
       "1231    Diesel       Manual      First    23.08    1461     63      5   \n",
       "1232    Petrol    Automatic      Third    17.20    1197    103      5   \n",
       "1233    Diesel    Automatic      First    10.00    2148    170      5   \n",
       "\n",
       "        Location    price  \n",
       "0          Delhi  1110923  \n",
       "1     Coimbatore  2020869  \n",
       "2         Mumbai  2799708  \n",
       "3      Hyderabad  4787001  \n",
       "4         Mumbai  2750422  \n",
       "...          ...      ...  \n",
       "1229   Hyderabad  4127468  \n",
       "1230      Mumbai  2766377  \n",
       "1231     Kolkata  4521144  \n",
       "1232        Pune  2451507  \n",
       "1233       Kochi  3104140  \n",
       "\n",
       "[1220 rows x 13 columns]"
      ]
     },
     "execution_count": 46,
     "metadata": {},
     "output_type": "execute_result"
    }
   ],
   "source": [
    "df"
   ]
  },
  {
   "cell_type": "markdown",
   "id": "44ba754080068e00",
   "metadata": {
    "collapsed": false,
    "jupyter": {
     "outputs_hidden": false
    }
   },
   "source": [
    "# Step-3 EDA"
   ]
  },
  {
   "cell_type": "markdown",
   "id": "02dcb1fd-4572-4f2e-a5f6-5f9bfa54afc4",
   "metadata": {},
   "source": [
    "# A) Getting insight from the data through Visualization"
   ]
  },
  {
   "cell_type": "code",
   "execution_count": 47,
   "id": "686b8dcb-8565-4ab9-b9b1-b2a4e4be4043",
   "metadata": {
    "ExecuteTime": {
     "end_time": "2024-02-16T11:40:26.546973600Z",
     "start_time": "2024-02-16T11:40:26.438224200Z"
    }
   },
   "outputs": [],
   "source": [
    "import matplotlib.pyplot as plt\n",
    "import seaborn as sns"
   ]
  },
  {
   "cell_type": "code",
   "execution_count": 48,
   "id": "486056c9-b362-4200-a1a1-1ed26cbb8787",
   "metadata": {
    "ExecuteTime": {
     "end_time": "2024-02-16T11:40:26.650863400Z",
     "start_time": "2024-02-16T11:40:26.532207Z"
    }
   },
   "outputs": [
    {
     "name": "stdout",
     "output_type": "stream",
     "text": [
      "Mean : 58425.54754098361\n",
      "Median : 54342.5\n"
     ]
    }
   ],
   "source": [
    "mean_value=np.mean(df[\"Kilometers_Driven\"])\n",
    "median_value=np.median(df[\"Kilometers_Driven\"])\n",
    "print(\"Mean :\",mean_value)\n",
    "print(\"Median :\",median_value)"
   ]
  },
  {
   "cell_type": "code",
   "execution_count": 49,
   "id": "972ee520-722e-4b03-a12e-8d036cab1f3e",
   "metadata": {
    "ExecuteTime": {
     "end_time": "2024-02-16T11:40:27.604253700Z",
     "start_time": "2024-02-16T11:40:27.130137100Z"
    }
   },
   "outputs": [
    {
     "name": "stderr",
     "output_type": "stream",
     "text": [
      "C:\\Users\\HP\\AppData\\Local\\Temp\\ipykernel_10804\\4194332046.py:2: UserWarning: \n",
      "\n",
      "`distplot` is a deprecated function and will be removed in seaborn v0.14.0.\n",
      "\n",
      "Please adapt your code to use either `displot` (a figure-level function with\n",
      "similar flexibility) or `histplot` (an axes-level function for histograms).\n",
      "\n",
      "For a guide to updating your code to use the new functions, please see\n",
      "https://gist.github.com/mwaskom/de44147ed2974457ad6372750bbe5751\n",
      "\n",
      "  sns.distplot(df[\"Kilometers_Driven\"],color=\"blue\")\n"
     ]
    },
    {
     "data": {
      "image/png": "[encoded data removed]",
      "text/plain": [
       "<Figure size 1200x600 with 1 Axes>"
      ]
     },
     "metadata": {},
     "output_type": "display_data"
    }
   ],
   "source": [
    "plt.figure(figsize=(12,6))\n",
    "sns.distplot(df[\"Kilometers_Driven\"],color=\"blue\")\n",
    "plt.grid()\n",
    "plt.xlabel(\"KMS Driven\")\n",
    "plt.ylabel(\"Count of KMS\")\n",
    "plt.xticks(rotation=45)\n",
    "plt.title(\"KMS Driven by Car\")\n",
    "plt.axvline(mean_value,color=\"green\")\n",
    "plt.axvline(median_value,color=\"red\")\n",
    "\n",
    "plt.show()"
   ]
  },
  {
   "cell_type": "markdown",
   "id": "9fffd198-6436-4188-bf7d-f767394769d5",
   "metadata": {},
   "source": [
    "# From above graph is a positive skewness graph we also came to known that the most of the cars are driven in the range of 2,00,000-8,00,000 kms "
   ]
  },
  {
   "cell_type": "code",
   "execution_count": 50,
   "id": "00b66c56-01e0-4a15-ab46-78f3e84999ea",
   "metadata": {
    "ExecuteTime": {
     "end_time": "2024-02-16T11:40:27.148348200Z",
     "start_time": "2024-02-16T11:40:26.634038400Z"
    },
    "scrolled": true
   },
   "outputs": [
    {
     "data": {
      "image/png": "[encoded data removed]",
      "text/plain": [
       "<Figure size 1200x600 with 1 Axes>"
      ]
     },
     "metadata": {},
     "output_type": "display_data"
    }
   ],
   "source": [
    "top100mk=df.head(100)\n",
    "\n",
    "plt.figure(figsize=(12,6))\n",
    "sns.scatterplot(data=top100mk,x=\"Mileage\",y=\"Kilometers_Driven\",hue=\"Fuel_Type\")\n",
    "plt.grid()\n",
    "plt.xlabel(\"Mileage (in Kmpl)\")\n",
    "plt.ylabel(\"KMS Driven (in KM)\")\n",
    "plt.xticks(rotation=45)\n",
    "plt.title(\"Car's Mileage with KMS Driven\")\n",
    "plt.show()\n"
   ]
  },
  {
   "cell_type": "markdown",
   "id": "d7428d56-314d-4b7f-a8ce-a17675255f82",
   "metadata": {},
   "source": [
    "# the above graph shows behaviour of mileage with respect to the KMS Driven by Car on the basis of fuel type concluding that upto 1,00,000 kms driven the mileage provided by petrol and diesel is in the range of 10-25kmpl."
   ]
  },
  {
   "cell_type": "code",
   "execution_count": 51,
   "id": "970932df-bb6e-4f14-939c-e8a9461caa2b",
   "metadata": {
    "ExecuteTime": {
     "end_time": "2024-02-16T11:40:29.508866200Z",
     "start_time": "2024-02-16T11:40:27.593987700Z"
    }
   },
   "outputs": [
    {
     "data": {
      "image/png": "[encoded data removed]",
      "text/plain": [
       "<Figure size 1200x600 with 1 Axes>"
      ]
     },
     "metadata": {},
     "output_type": "display_data"
    }
   ],
   "source": [
    "plt.figure(figsize=(12,6))\n",
    "sns.barplot(data=df,y=\"Kilometers_Driven\",x=\"Fuel_Type\",hue=\"Transmission\",palette=\"bwr\")\n",
    "plt.grid()\n",
    "plt.title(\"Kms Driven by Car with respect to it's Fueltype and Transmission\")\n",
    "plt.xticks(rotation=45)\n",
    "plt.show()"
   ]
  },
  {
   "cell_type": "markdown",
   "id": "53740d7e-e635-46b1-b6c2-432b20260f5d",
   "metadata": {},
   "source": [
    "# from the above graph we came to known that most of the kms are driven by diesel[Manual] car followed by lpg[Manual] car and also CNG,LPG car have less number of automatic transmission compared to Petrol and Diesel"
   ]
  },
  {
   "cell_type": "code",
   "execution_count": 52,
   "id": "d31c488f-c514-4f03-8374-086a6531321a",
   "metadata": {
    "ExecuteTime": {
     "end_time": "2024-02-16T11:40:29.988756400Z",
     "start_time": "2024-02-16T11:40:29.503566900Z"
    }
   },
   "outputs": [
    {
     "data": {
      "image/png": "[encoded data removed]",
      "text/plain": [
       "<Figure size 1200x600 with 1 Axes>"
      ]
     },
     "metadata": {},
     "output_type": "display_data"
    }
   ],
   "source": [
    "plt.figure(figsize=(12,6))\n",
    "sns.lineplot(data=df,x=\"Mileage\",y=\"Engine\")\n",
    "plt.plot()\n",
    "plt.xticks(rotation=45)\n",
    "plt.title(\"How Engine(CC) effects Mileage(Kmpl)\")\n",
    "plt.grid()\n",
    "plt.xlabel(\"Mileage (in Kmpl)\")\n",
    "plt.ylabel(\"Engine (in CC)\")\n",
    "plt.show()"
   ]
  },
  {
   "cell_type": "markdown",
   "id": "6a7c9f56-30a3-4f3a-8adb-1bd309781291",
   "metadata": {},
   "source": [
    "# from the above graph we came to known the smaller engine(cc) have great mileage whereas bigger engine(cc)have less the mileage"
   ]
  },
  {
   "cell_type": "code",
   "execution_count": 53,
   "id": "a9ba6634-266c-4c6d-8d65-d6dd7c7e85c4",
   "metadata": {
    "ExecuteTime": {
     "end_time": "2024-02-16T11:40:30.400601700Z",
     "start_time": "2024-02-16T11:40:29.991996200Z"
    }
   },
   "outputs": [
    {
     "data": {
      "image/png": "[encoded data removed]",
      "text/plain": [
       "<Figure size 1200x600 with 1 Axes>"
      ]
     },
     "metadata": {},
     "output_type": "display_data"
    }
   ],
   "source": [
    "plt.figure(figsize=(12,6))\n",
    "df[\"Location\"].value_counts().plot.pie(autopct=\"%1.1f%%\",explode=(0.1,0.1,0.1,0,0,0,0,0,0,0,0))\n",
    "plt.title(\"Percentage of Cars sold on this Locations\")\n",
    "plt.ylabel(\"\")\n",
    "plt.show()\n"
   ]
  },
  {
   "cell_type": "markdown",
   "id": "f6917289-9738-48e7-9971-172cb99b307c",
   "metadata": {
    "ExecuteTime": {
     "end_time": "2024-02-13T17:16:41.237830100Z",
     "start_time": "2024-02-13T17:16:40.875190200Z"
    }
   },
   "source": [
    "# from the above graph we came to known that Mumbai,Pune,Coimbatore are the top 3 location where most of the second hand cars are sold"
   ]
  },
  {
   "cell_type": "markdown",
   "id": "37b59e95-952d-4b53-bbdf-95847ee5e09e",
   "metadata": {},
   "source": [
    "# converting cat into num column"
   ]
  },
  {
   "cell_type": "code",
   "execution_count": 54,
   "id": "25ab45a3-4269-4c29-b802-4900c7167dde",
   "metadata": {},
   "outputs": [],
   "source": [
    "df_cat=df.select_dtypes(['object'])\n",
    "df_num=df.select_dtypes(['int'])\n"
   ]
  },
  {
   "cell_type": "code",
   "execution_count": 55,
   "id": "68bdc2b4-085b-4752-8f1e-0f87ca8d07c2",
   "metadata": {
    "scrolled": true
   },
   "outputs": [
    {
     "data": {
      "text/html": [
       "<div>\n",
       "<style scoped>\n",
       "    .dataframe tbody tr th:only-of-type {\n",
       "        vertical-align: middle;\n",
       "    }\n",
       "\n",
       "    .dataframe tbody tr th {\n",
       "        vertical-align: top;\n",
       "    }\n",
       "\n",
       "    .dataframe thead th {\n",
       "        text-align: right;\n",
       "    }\n",
       "</style>\n",
       "<table border=\"1\" class=\"dataframe\">\n",
       "  <thead>\n",
       "    <tr style=\"text-align: right;\">\n",
       "      <th></th>\n",
       "      <th>Company Name</th>\n",
       "      <th>Car Model</th>\n",
       "      <th>Year</th>\n",
       "      <th>Kilometers_Driven</th>\n",
       "      <th>Fuel_Type</th>\n",
       "      <th>Transmission</th>\n",
       "      <th>Owner_Type</th>\n",
       "      <th>Mileage</th>\n",
       "      <th>Engine</th>\n",
       "      <th>Power</th>\n",
       "      <th>Seats</th>\n",
       "      <th>Location</th>\n",
       "      <th>price</th>\n",
       "    </tr>\n",
       "  </thead>\n",
       "  <tbody>\n",
       "    <tr>\n",
       "      <th>1229</th>\n",
       "      <td>Volkswagen Vento</td>\n",
       "      <td>Diesel Trendline</td>\n",
       "      <td>2011</td>\n",
       "      <td>89411</td>\n",
       "      <td>Diesel</td>\n",
       "      <td>Manual</td>\n",
       "      <td>First</td>\n",
       "      <td>20.54</td>\n",
       "      <td>1598</td>\n",
       "      <td>103</td>\n",
       "      <td>5</td>\n",
       "      <td>Hyderabad</td>\n",
       "      <td>4127468</td>\n",
       "    </tr>\n",
       "    <tr>\n",
       "      <th>1230</th>\n",
       "      <td>Volkswagen Polo</td>\n",
       "      <td>GT TSI</td>\n",
       "      <td>2015</td>\n",
       "      <td>59000</td>\n",
       "      <td>Petrol</td>\n",
       "      <td>Automatic</td>\n",
       "      <td>First</td>\n",
       "      <td>17.21</td>\n",
       "      <td>1197</td>\n",
       "      <td>103</td>\n",
       "      <td>5</td>\n",
       "      <td>Mumbai</td>\n",
       "      <td>2766377</td>\n",
       "    </tr>\n",
       "    <tr>\n",
       "      <th>1231</th>\n",
       "      <td>Nissan Micra</td>\n",
       "      <td>Diesel XV</td>\n",
       "      <td>2012</td>\n",
       "      <td>28000</td>\n",
       "      <td>Diesel</td>\n",
       "      <td>Manual</td>\n",
       "      <td>First</td>\n",
       "      <td>23.08</td>\n",
       "      <td>1461</td>\n",
       "      <td>63</td>\n",
       "      <td>5</td>\n",
       "      <td>Kolkata</td>\n",
       "      <td>4521144</td>\n",
       "    </tr>\n",
       "    <tr>\n",
       "      <th>1232</th>\n",
       "      <td>Volkswagen Polo</td>\n",
       "      <td>GT TSI</td>\n",
       "      <td>2013</td>\n",
       "      <td>52262</td>\n",
       "      <td>Petrol</td>\n",
       "      <td>Automatic</td>\n",
       "      <td>Third</td>\n",
       "      <td>17.20</td>\n",
       "      <td>1197</td>\n",
       "      <td>103</td>\n",
       "      <td>5</td>\n",
       "      <td>Pune</td>\n",
       "      <td>2451507</td>\n",
       "    </tr>\n",
       "    <tr>\n",
       "      <th>1233</th>\n",
       "      <td>Mercedes-Benz E-Class</td>\n",
       "      <td>2009-2013 E</td>\n",
       "      <td>2014</td>\n",
       "      <td>72443</td>\n",
       "      <td>Diesel</td>\n",
       "      <td>Automatic</td>\n",
       "      <td>First</td>\n",
       "      <td>10.00</td>\n",
       "      <td>2148</td>\n",
       "      <td>170</td>\n",
       "      <td>5</td>\n",
       "      <td>Kochi</td>\n",
       "      <td>3104140</td>\n",
       "    </tr>\n",
       "  </tbody>\n",
       "</table>\n",
       "</div>"
      ],
      "text/plain": [
       "               Company Name         Car Model  Year  Kilometers_Driven  \\\n",
       "1229       Volkswagen Vento  Diesel Trendline  2011              89411   \n",
       "1230        Volkswagen Polo            GT TSI  2015              59000   \n",
       "1231           Nissan Micra         Diesel XV  2012              28000   \n",
       "1232        Volkswagen Polo            GT TSI  2013              52262   \n",
       "1233  Mercedes-Benz E-Class       2009-2013 E  2014              72443   \n",
       "\n",
       "     Fuel_Type Transmission Owner_Type  Mileage  Engine  Power  Seats  \\\n",
       "1229    Diesel       Manual      First    20.54    1598    103      5   \n",
       "1230    Petrol    Automatic      First    17.21    1197    103      5   \n",
       "1231    Diesel       Manual      First    23.08    1461     63      5   \n",
       "1232    Petrol    Automatic      Third    17.20    1197    103      5   \n",
       "1233    Diesel    Automatic      First    10.00    2148    170      5   \n",
       "\n",
       "       Location    price  \n",
       "1229  Hyderabad  4127468  \n",
       "1230     Mumbai  2766377  \n",
       "1231    Kolkata  4521144  \n",
       "1232       Pune  2451507  \n",
       "1233      Kochi  3104140  "
      ]
     },
     "execution_count": 55,
     "metadata": {},
     "output_type": "execute_result"
    }
   ],
   "source": [
    "df.tail(5)"
   ]
  },
  {
   "cell_type": "code",
   "execution_count": 56,
   "id": "be2e847d-25ec-4ea9-b55f-466d39516d97",
   "metadata": {},
   "outputs": [
    {
     "data": {
      "text/html": [
       "<div>\n",
       "<style scoped>\n",
       "    .dataframe tbody tr th:only-of-type {\n",
       "        vertical-align: middle;\n",
       "    }\n",
       "\n",
       "    .dataframe tbody tr th {\n",
       "        vertical-align: top;\n",
       "    }\n",
       "\n",
       "    .dataframe thead th {\n",
       "        text-align: right;\n",
       "    }\n",
       "</style>\n",
       "<table border=\"1\" class=\"dataframe\">\n",
       "  <thead>\n",
       "    <tr style=\"text-align: right;\">\n",
       "      <th></th>\n",
       "      <th>Company Name</th>\n",
       "      <th>Car Model</th>\n",
       "      <th>Fuel_Type</th>\n",
       "      <th>Transmission</th>\n",
       "      <th>Owner_Type</th>\n",
       "      <th>Location</th>\n",
       "    </tr>\n",
       "  </thead>\n",
       "  <tbody>\n",
       "    <tr>\n",
       "      <th>0</th>\n",
       "      <td>Maruti Alto</td>\n",
       "      <td>K10 LXI</td>\n",
       "      <td>CNG</td>\n",
       "      <td>Manual</td>\n",
       "      <td>First</td>\n",
       "      <td>Delhi</td>\n",
       "    </tr>\n",
       "    <tr>\n",
       "      <th>1</th>\n",
       "      <td>Maruti Alto</td>\n",
       "      <td>800 2016-2019</td>\n",
       "      <td>Petrol</td>\n",
       "      <td>Manual</td>\n",
       "      <td>Second</td>\n",
       "      <td>Coimbatore</td>\n",
       "    </tr>\n",
       "    <tr>\n",
       "      <th>2</th>\n",
       "      <td>Toyota Innova</td>\n",
       "      <td>Crysta Touring</td>\n",
       "      <td>Diesel</td>\n",
       "      <td>Manual</td>\n",
       "      <td>First</td>\n",
       "      <td>Mumbai</td>\n",
       "    </tr>\n",
       "    <tr>\n",
       "      <th>3</th>\n",
       "      <td>Toyota Etios</td>\n",
       "      <td>Liva GD</td>\n",
       "      <td>Diesel</td>\n",
       "      <td>Manual</td>\n",
       "      <td>First</td>\n",
       "      <td>Hyderabad</td>\n",
       "    </tr>\n",
       "    <tr>\n",
       "      <th>4</th>\n",
       "      <td>Hyundai i20</td>\n",
       "      <td>Magna</td>\n",
       "      <td>Petrol</td>\n",
       "      <td>Manual</td>\n",
       "      <td>First</td>\n",
       "      <td>Mumbai</td>\n",
       "    </tr>\n",
       "    <tr>\n",
       "      <th>...</th>\n",
       "      <td>...</td>\n",
       "      <td>...</td>\n",
       "      <td>...</td>\n",
       "      <td>...</td>\n",
       "      <td>...</td>\n",
       "      <td>...</td>\n",
       "    </tr>\n",
       "    <tr>\n",
       "      <th>1229</th>\n",
       "      <td>Volkswagen Vento</td>\n",
       "      <td>Diesel Trendline</td>\n",
       "      <td>Diesel</td>\n",
       "      <td>Manual</td>\n",
       "      <td>First</td>\n",
       "      <td>Hyderabad</td>\n",
       "    </tr>\n",
       "    <tr>\n",
       "      <th>1230</th>\n",
       "      <td>Volkswagen Polo</td>\n",
       "      <td>GT TSI</td>\n",
       "      <td>Petrol</td>\n",
       "      <td>Automatic</td>\n",
       "      <td>First</td>\n",
       "      <td>Mumbai</td>\n",
       "    </tr>\n",
       "    <tr>\n",
       "      <th>1231</th>\n",
       "      <td>Nissan Micra</td>\n",
       "      <td>Diesel XV</td>\n",
       "      <td>Diesel</td>\n",
       "      <td>Manual</td>\n",
       "      <td>First</td>\n",
       "      <td>Kolkata</td>\n",
       "    </tr>\n",
       "    <tr>\n",
       "      <th>1232</th>\n",
       "      <td>Volkswagen Polo</td>\n",
       "      <td>GT TSI</td>\n",
       "      <td>Petrol</td>\n",
       "      <td>Automatic</td>\n",
       "      <td>Third</td>\n",
       "      <td>Pune</td>\n",
       "    </tr>\n",
       "    <tr>\n",
       "      <th>1233</th>\n",
       "      <td>Mercedes-Benz E-Class</td>\n",
       "      <td>2009-2013 E</td>\n",
       "      <td>Diesel</td>\n",
       "      <td>Automatic</td>\n",
       "      <td>First</td>\n",
       "      <td>Kochi</td>\n",
       "    </tr>\n",
       "  </tbody>\n",
       "</table>\n",
       "<p>1220 rows × 6 columns</p>\n",
       "</div>"
      ],
      "text/plain": [
       "               Company Name         Car Model Fuel_Type Transmission  \\\n",
       "0               Maruti Alto           K10 LXI       CNG       Manual   \n",
       "1               Maruti Alto     800 2016-2019    Petrol       Manual   \n",
       "2             Toyota Innova    Crysta Touring    Diesel       Manual   \n",
       "3              Toyota Etios           Liva GD    Diesel       Manual   \n",
       "4               Hyundai i20             Magna    Petrol       Manual   \n",
       "...                     ...               ...       ...          ...   \n",
       "1229       Volkswagen Vento  Diesel Trendline    Diesel       Manual   \n",
       "1230        Volkswagen Polo            GT TSI    Petrol    Automatic   \n",
       "1231           Nissan Micra         Diesel XV    Diesel       Manual   \n",
       "1232        Volkswagen Polo            GT TSI    Petrol    Automatic   \n",
       "1233  Mercedes-Benz E-Class       2009-2013 E    Diesel    Automatic   \n",
       "\n",
       "     Owner_Type    Location  \n",
       "0         First       Delhi  \n",
       "1        Second  Coimbatore  \n",
       "2         First      Mumbai  \n",
       "3         First   Hyderabad  \n",
       "4         First      Mumbai  \n",
       "...         ...         ...  \n",
       "1229      First   Hyderabad  \n",
       "1230      First      Mumbai  \n",
       "1231      First     Kolkata  \n",
       "1232      Third        Pune  \n",
       "1233      First       Kochi  \n",
       "\n",
       "[1220 rows x 6 columns]"
      ]
     },
     "execution_count": 56,
     "metadata": {},
     "output_type": "execute_result"
    }
   ],
   "source": [
    "df_cat"
   ]
  },
  {
   "cell_type": "code",
   "execution_count": 57,
   "id": "3fa577bb-799a-4b59-88e9-e51f2058341b",
   "metadata": {},
   "outputs": [
    {
     "data": {
      "text/html": [
       "<div>\n",
       "<style scoped>\n",
       "    .dataframe tbody tr th:only-of-type {\n",
       "        vertical-align: middle;\n",
       "    }\n",
       "\n",
       "    .dataframe tbody tr th {\n",
       "        vertical-align: top;\n",
       "    }\n",
       "\n",
       "    .dataframe thead th {\n",
       "        text-align: right;\n",
       "    }\n",
       "</style>\n",
       "<table border=\"1\" class=\"dataframe\">\n",
       "  <thead>\n",
       "    <tr style=\"text-align: right;\">\n",
       "      <th></th>\n",
       "      <th>Year</th>\n",
       "      <th>Kilometers_Driven</th>\n",
       "      <th>Engine</th>\n",
       "      <th>Power</th>\n",
       "      <th>Seats</th>\n",
       "      <th>price</th>\n",
       "    </tr>\n",
       "  </thead>\n",
       "  <tbody>\n",
       "    <tr>\n",
       "      <th>0</th>\n",
       "      <td>2014</td>\n",
       "      <td>40929</td>\n",
       "      <td>998</td>\n",
       "      <td>58</td>\n",
       "      <td>4</td>\n",
       "      <td>1110923</td>\n",
       "    </tr>\n",
       "    <tr>\n",
       "      <th>1</th>\n",
       "      <td>2013</td>\n",
       "      <td>54493</td>\n",
       "      <td>796</td>\n",
       "      <td>47</td>\n",
       "      <td>5</td>\n",
       "      <td>2020869</td>\n",
       "    </tr>\n",
       "    <tr>\n",
       "      <th>2</th>\n",
       "      <td>2017</td>\n",
       "      <td>34000</td>\n",
       "      <td>2393</td>\n",
       "      <td>147</td>\n",
       "      <td>7</td>\n",
       "      <td>2799708</td>\n",
       "    </tr>\n",
       "    <tr>\n",
       "      <th>3</th>\n",
       "      <td>2012</td>\n",
       "      <td>139000</td>\n",
       "      <td>1364</td>\n",
       "      <td>110</td>\n",
       "      <td>5</td>\n",
       "      <td>4787001</td>\n",
       "    </tr>\n",
       "    <tr>\n",
       "      <th>4</th>\n",
       "      <td>2014</td>\n",
       "      <td>29000</td>\n",
       "      <td>1197</td>\n",
       "      <td>82</td>\n",
       "      <td>5</td>\n",
       "      <td>2750422</td>\n",
       "    </tr>\n",
       "    <tr>\n",
       "      <th>...</th>\n",
       "      <td>...</td>\n",
       "      <td>...</td>\n",
       "      <td>...</td>\n",
       "      <td>...</td>\n",
       "      <td>...</td>\n",
       "      <td>...</td>\n",
       "    </tr>\n",
       "    <tr>\n",
       "      <th>1229</th>\n",
       "      <td>2011</td>\n",
       "      <td>89411</td>\n",
       "      <td>1598</td>\n",
       "      <td>103</td>\n",
       "      <td>5</td>\n",
       "      <td>4127468</td>\n",
       "    </tr>\n",
       "    <tr>\n",
       "      <th>1230</th>\n",
       "      <td>2015</td>\n",
       "      <td>59000</td>\n",
       "      <td>1197</td>\n",
       "      <td>103</td>\n",
       "      <td>5</td>\n",
       "      <td>2766377</td>\n",
       "    </tr>\n",
       "    <tr>\n",
       "      <th>1231</th>\n",
       "      <td>2012</td>\n",
       "      <td>28000</td>\n",
       "      <td>1461</td>\n",
       "      <td>63</td>\n",
       "      <td>5</td>\n",
       "      <td>4521144</td>\n",
       "    </tr>\n",
       "    <tr>\n",
       "      <th>1232</th>\n",
       "      <td>2013</td>\n",
       "      <td>52262</td>\n",
       "      <td>1197</td>\n",
       "      <td>103</td>\n",
       "      <td>5</td>\n",
       "      <td>2451507</td>\n",
       "    </tr>\n",
       "    <tr>\n",
       "      <th>1233</th>\n",
       "      <td>2014</td>\n",
       "      <td>72443</td>\n",
       "      <td>2148</td>\n",
       "      <td>170</td>\n",
       "      <td>5</td>\n",
       "      <td>3104140</td>\n",
       "    </tr>\n",
       "  </tbody>\n",
       "</table>\n",
       "<p>1220 rows × 6 columns</p>\n",
       "</div>"
      ],
      "text/plain": [
       "      Year  Kilometers_Driven  Engine  Power  Seats    price\n",
       "0     2014              40929     998     58      4  1110923\n",
       "1     2013              54493     796     47      5  2020869\n",
       "2     2017              34000    2393    147      7  2799708\n",
       "3     2012             139000    1364    110      5  4787001\n",
       "4     2014              29000    1197     82      5  2750422\n",
       "...    ...                ...     ...    ...    ...      ...\n",
       "1229  2011              89411    1598    103      5  4127468\n",
       "1230  2015              59000    1197    103      5  2766377\n",
       "1231  2012              28000    1461     63      5  4521144\n",
       "1232  2013              52262    1197    103      5  2451507\n",
       "1233  2014              72443    2148    170      5  3104140\n",
       "\n",
       "[1220 rows x 6 columns]"
      ]
     },
     "execution_count": 57,
     "metadata": {},
     "output_type": "execute_result"
    }
   ],
   "source": [
    "df_num"
   ]
  },
  {
   "cell_type": "code",
   "execution_count": null,
   "id": "e60dde84-8d66-4cc3-8e67-dce1151b897f",
   "metadata": {},
   "outputs": [],
   "source": []
  },
  {
   "cell_type": "code",
   "execution_count": 58,
   "id": "0644a096-2bdb-4d1a-9371-8546bc6e0f84",
   "metadata": {},
   "outputs": [
    {
     "data": {
      "text/plain": [
       "array([[ 0.18293002, -0.49180532, -1.05792669, -1.02028946, -1.56200326,\n",
       "        -1.29084287],\n",
       "       [-0.13184378, -0.11053882, -1.41615712, -1.23549236, -0.34511694,\n",
       "        -0.58131107],\n",
       "       [ 1.1272514 , -0.68657055,  1.41599141,  0.72089764,  2.0886557 ,\n",
       "         0.02598985],\n",
       "       ...,\n",
       "       [-0.44661757, -0.85522279, -0.23683416, -0.92246996, -0.34511694,\n",
       "         1.36828224],\n",
       "       [-0.13184378, -0.17324935, -0.70501651, -0.13991396, -0.34511694,\n",
       "        -0.24552042],\n",
       "       [ 0.18293002,  0.39401246,  0.981504  ,  1.17086735, -0.34511694,\n",
       "         0.26337117]])"
      ]
     },
     "execution_count": 58,
     "metadata": {},
     "output_type": "execute_result"
    }
   ],
   "source": [
    "from sklearn.preprocessing import StandardScaler\n",
    "sc=StandardScaler()\n",
    "df_scale=sc.fit_transform(df_num)\n",
    "df_scale"
   ]
  },
  {
   "cell_type": "code",
   "execution_count": 59,
   "id": "5bf189b8-8891-4196-86a7-98eba0882778",
   "metadata": {},
   "outputs": [
    {
     "name": "stdout",
     "output_type": "stream",
     "text": [
      "<class 'pandas.core.frame.DataFrame'>\n",
      "RangeIndex: 1220 entries, 0 to 1219\n",
      "Data columns (total 6 columns):\n",
      " #   Column             Non-Null Count  Dtype  \n",
      "---  ------             --------------  -----  \n",
      " 0   Year               1220 non-null   float64\n",
      " 1   Kilometers_Driven  1220 non-null   float64\n",
      " 2   Engine             1220 non-null   float64\n",
      " 3   Power              1220 non-null   float64\n",
      " 4   Seats              1220 non-null   float64\n",
      " 5   price              1220 non-null   float64\n",
      "dtypes: float64(6)\n",
      "memory usage: 57.3 KB\n"
     ]
    }
   ],
   "source": [
    "df_scale = pd.DataFrame(data=df_scale,columns=df_num.columns)\n",
    "df_scale.info()"
   ]
  },
  {
   "cell_type": "markdown",
   "id": "439e7f0e-5d44-4bf4-a0f3-f19783b8d760",
   "metadata": {},
   "source": [
    "# label encoding"
   ]
  },
  {
   "cell_type": "code",
   "execution_count": 60,
   "id": "43bbfede-d8ee-46b8-82b7-4c7c43f9111e",
   "metadata": {},
   "outputs": [],
   "source": [
    "from sklearn.preprocessing import LabelEncoder\n",
    "le=LabelEncoder()"
   ]
  },
  {
   "cell_type": "code",
   "execution_count": 61,
   "id": "b11b1181-849c-4fd0-939c-37b95b6f84d0",
   "metadata": {},
   "outputs": [],
   "source": [
    "for i in df_cat:\n",
    "    df_cat[i]=le.fit_transform(df_cat[i])"
   ]
  },
  {
   "cell_type": "code",
   "execution_count": 62,
   "id": "a1800df2-a705-467a-81cd-6ad65dc0d9cf",
   "metadata": {},
   "outputs": [
    {
     "name": "stdout",
     "output_type": "stream",
     "text": [
      "<class 'pandas.core.frame.DataFrame'>\n",
      "Index: 1220 entries, 0 to 1233\n",
      "Data columns (total 6 columns):\n",
      " #   Column        Non-Null Count  Dtype\n",
      "---  ------        --------------  -----\n",
      " 0   Company Name  1220 non-null   int32\n",
      " 1   Car Model     1220 non-null   int32\n",
      " 2   Fuel_Type     1220 non-null   int32\n",
      " 3   Transmission  1220 non-null   int32\n",
      " 4   Owner_Type    1220 non-null   int32\n",
      " 5   Location      1220 non-null   int32\n",
      "dtypes: int32(6)\n",
      "memory usage: 38.1 KB\n"
     ]
    }
   ],
   "source": [
    "df_cat.info()"
   ]
  },
  {
   "cell_type": "code",
   "execution_count": 63,
   "id": "b46d7668-781e-47ac-888d-74c91d030a9b",
   "metadata": {},
   "outputs": [],
   "source": [
    "df=pd.concat([df_scale,df_cat],axis=1)"
   ]
  },
  {
   "cell_type": "code",
   "execution_count": 64,
   "id": "18841a4e-a877-4133-8466-fcdbd5f25b9f",
   "metadata": {},
   "outputs": [
    {
     "data": {
      "text/html": [
       "<div>\n",
       "<style scoped>\n",
       "    .dataframe tbody tr th:only-of-type {\n",
       "        vertical-align: middle;\n",
       "    }\n",
       "\n",
       "    .dataframe tbody tr th {\n",
       "        vertical-align: top;\n",
       "    }\n",
       "\n",
       "    .dataframe thead th {\n",
       "        text-align: right;\n",
       "    }\n",
       "</style>\n",
       "<table border=\"1\" class=\"dataframe\">\n",
       "  <thead>\n",
       "    <tr style=\"text-align: right;\">\n",
       "      <th></th>\n",
       "      <th>Year</th>\n",
       "      <th>Kilometers_Driven</th>\n",
       "      <th>Engine</th>\n",
       "      <th>Power</th>\n",
       "      <th>Seats</th>\n",
       "      <th>price</th>\n",
       "      <th>Company Name</th>\n",
       "      <th>Car Model</th>\n",
       "      <th>Fuel_Type</th>\n",
       "      <th>Transmission</th>\n",
       "      <th>Owner_Type</th>\n",
       "      <th>Location</th>\n",
       "    </tr>\n",
       "  </thead>\n",
       "  <tbody>\n",
       "    <tr>\n",
       "      <th>0</th>\n",
       "      <td>0.182930</td>\n",
       "      <td>-0.491805</td>\n",
       "      <td>-1.057927</td>\n",
       "      <td>-1.020289</td>\n",
       "      <td>-1.562003</td>\n",
       "      <td>-1.290843</td>\n",
       "      <td>85.0</td>\n",
       "      <td>306.0</td>\n",
       "      <td>0.0</td>\n",
       "      <td>1.0</td>\n",
       "      <td>0.0</td>\n",
       "      <td>4.0</td>\n",
       "    </tr>\n",
       "    <tr>\n",
       "      <th>1</th>\n",
       "      <td>-0.131844</td>\n",
       "      <td>-0.110539</td>\n",
       "      <td>-1.416157</td>\n",
       "      <td>-1.235492</td>\n",
       "      <td>-0.345117</td>\n",
       "      <td>-0.581311</td>\n",
       "      <td>85.0</td>\n",
       "      <td>149.0</td>\n",
       "      <td>3.0</td>\n",
       "      <td>1.0</td>\n",
       "      <td>2.0</td>\n",
       "      <td>3.0</td>\n",
       "    </tr>\n",
       "    <tr>\n",
       "      <th>2</th>\n",
       "      <td>1.127251</td>\n",
       "      <td>-0.686571</td>\n",
       "      <td>1.415991</td>\n",
       "      <td>0.720898</td>\n",
       "      <td>2.088656</td>\n",
       "      <td>0.025990</td>\n",
       "      <td>148.0</td>\n",
       "      <td>221.0</td>\n",
       "      <td>1.0</td>\n",
       "      <td>1.0</td>\n",
       "      <td>0.0</td>\n",
       "      <td>9.0</td>\n",
       "    </tr>\n",
       "    <tr>\n",
       "      <th>3</th>\n",
       "      <td>-0.446618</td>\n",
       "      <td>2.264844</td>\n",
       "      <td>-0.408856</td>\n",
       "      <td>-0.002967</td>\n",
       "      <td>-0.345117</td>\n",
       "      <td>1.575585</td>\n",
       "      <td>146.0</td>\n",
       "      <td>329.0</td>\n",
       "      <td>1.0</td>\n",
       "      <td>1.0</td>\n",
       "      <td>0.0</td>\n",
       "      <td>5.0</td>\n",
       "    </tr>\n",
       "    <tr>\n",
       "      <th>4</th>\n",
       "      <td>0.182930</td>\n",
       "      <td>-0.827114</td>\n",
       "      <td>-0.705017</td>\n",
       "      <td>-0.550756</td>\n",
       "      <td>-0.345117</td>\n",
       "      <td>-0.012441</td>\n",
       "      <td>65.0</td>\n",
       "      <td>337.0</td>\n",
       "      <td>3.0</td>\n",
       "      <td>1.0</td>\n",
       "      <td>0.0</td>\n",
       "      <td>9.0</td>\n",
       "    </tr>\n",
       "    <tr>\n",
       "      <th>...</th>\n",
       "      <td>...</td>\n",
       "      <td>...</td>\n",
       "      <td>...</td>\n",
       "      <td>...</td>\n",
       "      <td>...</td>\n",
       "      <td>...</td>\n",
       "      <td>...</td>\n",
       "      <td>...</td>\n",
       "      <td>...</td>\n",
       "      <td>...</td>\n",
       "      <td>...</td>\n",
       "      <td>...</td>\n",
       "    </tr>\n",
       "    <tr>\n",
       "      <th>1229</th>\n",
       "      <td>NaN</td>\n",
       "      <td>NaN</td>\n",
       "      <td>NaN</td>\n",
       "      <td>NaN</td>\n",
       "      <td>NaN</td>\n",
       "      <td>NaN</td>\n",
       "      <td>156.0</td>\n",
       "      <td>243.0</td>\n",
       "      <td>1.0</td>\n",
       "      <td>1.0</td>\n",
       "      <td>0.0</td>\n",
       "      <td>5.0</td>\n",
       "    </tr>\n",
       "    <tr>\n",
       "      <th>1230</th>\n",
       "      <td>NaN</td>\n",
       "      <td>NaN</td>\n",
       "      <td>NaN</td>\n",
       "      <td>NaN</td>\n",
       "      <td>NaN</td>\n",
       "      <td>NaN</td>\n",
       "      <td>155.0</td>\n",
       "      <td>297.0</td>\n",
       "      <td>3.0</td>\n",
       "      <td>0.0</td>\n",
       "      <td>0.0</td>\n",
       "      <td>9.0</td>\n",
       "    </tr>\n",
       "    <tr>\n",
       "      <th>1231</th>\n",
       "      <td>NaN</td>\n",
       "      <td>NaN</td>\n",
       "      <td>NaN</td>\n",
       "      <td>NaN</td>\n",
       "      <td>NaN</td>\n",
       "      <td>NaN</td>\n",
       "      <td>118.0</td>\n",
       "      <td>244.0</td>\n",
       "      <td>1.0</td>\n",
       "      <td>1.0</td>\n",
       "      <td>0.0</td>\n",
       "      <td>8.0</td>\n",
       "    </tr>\n",
       "    <tr>\n",
       "      <th>1232</th>\n",
       "      <td>NaN</td>\n",
       "      <td>NaN</td>\n",
       "      <td>NaN</td>\n",
       "      <td>NaN</td>\n",
       "      <td>NaN</td>\n",
       "      <td>NaN</td>\n",
       "      <td>155.0</td>\n",
       "      <td>297.0</td>\n",
       "      <td>3.0</td>\n",
       "      <td>0.0</td>\n",
       "      <td>3.0</td>\n",
       "      <td>10.0</td>\n",
       "    </tr>\n",
       "    <tr>\n",
       "      <th>1233</th>\n",
       "      <td>NaN</td>\n",
       "      <td>NaN</td>\n",
       "      <td>NaN</td>\n",
       "      <td>NaN</td>\n",
       "      <td>NaN</td>\n",
       "      <td>NaN</td>\n",
       "      <td>105.0</td>\n",
       "      <td>106.0</td>\n",
       "      <td>1.0</td>\n",
       "      <td>0.0</td>\n",
       "      <td>0.0</td>\n",
       "      <td>7.0</td>\n",
       "    </tr>\n",
       "  </tbody>\n",
       "</table>\n",
       "<p>1234 rows × 12 columns</p>\n",
       "</div>"
      ],
      "text/plain": [
       "          Year  Kilometers_Driven    Engine     Power     Seats     price  \\\n",
       "0     0.182930          -0.491805 -1.057927 -1.020289 -1.562003 -1.290843   \n",
       "1    -0.131844          -0.110539 -1.416157 -1.235492 -0.345117 -0.581311   \n",
       "2     1.127251          -0.686571  1.415991  0.720898  2.088656  0.025990   \n",
       "3    -0.446618           2.264844 -0.408856 -0.002967 -0.345117  1.575585   \n",
       "4     0.182930          -0.827114 -0.705017 -0.550756 -0.345117 -0.012441   \n",
       "...        ...                ...       ...       ...       ...       ...   \n",
       "1229       NaN                NaN       NaN       NaN       NaN       NaN   \n",
       "1230       NaN                NaN       NaN       NaN       NaN       NaN   \n",
       "1231       NaN                NaN       NaN       NaN       NaN       NaN   \n",
       "1232       NaN                NaN       NaN       NaN       NaN       NaN   \n",
       "1233       NaN                NaN       NaN       NaN       NaN       NaN   \n",
       "\n",
       "      Company Name  Car Model  Fuel_Type  Transmission  Owner_Type  Location  \n",
       "0             85.0      306.0        0.0           1.0         0.0       4.0  \n",
       "1             85.0      149.0        3.0           1.0         2.0       3.0  \n",
       "2            148.0      221.0        1.0           1.0         0.0       9.0  \n",
       "3            146.0      329.0        1.0           1.0         0.0       5.0  \n",
       "4             65.0      337.0        3.0           1.0         0.0       9.0  \n",
       "...            ...        ...        ...           ...         ...       ...  \n",
       "1229         156.0      243.0        1.0           1.0         0.0       5.0  \n",
       "1230         155.0      297.0        3.0           0.0         0.0       9.0  \n",
       "1231         118.0      244.0        1.0           1.0         0.0       8.0  \n",
       "1232         155.0      297.0        3.0           0.0         3.0      10.0  \n",
       "1233         105.0      106.0        1.0           0.0         0.0       7.0  \n",
       "\n",
       "[1234 rows x 12 columns]"
      ]
     },
     "execution_count": 64,
     "metadata": {},
     "output_type": "execute_result"
    }
   ],
   "source": [
    "df"
   ]
  },
  {
   "cell_type": "markdown",
   "id": "a793702a-8ee1-4682-931e-04ec842316fc",
   "metadata": {},
   "source": [
    "# feature scaling"
   ]
  },
  {
   "cell_type": "code",
   "execution_count": null,
   "id": "338ad018-9057-4847-aa94-c1a574174dbb",
   "metadata": {},
   "outputs": [],
   "source": []
  },
  {
   "cell_type": "code",
   "execution_count": 65,
   "id": "b77b04d9-ac72-4b74-a188-e8da6cd0e203",
   "metadata": {},
   "outputs": [],
   "source": [
    "sc=StandardScaler()"
   ]
  },
  {
   "cell_type": "code",
   "execution_count": 66,
   "id": "f3c1b9f4-b0c4-4ea4-bdf2-ee47585d17b7",
   "metadata": {},
   "outputs": [
    {
     "data": {
      "text/plain": [
       "array([[ 0.18293002, -0.49180532, -1.05792669, ...,  0.60386525,\n",
       "        -0.43974019, -0.54349329],\n",
       "       [-0.13184378, -0.11053882, -1.41615712, ...,  0.60386525,\n",
       "         2.0789595 , -0.87321075],\n",
       "       [ 1.1272514 , -0.68657055,  1.41599141, ...,  0.60386525,\n",
       "        -0.43974019,  1.10509401],\n",
       "       ...,\n",
       "       [        nan,         nan,         nan, ...,  0.60386525,\n",
       "        -0.43974019,  0.77537655],\n",
       "       [        nan,         nan,         nan, ..., -1.65599858,\n",
       "         3.33830935,  1.43481147],\n",
       "       [        nan,         nan,         nan, ..., -1.65599858,\n",
       "        -0.43974019,  0.44565909]])"
      ]
     },
     "execution_count": 66,
     "metadata": {},
     "output_type": "execute_result"
    }
   ],
   "source": [
    "df_scale=sc.fit_transform(df)\n",
    "df_scale"
   ]
  },
  {
   "cell_type": "code",
   "execution_count": 67,
   "id": "bdfaaa83-6feb-4b62-b324-6719edf174ee",
   "metadata": {},
   "outputs": [
    {
     "data": {
      "text/html": [
       "<div>\n",
       "<style scoped>\n",
       "    .dataframe tbody tr th:only-of-type {\n",
       "        vertical-align: middle;\n",
       "    }\n",
       "\n",
       "    .dataframe tbody tr th {\n",
       "        vertical-align: top;\n",
       "    }\n",
       "\n",
       "    .dataframe thead th {\n",
       "        text-align: right;\n",
       "    }\n",
       "</style>\n",
       "<table border=\"1\" class=\"dataframe\">\n",
       "  <thead>\n",
       "    <tr style=\"text-align: right;\">\n",
       "      <th></th>\n",
       "      <th>0</th>\n",
       "      <th>1</th>\n",
       "      <th>2</th>\n",
       "      <th>3</th>\n",
       "      <th>4</th>\n",
       "      <th>5</th>\n",
       "      <th>6</th>\n",
       "      <th>7</th>\n",
       "      <th>8</th>\n",
       "      <th>9</th>\n",
       "      <th>10</th>\n",
       "      <th>11</th>\n",
       "    </tr>\n",
       "  </thead>\n",
       "  <tbody>\n",
       "    <tr>\n",
       "      <th>0</th>\n",
       "      <td>0.182930</td>\n",
       "      <td>-0.491805</td>\n",
       "      <td>-1.057927</td>\n",
       "      <td>-1.020289</td>\n",
       "      <td>-1.562003</td>\n",
       "      <td>-1.290843</td>\n",
       "      <td>0.093977</td>\n",
       "      <td>0.361446</td>\n",
       "      <td>-1.923112</td>\n",
       "      <td>0.603865</td>\n",
       "      <td>-0.439740</td>\n",
       "      <td>-0.543493</td>\n",
       "    </tr>\n",
       "    <tr>\n",
       "      <th>1</th>\n",
       "      <td>-0.131844</td>\n",
       "      <td>-0.110539</td>\n",
       "      <td>-1.416157</td>\n",
       "      <td>-1.235492</td>\n",
       "      <td>-0.345117</td>\n",
       "      <td>-0.581311</td>\n",
       "      <td>0.093977</td>\n",
       "      <td>-0.634030</td>\n",
       "      <td>1.064405</td>\n",
       "      <td>0.603865</td>\n",
       "      <td>2.078960</td>\n",
       "      <td>-0.873211</td>\n",
       "    </tr>\n",
       "    <tr>\n",
       "      <th>2</th>\n",
       "      <td>1.127251</td>\n",
       "      <td>-0.686571</td>\n",
       "      <td>1.415991</td>\n",
       "      <td>0.720898</td>\n",
       "      <td>2.088656</td>\n",
       "      <td>0.025990</td>\n",
       "      <td>1.568073</td>\n",
       "      <td>-0.177506</td>\n",
       "      <td>-0.927273</td>\n",
       "      <td>0.603865</td>\n",
       "      <td>-0.439740</td>\n",
       "      <td>1.105094</td>\n",
       "    </tr>\n",
       "    <tr>\n",
       "      <th>3</th>\n",
       "      <td>-0.446618</td>\n",
       "      <td>2.264844</td>\n",
       "      <td>-0.408856</td>\n",
       "      <td>-0.002967</td>\n",
       "      <td>-0.345117</td>\n",
       "      <td>1.575585</td>\n",
       "      <td>1.521276</td>\n",
       "      <td>0.507280</td>\n",
       "      <td>-0.927273</td>\n",
       "      <td>0.603865</td>\n",
       "      <td>-0.439740</td>\n",
       "      <td>-0.213776</td>\n",
       "    </tr>\n",
       "    <tr>\n",
       "      <th>4</th>\n",
       "      <td>0.182930</td>\n",
       "      <td>-0.827114</td>\n",
       "      <td>-0.705017</td>\n",
       "      <td>-0.550756</td>\n",
       "      <td>-0.345117</td>\n",
       "      <td>-0.012441</td>\n",
       "      <td>-0.373990</td>\n",
       "      <td>0.558005</td>\n",
       "      <td>1.064405</td>\n",
       "      <td>0.603865</td>\n",
       "      <td>-0.439740</td>\n",
       "      <td>1.105094</td>\n",
       "    </tr>\n",
       "    <tr>\n",
       "      <th>...</th>\n",
       "      <td>...</td>\n",
       "      <td>...</td>\n",
       "      <td>...</td>\n",
       "      <td>...</td>\n",
       "      <td>...</td>\n",
       "      <td>...</td>\n",
       "      <td>...</td>\n",
       "      <td>...</td>\n",
       "      <td>...</td>\n",
       "      <td>...</td>\n",
       "      <td>...</td>\n",
       "      <td>...</td>\n",
       "    </tr>\n",
       "    <tr>\n",
       "      <th>1229</th>\n",
       "      <td>NaN</td>\n",
       "      <td>NaN</td>\n",
       "      <td>NaN</td>\n",
       "      <td>NaN</td>\n",
       "      <td>NaN</td>\n",
       "      <td>NaN</td>\n",
       "      <td>1.755259</td>\n",
       "      <td>-0.038012</td>\n",
       "      <td>-0.927273</td>\n",
       "      <td>0.603865</td>\n",
       "      <td>-0.439740</td>\n",
       "      <td>-0.213776</td>\n",
       "    </tr>\n",
       "    <tr>\n",
       "      <th>1230</th>\n",
       "      <td>NaN</td>\n",
       "      <td>NaN</td>\n",
       "      <td>NaN</td>\n",
       "      <td>NaN</td>\n",
       "      <td>NaN</td>\n",
       "      <td>NaN</td>\n",
       "      <td>1.731861</td>\n",
       "      <td>0.304380</td>\n",
       "      <td>1.064405</td>\n",
       "      <td>-1.655999</td>\n",
       "      <td>-0.439740</td>\n",
       "      <td>1.105094</td>\n",
       "    </tr>\n",
       "    <tr>\n",
       "      <th>1231</th>\n",
       "      <td>NaN</td>\n",
       "      <td>NaN</td>\n",
       "      <td>NaN</td>\n",
       "      <td>NaN</td>\n",
       "      <td>NaN</td>\n",
       "      <td>NaN</td>\n",
       "      <td>0.866122</td>\n",
       "      <td>-0.031672</td>\n",
       "      <td>-0.927273</td>\n",
       "      <td>0.603865</td>\n",
       "      <td>-0.439740</td>\n",
       "      <td>0.775377</td>\n",
       "    </tr>\n",
       "    <tr>\n",
       "      <th>1232</th>\n",
       "      <td>NaN</td>\n",
       "      <td>NaN</td>\n",
       "      <td>NaN</td>\n",
       "      <td>NaN</td>\n",
       "      <td>NaN</td>\n",
       "      <td>NaN</td>\n",
       "      <td>1.731861</td>\n",
       "      <td>0.304380</td>\n",
       "      <td>1.064405</td>\n",
       "      <td>-1.655999</td>\n",
       "      <td>3.338309</td>\n",
       "      <td>1.434811</td>\n",
       "    </tr>\n",
       "    <tr>\n",
       "      <th>1233</th>\n",
       "      <td>NaN</td>\n",
       "      <td>NaN</td>\n",
       "      <td>NaN</td>\n",
       "      <td>NaN</td>\n",
       "      <td>NaN</td>\n",
       "      <td>NaN</td>\n",
       "      <td>0.561944</td>\n",
       "      <td>-0.906676</td>\n",
       "      <td>-0.927273</td>\n",
       "      <td>-1.655999</td>\n",
       "      <td>-0.439740</td>\n",
       "      <td>0.445659</td>\n",
       "    </tr>\n",
       "  </tbody>\n",
       "</table>\n",
       "<p>1234 rows × 12 columns</p>\n",
       "</div>"
      ],
      "text/plain": [
       "            0         1         2         3         4         5         6   \\\n",
       "0     0.182930 -0.491805 -1.057927 -1.020289 -1.562003 -1.290843  0.093977   \n",
       "1    -0.131844 -0.110539 -1.416157 -1.235492 -0.345117 -0.581311  0.093977   \n",
       "2     1.127251 -0.686571  1.415991  0.720898  2.088656  0.025990  1.568073   \n",
       "3    -0.446618  2.264844 -0.408856 -0.002967 -0.345117  1.575585  1.521276   \n",
       "4     0.182930 -0.827114 -0.705017 -0.550756 -0.345117 -0.012441 -0.373990   \n",
       "...        ...       ...       ...       ...       ...       ...       ...   \n",
       "1229       NaN       NaN       NaN       NaN       NaN       NaN  1.755259   \n",
       "1230       NaN       NaN       NaN       NaN       NaN       NaN  1.731861   \n",
       "1231       NaN       NaN       NaN       NaN       NaN       NaN  0.866122   \n",
       "1232       NaN       NaN       NaN       NaN       NaN       NaN  1.731861   \n",
       "1233       NaN       NaN       NaN       NaN       NaN       NaN  0.561944   \n",
       "\n",
       "            7         8         9         10        11  \n",
       "0     0.361446 -1.923112  0.603865 -0.439740 -0.543493  \n",
       "1    -0.634030  1.064405  0.603865  2.078960 -0.873211  \n",
       "2    -0.177506 -0.927273  0.603865 -0.439740  1.105094  \n",
       "3     0.507280 -0.927273  0.603865 -0.439740 -0.213776  \n",
       "4     0.558005  1.064405  0.603865 -0.439740  1.105094  \n",
       "...        ...       ...       ...       ...       ...  \n",
       "1229 -0.038012 -0.927273  0.603865 -0.439740 -0.213776  \n",
       "1230  0.304380  1.064405 -1.655999 -0.439740  1.105094  \n",
       "1231 -0.031672 -0.927273  0.603865 -0.439740  0.775377  \n",
       "1232  0.304380  1.064405 -1.655999  3.338309  1.434811  \n",
       "1233 -0.906676 -0.927273 -1.655999 -0.439740  0.445659  \n",
       "\n",
       "[1234 rows x 12 columns]"
      ]
     },
     "execution_count": 67,
     "metadata": {},
     "output_type": "execute_result"
    }
   ],
   "source": [
    "df_scaled=pd.DataFrame(data=df_scale)\n",
    "df_scaled"
   ]
  },
  {
   "cell_type": "code",
   "execution_count": null,
   "id": "1aa7c24b-8060-4e6e-b637-0527f02a6e42",
   "metadata": {},
   "outputs": [],
   "source": []
  },
  {
   "cell_type": "code",
   "execution_count": null,
   "id": "dcaa6ad6-55e2-4828-9f6c-f7f7fcfb918a",
   "metadata": {},
   "outputs": [],
   "source": []
  },
  {
   "cell_type": "markdown",
   "id": "60c5fd42-446b-46f8-b73d-9bb37267cecf",
   "metadata": {},
   "source": [
    "# Step-4) Splitting the data into feature(X) and target variable (Y)"
   ]
  },
  {
   "cell_type": "code",
   "execution_count": 68,
   "id": "0e14e2a8-e5b1-4f6d-b33e-8c4f5bdddda4",
   "metadata": {},
   "outputs": [
    {
     "ename": "KeyError",
     "evalue": "\"['Mileage'] not in index\"",
     "output_type": "error",
     "traceback": [
      "\u001b[1;31m---------------------------------------------------------------------------\u001b[0m",
      "\u001b[1;31mKeyError\u001b[0m                                  Traceback (most recent call last)",
      "Cell \u001b[1;32mIn[68], line 1\u001b[0m\n\u001b[1;32m----> 1\u001b[0m x\u001b[38;5;241m=\u001b[39m\u001b[43mdf\u001b[49m\u001b[43m[\u001b[49m\u001b[43m[\u001b[49m\u001b[38;5;124;43m\"\u001b[39;49m\u001b[38;5;124;43mYear\u001b[39;49m\u001b[38;5;124;43m\"\u001b[39;49m\u001b[43m,\u001b[49m\u001b[38;5;124;43m\"\u001b[39;49m\u001b[38;5;124;43mKilometers_Driven\u001b[39;49m\u001b[38;5;124;43m\"\u001b[39;49m\u001b[43m,\u001b[49m\u001b[38;5;124;43m\"\u001b[39;49m\u001b[38;5;124;43mFuel_Type\u001b[39;49m\u001b[38;5;124;43m\"\u001b[39;49m\u001b[43m,\u001b[49m\u001b[38;5;124;43m\"\u001b[39;49m\u001b[38;5;124;43mTransmission\u001b[39;49m\u001b[38;5;124;43m\"\u001b[39;49m\u001b[43m,\u001b[49m\u001b[38;5;124;43m\"\u001b[39;49m\u001b[38;5;124;43mOwner_Type\u001b[39;49m\u001b[38;5;124;43m\"\u001b[39;49m\u001b[43m,\u001b[49m\u001b[38;5;124;43m\"\u001b[39;49m\u001b[38;5;124;43mMileage\u001b[39;49m\u001b[38;5;124;43m\"\u001b[39;49m\u001b[43m,\u001b[49m\u001b[38;5;124;43m\"\u001b[39;49m\u001b[38;5;124;43mEngine\u001b[39;49m\u001b[38;5;124;43m\"\u001b[39;49m\u001b[43m,\u001b[49m\u001b[38;5;124;43m\"\u001b[39;49m\u001b[38;5;124;43mPower\u001b[39;49m\u001b[38;5;124;43m\"\u001b[39;49m\u001b[43m,\u001b[49m\u001b[38;5;124;43m\"\u001b[39;49m\u001b[38;5;124;43mSeats\u001b[39;49m\u001b[38;5;124;43m\"\u001b[39;49m\u001b[43m,\u001b[49m\u001b[38;5;124;43m\"\u001b[39;49m\u001b[38;5;124;43mLocation\u001b[39;49m\u001b[38;5;124;43m\"\u001b[39;49m\u001b[43m]\u001b[49m\u001b[43m]\u001b[49m\n\u001b[0;32m      2\u001b[0m x\n",
      "File \u001b[1;32m~\\.jupyter\\venv\\lib\\site-packages\\pandas\\core\\frame.py:3899\u001b[0m, in \u001b[0;36mDataFrame.__getitem__\u001b[1;34m(self, key)\u001b[0m\n\u001b[0;32m   3897\u001b[0m     \u001b[38;5;28;01mif\u001b[39;00m is_iterator(key):\n\u001b[0;32m   3898\u001b[0m         key \u001b[38;5;241m=\u001b[39m \u001b[38;5;28mlist\u001b[39m(key)\n\u001b[1;32m-> 3899\u001b[0m     indexer \u001b[38;5;241m=\u001b[39m \u001b[38;5;28;43mself\u001b[39;49m\u001b[38;5;241;43m.\u001b[39;49m\u001b[43mcolumns\u001b[49m\u001b[38;5;241;43m.\u001b[39;49m\u001b[43m_get_indexer_strict\u001b[49m\u001b[43m(\u001b[49m\u001b[43mkey\u001b[49m\u001b[43m,\u001b[49m\u001b[43m \u001b[49m\u001b[38;5;124;43m\"\u001b[39;49m\u001b[38;5;124;43mcolumns\u001b[39;49m\u001b[38;5;124;43m\"\u001b[39;49m\u001b[43m)\u001b[49m[\u001b[38;5;241m1\u001b[39m]\n\u001b[0;32m   3901\u001b[0m \u001b[38;5;66;03m# take() does not accept boolean indexers\u001b[39;00m\n\u001b[0;32m   3902\u001b[0m \u001b[38;5;28;01mif\u001b[39;00m \u001b[38;5;28mgetattr\u001b[39m(indexer, \u001b[38;5;124m\"\u001b[39m\u001b[38;5;124mdtype\u001b[39m\u001b[38;5;124m\"\u001b[39m, \u001b[38;5;28;01mNone\u001b[39;00m) \u001b[38;5;241m==\u001b[39m \u001b[38;5;28mbool\u001b[39m:\n",
      "File \u001b[1;32m~\\.jupyter\\venv\\lib\\site-packages\\pandas\\core\\indexes\\base.py:6114\u001b[0m, in \u001b[0;36mIndex._get_indexer_strict\u001b[1;34m(self, key, axis_name)\u001b[0m\n\u001b[0;32m   6111\u001b[0m \u001b[38;5;28;01melse\u001b[39;00m:\n\u001b[0;32m   6112\u001b[0m     keyarr, indexer, new_indexer \u001b[38;5;241m=\u001b[39m \u001b[38;5;28mself\u001b[39m\u001b[38;5;241m.\u001b[39m_reindex_non_unique(keyarr)\n\u001b[1;32m-> 6114\u001b[0m \u001b[38;5;28;43mself\u001b[39;49m\u001b[38;5;241;43m.\u001b[39;49m\u001b[43m_raise_if_missing\u001b[49m\u001b[43m(\u001b[49m\u001b[43mkeyarr\u001b[49m\u001b[43m,\u001b[49m\u001b[43m \u001b[49m\u001b[43mindexer\u001b[49m\u001b[43m,\u001b[49m\u001b[43m \u001b[49m\u001b[43maxis_name\u001b[49m\u001b[43m)\u001b[49m\n\u001b[0;32m   6116\u001b[0m keyarr \u001b[38;5;241m=\u001b[39m \u001b[38;5;28mself\u001b[39m\u001b[38;5;241m.\u001b[39mtake(indexer)\n\u001b[0;32m   6117\u001b[0m \u001b[38;5;28;01mif\u001b[39;00m \u001b[38;5;28misinstance\u001b[39m(key, Index):\n\u001b[0;32m   6118\u001b[0m     \u001b[38;5;66;03m# GH 42790 - Preserve name from an Index\u001b[39;00m\n",
      "File \u001b[1;32m~\\.jupyter\\venv\\lib\\site-packages\\pandas\\core\\indexes\\base.py:6178\u001b[0m, in \u001b[0;36mIndex._raise_if_missing\u001b[1;34m(self, key, indexer, axis_name)\u001b[0m\n\u001b[0;32m   6175\u001b[0m     \u001b[38;5;28;01mraise\u001b[39;00m \u001b[38;5;167;01mKeyError\u001b[39;00m(\u001b[38;5;124mf\u001b[39m\u001b[38;5;124m\"\u001b[39m\u001b[38;5;124mNone of [\u001b[39m\u001b[38;5;132;01m{\u001b[39;00mkey\u001b[38;5;132;01m}\u001b[39;00m\u001b[38;5;124m] are in the [\u001b[39m\u001b[38;5;132;01m{\u001b[39;00maxis_name\u001b[38;5;132;01m}\u001b[39;00m\u001b[38;5;124m]\u001b[39m\u001b[38;5;124m\"\u001b[39m)\n\u001b[0;32m   6177\u001b[0m not_found \u001b[38;5;241m=\u001b[39m \u001b[38;5;28mlist\u001b[39m(ensure_index(key)[missing_mask\u001b[38;5;241m.\u001b[39mnonzero()[\u001b[38;5;241m0\u001b[39m]]\u001b[38;5;241m.\u001b[39munique())\n\u001b[1;32m-> 6178\u001b[0m \u001b[38;5;28;01mraise\u001b[39;00m \u001b[38;5;167;01mKeyError\u001b[39;00m(\u001b[38;5;124mf\u001b[39m\u001b[38;5;124m\"\u001b[39m\u001b[38;5;132;01m{\u001b[39;00mnot_found\u001b[38;5;132;01m}\u001b[39;00m\u001b[38;5;124m not in index\u001b[39m\u001b[38;5;124m\"\u001b[39m)\n",
      "\u001b[1;31mKeyError\u001b[0m: \"['Mileage'] not in index\""
     ]
    }
   ],
   "source": [
    "x=df[[\"Year\",\"Kilometers_Driven\",\"Fuel_Type\",\"Transmission\",\"Owner_Type\",\"Mileage\",\"Engine\",\"Power\",\"Seats\",\"Location\"]]\n",
    "x"
   ]
  },
  {
   "cell_type": "code",
   "execution_count": null,
   "id": "3275ea9c-8baf-4584-be0b-8ff952c1609a",
   "metadata": {},
   "outputs": [],
   "source": [
    " #x=df_scaled[[0,1,2,3,4,5,6,7,8,9,10,11]]\n",
    " #x"
   ]
  },
  {
   "cell_type": "code",
   "execution_count": null,
   "id": "634f304c-21d9-44c3-b4d0-63bf834801dc",
   "metadata": {},
   "outputs": [],
   "source": [
    "#y=df_scaled[12]\n",
    "#y"
   ]
  },
  {
   "cell_type": "code",
   "execution_count": null,
   "id": "d263e2bb-3c13-4861-81be-27c8af9ce520",
   "metadata": {},
   "outputs": [],
   "source": [
    "y=df[\"price\"]\n",
    "y"
   ]
  },
  {
   "cell_type": "code",
   "execution_count": null,
   "id": "516a4cb9-a1f1-4278-9862-5eb58ab5d3ef",
   "metadata": {},
   "outputs": [],
   "source": [
    "#y_scale=sc.fit_transform(df[[\"price\"]])\n",
    "#y_scale"
   ]
  },
  {
   "cell_type": "code",
   "execution_count": null,
   "id": "a33fd7de-0338-40c6-8419-67503cbb0c00",
   "metadata": {},
   "outputs": [],
   "source": [
    "#y=y_scale\n",
    "#y"
   ]
  },
  {
   "cell_type": "markdown",
   "id": "b348e439-0f6f-4936-8f3f-e7a30ecf99fd",
   "metadata": {},
   "source": [
    "# Splitting data into train and test"
   ]
  },
  {
   "cell_type": "code",
   "execution_count": null,
   "id": "bd5fb3e3-4053-476d-bf41-4cff43ccc634",
   "metadata": {},
   "outputs": [],
   "source": [
    "from sklearn.model_selection import train_test_split"
   ]
  },
  {
   "cell_type": "code",
   "execution_count": null,
   "id": "ca8050f1-83ae-4013-8e24-bb6c1acc3670",
   "metadata": {},
   "outputs": [],
   "source": [
    "x_train,x_test,y_train,y_test=train_test_split(x,y,test_size=0.2,random_state=42)"
   ]
  },
  {
   "cell_type": "code",
   "execution_count": null,
   "id": "fc28b2c4-5473-4623-af19-5b45dbaeff08",
   "metadata": {},
   "outputs": [],
   "source": [
    "len(x_train)"
   ]
  },
  {
   "cell_type": "code",
   "execution_count": null,
   "id": "8c68efcc-5fca-4a47-b30a-1231b802430f",
   "metadata": {},
   "outputs": [],
   "source": [
    "len(x_test)"
   ]
  },
  {
   "cell_type": "code",
   "execution_count": null,
   "id": "ae7eb1da-c1d3-4089-a475-1fb2088aa1f7",
   "metadata": {},
   "outputs": [],
   "source": [
    "x_train"
   ]
  },
  {
   "cell_type": "code",
   "execution_count": null,
   "id": "99b0abd9-aeea-4dda-88ca-3e9cdd77e80d",
   "metadata": {},
   "outputs": [],
   "source": [
    "y_test"
   ]
  },
  {
   "cell_type": "code",
   "execution_count": null,
   "id": "c7354bde-80a2-42a4-9c5f-3f646947baf5",
   "metadata": {},
   "outputs": [],
   "source": [
    "from sklearn.linear_model import LinearRegression\n",
    "lr=LinearRegression()"
   ]
  },
  {
   "cell_type": "code",
   "execution_count": null,
   "id": "261e5c94-37ec-4d90-a1f8-8104bca76250",
   "metadata": {},
   "outputs": [],
   "source": [
    "lr.fit(x_train,y_train)"
   ]
  },
  {
   "cell_type": "code",
   "execution_count": null,
   "id": "b3786397-cdeb-4088-ab90-95a20879a60a",
   "metadata": {},
   "outputs": [],
   "source": [
    "a=lr.predict(x_test)\n",
    "a"
   ]
  },
  {
   "cell_type": "code",
   "execution_count": null,
   "id": "b5ce1e2a-aa25-4c1d-86ea-41e68526d693",
   "metadata": {},
   "outputs": [],
   "source": [
    "lr.score(x_test,y_test)"
   ]
  },
  {
   "cell_type": "code",
   "execution_count": null,
   "id": "e3813070-f28e-4dad-b64f-65679c28f6e3",
   "metadata": {},
   "outputs": [],
   "source": []
  },
  {
   "cell_type": "code",
   "execution_count": null,
   "id": "a77e1216-2ec0-418e-af40-cde7006c488e",
   "metadata": {},
   "outputs": [],
   "source": []
  },
  {
   "cell_type": "code",
   "execution_count": null,
   "id": "ec8a8008-bf2c-48bc-b160-c898ff3a3242",
   "metadata": {},
   "outputs": [],
   "source": []
  },
  {
   "cell_type": "code",
   "execution_count": null,
   "id": "c9eb9a5f-5609-4f12-91c1-21712f731d86",
   "metadata": {},
   "outputs": [],
   "source": []
  },
  {
   "cell_type": "code",
   "execution_count": null,
   "id": "84bd839f-fe4d-4795-92ff-b3399facbc6c",
   "metadata": {},
   "outputs": [],
   "source": []
  },
  {
   "cell_type": "code",
   "execution_count": null,
   "id": "5a05554b-327b-4762-9f43-6bf07123bcab",
   "metadata": {},
   "outputs": [],
   "source": []
  },
  {
   "cell_type": "code",
   "execution_count": null,
   "id": "9e2d286b-b4e3-42a7-aa9f-a293ddd5aa27",
   "metadata": {},
   "outputs": [],
   "source": []
  }
 ],
 "metadata": {
  "kernelspec": {
   "display_name": "Python 3 (ipykernel)",
   "language": "python",
   "name": "python3"
  },
  "language_info": {
   "codemirror_mode": {
    "name": "ipython",
    "version": 3
   },
   "file_extension": ".py",
   "mimetype": "text/x-python",
   "name": "python",
   "nbconvert_exporter": "python",
   "pygments_lexer": "ipython3",
   "version": "3.10.0"
  }
 },
 "nbformat": 4,
 "nbformat_minor": 5
}
